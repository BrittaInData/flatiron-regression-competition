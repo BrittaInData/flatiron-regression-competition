{
 "cells": [
  {
   "cell_type": "markdown",
   "metadata": {},
   "source": [
    "# Flatiron School: Use your regression skills to save the Galaxy\n",
    "\n",
    "### InClass prediction Competition"
   ]
  },
  {
   "cell_type": "markdown",
   "metadata": {},
   "source": [
    "### 1. Obtaining the Data"
   ]
  },
  {
   "cell_type": "code",
   "execution_count": 1,
   "metadata": {},
   "outputs": [],
   "source": [
    "# import libraries \n",
    "import pandas as pd\n",
    "import numpy as np\n",
    "import xgboost as xgb\n",
    "\n",
    "import matplotlib.pyplot as plt\n",
    "import seaborn as sns\n",
    "sns.set(style=\"darkgrid\")\n",
    "\n",
    "import warnings\n",
    "warnings.filterwarnings(\"ignore\")"
   ]
  },
  {
   "cell_type": "code",
   "execution_count": 2,
   "metadata": {},
   "outputs": [
    {
     "data": {
      "text/plain": [
       "(11703, 13)"
      ]
     },
     "execution_count": 2,
     "metadata": {},
     "output_type": "execute_result"
    }
   ],
   "source": [
    "df = pd.read_csv('train.csv')\n",
    "df.shape"
   ]
  },
  {
   "cell_type": "code",
   "execution_count": 3,
   "metadata": {},
   "outputs": [
    {
     "data": {
      "text/html": [
       "<div>\n",
       "<style scoped>\n",
       "    .dataframe tbody tr th:only-of-type {\n",
       "        vertical-align: middle;\n",
       "    }\n",
       "\n",
       "    .dataframe tbody tr th {\n",
       "        vertical-align: top;\n",
       "    }\n",
       "\n",
       "    .dataframe thead th {\n",
       "        text-align: right;\n",
       "    }\n",
       "</style>\n",
       "<table border=\"1\" class=\"dataframe\">\n",
       "  <thead>\n",
       "    <tr style=\"text-align: right;\">\n",
       "      <th></th>\n",
       "      <th>Id</th>\n",
       "      <th>NA_Sales</th>\n",
       "      <th>Platform</th>\n",
       "      <th>Year_of_Release</th>\n",
       "      <th>Genre</th>\n",
       "      <th>Publisher</th>\n",
       "      <th>JP_Sales</th>\n",
       "      <th>Critic_Score</th>\n",
       "      <th>Critic_Count</th>\n",
       "      <th>User_Score</th>\n",
       "      <th>User_Count</th>\n",
       "      <th>Developer</th>\n",
       "      <th>Rating</th>\n",
       "    </tr>\n",
       "  </thead>\n",
       "  <tbody>\n",
       "    <tr>\n",
       "      <th>0</th>\n",
       "      <td>0</td>\n",
       "      <td>0.00</td>\n",
       "      <td>PSP</td>\n",
       "      <td>2008.0</td>\n",
       "      <td>Misc</td>\n",
       "      <td>Sony Computer Entertainment</td>\n",
       "      <td>0.06</td>\n",
       "      <td>81.0</td>\n",
       "      <td>49.0</td>\n",
       "      <td>8.3</td>\n",
       "      <td>62.0</td>\n",
       "      <td>SCE Japan Studio</td>\n",
       "      <td>E</td>\n",
       "    </tr>\n",
       "    <tr>\n",
       "      <th>1</th>\n",
       "      <td>1</td>\n",
       "      <td>0.72</td>\n",
       "      <td>2600</td>\n",
       "      <td>1982.0</td>\n",
       "      <td>Shooter</td>\n",
       "      <td>Atari</td>\n",
       "      <td>0.00</td>\n",
       "      <td>NaN</td>\n",
       "      <td>NaN</td>\n",
       "      <td>NaN</td>\n",
       "      <td>NaN</td>\n",
       "      <td>NaN</td>\n",
       "      <td>NaN</td>\n",
       "    </tr>\n",
       "    <tr>\n",
       "      <th>2</th>\n",
       "      <td>2</td>\n",
       "      <td>0.11</td>\n",
       "      <td>XB</td>\n",
       "      <td>2004.0</td>\n",
       "      <td>Action</td>\n",
       "      <td>THQ</td>\n",
       "      <td>0.00</td>\n",
       "      <td>NaN</td>\n",
       "      <td>NaN</td>\n",
       "      <td>NaN</td>\n",
       "      <td>NaN</td>\n",
       "      <td>NaN</td>\n",
       "      <td>NaN</td>\n",
       "    </tr>\n",
       "    <tr>\n",
       "      <th>3</th>\n",
       "      <td>3</td>\n",
       "      <td>0.15</td>\n",
       "      <td>X360</td>\n",
       "      <td>2008.0</td>\n",
       "      <td>Fighting</td>\n",
       "      <td>Electronic Arts</td>\n",
       "      <td>0.00</td>\n",
       "      <td>54.0</td>\n",
       "      <td>57.0</td>\n",
       "      <td>6.3</td>\n",
       "      <td>19.0</td>\n",
       "      <td>EA Canada</td>\n",
       "      <td>T</td>\n",
       "    </tr>\n",
       "    <tr>\n",
       "      <th>4</th>\n",
       "      <td>4</td>\n",
       "      <td>0.00</td>\n",
       "      <td>DS</td>\n",
       "      <td>2006.0</td>\n",
       "      <td>Action</td>\n",
       "      <td>Namco Bandai Games</td>\n",
       "      <td>0.01</td>\n",
       "      <td>NaN</td>\n",
       "      <td>NaN</td>\n",
       "      <td>NaN</td>\n",
       "      <td>NaN</td>\n",
       "      <td>NaN</td>\n",
       "      <td>NaN</td>\n",
       "    </tr>\n",
       "  </tbody>\n",
       "</table>\n",
       "</div>"
      ],
      "text/plain": [
       "   Id  NA_Sales Platform  Year_of_Release     Genre  \\\n",
       "0   0      0.00      PSP           2008.0      Misc   \n",
       "1   1      0.72     2600           1982.0   Shooter   \n",
       "2   2      0.11       XB           2004.0    Action   \n",
       "3   3      0.15     X360           2008.0  Fighting   \n",
       "4   4      0.00       DS           2006.0    Action   \n",
       "\n",
       "                     Publisher  JP_Sales  Critic_Score  Critic_Count  \\\n",
       "0  Sony Computer Entertainment      0.06          81.0          49.0   \n",
       "1                        Atari      0.00           NaN           NaN   \n",
       "2                          THQ      0.00           NaN           NaN   \n",
       "3              Electronic Arts      0.00          54.0          57.0   \n",
       "4           Namco Bandai Games      0.01           NaN           NaN   \n",
       "\n",
       "  User_Score  User_Count         Developer Rating  \n",
       "0        8.3        62.0  SCE Japan Studio      E  \n",
       "1        NaN         NaN               NaN    NaN  \n",
       "2        NaN         NaN               NaN    NaN  \n",
       "3        6.3        19.0         EA Canada      T  \n",
       "4        NaN         NaN               NaN    NaN  "
      ]
     },
     "execution_count": 3,
     "metadata": {},
     "output_type": "execute_result"
    }
   ],
   "source": [
    "df.head()"
   ]
  },
  {
   "cell_type": "code",
   "execution_count": 4,
   "metadata": {},
   "outputs": [
    {
     "name": "stdout",
     "output_type": "stream",
     "text": [
      "<class 'pandas.core.frame.DataFrame'>\n",
      "RangeIndex: 11703 entries, 0 to 11702\n",
      "Data columns (total 13 columns):\n",
      "Id                 11703 non-null int64\n",
      "NA_Sales           11703 non-null float64\n",
      "Platform           11703 non-null object\n",
      "Year_of_Release    11520 non-null float64\n",
      "Genre              11701 non-null object\n",
      "Publisher          11664 non-null object\n",
      "JP_Sales           11703 non-null float64\n",
      "Critic_Score       5697 non-null float64\n",
      "Critic_Count       5697 non-null float64\n",
      "User_Score         7011 non-null object\n",
      "User_Count         5332 non-null float64\n",
      "Developer          7066 non-null object\n",
      "Rating             6978 non-null object\n",
      "dtypes: float64(6), int64(1), object(6)\n",
      "memory usage: 1.2+ MB\n"
     ]
    }
   ],
   "source": [
    "df.info()"
   ]
  },
  {
   "cell_type": "code",
   "execution_count": 5,
   "metadata": {},
   "outputs": [
    {
     "data": {
      "text/plain": [
       "array(['8.3', nan, '6.3', 'tbd', '7.7', '2.8', '8.2', '9', '4.3', '7.2',\n",
       "       '8.5', '7.6', '7.5', '8.1', '6.1', '7', '6.7', '7.4', '7.9', '5.4',\n",
       "       '7.8', '5.2', '8.6', '4', '5', '8.7', '6.8', '4.1', '6.4', '6.6',\n",
       "       '9.3', '7.3', '5.7', '4.2', '2.7', '3.8', '3', '8', '6.2', '8.8',\n",
       "       '4.4', '7.1', '3.6', '5.5', '4.5', '8.4', '5.9', '6', '5.3', '0.5',\n",
       "       '8.9', '6.5', '3.2', '9.1', '5.8', '5.6', '4.9', '6.9', '2.4',\n",
       "       '9.5', '3.7', '3.3', '3.9', '2.6', '2.9', '9.2', '1.8', '4.6',\n",
       "       '3.4', '4.8', '4.7', '5.1', '9.4', '3.1', '2.5', '3.5', '2.2',\n",
       "       '2.1', '1.9', '9.7', '1.4', '1.7', '0', '0.3', '1.5', '1', '9.6',\n",
       "       '2', '1.6', '1.2', '0.9', '0.7', '0.6', '2.3', '1.3', '0.2'],\n",
       "      dtype=object)"
      ]
     },
     "execution_count": 5,
     "metadata": {},
     "output_type": "execute_result"
    }
   ],
   "source": [
    "# why is user score stored as string?\n",
    "df.User_Score.unique()"
   ]
  },
  {
   "cell_type": "code",
   "execution_count": 6,
   "metadata": {},
   "outputs": [
    {
     "name": "stdout",
     "output_type": "stream",
     "text": [
      "<class 'pandas.core.frame.DataFrame'>\n",
      "RangeIndex: 11703 entries, 0 to 11702\n",
      "Data columns (total 13 columns):\n",
      "Id                 11703 non-null int64\n",
      "NA_Sales           11703 non-null float64\n",
      "Platform           11703 non-null object\n",
      "Year_of_Release    11520 non-null float64\n",
      "Genre              11701 non-null object\n",
      "Publisher          11664 non-null object\n",
      "JP_Sales           11703 non-null float64\n",
      "Critic_Score       5697 non-null float64\n",
      "Critic_Count       5697 non-null float64\n",
      "User_Score         5332 non-null float64\n",
      "User_Count         5332 non-null float64\n",
      "Developer          7066 non-null object\n",
      "Rating             6978 non-null object\n",
      "dtypes: float64(7), int64(1), object(5)\n",
      "memory usage: 1.2+ MB\n"
     ]
    }
   ],
   "source": [
    "# replace 'tbd'\n",
    "df['User_Score'].replace(to_replace='tbd', value=np.nan, inplace=True)\n",
    "\n",
    "# convert string values into numeric values\n",
    "df['User_Score'] = pd.to_numeric(df['User_Score'])\n",
    "\n",
    "df.info()"
   ]
  },
  {
   "cell_type": "code",
   "execution_count": 7,
   "metadata": {},
   "outputs": [
    {
     "data": {
      "text/plain": [
       "0"
      ]
     },
     "execution_count": 7,
     "metadata": {},
     "output_type": "execute_result"
    }
   ],
   "source": [
    "df.duplicated().sum()"
   ]
  },
  {
   "cell_type": "code",
   "execution_count": 8,
   "metadata": {},
   "outputs": [
    {
     "data": {
      "image/png": "[encoded data removed]",
      "text/plain": [
       "<Figure size 576x432 with 2 Axes>"
      ]
     },
     "metadata": {
      "needs_background": "light"
     },
     "output_type": "display_data"
    }
   ],
   "source": [
    "plt.subplots(figsize=(8, 6))\n",
    "sns.heatmap(df.corr(), cmap=\"Oranges\", linewidths=0.1);"
   ]
  },
  {
   "cell_type": "markdown",
   "metadata": {},
   "source": [
    "As the columns `Publisher` and `Developer` contain way too many values and also doesn't seem to add any reasonable value to our prediction, let's drop them. Together with the `Id` that's not needed either.\n",
    "\n",
    "The column `Critic_Count` mirrors the number of critics used in coming up with the `Critic_Score`, meaning double data. The same is true for `User_Count` that adds to `User_Score`. Let's drop both simply counting columns."
   ]
  },
  {
   "cell_type": "code",
   "execution_count": 9,
   "metadata": {},
   "outputs": [],
   "source": [
    "#df = df.drop(['Id', 'Publisher', 'Developer', 'Year_of_Release'], axis=1)\n",
    "df = df.drop(['Publisher', 'Developer'], axis=1)"
   ]
  },
  {
   "cell_type": "markdown",
   "metadata": {},
   "source": [
    "### 2. Preprocessing the Data"
   ]
  },
  {
   "cell_type": "code",
   "execution_count": 10,
   "metadata": {},
   "outputs": [
    {
     "name": "stdout",
     "output_type": "stream",
     "text": [
      "<class 'pandas.core.frame.DataFrame'>\n",
      "RangeIndex: 11703 entries, 0 to 11702\n",
      "Data columns (total 10 columns):\n",
      "NA_Sales           11703 non-null float64\n",
      "Platform           11703 non-null object\n",
      "Year_of_Release    11520 non-null float64\n",
      "Genre              11701 non-null object\n",
      "JP_Sales           11703 non-null float64\n",
      "Critic_Score       5697 non-null float64\n",
      "Critic_Count       5697 non-null float64\n",
      "User_Score         5332 non-null float64\n",
      "User_Count         5332 non-null float64\n",
      "Rating             6978 non-null object\n",
      "dtypes: float64(7), object(3)\n",
      "memory usage: 914.4+ KB\n"
     ]
    }
   ],
   "source": [
    "df.info()"
   ]
  },
  {
   "cell_type": "markdown",
   "metadata": {},
   "source": [
    "The problem is we have tons of missing values! What to do? Let's walk through each of these features:"
   ]
  },
  {
   "cell_type": "markdown",
   "metadata": {},
   "source": [
    "**2.1. Handling `Genre` column**"
   ]
  },
  {
   "cell_type": "code",
   "execution_count": 11,
   "metadata": {},
   "outputs": [
    {
     "name": "stdout",
     "output_type": "stream",
     "text": [
      "<class 'pandas.core.frame.DataFrame'>\n",
      "Int64Index: 11701 entries, 0 to 11702\n",
      "Data columns (total 10 columns):\n",
      "NA_Sales           11701 non-null float64\n",
      "Platform           11701 non-null object\n",
      "Year_of_Release    11518 non-null float64\n",
      "Genre              11701 non-null object\n",
      "JP_Sales           11701 non-null float64\n",
      "Critic_Score       5697 non-null float64\n",
      "Critic_Count       5697 non-null float64\n",
      "User_Score         5332 non-null float64\n",
      "User_Count         5332 non-null float64\n",
      "Rating             6978 non-null object\n",
      "dtypes: float64(7), object(3)\n",
      "memory usage: 1005.6+ KB\n"
     ]
    }
   ],
   "source": [
    "df = df.dropna(subset=['Genre'])\n",
    "df.info()"
   ]
  },
  {
   "cell_type": "markdown",
   "metadata": {},
   "source": [
    "**2.2. Handling `Rating` column**"
   ]
  },
  {
   "cell_type": "code",
   "execution_count": 12,
   "metadata": {},
   "outputs": [
    {
     "data": {
      "text/plain": [
       "array(['E', nan, 'T', 'M', 'E10+', 'EC', 'RP', 'K-A'], dtype=object)"
      ]
     },
     "execution_count": 12,
     "metadata": {},
     "output_type": "execute_result"
    }
   ],
   "source": [
    "df.Rating.unique()"
   ]
  },
  {
   "cell_type": "code",
   "execution_count": 13,
   "metadata": {
    "scrolled": true
   },
   "outputs": [
    {
     "data": {
      "text/plain": [
       "E       2791\n",
       "T       2069\n",
       "M       1109\n",
       "E10+    1000\n",
       "EC         5\n",
       "K-A        2\n",
       "RP         2\n",
       "Name: Rating, dtype: int64"
      ]
     },
     "execution_count": 13,
     "metadata": {},
     "output_type": "execute_result"
    }
   ],
   "source": [
    "df.Rating.value_counts()"
   ]
  },
  {
   "cell_type": "markdown",
   "metadata": {},
   "source": [
    "According to [Wikipedia](https://en.wikipedia.org/wiki/Entertainment_Software_Rating_Board) ...."
   ]
  },
  {
   "cell_type": "code",
   "execution_count": 14,
   "metadata": {},
   "outputs": [],
   "source": [
    "def value_replacement(col, to_replace, new_value):\n",
    "    col.replace(to_replace, new_value, inplace=True)"
   ]
  },
  {
   "cell_type": "code",
   "execution_count": 15,
   "metadata": {},
   "outputs": [
    {
     "data": {
      "text/plain": [
       "None    4725\n",
       "E       2798\n",
       "T       2069\n",
       "M       1109\n",
       "E10+    1000\n",
       "Name: Rating, dtype: int64"
      ]
     },
     "execution_count": 15,
     "metadata": {},
     "output_type": "execute_result"
    }
   ],
   "source": [
    "value_replacement(df.Rating, to_replace='EC', new_value='E')\n",
    "value_replacement(df.Rating, to_replace='K-A', new_value='E')\n",
    "value_replacement(df.Rating, to_replace='RP', new_value='None')\n",
    "value_replacement(df.Rating, to_replace=np.nan, new_value='None')\n",
    "\n",
    "df.Rating.value_counts()"
   ]
  },
  {
   "cell_type": "code",
   "execution_count": 16,
   "metadata": {},
   "outputs": [
    {
     "name": "stdout",
     "output_type": "stream",
     "text": [
      "<class 'pandas.core.frame.DataFrame'>\n",
      "Int64Index: 11701 entries, 0 to 11702\n",
      "Data columns (total 10 columns):\n",
      "NA_Sales           11701 non-null float64\n",
      "Platform           11701 non-null object\n",
      "Year_of_Release    11518 non-null float64\n",
      "Genre              11701 non-null object\n",
      "JP_Sales           11701 non-null float64\n",
      "Critic_Score       5697 non-null float64\n",
      "Critic_Count       5697 non-null float64\n",
      "User_Score         5332 non-null float64\n",
      "User_Count         5332 non-null float64\n",
      "Rating             11701 non-null object\n",
      "dtypes: float64(7), object(3)\n",
      "memory usage: 1005.6+ KB\n"
     ]
    }
   ],
   "source": [
    "df.info()"
   ]
  },
  {
   "cell_type": "markdown",
   "metadata": {},
   "source": [
    "**2.3. Handling `Year_of_release` column**"
   ]
  },
  {
   "cell_type": "code",
   "execution_count": 17,
   "metadata": {},
   "outputs": [
    {
     "data": {
      "text/html": [
       "<div>\n",
       "<style scoped>\n",
       "    .dataframe tbody tr th:only-of-type {\n",
       "        vertical-align: middle;\n",
       "    }\n",
       "\n",
       "    .dataframe tbody tr th {\n",
       "        vertical-align: top;\n",
       "    }\n",
       "\n",
       "    .dataframe thead th {\n",
       "        text-align: right;\n",
       "    }\n",
       "</style>\n",
       "<table border=\"1\" class=\"dataframe\">\n",
       "  <thead>\n",
       "    <tr style=\"text-align: right;\">\n",
       "      <th></th>\n",
       "      <th>NA_Sales</th>\n",
       "      <th>Platform</th>\n",
       "      <th>Year_of_Release</th>\n",
       "      <th>Genre</th>\n",
       "      <th>JP_Sales</th>\n",
       "      <th>Critic_Score</th>\n",
       "      <th>Critic_Count</th>\n",
       "      <th>User_Score</th>\n",
       "      <th>User_Count</th>\n",
       "      <th>Rating</th>\n",
       "    </tr>\n",
       "  </thead>\n",
       "  <tbody>\n",
       "    <tr>\n",
       "      <th>11380</th>\n",
       "      <td>0.00</td>\n",
       "      <td>PS3</td>\n",
       "      <td>NaN</td>\n",
       "      <td>Racing</td>\n",
       "      <td>0.01</td>\n",
       "      <td>68.0</td>\n",
       "      <td>24.0</td>\n",
       "      <td>4.5</td>\n",
       "      <td>4.0</td>\n",
       "      <td>None</td>\n",
       "    </tr>\n",
       "    <tr>\n",
       "      <th>11390</th>\n",
       "      <td>0.26</td>\n",
       "      <td>GBA</td>\n",
       "      <td>NaN</td>\n",
       "      <td>Action</td>\n",
       "      <td>0.00</td>\n",
       "      <td>NaN</td>\n",
       "      <td>NaN</td>\n",
       "      <td>NaN</td>\n",
       "      <td>NaN</td>\n",
       "      <td>None</td>\n",
       "    </tr>\n",
       "    <tr>\n",
       "      <th>11421</th>\n",
       "      <td>0.13</td>\n",
       "      <td>X360</td>\n",
       "      <td>NaN</td>\n",
       "      <td>Puzzle</td>\n",
       "      <td>0.00</td>\n",
       "      <td>78.0</td>\n",
       "      <td>13.0</td>\n",
       "      <td>8.4</td>\n",
       "      <td>11.0</td>\n",
       "      <td>E</td>\n",
       "    </tr>\n",
       "    <tr>\n",
       "      <th>11474</th>\n",
       "      <td>0.22</td>\n",
       "      <td>XB</td>\n",
       "      <td>NaN</td>\n",
       "      <td>Shooter</td>\n",
       "      <td>0.00</td>\n",
       "      <td>85.0</td>\n",
       "      <td>54.0</td>\n",
       "      <td>8.2</td>\n",
       "      <td>21.0</td>\n",
       "      <td>M</td>\n",
       "    </tr>\n",
       "    <tr>\n",
       "      <th>11615</th>\n",
       "      <td>0.00</td>\n",
       "      <td>Wii</td>\n",
       "      <td>NaN</td>\n",
       "      <td>Shooter</td>\n",
       "      <td>0.02</td>\n",
       "      <td>NaN</td>\n",
       "      <td>NaN</td>\n",
       "      <td>NaN</td>\n",
       "      <td>NaN</td>\n",
       "      <td>None</td>\n",
       "    </tr>\n",
       "  </tbody>\n",
       "</table>\n",
       "</div>"
      ],
      "text/plain": [
       "       NA_Sales Platform  Year_of_Release    Genre  JP_Sales  Critic_Score  \\\n",
       "11380      0.00      PS3              NaN   Racing      0.01          68.0   \n",
       "11390      0.26      GBA              NaN   Action      0.00           NaN   \n",
       "11421      0.13     X360              NaN   Puzzle      0.00          78.0   \n",
       "11474      0.22       XB              NaN  Shooter      0.00          85.0   \n",
       "11615      0.00      Wii              NaN  Shooter      0.02           NaN   \n",
       "\n",
       "       Critic_Count  User_Score  User_Count Rating  \n",
       "11380          24.0         4.5         4.0   None  \n",
       "11390           NaN         NaN         NaN   None  \n",
       "11421          13.0         8.4        11.0      E  \n",
       "11474          54.0         8.2        21.0      M  \n",
       "11615           NaN         NaN         NaN   None  "
      ]
     },
     "execution_count": 17,
     "metadata": {},
     "output_type": "execute_result"
    }
   ],
   "source": [
    "df1 = df[df['Year_of_Release'].isna()]\n",
    "df1.tail()"
   ]
  },
  {
   "cell_type": "code",
   "execution_count": 18,
   "metadata": {},
   "outputs": [],
   "source": [
    "#df.Year_of_Release.max()"
   ]
  },
  {
   "cell_type": "code",
   "execution_count": 19,
   "metadata": {},
   "outputs": [],
   "source": [
    "#df.Year_of_Release.describe()"
   ]
  },
  {
   "cell_type": "code",
   "execution_count": 20,
   "metadata": {},
   "outputs": [],
   "source": [
    "#df.Year_of_Release.hist(bins=20);"
   ]
  },
  {
   "cell_type": "markdown",
   "metadata": {},
   "source": [
    "It might be reasonable to bin the years into periods of roughly 5 years and when doing this, also bin the NaN values into *unknown*."
   ]
  },
  {
   "cell_type": "code",
   "execution_count": 21,
   "metadata": {},
   "outputs": [],
   "source": [
    "# bin the year_of_release into periods_of_release\n",
    "bins = [1980, 1995, 2000, 2005, 2010, 2015, 2017]\n",
    "labels = ['Before 1995', '1995-2000', '2000-2005', '2005-2010', '2010-2015', '2015-2017']\n",
    "df['Periods_of_Release'] = pd.cut(df['Year_of_Release'], bins=bins, labels=labels)\n",
    "\n",
    "# create another category for the unknown release date\n",
    "df['Periods_of_Release'].replace(to_replace=np.nan, value='Unknown', inplace=True)"
   ]
  },
  {
   "cell_type": "code",
   "execution_count": 22,
   "metadata": {},
   "outputs": [],
   "source": [
    "#df.Periods_of_Release.unique()"
   ]
  },
  {
   "cell_type": "code",
   "execution_count": 23,
   "metadata": {},
   "outputs": [],
   "source": [
    "#df.Periods_of_Release.value_counts()"
   ]
  },
  {
   "cell_type": "code",
   "execution_count": 24,
   "metadata": {},
   "outputs": [],
   "source": [
    "# visualize the distribution of categories\n",
    "#order = ['Unknown', '2015-2017', '2010-2015', '2005-2010',  '2000-2005','1995-2000', 'Before 1995']\n",
    "#df.Periods_of_Release.value_counts().loc[order].plot(kind='barh');"
   ]
  },
  {
   "cell_type": "code",
   "execution_count": 25,
   "metadata": {},
   "outputs": [
    {
     "name": "stdout",
     "output_type": "stream",
     "text": [
      "<class 'pandas.core.frame.DataFrame'>\n",
      "Int64Index: 11701 entries, 0 to 11702\n",
      "Data columns (total 10 columns):\n",
      "NA_Sales              11701 non-null float64\n",
      "Platform              11701 non-null object\n",
      "Genre                 11701 non-null object\n",
      "JP_Sales              11701 non-null float64\n",
      "Critic_Score          5697 non-null float64\n",
      "Critic_Count          5697 non-null float64\n",
      "User_Score            5332 non-null float64\n",
      "User_Count            5332 non-null float64\n",
      "Rating                11701 non-null object\n",
      "Periods_of_Release    11701 non-null object\n",
      "dtypes: float64(6), object(4)\n",
      "memory usage: 1005.6+ KB\n"
     ]
    }
   ],
   "source": [
    "# drop the original year related column\n",
    "df = df.drop(['Year_of_Release'], axis=1)\n",
    "df.info()"
   ]
  },
  {
   "cell_type": "markdown",
   "metadata": {},
   "source": [
    "**2.4. Handling `User_Score` column**"
   ]
  },
  {
   "cell_type": "code",
   "execution_count": 26,
   "metadata": {},
   "outputs": [
    {
     "data": {
      "text/plain": [
       "count    5332.000000\n",
       "mean        7.125075\n",
       "std         1.491034\n",
       "min         0.000000\n",
       "25%         6.400000\n",
       "50%         7.500000\n",
       "75%         8.200000\n",
       "max         9.700000\n",
       "Name: User_Score, dtype: float64"
      ]
     },
     "execution_count": 26,
     "metadata": {},
     "output_type": "execute_result"
    }
   ],
   "source": [
    "df.User_Score.describe()"
   ]
  },
  {
   "cell_type": "code",
   "execution_count": 27,
   "metadata": {},
   "outputs": [],
   "source": [
    "#df.User_Score.hist();"
   ]
  },
  {
   "cell_type": "markdown",
   "metadata": {},
   "source": [
    "*Create Sub-Datasets*"
   ]
  },
  {
   "cell_type": "code",
   "execution_count": 29,
   "metadata": {},
   "outputs": [],
   "source": [
    "# filter out sub_df to work with\n",
    "sub_df = df[['NA_Sales', 'Platform', 'Genre', 'JP_Sales', 'Rating', 'Periods_of_Release', 'User_Score']]\n",
    "\n",
    "# deal with categorical columns\n",
    "sub_df['Platform'] = sub_df['Platform'].astype('category')\n",
    "sub_df['Genre'] = sub_df['Genre'].astype('category')\n",
    "sub_df['Rating'] = sub_df['Rating'].astype('category')\n",
    "sub_df['Periods_of_Release'] = sub_df['Periods_of_Release'].astype('category')\n",
    "sub_df = pd.get_dummies(sub_df)"
   ]
  },
  {
   "cell_type": "code",
   "execution_count": 30,
   "metadata": {},
   "outputs": [],
   "source": [
    "# split datasets\n",
    "train_data = sub_df[sub_df['User_Score'].notnull()]\n",
    "test_data  = sub_df[sub_df['User_Score'].isnull()]\n",
    "\n",
    "# define X\n",
    "X_train = train_data.drop('User_Score', axis=1)\n",
    "X_test  = test_data.drop('User_Score', axis=1)\n",
    "\n",
    "# define y\n",
    "y_train = train_data['User_Score']"
   ]
  },
  {
   "cell_type": "markdown",
   "metadata": {},
   "source": [
    "*Scaling the Features*"
   ]
  },
  {
   "cell_type": "code",
   "execution_count": 31,
   "metadata": {},
   "outputs": [],
   "source": [
    "from sklearn.preprocessing import MinMaxScaler\n",
    "scaler = MinMaxScaler()\n",
    "\n",
    "X_train_scaled = scaler.fit_transform(X_train)\n",
    "X_train = pd.DataFrame(X_train_scaled)\n",
    "\n",
    "X_test_scaled = scaler.fit_transform(X_test)\n",
    "X_test = pd.DataFrame(X_test_scaled)"
   ]
  },
  {
   "cell_type": "markdown",
   "metadata": {},
   "source": [
    "*Implementing GridSearch*"
   ]
  },
  {
   "cell_type": "code",
   "execution_count": 176,
   "metadata": {},
   "outputs": [
    {
     "data": {
      "text/plain": [
       "{'n_neighbors': 9}"
      ]
     },
     "execution_count": 176,
     "metadata": {},
     "output_type": "execute_result"
    }
   ],
   "source": [
    "from sklearn.model_selection import GridSearchCV\n",
    "from sklearn.neighbors import KNeighborsRegressor\n",
    "#from sklearn.metrics import mean_squared_error \n",
    "#from math import sqrt\n",
    "\n",
    "params = {'n_neighbors':[2,3,4,5,6,7,8,9]}\n",
    "\n",
    "knn = KNeighborsRegressor()\n",
    "\n",
    "model = GridSearchCV(knn, params, cv=5)\n",
    "model.fit(X_train, y_train)\n",
    "model.best_params_"
   ]
  },
  {
   "cell_type": "markdown",
   "metadata": {},
   "source": [
    "*Imputing Missing Values with KNN*"
   ]
  },
  {
   "cell_type": "code",
   "execution_count": 32,
   "metadata": {},
   "outputs": [
    {
     "name": "stderr",
     "output_type": "stream",
     "text": [
      "Using TensorFlow backend.\n"
     ]
    },
    {
     "name": "stdout",
     "output_type": "stream",
     "text": [
      "Imputing row 1/11701 with 0 missing, elapsed time: 17.761\n",
      "Imputing row 101/11701 with 1 missing, elapsed time: 17.767\n",
      "Imputing row 201/11701 with 1 missing, elapsed time: 17.778\n",
      "Imputing row 301/11701 with 1 missing, elapsed time: 17.779\n",
      "Imputing row 401/11701 with 1 missing, elapsed time: 17.780\n",
      "Imputing row 501/11701 with 1 missing, elapsed time: 17.782\n",
      "Imputing row 601/11701 with 0 missing, elapsed time: 17.783\n",
      "Imputing row 701/11701 with 1 missing, elapsed time: 17.784\n",
      "Imputing row 801/11701 with 1 missing, elapsed time: 17.785\n",
      "Imputing row 901/11701 with 1 missing, elapsed time: 17.786\n",
      "Imputing row 1001/11701 with 1 missing, elapsed time: 17.787\n",
      "Imputing row 1101/11701 with 0 missing, elapsed time: 17.788\n",
      "Imputing row 1201/11701 with 0 missing, elapsed time: 17.789\n",
      "Imputing row 1301/11701 with 1 missing, elapsed time: 17.790\n",
      "Imputing row 1401/11701 with 1 missing, elapsed time: 17.791\n",
      "Imputing row 1501/11701 with 1 missing, elapsed time: 17.792\n",
      "Imputing row 1601/11701 with 0 missing, elapsed time: 17.793\n",
      "Imputing row 1701/11701 with 1 missing, elapsed time: 17.794\n",
      "Imputing row 1801/11701 with 1 missing, elapsed time: 17.795\n",
      "Imputing row 1901/11701 with 1 missing, elapsed time: 17.796\n",
      "Imputing row 2001/11701 with 0 missing, elapsed time: 17.797\n",
      "Imputing row 2101/11701 with 0 missing, elapsed time: 17.798\n",
      "Imputing row 2201/11701 with 0 missing, elapsed time: 17.799\n",
      "Imputing row 2301/11701 with 0 missing, elapsed time: 17.800\n",
      "Imputing row 2401/11701 with 1 missing, elapsed time: 17.801\n",
      "Imputing row 2501/11701 with 1 missing, elapsed time: 17.803\n",
      "Imputing row 2601/11701 with 0 missing, elapsed time: 17.804\n",
      "Imputing row 2701/11701 with 1 missing, elapsed time: 17.805\n",
      "Imputing row 2801/11701 with 0 missing, elapsed time: 17.807\n",
      "Imputing row 2901/11701 with 0 missing, elapsed time: 17.808\n",
      "Imputing row 3001/11701 with 0 missing, elapsed time: 17.809\n",
      "Imputing row 3101/11701 with 0 missing, elapsed time: 17.810\n",
      "Imputing row 3201/11701 with 1 missing, elapsed time: 17.811\n",
      "Imputing row 3301/11701 with 0 missing, elapsed time: 17.812\n",
      "Imputing row 3401/11701 with 0 missing, elapsed time: 17.813\n",
      "Imputing row 3501/11701 with 1 missing, elapsed time: 17.814\n",
      "Imputing row 3601/11701 with 0 missing, elapsed time: 17.814\n",
      "Imputing row 3701/11701 with 0 missing, elapsed time: 17.815\n",
      "Imputing row 3801/11701 with 1 missing, elapsed time: 17.817\n",
      "Imputing row 3901/11701 with 0 missing, elapsed time: 17.818\n",
      "Imputing row 4001/11701 with 1 missing, elapsed time: 17.819\n",
      "Imputing row 4101/11701 with 1 missing, elapsed time: 17.820\n",
      "Imputing row 4201/11701 with 0 missing, elapsed time: 17.821\n",
      "Imputing row 4301/11701 with 0 missing, elapsed time: 17.822\n",
      "Imputing row 4401/11701 with 1 missing, elapsed time: 17.823\n",
      "Imputing row 4501/11701 with 1 missing, elapsed time: 17.824\n",
      "Imputing row 4601/11701 with 0 missing, elapsed time: 17.825\n",
      "Imputing row 4701/11701 with 1 missing, elapsed time: 17.826\n",
      "Imputing row 4801/11701 with 1 missing, elapsed time: 17.827\n",
      "Imputing row 4901/11701 with 1 missing, elapsed time: 17.828\n",
      "Imputing row 5001/11701 with 0 missing, elapsed time: 17.829\n",
      "Imputing row 5101/11701 with 1 missing, elapsed time: 17.830\n",
      "Imputing row 5201/11701 with 1 missing, elapsed time: 17.831\n",
      "Imputing row 5301/11701 with 0 missing, elapsed time: 17.832\n",
      "Imputing row 5401/11701 with 0 missing, elapsed time: 17.833\n",
      "Imputing row 5501/11701 with 0 missing, elapsed time: 17.833\n",
      "Imputing row 5601/11701 with 1 missing, elapsed time: 17.834\n",
      "Imputing row 5701/11701 with 0 missing, elapsed time: 17.836\n",
      "Imputing row 5801/11701 with 1 missing, elapsed time: 17.837\n",
      "Imputing row 5901/11701 with 0 missing, elapsed time: 17.838\n",
      "Imputing row 6001/11701 with 0 missing, elapsed time: 17.839\n",
      "Imputing row 6101/11701 with 0 missing, elapsed time: 17.840\n",
      "Imputing row 6201/11701 with 0 missing, elapsed time: 17.841\n",
      "Imputing row 6301/11701 with 0 missing, elapsed time: 17.842\n",
      "Imputing row 6401/11701 with 0 missing, elapsed time: 17.843\n",
      "Imputing row 6501/11701 with 1 missing, elapsed time: 17.844\n",
      "Imputing row 6601/11701 with 1 missing, elapsed time: 17.845\n",
      "Imputing row 6701/11701 with 0 missing, elapsed time: 17.846\n",
      "Imputing row 6801/11701 with 0 missing, elapsed time: 17.847\n",
      "Imputing row 6901/11701 with 0 missing, elapsed time: 17.848\n",
      "Imputing row 7001/11701 with 0 missing, elapsed time: 17.849\n",
      "Imputing row 7101/11701 with 1 missing, elapsed time: 17.850\n",
      "Imputing row 7201/11701 with 1 missing, elapsed time: 17.851\n",
      "Imputing row 7301/11701 with 0 missing, elapsed time: 17.852\n",
      "Imputing row 7401/11701 with 1 missing, elapsed time: 17.852\n",
      "Imputing row 7501/11701 with 0 missing, elapsed time: 17.854\n",
      "Imputing row 7601/11701 with 0 missing, elapsed time: 17.855\n",
      "Imputing row 7701/11701 with 0 missing, elapsed time: 17.855\n",
      "Imputing row 7801/11701 with 0 missing, elapsed time: 17.856\n",
      "Imputing row 7901/11701 with 1 missing, elapsed time: 17.857\n",
      "Imputing row 8001/11701 with 1 missing, elapsed time: 17.858\n",
      "Imputing row 8101/11701 with 0 missing, elapsed time: 17.859\n",
      "Imputing row 8201/11701 with 0 missing, elapsed time: 17.860\n",
      "Imputing row 8301/11701 with 1 missing, elapsed time: 17.861\n",
      "Imputing row 8401/11701 with 0 missing, elapsed time: 17.862\n",
      "Imputing row 8501/11701 with 1 missing, elapsed time: 17.863\n",
      "Imputing row 8601/11701 with 1 missing, elapsed time: 17.864\n",
      "Imputing row 8701/11701 with 1 missing, elapsed time: 17.865\n",
      "Imputing row 8801/11701 with 0 missing, elapsed time: 17.866\n",
      "Imputing row 8901/11701 with 0 missing, elapsed time: 17.867\n",
      "Imputing row 9001/11701 with 1 missing, elapsed time: 17.867\n",
      "Imputing row 9101/11701 with 1 missing, elapsed time: 17.868\n",
      "Imputing row 9201/11701 with 0 missing, elapsed time: 17.869\n",
      "Imputing row 9301/11701 with 0 missing, elapsed time: 17.870\n",
      "Imputing row 9401/11701 with 1 missing, elapsed time: 17.871\n",
      "Imputing row 9501/11701 with 1 missing, elapsed time: 17.872\n",
      "Imputing row 9601/11701 with 0 missing, elapsed time: 17.873\n",
      "Imputing row 9701/11701 with 1 missing, elapsed time: 17.874\n",
      "Imputing row 9801/11701 with 0 missing, elapsed time: 17.875\n",
      "Imputing row 9901/11701 with 1 missing, elapsed time: 17.876\n",
      "Imputing row 10001/11701 with 1 missing, elapsed time: 17.877\n",
      "Imputing row 10101/11701 with 1 missing, elapsed time: 17.878\n",
      "Imputing row 10201/11701 with 1 missing, elapsed time: 17.879\n",
      "Imputing row 10301/11701 with 1 missing, elapsed time: 17.879\n",
      "Imputing row 10401/11701 with 1 missing, elapsed time: 17.880\n",
      "Imputing row 10501/11701 with 1 missing, elapsed time: 17.881\n",
      "Imputing row 10601/11701 with 1 missing, elapsed time: 17.882\n",
      "Imputing row 10701/11701 with 0 missing, elapsed time: 17.883\n",
      "Imputing row 10801/11701 with 0 missing, elapsed time: 17.884\n",
      "Imputing row 10901/11701 with 1 missing, elapsed time: 17.885\n",
      "Imputing row 11001/11701 with 1 missing, elapsed time: 17.886\n",
      "Imputing row 11101/11701 with 1 missing, elapsed time: 17.888\n",
      "Imputing row 11201/11701 with 1 missing, elapsed time: 17.888\n",
      "Imputing row 11301/11701 with 1 missing, elapsed time: 17.889\n",
      "Imputing row 11401/11701 with 1 missing, elapsed time: 17.890\n",
      "Imputing row 11501/11701 with 1 missing, elapsed time: 17.891\n",
      "Imputing row 11601/11701 with 1 missing, elapsed time: 17.892\n",
      "Imputing row 11701/11701 with 0 missing, elapsed time: 17.893\n",
      "[KNN] Warning: 6369/11701 still missing after imputation, replacing with 0\n"
     ]
    },
    {
     "data": {
      "text/html": [
       "<div>\n",
       "<style scoped>\n",
       "    .dataframe tbody tr th:only-of-type {\n",
       "        vertical-align: middle;\n",
       "    }\n",
       "\n",
       "    .dataframe tbody tr th {\n",
       "        vertical-align: top;\n",
       "    }\n",
       "\n",
       "    .dataframe thead th {\n",
       "        text-align: right;\n",
       "    }\n",
       "</style>\n",
       "<table border=\"1\" class=\"dataframe\">\n",
       "  <thead>\n",
       "    <tr style=\"text-align: right;\">\n",
       "      <th></th>\n",
       "      <th>User_Score_KNN</th>\n",
       "    </tr>\n",
       "  </thead>\n",
       "  <tbody>\n",
       "    <tr>\n",
       "      <th>0</th>\n",
       "      <td>8.3</td>\n",
       "    </tr>\n",
       "    <tr>\n",
       "      <th>1</th>\n",
       "      <td>0.0</td>\n",
       "    </tr>\n",
       "    <tr>\n",
       "      <th>2</th>\n",
       "      <td>0.0</td>\n",
       "    </tr>\n",
       "    <tr>\n",
       "      <th>3</th>\n",
       "      <td>6.3</td>\n",
       "    </tr>\n",
       "    <tr>\n",
       "      <th>4</th>\n",
       "      <td>0.0</td>\n",
       "    </tr>\n",
       "  </tbody>\n",
       "</table>\n",
       "</div>"
      ],
      "text/plain": [
       "   User_Score_KNN\n",
       "0             8.3\n",
       "1             0.0\n",
       "2             0.0\n",
       "3             6.3\n",
       "4             0.0"
      ]
     },
     "execution_count": 32,
     "metadata": {},
     "output_type": "execute_result"
    }
   ],
   "source": [
    "from fancyimpute import KNN\n",
    "user_score_knn = KNN(k=9).fit_transform(df[['User_Score']])\n",
    "\n",
    "# beautify back to a df\n",
    "df_user_score_knn = pd.DataFrame(user_score_knn)\n",
    "df_user_score_knn.columns = ['User_Score_KNN']\n",
    "df_user_score_knn.head()"
   ]
  },
  {
   "cell_type": "code",
   "execution_count": 33,
   "metadata": {},
   "outputs": [
    {
     "data": {
      "text/plain": [
       "0"
      ]
     },
     "execution_count": 33,
     "metadata": {},
     "output_type": "execute_result"
    }
   ],
   "source": [
    "df_user_score_knn.User_Score_KNN.isna().sum()"
   ]
  },
  {
   "cell_type": "code",
   "execution_count": 34,
   "metadata": {},
   "outputs": [
    {
     "data": {
      "text/plain": [
       "count    11701.000000\n",
       "mean         3.246808\n",
       "std          3.688636\n",
       "min          0.000000\n",
       "25%          0.000000\n",
       "50%          0.000000\n",
       "75%          7.300000\n",
       "max          9.700000\n",
       "Name: User_Score_KNN, dtype: float64"
      ]
     },
     "execution_count": 34,
     "metadata": {},
     "output_type": "execute_result"
    }
   ],
   "source": [
    "df_user_score_knn.User_Score_KNN.describe()"
   ]
  },
  {
   "cell_type": "code",
   "execution_count": 35,
   "metadata": {},
   "outputs": [
    {
     "data": {
      "image/png": "[encoded data removed]",
      "text/plain": [
       "<Figure size 432x288 with 1 Axes>"
      ]
     },
     "metadata": {
      "needs_background": "light"
     },
     "output_type": "display_data"
    }
   ],
   "source": [
    "df_user_score_knn.User_Score_KNN.hist();"
   ]
  },
  {
   "cell_type": "markdown",
   "metadata": {},
   "source": [
    "**2.5. Handling `Critic_Score` column**"
   ]
  },
  {
   "cell_type": "code",
   "execution_count": 36,
   "metadata": {
    "scrolled": true
   },
   "outputs": [
    {
     "data": {
      "text/plain": [
       "count    5697.000000\n",
       "mean       68.909602\n",
       "std        14.052323\n",
       "min        13.000000\n",
       "25%        60.000000\n",
       "50%        71.000000\n",
       "75%        79.000000\n",
       "max        98.000000\n",
       "Name: Critic_Score, dtype: float64"
      ]
     },
     "execution_count": 36,
     "metadata": {},
     "output_type": "execute_result"
    }
   ],
   "source": [
    "df.Critic_Score.describe()"
   ]
  },
  {
   "cell_type": "markdown",
   "metadata": {},
   "source": [
    "*Create Sub-Datasets*"
   ]
  },
  {
   "cell_type": "code",
   "execution_count": 37,
   "metadata": {},
   "outputs": [],
   "source": [
    "# filter out sub_df to work with\n",
    "sub_df = df[['NA_Sales', 'Platform', 'Genre', 'JP_Sales', 'Rating', 'Periods_of_Release', 'Critic_Score']]\n",
    "\n",
    "# deal with categorical columns\n",
    "sub_df['Platform'] = sub_df['Platform'].astype('category')\n",
    "sub_df['Genre'] = sub_df['Genre'].astype('category')\n",
    "sub_df['Rating'] = sub_df['Rating'].astype('category')\n",
    "sub_df['Periods_of_Release'] = sub_df['Periods_of_Release'].astype('category')\n",
    "sub_df = pd.get_dummies(sub_df)"
   ]
  },
  {
   "cell_type": "code",
   "execution_count": 38,
   "metadata": {},
   "outputs": [],
   "source": [
    "# split datasets\n",
    "train_data = sub_df[sub_df['Critic_Score'].notnull()]\n",
    "test_data  = sub_df[sub_df['Critic_Score'].isnull()]\n",
    "\n",
    "# define X\n",
    "X_train = train_data.drop('Critic_Score', axis=1)\n",
    "X_test  = test_data.drop('Critic_Score', axis=1)\n",
    "\n",
    "# define y\n",
    "y_train = train_data['Critic_Score']"
   ]
  },
  {
   "cell_type": "markdown",
   "metadata": {},
   "source": [
    "*Scaling the Features*"
   ]
  },
  {
   "cell_type": "code",
   "execution_count": 39,
   "metadata": {},
   "outputs": [],
   "source": [
    "scaler = MinMaxScaler()\n",
    "\n",
    "X_train_scaled = scaler.fit_transform(X_train)\n",
    "X_train = pd.DataFrame(X_train_scaled)\n",
    "\n",
    "X_test_scaled = scaler.fit_transform(X_test)\n",
    "X_test = pd.DataFrame(X_test_scaled)"
   ]
  },
  {
   "cell_type": "markdown",
   "metadata": {},
   "source": [
    "*Implementing GridSearch*"
   ]
  },
  {
   "cell_type": "code",
   "execution_count": 53,
   "metadata": {},
   "outputs": [
    {
     "data": {
      "text/plain": [
       "{'n_neighbors': 9}"
      ]
     },
     "execution_count": 53,
     "metadata": {},
     "output_type": "execute_result"
    }
   ],
   "source": [
    "from sklearn.model_selection import GridSearchCV\n",
    "from sklearn.neighbors import KNeighborsRegressor\n",
    "#from sklearn.metrics import mean_squared_error \n",
    "#from math import sqrt\n",
    "\n",
    "params = {'n_neighbors':[2,3,4,5,6,7,8,9]}\n",
    "\n",
    "knn = KNeighborsRegressor()\n",
    "\n",
    "model = GridSearchCV(knn, params, cv=5)\n",
    "model.fit(X_train, y_train)\n",
    "model.best_params_"
   ]
  },
  {
   "cell_type": "markdown",
   "metadata": {},
   "source": [
    "*Imputing Missing Values with KNN*"
   ]
  },
  {
   "cell_type": "code",
   "execution_count": 44,
   "metadata": {},
   "outputs": [
    {
     "name": "stdout",
     "output_type": "stream",
     "text": [
      "Imputing row 1/11701 with 0 missing, elapsed time: 14.202\n",
      "Imputing row 101/11701 with 1 missing, elapsed time: 14.203\n",
      "Imputing row 201/11701 with 1 missing, elapsed time: 14.204\n",
      "Imputing row 301/11701 with 1 missing, elapsed time: 14.205\n",
      "Imputing row 401/11701 with 1 missing, elapsed time: 14.206\n",
      "Imputing row 501/11701 with 1 missing, elapsed time: 14.207\n",
      "Imputing row 601/11701 with 0 missing, elapsed time: 14.208\n",
      "Imputing row 701/11701 with 1 missing, elapsed time: 14.209\n",
      "Imputing row 801/11701 with 0 missing, elapsed time: 14.210\n",
      "Imputing row 901/11701 with 1 missing, elapsed time: 14.211\n",
      "Imputing row 1001/11701 with 1 missing, elapsed time: 14.212\n",
      "Imputing row 1101/11701 with 0 missing, elapsed time: 14.213\n",
      "Imputing row 1201/11701 with 0 missing, elapsed time: 14.214\n",
      "Imputing row 1301/11701 with 1 missing, elapsed time: 14.215\n",
      "Imputing row 1401/11701 with 1 missing, elapsed time: 14.217\n",
      "Imputing row 1501/11701 with 1 missing, elapsed time: 14.217\n",
      "Imputing row 1601/11701 with 0 missing, elapsed time: 14.218\n",
      "Imputing row 1701/11701 with 1 missing, elapsed time: 14.219\n",
      "Imputing row 1801/11701 with 0 missing, elapsed time: 14.220\n",
      "Imputing row 1901/11701 with 1 missing, elapsed time: 14.221\n",
      "Imputing row 2001/11701 with 0 missing, elapsed time: 14.222\n",
      "Imputing row 2101/11701 with 0 missing, elapsed time: 14.223\n",
      "Imputing row 2201/11701 with 1 missing, elapsed time: 14.224\n",
      "Imputing row 2301/11701 with 0 missing, elapsed time: 14.225\n",
      "Imputing row 2401/11701 with 1 missing, elapsed time: 14.226\n",
      "Imputing row 2501/11701 with 1 missing, elapsed time: 14.227\n",
      "Imputing row 2601/11701 with 0 missing, elapsed time: 14.228\n",
      "Imputing row 2701/11701 with 1 missing, elapsed time: 14.229\n",
      "Imputing row 2801/11701 with 0 missing, elapsed time: 14.230\n",
      "Imputing row 2901/11701 with 0 missing, elapsed time: 14.232\n",
      "Imputing row 3001/11701 with 0 missing, elapsed time: 14.233\n",
      "Imputing row 3101/11701 with 0 missing, elapsed time: 14.234\n",
      "Imputing row 3201/11701 with 1 missing, elapsed time: 14.235\n",
      "Imputing row 3301/11701 with 0 missing, elapsed time: 14.236\n",
      "Imputing row 3401/11701 with 0 missing, elapsed time: 14.237\n",
      "Imputing row 3501/11701 with 1 missing, elapsed time: 14.238\n",
      "Imputing row 3601/11701 with 0 missing, elapsed time: 14.239\n",
      "Imputing row 3701/11701 with 0 missing, elapsed time: 14.240\n",
      "Imputing row 3801/11701 with 1 missing, elapsed time: 14.241\n",
      "Imputing row 3901/11701 with 0 missing, elapsed time: 14.242\n",
      "Imputing row 4001/11701 with 1 missing, elapsed time: 14.243\n",
      "Imputing row 4101/11701 with 1 missing, elapsed time: 14.244\n",
      "Imputing row 4201/11701 with 0 missing, elapsed time: 14.245\n",
      "Imputing row 4301/11701 with 0 missing, elapsed time: 14.246\n",
      "Imputing row 4401/11701 with 1 missing, elapsed time: 14.247\n",
      "Imputing row 4501/11701 with 0 missing, elapsed time: 14.247\n",
      "Imputing row 4601/11701 with 0 missing, elapsed time: 14.248\n",
      "Imputing row 4701/11701 with 1 missing, elapsed time: 14.250\n",
      "Imputing row 4801/11701 with 1 missing, elapsed time: 14.251\n",
      "Imputing row 4901/11701 with 1 missing, elapsed time: 14.252\n",
      "Imputing row 5001/11701 with 0 missing, elapsed time: 14.253\n",
      "Imputing row 5101/11701 with 1 missing, elapsed time: 14.253\n",
      "Imputing row 5201/11701 with 0 missing, elapsed time: 14.254\n",
      "Imputing row 5301/11701 with 0 missing, elapsed time: 14.255\n",
      "Imputing row 5401/11701 with 0 missing, elapsed time: 14.256\n",
      "Imputing row 5501/11701 with 0 missing, elapsed time: 14.257\n",
      "Imputing row 5601/11701 with 1 missing, elapsed time: 14.258\n",
      "Imputing row 5701/11701 with 0 missing, elapsed time: 14.259\n",
      "Imputing row 5801/11701 with 1 missing, elapsed time: 14.260\n",
      "Imputing row 5901/11701 with 0 missing, elapsed time: 14.261\n",
      "Imputing row 6001/11701 with 0 missing, elapsed time: 14.262\n",
      "Imputing row 6101/11701 with 0 missing, elapsed time: 14.263\n",
      "Imputing row 6201/11701 with 1 missing, elapsed time: 14.264\n",
      "Imputing row 6301/11701 with 0 missing, elapsed time: 14.265\n",
      "Imputing row 6401/11701 with 0 missing, elapsed time: 14.266\n",
      "Imputing row 6501/11701 with 0 missing, elapsed time: 14.267\n",
      "Imputing row 6601/11701 with 1 missing, elapsed time: 14.268\n",
      "Imputing row 6701/11701 with 0 missing, elapsed time: 14.269\n",
      "Imputing row 6801/11701 with 0 missing, elapsed time: 14.269\n",
      "Imputing row 6901/11701 with 0 missing, elapsed time: 14.270\n",
      "Imputing row 7001/11701 with 0 missing, elapsed time: 14.271\n",
      "Imputing row 7101/11701 with 1 missing, elapsed time: 14.272\n",
      "Imputing row 7201/11701 with 0 missing, elapsed time: 14.273\n",
      "Imputing row 7301/11701 with 0 missing, elapsed time: 14.274\n",
      "Imputing row 7401/11701 with 1 missing, elapsed time: 14.274\n",
      "Imputing row 7501/11701 with 0 missing, elapsed time: 14.275\n",
      "Imputing row 7601/11701 with 0 missing, elapsed time: 14.276\n",
      "Imputing row 7701/11701 with 0 missing, elapsed time: 14.277\n",
      "Imputing row 7801/11701 with 0 missing, elapsed time: 14.278\n",
      "Imputing row 7901/11701 with 1 missing, elapsed time: 14.279\n",
      "Imputing row 8001/11701 with 0 missing, elapsed time: 14.280\n",
      "Imputing row 8101/11701 with 0 missing, elapsed time: 14.281\n",
      "Imputing row 8201/11701 with 0 missing, elapsed time: 14.282\n",
      "Imputing row 8301/11701 with 1 missing, elapsed time: 14.282\n",
      "Imputing row 8401/11701 with 0 missing, elapsed time: 14.283\n",
      "Imputing row 8501/11701 with 1 missing, elapsed time: 14.284\n",
      "Imputing row 8601/11701 with 1 missing, elapsed time: 14.285\n",
      "Imputing row 8701/11701 with 1 missing, elapsed time: 14.286\n",
      "Imputing row 8801/11701 with 0 missing, elapsed time: 14.287\n",
      "Imputing row 8901/11701 with 0 missing, elapsed time: 14.288\n",
      "Imputing row 9001/11701 with 0 missing, elapsed time: 14.289\n",
      "Imputing row 9101/11701 with 1 missing, elapsed time: 14.290\n",
      "Imputing row 9201/11701 with 0 missing, elapsed time: 14.291\n",
      "Imputing row 9301/11701 with 0 missing, elapsed time: 14.291\n",
      "Imputing row 9401/11701 with 1 missing, elapsed time: 14.292\n",
      "Imputing row 9501/11701 with 1 missing, elapsed time: 14.293\n",
      "Imputing row 9601/11701 with 0 missing, elapsed time: 14.294\n",
      "Imputing row 9701/11701 with 1 missing, elapsed time: 14.295\n",
      "Imputing row 9801/11701 with 0 missing, elapsed time: 14.295\n",
      "Imputing row 9901/11701 with 1 missing, elapsed time: 14.296\n",
      "Imputing row 10001/11701 with 1 missing, elapsed time: 14.297\n",
      "Imputing row 10101/11701 with 1 missing, elapsed time: 14.299\n",
      "Imputing row 10201/11701 with 1 missing, elapsed time: 14.300\n",
      "Imputing row 10301/11701 with 1 missing, elapsed time: 14.301\n",
      "Imputing row 10401/11701 with 0 missing, elapsed time: 14.302\n",
      "Imputing row 10501/11701 with 1 missing, elapsed time: 14.302\n",
      "Imputing row 10601/11701 with 1 missing, elapsed time: 14.303\n",
      "Imputing row 10701/11701 with 1 missing, elapsed time: 14.304\n",
      "Imputing row 10801/11701 with 1 missing, elapsed time: 14.305\n",
      "Imputing row 10901/11701 with 0 missing, elapsed time: 14.306\n",
      "Imputing row 11001/11701 with 1 missing, elapsed time: 14.307\n",
      "Imputing row 11101/11701 with 1 missing, elapsed time: 14.307\n",
      "Imputing row 11201/11701 with 1 missing, elapsed time: 14.308\n",
      "Imputing row 11301/11701 with 0 missing, elapsed time: 14.309\n",
      "Imputing row 11401/11701 with 0 missing, elapsed time: 14.310\n",
      "Imputing row 11501/11701 with 1 missing, elapsed time: 14.311\n",
      "Imputing row 11601/11701 with 1 missing, elapsed time: 14.312\n",
      "Imputing row 11701/11701 with 0 missing, elapsed time: 14.313\n",
      "[KNN] Warning: 6004/11701 still missing after imputation, replacing with 0\n"
     ]
    },
    {
     "data": {
      "text/html": [
       "<div>\n",
       "<style scoped>\n",
       "    .dataframe tbody tr th:only-of-type {\n",
       "        vertical-align: middle;\n",
       "    }\n",
       "\n",
       "    .dataframe tbody tr th {\n",
       "        vertical-align: top;\n",
       "    }\n",
       "\n",
       "    .dataframe thead th {\n",
       "        text-align: right;\n",
       "    }\n",
       "</style>\n",
       "<table border=\"1\" class=\"dataframe\">\n",
       "  <thead>\n",
       "    <tr style=\"text-align: right;\">\n",
       "      <th></th>\n",
       "      <th>Critic_Score_KNN</th>\n",
       "    </tr>\n",
       "  </thead>\n",
       "  <tbody>\n",
       "    <tr>\n",
       "      <th>0</th>\n",
       "      <td>81.0</td>\n",
       "    </tr>\n",
       "    <tr>\n",
       "      <th>1</th>\n",
       "      <td>0.0</td>\n",
       "    </tr>\n",
       "    <tr>\n",
       "      <th>2</th>\n",
       "      <td>0.0</td>\n",
       "    </tr>\n",
       "    <tr>\n",
       "      <th>3</th>\n",
       "      <td>54.0</td>\n",
       "    </tr>\n",
       "    <tr>\n",
       "      <th>4</th>\n",
       "      <td>0.0</td>\n",
       "    </tr>\n",
       "  </tbody>\n",
       "</table>\n",
       "</div>"
      ],
      "text/plain": [
       "   Critic_Score_KNN\n",
       "0              81.0\n",
       "1               0.0\n",
       "2               0.0\n",
       "3              54.0\n",
       "4               0.0"
      ]
     },
     "execution_count": 44,
     "metadata": {},
     "output_type": "execute_result"
    }
   ],
   "source": [
    "from fancyimpute import KNN\n",
    "critic_score_knn = KNN(k=9).fit_transform(df[['Critic_Score']])\n",
    "\n",
    "# beautify back to a df\n",
    "df_critic_score_knn = pd.DataFrame(critic_score_knn)\n",
    "df_critic_score_knn.columns = ['Critic_Score_KNN']\n",
    "df_critic_score_knn.head()"
   ]
  },
  {
   "cell_type": "code",
   "execution_count": 45,
   "metadata": {},
   "outputs": [
    {
     "data": {
      "text/plain": [
       "0"
      ]
     },
     "execution_count": 45,
     "metadata": {},
     "output_type": "execute_result"
    }
   ],
   "source": [
    "df_critic_score_knn.Critic_Score_KNN.isna().sum()"
   ]
  },
  {
   "cell_type": "code",
   "execution_count": 46,
   "metadata": {},
   "outputs": [
    {
     "data": {
      "text/plain": [
       "count    11701.000000\n",
       "mean        33.550808\n",
       "std         35.812738\n",
       "min          0.000000\n",
       "25%          0.000000\n",
       "50%          0.000000\n",
       "75%         70.000000\n",
       "max         98.000000\n",
       "Name: Critic_Score_KNN, dtype: float64"
      ]
     },
     "execution_count": 46,
     "metadata": {},
     "output_type": "execute_result"
    }
   ],
   "source": [
    "df_critic_score_knn.Critic_Score_KNN.describe()"
   ]
  },
  {
   "cell_type": "code",
   "execution_count": 47,
   "metadata": {},
   "outputs": [
    {
     "data": {
      "image/png": "[encoded data removed]",
      "text/plain": [
       "<Figure size 432x288 with 1 Axes>"
      ]
     },
     "metadata": {
      "needs_background": "light"
     },
     "output_type": "display_data"
    }
   ],
   "source": [
    "df_critic_score_knn.Critic_Score_KNN.hist();"
   ]
  },
  {
   "cell_type": "markdown",
   "metadata": {},
   "source": [
    "**2.6. Handling `User_Count` column**"
   ]
  },
  {
   "cell_type": "code",
   "execution_count": 48,
   "metadata": {
    "scrolled": true
   },
   "outputs": [
    {
     "data": {
      "text/plain": [
       "count     5332.000000\n",
       "mean       166.707802\n",
       "std        581.024155\n",
       "min          4.000000\n",
       "25%         10.000000\n",
       "50%         25.000000\n",
       "75%         84.000000\n",
       "max      10665.000000\n",
       "Name: User_Count, dtype: float64"
      ]
     },
     "execution_count": 48,
     "metadata": {},
     "output_type": "execute_result"
    }
   ],
   "source": [
    "df.User_Count.describe()"
   ]
  },
  {
   "cell_type": "code",
   "execution_count": 49,
   "metadata": {},
   "outputs": [],
   "source": [
    "# filter out sub_df to work with\n",
    "sub_df = df[['NA_Sales', 'Platform', 'Genre', 'JP_Sales', 'Rating', 'Periods_of_Release', 'User_Count']]\n",
    "\n",
    "# deal with categorical columns\n",
    "sub_df['Platform'] = sub_df['Platform'].astype('category')\n",
    "sub_df['Genre'] = sub_df['Genre'].astype('category')\n",
    "sub_df['Rating'] = sub_df['Rating'].astype('category')\n",
    "sub_df['Periods_of_Release'] = sub_df['Periods_of_Release'].astype('category')\n",
    "sub_df = pd.get_dummies(sub_df)"
   ]
  },
  {
   "cell_type": "code",
   "execution_count": 50,
   "metadata": {},
   "outputs": [],
   "source": [
    "# split datasets\n",
    "train_data = sub_df[sub_df['User_Count'].notnull()]\n",
    "test_data  = sub_df[sub_df['User_Count'].isnull()]\n",
    "\n",
    "# define X\n",
    "X_train = train_data.drop('User_Count', axis=1)\n",
    "X_test  = test_data.drop('User_Count', axis=1)\n",
    "\n",
    "# define y\n",
    "y_train = train_data['User_Count']"
   ]
  },
  {
   "cell_type": "code",
   "execution_count": 51,
   "metadata": {},
   "outputs": [],
   "source": [
    "scaler = MinMaxScaler()\n",
    "\n",
    "X_train_scaled = scaler.fit_transform(X_train)\n",
    "X_train = pd.DataFrame(X_train_scaled)\n",
    "\n",
    "X_test_scaled = scaler.fit_transform(X_test)\n",
    "X_test = pd.DataFrame(X_test_scaled)"
   ]
  },
  {
   "cell_type": "code",
   "execution_count": 61,
   "metadata": {},
   "outputs": [
    {
     "data": {
      "text/plain": [
       "{'n_neighbors': 6}"
      ]
     },
     "execution_count": 61,
     "metadata": {},
     "output_type": "execute_result"
    }
   ],
   "source": [
    "from sklearn.model_selection import GridSearchCV\n",
    "from sklearn.neighbors import KNeighborsRegressor\n",
    "#from sklearn.metrics import mean_squared_error \n",
    "#from math import sqrt\n",
    "\n",
    "params = {'n_neighbors':[2,3,4,5,6,7,8,9]}\n",
    "\n",
    "knn = KNeighborsRegressor()\n",
    "\n",
    "model = GridSearchCV(knn, params, cv=5)\n",
    "model.fit(X_train, y_train)\n",
    "model.best_params_"
   ]
  },
  {
   "cell_type": "code",
   "execution_count": 52,
   "metadata": {},
   "outputs": [
    {
     "name": "stdout",
     "output_type": "stream",
     "text": [
      "Imputing row 1/11701 with 0 missing, elapsed time: 13.654\n",
      "Imputing row 101/11701 with 1 missing, elapsed time: 13.655\n",
      "Imputing row 201/11701 with 1 missing, elapsed time: 13.656\n",
      "Imputing row 301/11701 with 1 missing, elapsed time: 13.657\n",
      "Imputing row 401/11701 with 1 missing, elapsed time: 13.658\n",
      "Imputing row 501/11701 with 1 missing, elapsed time: 13.659\n",
      "Imputing row 601/11701 with 0 missing, elapsed time: 13.660\n",
      "Imputing row 701/11701 with 1 missing, elapsed time: 13.661\n",
      "Imputing row 801/11701 with 1 missing, elapsed time: 13.661\n",
      "Imputing row 901/11701 with 1 missing, elapsed time: 13.662\n",
      "Imputing row 1001/11701 with 1 missing, elapsed time: 13.663\n",
      "Imputing row 1101/11701 with 0 missing, elapsed time: 13.664\n",
      "Imputing row 1201/11701 with 0 missing, elapsed time: 13.665\n",
      "Imputing row 1301/11701 with 1 missing, elapsed time: 13.666\n",
      "Imputing row 1401/11701 with 1 missing, elapsed time: 13.667\n",
      "Imputing row 1501/11701 with 1 missing, elapsed time: 13.668\n",
      "Imputing row 1601/11701 with 0 missing, elapsed time: 13.668\n",
      "Imputing row 1701/11701 with 1 missing, elapsed time: 13.669\n",
      "Imputing row 1801/11701 with 1 missing, elapsed time: 13.670\n",
      "Imputing row 1901/11701 with 1 missing, elapsed time: 13.671\n",
      "Imputing row 2001/11701 with 0 missing, elapsed time: 13.672\n",
      "Imputing row 2101/11701 with 0 missing, elapsed time: 13.673\n",
      "Imputing row 2201/11701 with 0 missing, elapsed time: 13.674\n",
      "Imputing row 2301/11701 with 0 missing, elapsed time: 13.674\n",
      "Imputing row 2401/11701 with 1 missing, elapsed time: 13.675\n",
      "Imputing row 2501/11701 with 1 missing, elapsed time: 13.676\n",
      "Imputing row 2601/11701 with 0 missing, elapsed time: 13.677\n",
      "Imputing row 2701/11701 with 1 missing, elapsed time: 13.678\n",
      "Imputing row 2801/11701 with 0 missing, elapsed time: 13.679\n",
      "Imputing row 2901/11701 with 0 missing, elapsed time: 13.679\n",
      "Imputing row 3001/11701 with 0 missing, elapsed time: 13.680\n",
      "Imputing row 3101/11701 with 0 missing, elapsed time: 13.681\n",
      "Imputing row 3201/11701 with 1 missing, elapsed time: 13.682\n",
      "Imputing row 3301/11701 with 0 missing, elapsed time: 13.683\n",
      "Imputing row 3401/11701 with 0 missing, elapsed time: 13.684\n",
      "Imputing row 3501/11701 with 1 missing, elapsed time: 13.685\n",
      "Imputing row 3601/11701 with 0 missing, elapsed time: 13.685\n",
      "Imputing row 3701/11701 with 0 missing, elapsed time: 13.686\n",
      "Imputing row 3801/11701 with 1 missing, elapsed time: 13.687\n",
      "Imputing row 3901/11701 with 0 missing, elapsed time: 13.688\n",
      "Imputing row 4001/11701 with 1 missing, elapsed time: 13.689\n",
      "Imputing row 4101/11701 with 1 missing, elapsed time: 13.689\n",
      "Imputing row 4201/11701 with 0 missing, elapsed time: 13.690\n",
      "Imputing row 4301/11701 with 0 missing, elapsed time: 13.691\n",
      "Imputing row 4401/11701 with 1 missing, elapsed time: 13.692\n",
      "Imputing row 4501/11701 with 1 missing, elapsed time: 13.695\n",
      "Imputing row 4601/11701 with 0 missing, elapsed time: 13.696\n",
      "Imputing row 4701/11701 with 1 missing, elapsed time: 13.697\n",
      "Imputing row 4801/11701 with 1 missing, elapsed time: 13.698\n",
      "Imputing row 4901/11701 with 1 missing, elapsed time: 13.699\n",
      "Imputing row 5001/11701 with 0 missing, elapsed time: 13.699\n",
      "Imputing row 5101/11701 with 1 missing, elapsed time: 13.700\n",
      "Imputing row 5201/11701 with 1 missing, elapsed time: 13.701\n",
      "Imputing row 5301/11701 with 0 missing, elapsed time: 13.702\n",
      "Imputing row 5401/11701 with 0 missing, elapsed time: 13.703\n",
      "Imputing row 5501/11701 with 0 missing, elapsed time: 13.704\n",
      "Imputing row 5601/11701 with 1 missing, elapsed time: 13.704\n",
      "Imputing row 5701/11701 with 0 missing, elapsed time: 13.705\n",
      "Imputing row 5801/11701 with 1 missing, elapsed time: 13.707\n",
      "Imputing row 5901/11701 with 0 missing, elapsed time: 13.708\n",
      "Imputing row 6001/11701 with 0 missing, elapsed time: 13.708\n",
      "Imputing row 6101/11701 with 0 missing, elapsed time: 13.709\n",
      "Imputing row 6201/11701 with 0 missing, elapsed time: 13.710\n",
      "Imputing row 6301/11701 with 0 missing, elapsed time: 13.711\n",
      "Imputing row 6401/11701 with 0 missing, elapsed time: 13.712\n",
      "Imputing row 6501/11701 with 1 missing, elapsed time: 13.713\n",
      "Imputing row 6601/11701 with 1 missing, elapsed time: 13.714\n",
      "Imputing row 6701/11701 with 0 missing, elapsed time: 13.715\n",
      "Imputing row 6801/11701 with 0 missing, elapsed time: 13.716\n",
      "Imputing row 6901/11701 with 0 missing, elapsed time: 13.717\n",
      "Imputing row 7001/11701 with 0 missing, elapsed time: 13.718\n",
      "Imputing row 7101/11701 with 1 missing, elapsed time: 13.719\n",
      "Imputing row 7201/11701 with 1 missing, elapsed time: 13.720\n",
      "Imputing row 7301/11701 with 0 missing, elapsed time: 13.721\n",
      "Imputing row 7401/11701 with 1 missing, elapsed time: 13.721\n",
      "Imputing row 7501/11701 with 0 missing, elapsed time: 13.722\n",
      "Imputing row 7601/11701 with 0 missing, elapsed time: 13.723\n",
      "Imputing row 7701/11701 with 0 missing, elapsed time: 13.724\n",
      "Imputing row 7801/11701 with 0 missing, elapsed time: 13.725\n",
      "Imputing row 7901/11701 with 1 missing, elapsed time: 13.726\n",
      "Imputing row 8001/11701 with 1 missing, elapsed time: 13.727\n",
      "Imputing row 8101/11701 with 0 missing, elapsed time: 13.728\n",
      "Imputing row 8201/11701 with 0 missing, elapsed time: 13.729\n",
      "Imputing row 8301/11701 with 1 missing, elapsed time: 13.730\n",
      "Imputing row 8401/11701 with 0 missing, elapsed time: 13.731\n",
      "Imputing row 8501/11701 with 1 missing, elapsed time: 13.731\n",
      "Imputing row 8601/11701 with 1 missing, elapsed time: 13.732\n",
      "Imputing row 8701/11701 with 1 missing, elapsed time: 13.733\n",
      "Imputing row 8801/11701 with 0 missing, elapsed time: 13.734\n",
      "Imputing row 8901/11701 with 0 missing, elapsed time: 13.735\n",
      "Imputing row 9001/11701 with 1 missing, elapsed time: 13.736\n",
      "Imputing row 9101/11701 with 1 missing, elapsed time: 13.737\n",
      "Imputing row 9201/11701 with 0 missing, elapsed time: 13.738\n",
      "Imputing row 9301/11701 with 0 missing, elapsed time: 13.738\n",
      "Imputing row 9401/11701 with 1 missing, elapsed time: 13.739\n",
      "Imputing row 9501/11701 with 1 missing, elapsed time: 13.740\n",
      "Imputing row 9601/11701 with 0 missing, elapsed time: 13.741\n",
      "Imputing row 9701/11701 with 1 missing, elapsed time: 13.741\n",
      "Imputing row 9801/11701 with 0 missing, elapsed time: 13.742\n",
      "Imputing row 9901/11701 with 1 missing, elapsed time: 13.743\n",
      "Imputing row 10001/11701 with 1 missing, elapsed time: 13.744\n",
      "Imputing row 10101/11701 with 1 missing, elapsed time: 13.745\n",
      "Imputing row 10201/11701 with 1 missing, elapsed time: 13.746\n",
      "Imputing row 10301/11701 with 1 missing, elapsed time: 13.746\n",
      "Imputing row 10401/11701 with 1 missing, elapsed time: 13.747\n",
      "Imputing row 10501/11701 with 1 missing, elapsed time: 13.748\n",
      "Imputing row 10601/11701 with 1 missing, elapsed time: 13.749\n",
      "Imputing row 10701/11701 with 0 missing, elapsed time: 13.750\n",
      "Imputing row 10801/11701 with 0 missing, elapsed time: 13.751\n",
      "Imputing row 10901/11701 with 1 missing, elapsed time: 13.751\n",
      "Imputing row 11001/11701 with 1 missing, elapsed time: 13.752\n",
      "Imputing row 11101/11701 with 1 missing, elapsed time: 13.753\n",
      "Imputing row 11201/11701 with 1 missing, elapsed time: 13.754\n",
      "Imputing row 11301/11701 with 1 missing, elapsed time: 13.755\n",
      "Imputing row 11401/11701 with 1 missing, elapsed time: 13.755\n",
      "Imputing row 11501/11701 with 1 missing, elapsed time: 13.756\n",
      "Imputing row 11601/11701 with 1 missing, elapsed time: 13.757\n",
      "Imputing row 11701/11701 with 0 missing, elapsed time: 13.758\n",
      "[KNN] Warning: 6369/11701 still missing after imputation, replacing with 0\n"
     ]
    },
    {
     "data": {
      "text/html": [
       "<div>\n",
       "<style scoped>\n",
       "    .dataframe tbody tr th:only-of-type {\n",
       "        vertical-align: middle;\n",
       "    }\n",
       "\n",
       "    .dataframe tbody tr th {\n",
       "        vertical-align: top;\n",
       "    }\n",
       "\n",
       "    .dataframe thead th {\n",
       "        text-align: right;\n",
       "    }\n",
       "</style>\n",
       "<table border=\"1\" class=\"dataframe\">\n",
       "  <thead>\n",
       "    <tr style=\"text-align: right;\">\n",
       "      <th></th>\n",
       "      <th>User_Count_KNN</th>\n",
       "    </tr>\n",
       "  </thead>\n",
       "  <tbody>\n",
       "    <tr>\n",
       "      <th>0</th>\n",
       "      <td>62.0</td>\n",
       "    </tr>\n",
       "    <tr>\n",
       "      <th>1</th>\n",
       "      <td>0.0</td>\n",
       "    </tr>\n",
       "    <tr>\n",
       "      <th>2</th>\n",
       "      <td>0.0</td>\n",
       "    </tr>\n",
       "    <tr>\n",
       "      <th>3</th>\n",
       "      <td>19.0</td>\n",
       "    </tr>\n",
       "    <tr>\n",
       "      <th>4</th>\n",
       "      <td>0.0</td>\n",
       "    </tr>\n",
       "  </tbody>\n",
       "</table>\n",
       "</div>"
      ],
      "text/plain": [
       "   User_Count_KNN\n",
       "0            62.0\n",
       "1             0.0\n",
       "2             0.0\n",
       "3            19.0\n",
       "4             0.0"
      ]
     },
     "execution_count": 52,
     "metadata": {},
     "output_type": "execute_result"
    }
   ],
   "source": [
    "from fancyimpute import KNN\n",
    "user_count_knn = KNN(k=6).fit_transform(df[['User_Count']])\n",
    "\n",
    "# beautify back to a df\n",
    "df_user_count_knn = pd.DataFrame(user_count_knn)\n",
    "df_user_count_knn.columns = ['User_Count_KNN']\n",
    "df_user_count_knn.head()"
   ]
  },
  {
   "cell_type": "code",
   "execution_count": null,
   "metadata": {},
   "outputs": [],
   "source": []
  },
  {
   "cell_type": "code",
   "execution_count": null,
   "metadata": {},
   "outputs": [],
   "source": []
  },
  {
   "cell_type": "markdown",
   "metadata": {},
   "source": [
    "**2.7. Handling `Critic_Count` column**"
   ]
  },
  {
   "cell_type": "code",
   "execution_count": null,
   "metadata": {},
   "outputs": [],
   "source": []
  },
  {
   "cell_type": "code",
   "execution_count": 53,
   "metadata": {},
   "outputs": [
    {
     "name": "stdout",
     "output_type": "stream",
     "text": [
      "Imputing row 1/11701 with 0 missing, elapsed time: 14.200\n",
      "Imputing row 101/11701 with 1 missing, elapsed time: 14.201\n",
      "Imputing row 201/11701 with 1 missing, elapsed time: 14.202\n",
      "Imputing row 301/11701 with 1 missing, elapsed time: 14.203\n",
      "Imputing row 401/11701 with 1 missing, elapsed time: 14.204\n",
      "Imputing row 501/11701 with 1 missing, elapsed time: 14.205\n",
      "Imputing row 601/11701 with 0 missing, elapsed time: 14.206\n",
      "Imputing row 701/11701 with 1 missing, elapsed time: 14.207\n",
      "Imputing row 801/11701 with 0 missing, elapsed time: 14.208\n",
      "Imputing row 901/11701 with 1 missing, elapsed time: 14.209\n",
      "Imputing row 1001/11701 with 1 missing, elapsed time: 14.210\n",
      "Imputing row 1101/11701 with 0 missing, elapsed time: 14.210\n",
      "Imputing row 1201/11701 with 0 missing, elapsed time: 14.211\n",
      "Imputing row 1301/11701 with 1 missing, elapsed time: 14.213\n",
      "Imputing row 1401/11701 with 1 missing, elapsed time: 14.213\n",
      "Imputing row 1501/11701 with 1 missing, elapsed time: 14.214\n",
      "Imputing row 1601/11701 with 0 missing, elapsed time: 14.215\n",
      "Imputing row 1701/11701 with 1 missing, elapsed time: 14.216\n",
      "Imputing row 1801/11701 with 0 missing, elapsed time: 14.217\n",
      "Imputing row 1901/11701 with 1 missing, elapsed time: 14.218\n",
      "Imputing row 2001/11701 with 0 missing, elapsed time: 14.219\n",
      "Imputing row 2101/11701 with 0 missing, elapsed time: 14.220\n",
      "Imputing row 2201/11701 with 1 missing, elapsed time: 14.220\n",
      "Imputing row 2301/11701 with 0 missing, elapsed time: 14.221\n",
      "Imputing row 2401/11701 with 1 missing, elapsed time: 14.223\n",
      "Imputing row 2501/11701 with 1 missing, elapsed time: 14.223\n",
      "Imputing row 2601/11701 with 0 missing, elapsed time: 14.224\n",
      "Imputing row 2701/11701 with 1 missing, elapsed time: 14.225\n",
      "Imputing row 2801/11701 with 0 missing, elapsed time: 14.226\n",
      "Imputing row 2901/11701 with 0 missing, elapsed time: 14.227\n",
      "Imputing row 3001/11701 with 0 missing, elapsed time: 14.228\n",
      "Imputing row 3101/11701 with 0 missing, elapsed time: 14.229\n",
      "Imputing row 3201/11701 with 1 missing, elapsed time: 14.230\n",
      "Imputing row 3301/11701 with 0 missing, elapsed time: 14.231\n",
      "Imputing row 3401/11701 with 0 missing, elapsed time: 14.231\n",
      "Imputing row 3501/11701 with 1 missing, elapsed time: 14.232\n",
      "Imputing row 3601/11701 with 0 missing, elapsed time: 14.233\n",
      "Imputing row 3701/11701 with 0 missing, elapsed time: 14.234\n",
      "Imputing row 3801/11701 with 1 missing, elapsed time: 14.235\n",
      "Imputing row 3901/11701 with 0 missing, elapsed time: 14.236\n",
      "Imputing row 4001/11701 with 1 missing, elapsed time: 14.237\n",
      "Imputing row 4101/11701 with 1 missing, elapsed time: 14.237\n",
      "Imputing row 4201/11701 with 0 missing, elapsed time: 14.238\n",
      "Imputing row 4301/11701 with 0 missing, elapsed time: 14.239\n",
      "Imputing row 4401/11701 with 1 missing, elapsed time: 14.240\n",
      "Imputing row 4501/11701 with 0 missing, elapsed time: 14.241\n",
      "Imputing row 4601/11701 with 0 missing, elapsed time: 14.242\n",
      "Imputing row 4701/11701 with 1 missing, elapsed time: 14.243\n",
      "Imputing row 4801/11701 with 1 missing, elapsed time: 14.244\n",
      "Imputing row 4901/11701 with 1 missing, elapsed time: 14.245\n",
      "Imputing row 5001/11701 with 0 missing, elapsed time: 14.246\n",
      "Imputing row 5101/11701 with 1 missing, elapsed time: 14.246\n",
      "Imputing row 5201/11701 with 0 missing, elapsed time: 14.247\n",
      "Imputing row 5301/11701 with 0 missing, elapsed time: 14.248\n",
      "Imputing row 5401/11701 with 0 missing, elapsed time: 14.249\n",
      "Imputing row 5501/11701 with 0 missing, elapsed time: 14.251\n",
      "Imputing row 5601/11701 with 1 missing, elapsed time: 14.252\n",
      "Imputing row 5701/11701 with 0 missing, elapsed time: 14.253\n",
      "Imputing row 5801/11701 with 1 missing, elapsed time: 14.254\n",
      "Imputing row 5901/11701 with 0 missing, elapsed time: 14.255\n",
      "Imputing row 6001/11701 with 0 missing, elapsed time: 14.256\n",
      "Imputing row 6101/11701 with 0 missing, elapsed time: 14.256\n",
      "Imputing row 6201/11701 with 1 missing, elapsed time: 14.257\n",
      "Imputing row 6301/11701 with 0 missing, elapsed time: 14.258\n",
      "Imputing row 6401/11701 with 0 missing, elapsed time: 14.259\n",
      "Imputing row 6501/11701 with 0 missing, elapsed time: 14.260\n",
      "Imputing row 6601/11701 with 1 missing, elapsed time: 14.261\n",
      "Imputing row 6701/11701 with 0 missing, elapsed time: 14.264\n",
      "Imputing row 6801/11701 with 0 missing, elapsed time: 14.265\n",
      "Imputing row 6901/11701 with 0 missing, elapsed time: 14.266\n",
      "Imputing row 7001/11701 with 0 missing, elapsed time: 14.266\n",
      "Imputing row 7101/11701 with 1 missing, elapsed time: 14.267\n",
      "Imputing row 7201/11701 with 0 missing, elapsed time: 14.268\n",
      "Imputing row 7301/11701 with 0 missing, elapsed time: 14.269\n",
      "Imputing row 7401/11701 with 1 missing, elapsed time: 14.270\n",
      "Imputing row 7501/11701 with 0 missing, elapsed time: 14.272\n",
      "Imputing row 7601/11701 with 0 missing, elapsed time: 14.273\n",
      "Imputing row 7701/11701 with 0 missing, elapsed time: 14.274\n",
      "Imputing row 7801/11701 with 0 missing, elapsed time: 14.275\n",
      "Imputing row 7901/11701 with 1 missing, elapsed time: 14.276\n",
      "Imputing row 8001/11701 with 0 missing, elapsed time: 14.277\n",
      "Imputing row 8101/11701 with 0 missing, elapsed time: 14.278\n",
      "Imputing row 8201/11701 with 0 missing, elapsed time: 14.278\n",
      "Imputing row 8301/11701 with 1 missing, elapsed time: 14.279\n",
      "Imputing row 8401/11701 with 0 missing, elapsed time: 14.281\n",
      "Imputing row 8501/11701 with 1 missing, elapsed time: 14.282\n",
      "Imputing row 8601/11701 with 1 missing, elapsed time: 14.283\n",
      "Imputing row 8701/11701 with 1 missing, elapsed time: 14.283\n",
      "Imputing row 8801/11701 with 0 missing, elapsed time: 14.284\n",
      "Imputing row 8901/11701 with 0 missing, elapsed time: 14.285\n",
      "Imputing row 9001/11701 with 0 missing, elapsed time: 14.286\n",
      "Imputing row 9101/11701 with 1 missing, elapsed time: 14.287\n",
      "Imputing row 9201/11701 with 0 missing, elapsed time: 14.288\n",
      "Imputing row 9301/11701 with 0 missing, elapsed time: 14.289\n",
      "Imputing row 9401/11701 with 1 missing, elapsed time: 14.290\n",
      "Imputing row 9501/11701 with 1 missing, elapsed time: 14.290\n",
      "Imputing row 9601/11701 with 0 missing, elapsed time: 14.291\n",
      "Imputing row 9701/11701 with 1 missing, elapsed time: 14.292\n",
      "Imputing row 9801/11701 with 0 missing, elapsed time: 14.293\n",
      "Imputing row 9901/11701 with 1 missing, elapsed time: 14.294\n",
      "Imputing row 10001/11701 with 1 missing, elapsed time: 14.295\n",
      "Imputing row 10101/11701 with 1 missing, elapsed time: 14.296\n",
      "Imputing row 10201/11701 with 1 missing, elapsed time: 14.297\n",
      "Imputing row 10301/11701 with 1 missing, elapsed time: 14.298\n",
      "Imputing row 10401/11701 with 0 missing, elapsed time: 14.299\n",
      "Imputing row 10501/11701 with 1 missing, elapsed time: 14.300\n",
      "Imputing row 10601/11701 with 1 missing, elapsed time: 14.301\n",
      "Imputing row 10701/11701 with 1 missing, elapsed time: 14.301\n",
      "Imputing row 10801/11701 with 1 missing, elapsed time: 14.302\n",
      "Imputing row 10901/11701 with 0 missing, elapsed time: 14.303\n",
      "Imputing row 11001/11701 with 1 missing, elapsed time: 14.304\n",
      "Imputing row 11101/11701 with 1 missing, elapsed time: 14.305\n",
      "Imputing row 11201/11701 with 1 missing, elapsed time: 14.305\n",
      "Imputing row 11301/11701 with 0 missing, elapsed time: 14.307\n",
      "Imputing row 11401/11701 with 0 missing, elapsed time: 14.308\n",
      "Imputing row 11501/11701 with 1 missing, elapsed time: 14.309\n",
      "Imputing row 11601/11701 with 1 missing, elapsed time: 14.309\n",
      "Imputing row 11701/11701 with 0 missing, elapsed time: 14.310\n",
      "[KNN] Warning: 6004/11701 still missing after imputation, replacing with 0\n"
     ]
    },
    {
     "data": {
      "text/html": [
       "<div>\n",
       "<style scoped>\n",
       "    .dataframe tbody tr th:only-of-type {\n",
       "        vertical-align: middle;\n",
       "    }\n",
       "\n",
       "    .dataframe tbody tr th {\n",
       "        vertical-align: top;\n",
       "    }\n",
       "\n",
       "    .dataframe thead th {\n",
       "        text-align: right;\n",
       "    }\n",
       "</style>\n",
       "<table border=\"1\" class=\"dataframe\">\n",
       "  <thead>\n",
       "    <tr style=\"text-align: right;\">\n",
       "      <th></th>\n",
       "      <th>Critic_Score_KNN</th>\n",
       "    </tr>\n",
       "  </thead>\n",
       "  <tbody>\n",
       "    <tr>\n",
       "      <th>0</th>\n",
       "      <td>49.0</td>\n",
       "    </tr>\n",
       "    <tr>\n",
       "      <th>1</th>\n",
       "      <td>0.0</td>\n",
       "    </tr>\n",
       "    <tr>\n",
       "      <th>2</th>\n",
       "      <td>0.0</td>\n",
       "    </tr>\n",
       "    <tr>\n",
       "      <th>3</th>\n",
       "      <td>57.0</td>\n",
       "    </tr>\n",
       "    <tr>\n",
       "      <th>4</th>\n",
       "      <td>0.0</td>\n",
       "    </tr>\n",
       "  </tbody>\n",
       "</table>\n",
       "</div>"
      ],
      "text/plain": [
       "   Critic_Score_KNN\n",
       "0              49.0\n",
       "1               0.0\n",
       "2               0.0\n",
       "3              57.0\n",
       "4               0.0"
      ]
     },
     "execution_count": 53,
     "metadata": {},
     "output_type": "execute_result"
    }
   ],
   "source": [
    "from fancyimpute import KNN\n",
    "critic_count_knn = KNN(k=6).fit_transform(df[['Critic_Count']])\n",
    "\n",
    "# beautify back to a df\n",
    "df_critic_count_knn = pd.DataFrame(critic_count_knn)\n",
    "df_critic_count_knn.columns = ['Critic_Score_KNN']\n",
    "df_critic_count_knn.head()"
   ]
  },
  {
   "cell_type": "code",
   "execution_count": 55,
   "metadata": {},
   "outputs": [
    {
     "data": {
      "text/html": [
       "<div>\n",
       "<style scoped>\n",
       "    .dataframe tbody tr th:only-of-type {\n",
       "        vertical-align: middle;\n",
       "    }\n",
       "\n",
       "    .dataframe tbody tr th {\n",
       "        vertical-align: top;\n",
       "    }\n",
       "\n",
       "    .dataframe thead th {\n",
       "        text-align: right;\n",
       "    }\n",
       "</style>\n",
       "<table border=\"1\" class=\"dataframe\">\n",
       "  <thead>\n",
       "    <tr style=\"text-align: right;\">\n",
       "      <th></th>\n",
       "      <th>NA_Sales</th>\n",
       "      <th>Platform</th>\n",
       "      <th>Genre</th>\n",
       "      <th>JP_Sales</th>\n",
       "      <th>Critic_Score</th>\n",
       "      <th>Critic_Count</th>\n",
       "      <th>User_Score</th>\n",
       "      <th>User_Count</th>\n",
       "      <th>Rating</th>\n",
       "      <th>Periods_of_Release</th>\n",
       "    </tr>\n",
       "  </thead>\n",
       "  <tbody>\n",
       "    <tr>\n",
       "      <th>0</th>\n",
       "      <td>0.00</td>\n",
       "      <td>PSP</td>\n",
       "      <td>Misc</td>\n",
       "      <td>0.06</td>\n",
       "      <td>81.0</td>\n",
       "      <td>49.0</td>\n",
       "      <td>8.3</td>\n",
       "      <td>62.0</td>\n",
       "      <td>E</td>\n",
       "      <td>2005-2010</td>\n",
       "    </tr>\n",
       "    <tr>\n",
       "      <th>1</th>\n",
       "      <td>0.72</td>\n",
       "      <td>2600</td>\n",
       "      <td>Shooter</td>\n",
       "      <td>0.00</td>\n",
       "      <td>NaN</td>\n",
       "      <td>NaN</td>\n",
       "      <td>NaN</td>\n",
       "      <td>NaN</td>\n",
       "      <td>None</td>\n",
       "      <td>Before 1995</td>\n",
       "    </tr>\n",
       "    <tr>\n",
       "      <th>2</th>\n",
       "      <td>0.11</td>\n",
       "      <td>XB</td>\n",
       "      <td>Action</td>\n",
       "      <td>0.00</td>\n",
       "      <td>NaN</td>\n",
       "      <td>NaN</td>\n",
       "      <td>NaN</td>\n",
       "      <td>NaN</td>\n",
       "      <td>None</td>\n",
       "      <td>2000-2005</td>\n",
       "    </tr>\n",
       "    <tr>\n",
       "      <th>3</th>\n",
       "      <td>0.15</td>\n",
       "      <td>X360</td>\n",
       "      <td>Fighting</td>\n",
       "      <td>0.00</td>\n",
       "      <td>54.0</td>\n",
       "      <td>57.0</td>\n",
       "      <td>6.3</td>\n",
       "      <td>19.0</td>\n",
       "      <td>T</td>\n",
       "      <td>2005-2010</td>\n",
       "    </tr>\n",
       "    <tr>\n",
       "      <th>4</th>\n",
       "      <td>0.00</td>\n",
       "      <td>DS</td>\n",
       "      <td>Action</td>\n",
       "      <td>0.01</td>\n",
       "      <td>NaN</td>\n",
       "      <td>NaN</td>\n",
       "      <td>NaN</td>\n",
       "      <td>NaN</td>\n",
       "      <td>None</td>\n",
       "      <td>2005-2010</td>\n",
       "    </tr>\n",
       "  </tbody>\n",
       "</table>\n",
       "</div>"
      ],
      "text/plain": [
       "   NA_Sales Platform     Genre  JP_Sales  Critic_Score  Critic_Count  \\\n",
       "0      0.00      PSP      Misc      0.06          81.0          49.0   \n",
       "1      0.72     2600   Shooter      0.00           NaN           NaN   \n",
       "2      0.11       XB    Action      0.00           NaN           NaN   \n",
       "3      0.15     X360  Fighting      0.00          54.0          57.0   \n",
       "4      0.00       DS    Action      0.01           NaN           NaN   \n",
       "\n",
       "   User_Score  User_Count Rating Periods_of_Release  \n",
       "0         8.3        62.0      E          2005-2010  \n",
       "1         NaN         NaN   None        Before 1995  \n",
       "2         NaN         NaN   None          2000-2005  \n",
       "3         6.3        19.0      T          2005-2010  \n",
       "4         NaN         NaN   None          2005-2010  "
      ]
     },
     "execution_count": 55,
     "metadata": {},
     "output_type": "execute_result"
    }
   ],
   "source": [
    "df.head()"
   ]
  },
  {
   "cell_type": "code",
   "execution_count": 59,
   "metadata": {},
   "outputs": [
    {
     "data": {
      "text/html": [
       "<div>\n",
       "<style scoped>\n",
       "    .dataframe tbody tr th:only-of-type {\n",
       "        vertical-align: middle;\n",
       "    }\n",
       "\n",
       "    .dataframe tbody tr th {\n",
       "        vertical-align: top;\n",
       "    }\n",
       "\n",
       "    .dataframe thead th {\n",
       "        text-align: right;\n",
       "    }\n",
       "</style>\n",
       "<table border=\"1\" class=\"dataframe\">\n",
       "  <thead>\n",
       "    <tr style=\"text-align: right;\">\n",
       "      <th></th>\n",
       "      <th>Critic_Score_KNN</th>\n",
       "    </tr>\n",
       "  </thead>\n",
       "  <tbody>\n",
       "    <tr>\n",
       "      <th>0</th>\n",
       "      <td>81.0</td>\n",
       "    </tr>\n",
       "    <tr>\n",
       "      <th>1</th>\n",
       "      <td>0.0</td>\n",
       "    </tr>\n",
       "    <tr>\n",
       "      <th>2</th>\n",
       "      <td>0.0</td>\n",
       "    </tr>\n",
       "    <tr>\n",
       "      <th>3</th>\n",
       "      <td>54.0</td>\n",
       "    </tr>\n",
       "    <tr>\n",
       "      <th>4</th>\n",
       "      <td>0.0</td>\n",
       "    </tr>\n",
       "  </tbody>\n",
       "</table>\n",
       "</div>"
      ],
      "text/plain": [
       "   Critic_Score_KNN\n",
       "0              81.0\n",
       "1               0.0\n",
       "2               0.0\n",
       "3              54.0\n",
       "4               0.0"
      ]
     },
     "execution_count": 59,
     "metadata": {},
     "output_type": "execute_result"
    }
   ],
   "source": [
    "df_critic_score_knn.head()"
   ]
  },
  {
   "cell_type": "code",
   "execution_count": 58,
   "metadata": {},
   "outputs": [
    {
     "data": {
      "text/html": [
       "<div>\n",
       "<style scoped>\n",
       "    .dataframe tbody tr th:only-of-type {\n",
       "        vertical-align: middle;\n",
       "    }\n",
       "\n",
       "    .dataframe tbody tr th {\n",
       "        vertical-align: top;\n",
       "    }\n",
       "\n",
       "    .dataframe thead th {\n",
       "        text-align: right;\n",
       "    }\n",
       "</style>\n",
       "<table border=\"1\" class=\"dataframe\">\n",
       "  <thead>\n",
       "    <tr style=\"text-align: right;\">\n",
       "      <th></th>\n",
       "      <th>Critic_Count</th>\n",
       "      <th>Critic_Score</th>\n",
       "      <th>Critic_Score_KNN</th>\n",
       "      <th>Genre</th>\n",
       "      <th>JP_Sales</th>\n",
       "      <th>NA_Sales</th>\n",
       "      <th>Periods_of_Release</th>\n",
       "      <th>Platform</th>\n",
       "      <th>Rating</th>\n",
       "      <th>User_Count</th>\n",
       "      <th>User_Count_KNN</th>\n",
       "      <th>User_Score</th>\n",
       "      <th>User_Score_KNN</th>\n",
       "    </tr>\n",
       "  </thead>\n",
       "  <tbody>\n",
       "    <tr>\n",
       "      <th>0</th>\n",
       "      <td>49.0</td>\n",
       "      <td>81.0</td>\n",
       "      <td>NaN</td>\n",
       "      <td>Misc</td>\n",
       "      <td>0.06</td>\n",
       "      <td>0.00</td>\n",
       "      <td>2005-2010</td>\n",
       "      <td>PSP</td>\n",
       "      <td>E</td>\n",
       "      <td>62.0</td>\n",
       "      <td>NaN</td>\n",
       "      <td>8.3</td>\n",
       "      <td>NaN</td>\n",
       "    </tr>\n",
       "    <tr>\n",
       "      <th>1</th>\n",
       "      <td>NaN</td>\n",
       "      <td>NaN</td>\n",
       "      <td>NaN</td>\n",
       "      <td>Shooter</td>\n",
       "      <td>0.00</td>\n",
       "      <td>0.72</td>\n",
       "      <td>Before 1995</td>\n",
       "      <td>2600</td>\n",
       "      <td>None</td>\n",
       "      <td>NaN</td>\n",
       "      <td>NaN</td>\n",
       "      <td>NaN</td>\n",
       "      <td>NaN</td>\n",
       "    </tr>\n",
       "    <tr>\n",
       "      <th>2</th>\n",
       "      <td>NaN</td>\n",
       "      <td>NaN</td>\n",
       "      <td>NaN</td>\n",
       "      <td>Action</td>\n",
       "      <td>0.00</td>\n",
       "      <td>0.11</td>\n",
       "      <td>2000-2005</td>\n",
       "      <td>XB</td>\n",
       "      <td>None</td>\n",
       "      <td>NaN</td>\n",
       "      <td>NaN</td>\n",
       "      <td>NaN</td>\n",
       "      <td>NaN</td>\n",
       "    </tr>\n",
       "    <tr>\n",
       "      <th>3</th>\n",
       "      <td>57.0</td>\n",
       "      <td>54.0</td>\n",
       "      <td>NaN</td>\n",
       "      <td>Fighting</td>\n",
       "      <td>0.00</td>\n",
       "      <td>0.15</td>\n",
       "      <td>2005-2010</td>\n",
       "      <td>X360</td>\n",
       "      <td>T</td>\n",
       "      <td>19.0</td>\n",
       "      <td>NaN</td>\n",
       "      <td>6.3</td>\n",
       "      <td>NaN</td>\n",
       "    </tr>\n",
       "    <tr>\n",
       "      <th>4</th>\n",
       "      <td>NaN</td>\n",
       "      <td>NaN</td>\n",
       "      <td>NaN</td>\n",
       "      <td>Action</td>\n",
       "      <td>0.01</td>\n",
       "      <td>0.00</td>\n",
       "      <td>2005-2010</td>\n",
       "      <td>DS</td>\n",
       "      <td>None</td>\n",
       "      <td>NaN</td>\n",
       "      <td>NaN</td>\n",
       "      <td>NaN</td>\n",
       "      <td>NaN</td>\n",
       "    </tr>\n",
       "  </tbody>\n",
       "</table>\n",
       "</div>"
      ],
      "text/plain": [
       "   Critic_Count  Critic_Score  Critic_Score_KNN     Genre  JP_Sales  NA_Sales  \\\n",
       "0          49.0          81.0               NaN      Misc      0.06      0.00   \n",
       "1           NaN           NaN               NaN   Shooter      0.00      0.72   \n",
       "2           NaN           NaN               NaN    Action      0.00      0.11   \n",
       "3          57.0          54.0               NaN  Fighting      0.00      0.15   \n",
       "4           NaN           NaN               NaN    Action      0.01      0.00   \n",
       "\n",
       "  Periods_of_Release Platform Rating  User_Count  User_Count_KNN  User_Score  \\\n",
       "0          2005-2010      PSP      E        62.0             NaN         8.3   \n",
       "1        Before 1995     2600   None         NaN             NaN         NaN   \n",
       "2          2000-2005       XB   None         NaN             NaN         NaN   \n",
       "3          2005-2010     X360      T        19.0             NaN         6.3   \n",
       "4          2005-2010       DS   None         NaN             NaN         NaN   \n",
       "\n",
       "   User_Score_KNN  \n",
       "0             NaN  \n",
       "1             NaN  \n",
       "2             NaN  \n",
       "3             NaN  \n",
       "4             NaN  "
      ]
     },
     "execution_count": 58,
     "metadata": {},
     "output_type": "execute_result"
    }
   ],
   "source": [
    "df_final = pd.concat([df, df_critic_count_knn, df_critic_score_knn, df_user_count_knn, df_user_score_knn])\n",
    "df_final.head()"
   ]
  },
  {
   "cell_type": "code",
   "execution_count": null,
   "metadata": {},
   "outputs": [],
   "source": [
    "# merge full 2017/2018 dataframe + add specific columns from df_2\n",
    "df = pd.merge(count_2017_18_monthly, df_2[['id', 'price', 'cleaning_fee', 'neighbourhood_group_cleansed', \n",
    "                          'latitude', 'longitude', 'property_type', 'accommodates', \n",
    "                          'bathrooms', 'bedrooms', 'bed_type', 'host_is_superhost']], \n",
    "              left_on='listing_id', right_on='id')\n",
    "\n",
    "# drop 'id' from right dataframe as it's the same as 'listing_id' on the left dataframe\n",
    "df.drop(['id'], axis=1, inplace=True)\n",
    "\n",
    "# shorten the name of one column\n",
    "df.rename({'neighbourhood_group_cleansed':'neighbourhood'}, axis=1, inplace=True)"
   ]
  },
  {
   "cell_type": "markdown",
   "metadata": {},
   "source": [
    "**2.5. Handling `Genre` column**"
   ]
  },
  {
   "cell_type": "code",
   "execution_count": 316,
   "metadata": {},
   "outputs": [
    {
     "name": "stdout",
     "output_type": "stream",
     "text": [
      "<class 'pandas.core.frame.DataFrame'>\n",
      "Int64Index: 11691 entries, 0 to 11702\n",
      "Data columns (total 8 columns):\n",
      "Critic_Score          11691 non-null float64\n",
      "JP_Sales              11691 non-null float64\n",
      "User_Score            11691 non-null float64\n",
      "NA_Sales              11691 non-null float64\n",
      "Platform              11691 non-null object\n",
      "Genre                 11691 non-null object\n",
      "Rating                11691 non-null object\n",
      "Periods_of_Release    11691 non-null object\n",
      "dtypes: float64(4), object(4)\n",
      "memory usage: 822.0+ KB\n"
     ]
    }
   ],
   "source": [
    "df = df.dropna(subset=['Genre'], axis=0)\n",
    "df.info()"
   ]
  },
  {
   "cell_type": "markdown",
   "metadata": {},
   "source": [
    "**2.6. Handling `Platform` column**"
   ]
  },
  {
   "cell_type": "code",
   "execution_count": 317,
   "metadata": {},
   "outputs": [
    {
     "data": {
      "text/plain": [
       "PS2     1519\n",
       "DS      1519\n",
       "PS3      966\n",
       "Wii      898\n",
       "X360     890\n",
       "PSP      876\n",
       "PS       820\n",
       "PC       663\n",
       "XB       559\n",
       "GBA      550\n",
       "GC       386\n",
       "3DS      374\n",
       "PSV      310\n",
       "PS4      285\n",
       "N64      219\n",
       "XOne     168\n",
       "SNES     165\n",
       "SAT      121\n",
       "WiiU     103\n",
       "2600      89\n",
       "NES       68\n",
       "GB        62\n",
       "DC        39\n",
       "GEN       19\n",
       "WS         6\n",
       "NG         6\n",
       "SCD        5\n",
       "3DO        3\n",
       "TG16       1\n",
       "PCFX       1\n",
       "GG         1\n",
       "Name: Platform, dtype: int64"
      ]
     },
     "execution_count": 317,
     "metadata": {},
     "output_type": "execute_result"
    }
   ],
   "source": [
    "df.Platform.value_counts()"
   ]
  },
  {
   "cell_type": "code",
   "execution_count": 318,
   "metadata": {},
   "outputs": [
    {
     "name": "stdout",
     "output_type": "stream",
     "text": [
      "<class 'pandas.core.frame.DataFrame'>\n",
      "Int64Index: 11391 entries, 0 to 11702\n",
      "Data columns (total 8 columns):\n",
      "Critic_Score          11391 non-null float64\n",
      "JP_Sales              11391 non-null float64\n",
      "User_Score            11391 non-null float64\n",
      "NA_Sales              11391 non-null float64\n",
      "Platform              11391 non-null object\n",
      "Genre                 11391 non-null object\n",
      "Rating                11391 non-null object\n",
      "Periods_of_Release    11391 non-null object\n",
      "dtypes: float64(4), object(4)\n",
      "memory usage: 800.9+ KB\n"
     ]
    }
   ],
   "source": [
    "#df.drop(df[(df.Platform.value_counts() < 100)].index, axis=0, inplace=True)\n",
    "df = df.groupby('Platform').filter(lambda x: len(x) > 100)\n",
    "df.info()"
   ]
  },
  {
   "cell_type": "code",
   "execution_count": 319,
   "metadata": {},
   "outputs": [
    {
     "data": {
      "text/plain": [
       "PS2     1519\n",
       "DS      1519\n",
       "PS3      966\n",
       "Wii      898\n",
       "X360     890\n",
       "PSP      876\n",
       "PS       820\n",
       "PC       663\n",
       "XB       559\n",
       "GBA      550\n",
       "GC       386\n",
       "3DS      374\n",
       "PSV      310\n",
       "PS4      285\n",
       "N64      219\n",
       "XOne     168\n",
       "SNES     165\n",
       "SAT      121\n",
       "WiiU     103\n",
       "Name: Platform, dtype: int64"
      ]
     },
     "execution_count": 319,
     "metadata": {},
     "output_type": "execute_result"
    }
   ],
   "source": [
    "df.Platform.value_counts()"
   ]
  },
  {
   "cell_type": "markdown",
   "metadata": {},
   "source": [
    "## 3. Machine Learning"
   ]
  },
  {
   "cell_type": "markdown",
   "metadata": {},
   "source": [
    "*Preparing Target & Features*"
   ]
  },
  {
   "cell_type": "code",
   "execution_count": 320,
   "metadata": {},
   "outputs": [],
   "source": [
    "# define our features \n",
    "features = df.drop([\"NA_Sales\"], axis=1)\n",
    "\n",
    "# define our target\n",
    "target = df[[\"NA_Sales\"]]"
   ]
  },
  {
   "cell_type": "markdown",
   "metadata": {},
   "source": [
    "*Recoding Categorical Features*"
   ]
  },
  {
   "cell_type": "code",
   "execution_count": 321,
   "metadata": {},
   "outputs": [
    {
     "name": "stdout",
     "output_type": "stream",
     "text": [
      "<class 'pandas.core.frame.DataFrame'>\n",
      "Int64Index: 11391 entries, 0 to 11702\n",
      "Data columns (total 8 columns):\n",
      "Critic_Score          11391 non-null float64\n",
      "JP_Sales              11391 non-null float64\n",
      "User_Score            11391 non-null float64\n",
      "NA_Sales              11391 non-null float64\n",
      "Platform              11391 non-null object\n",
      "Genre                 11391 non-null object\n",
      "Rating                11391 non-null object\n",
      "Periods_of_Release    11391 non-null object\n",
      "dtypes: float64(4), object(4)\n",
      "memory usage: 800.9+ KB\n"
     ]
    }
   ],
   "source": [
    "df.info()"
   ]
  },
  {
   "cell_type": "code",
   "execution_count": 322,
   "metadata": {},
   "outputs": [
    {
     "name": "stdout",
     "output_type": "stream",
     "text": [
      "<class 'pandas.core.frame.DataFrame'>\n",
      "Int64Index: 11391 entries, 0 to 11702\n",
      "Data columns (total 8 columns):\n",
      "Critic_Score          11391 non-null float64\n",
      "JP_Sales              11391 non-null float64\n",
      "User_Score            11391 non-null float64\n",
      "NA_Sales              11391 non-null float64\n",
      "Platform              11391 non-null category\n",
      "Genre                 11391 non-null category\n",
      "Rating                11391 non-null category\n",
      "Periods_of_Release    11391 non-null category\n",
      "dtypes: category(4), float64(4)\n",
      "memory usage: 491.2 KB\n"
     ]
    }
   ],
   "source": [
    "# convert string values in object columns into categorical values\n",
    "df['Platform'] = df['Platform'].astype('category')\n",
    "df['Genre'] = df['Genre'].astype('category')\n",
    "df['Rating'] = df['Rating'].astype('category')\n",
    "df['Periods_of_Release'] = df['Periods_of_Release'].astype('category')\n",
    "#df['Platform_Groups'] = df['Platform_Groups'].astype('category')\n",
    "\n",
    "df.info()"
   ]
  },
  {
   "cell_type": "code",
   "execution_count": 323,
   "metadata": {},
   "outputs": [],
   "source": [
    "# create dummy variables of all categorical features\n",
    "features = pd.get_dummies(features)"
   ]
  },
  {
   "cell_type": "markdown",
   "metadata": {},
   "source": [
    "*Train-Test-Split*"
   ]
  },
  {
   "cell_type": "code",
   "execution_count": 324,
   "metadata": {},
   "outputs": [],
   "source": [
    "# import train_test_split function\n",
    "from sklearn.model_selection import train_test_split\n",
    "\n",
    "# split our data\n",
    "X_train, X_test, y_train, y_test = train_test_split(features, target, test_size=0.2)"
   ]
  },
  {
   "cell_type": "markdown",
   "metadata": {},
   "source": [
    "*Scaling the Data*"
   ]
  },
  {
   "cell_type": "code",
   "execution_count": 325,
   "metadata": {},
   "outputs": [
    {
     "name": "stderr",
     "output_type": "stream",
     "text": [
      "/anaconda3/lib/python3.6/site-packages/sklearn/preprocessing/data.py:323: DataConversionWarning: Data with input dtype uint8, float64 were all converted to float64 by MinMaxScaler.\n",
      "  return self.partial_fit(X, y)\n"
     ]
    }
   ],
   "source": [
    "# scale data\n",
    "#from sklearn.preprocessing import StandardScaler\n",
    "#sc = StandardScaler()\n",
    "#X_train = sc.fit_transform(X_train)\n",
    "#X_test  = sc.transform(X_test)\n",
    "\n",
    "from sklearn.preprocessing import MinMaxScaler\n",
    "scaler = MinMaxScaler()\n",
    "scaler.fit(X_train)\n",
    "X_train = scaler.transform(X_train) \n",
    "X_test = scaler.transform(X_test)"
   ]
  },
  {
   "cell_type": "markdown",
   "metadata": {},
   "source": [
    "*XGBoost*"
   ]
  },
  {
   "cell_type": "code",
   "execution_count": 326,
   "metadata": {},
   "outputs": [],
   "source": [
    "# create a baseline\n",
    "booster = xgb.XGBRegressor()"
   ]
  },
  {
   "cell_type": "code",
   "execution_count": 262,
   "metadata": {},
   "outputs": [
    {
     "name": "stdout",
     "output_type": "stream",
     "text": [
      "{'colsample_bytree': 0.6, 'gamma': 0.2, 'learning_rate': 0.05, 'max_depth': 7, 'n_estimators': 100}\n"
     ]
    }
   ],
   "source": [
    "from sklearn.model_selection import GridSearchCV\n",
    "\n",
    "# create Grid\n",
    "param_grid = {'n_estimators': [100, 150, 200],\n",
    "              'learning_rate': [0.01, 0.05, 0.1], \n",
    "              'max_depth': [3, 4, 5, 6, 7],\n",
    "              'colsample_bytree': [0.6, 0.7, 1],\n",
    "              'gamma': [0.0, 0.1, 0.2]}\n",
    "\n",
    "# instantiate the tuned random forest\n",
    "booster_grid_search = GridSearchCV(booster, param_grid, cv=3, n_jobs=-1)\n",
    "\n",
    "# train the tuned random forest\n",
    "booster_grid_search.fit(X_train, y_train)\n",
    "\n",
    "# print best estimator parameters found during the grid search\n",
    "print(booster_grid_search.best_params_)"
   ]
  },
  {
   "cell_type": "code",
   "execution_count": 327,
   "metadata": {},
   "outputs": [],
   "source": [
    "# instantiate xgboost with best parameters\n",
    "booster = xgb.XGBRegressor(colsample_bytree=0.6, gamma=0.2, learning_rate=0.05, \n",
    "                           max_depth=7, n_estimators=100, random_state=4)\n",
    "\n",
    "# train\n",
    "booster.fit(X_train, y_train)\n",
    "\n",
    "# predict\n",
    "y_pred_train = booster.predict(X_train)\n",
    "y_pred_test  = booster.predict(X_test)"
   ]
  },
  {
   "cell_type": "code",
   "execution_count": 328,
   "metadata": {},
   "outputs": [
    {
     "name": "stdout",
     "output_type": "stream",
     "text": [
      "RMSE: 0.8258\n",
      "r2: 0.4873\n"
     ]
    }
   ],
   "source": [
    "# import metrics\n",
    "from sklearn.metrics import mean_squared_error, r2_score\n",
    "\n",
    "RMSE = np.sqrt(mean_squared_error(y_test, y_pred_test))\n",
    "print(f\"RMSE: {round(RMSE, 4)}\")\n",
    "\n",
    "r2 = r2_score(y_test, y_pred_test)\n",
    "print(f\"r2: {round(r2, 4)}\")"
   ]
  },
  {
   "cell_type": "code",
   "execution_count": 197,
   "metadata": {},
   "outputs": [
    {
     "data": {
      "image/png": "[encoded data removed]",
      "text/plain": [
       "<Figure size 720x360 with 1 Axes>"
      ]
     },
     "metadata": {},
     "output_type": "display_data"
    }
   ],
   "source": [
    "# plot the important features\n",
    "feat_importances = pd.Series(booster.feature_importances_, index=features.columns)\n",
    "feat_importances.nlargest(15).sort_values().plot(kind='barh', color='darkgrey', figsize=(10,5))\n",
    "plt.xlabel('Relative Feature Importance with XGBoost');"
   ]
  },
  {
   "cell_type": "code",
   "execution_count": null,
   "metadata": {},
   "outputs": [],
   "source": []
  }
 ],
 "metadata": {
  "kernelspec": {
   "display_name": "Python 3",
   "language": "python",
   "name": "python3"
  },
  "language_info": {
   "codemirror_mode": {
    "name": "ipython",
    "version": 3
   },
   "file_extension": ".py",
   "mimetype": "text/x-python",
   "name": "python",
   "nbconvert_exporter": "python",
   "pygments_lexer": "ipython3",
   "version": "3.6.8"
  }
 },
 "nbformat": 4,
 "nbformat_minor": 2
}
