{
 "cells": [
  {
   "cell_type": "markdown",
   "metadata": {},
   "source": [
    "# Flatiron School: Use your regression skills to save the Galaxy\n",
    "\n",
    "### InClass prediction Competition"
   ]
  },
  {
   "cell_type": "markdown",
   "metadata": {},
   "source": [
    "### Table of Contents\n",
    "<a id='Table of contents'></a>\n",
    "\n",
    "### <a href='#1. Obtaining and Viewing the Data'> 1. Obtaining and Viewing the Data </a>\n",
    "* <a href='#1.1. Test Data'> 1.1. Test Data </a>\n",
    "* <a href='#1.2. Train Data'> 1.2. Train Data </a>\n",
    "\n",
    "### <a href='#2. Preprocessing the Data'> 2. Preprocessing the Data </a>\n",
    "* <a href='#2.1. Handling Genre column'> 2.1. Handling Genre column </a>\n",
    "* <a href='#2.2. Handling Rating column'> 2.2. Handling Rating column</a>\n",
    "* <a href='#2.3. Handling Year_of_Release column'> 2.3. Handling Year_of_Release column </a>\n",
    "* <a href='#2.4. Handling User and Critic related columns'> 2.4. Handling User and Critic related columns </a>\n",
    "* <a href='#2.5. Handling Platform column'> 2.5. Handling Platform column </a>\n",
    "\n",
    "### <a href='#3. Modeling the Train Data'> 3. Modeling the Train Data </a>\n",
    "\n",
    "### <a href='#4. Predicting on Test Set'> 4. Predicting on Test Set </a>"
   ]
  },
  {
   "cell_type": "markdown",
   "metadata": {},
   "source": [
    "### 1. Obtaining and Viewing the Data \n",
    "<a id='1. Obtaining and Viewing the Data'></a>"
   ]
  },
  {
   "cell_type": "code",
   "execution_count": 93,
   "metadata": {},
   "outputs": [],
   "source": [
    "# import libraries \n",
    "import pandas as pd\n",
    "import numpy as np\n",
    "import xgboost as xgb\n",
    "\n",
    "import matplotlib.pyplot as plt\n",
    "import seaborn as sns\n",
    "sns.set(style=\"darkgrid\")\n",
    "\n",
    "import warnings\n",
    "warnings.filterwarnings(\"ignore\")"
   ]
  },
  {
   "cell_type": "markdown",
   "metadata": {},
   "source": [
    "**1.1. Test Data**\n",
    "<a id='1.1. Test Data'></a>"
   ]
  },
  {
   "cell_type": "code",
   "execution_count": 94,
   "metadata": {},
   "outputs": [
    {
     "name": "stdout",
     "output_type": "stream",
     "text": [
      "<class 'pandas.core.frame.DataFrame'>\n",
      "RangeIndex: 5016 entries, 0 to 5015\n",
      "Data columns (total 12 columns):\n",
      "Id                 5016 non-null int64\n",
      "Platform           5016 non-null object\n",
      "Year_of_Release    4930 non-null float64\n",
      "Genre              5016 non-null object\n",
      "Publisher          5001 non-null object\n",
      "JP_Sales           5016 non-null float64\n",
      "Critic_Score       2440 non-null float64\n",
      "Critic_Count       2440 non-null float64\n",
      "User_Score         3004 non-null object\n",
      "User_Count         2258 non-null float64\n",
      "Developer          3030 non-null object\n",
      "Rating             2972 non-null object\n",
      "dtypes: float64(5), int64(1), object(6)\n",
      "memory usage: 470.3+ KB\n"
     ]
    }
   ],
   "source": [
    "df_test = pd.read_csv('test.csv')\n",
    "df_test.info()"
   ]
  },
  {
   "cell_type": "code",
   "execution_count": 95,
   "metadata": {},
   "outputs": [
    {
     "data": {
      "text/html": [
       "<div>\n",
       "<style scoped>\n",
       "    .dataframe tbody tr th:only-of-type {\n",
       "        vertical-align: middle;\n",
       "    }\n",
       "\n",
       "    .dataframe tbody tr th {\n",
       "        vertical-align: top;\n",
       "    }\n",
       "\n",
       "    .dataframe thead th {\n",
       "        text-align: right;\n",
       "    }\n",
       "</style>\n",
       "<table border=\"1\" class=\"dataframe\">\n",
       "  <thead>\n",
       "    <tr style=\"text-align: right;\">\n",
       "      <th></th>\n",
       "      <th>Id</th>\n",
       "      <th>Platform</th>\n",
       "      <th>Year_of_Release</th>\n",
       "      <th>Genre</th>\n",
       "      <th>Publisher</th>\n",
       "      <th>JP_Sales</th>\n",
       "      <th>Critic_Score</th>\n",
       "      <th>Critic_Count</th>\n",
       "      <th>User_Score</th>\n",
       "      <th>User_Count</th>\n",
       "      <th>Developer</th>\n",
       "      <th>Rating</th>\n",
       "    </tr>\n",
       "  </thead>\n",
       "  <tbody>\n",
       "    <tr>\n",
       "      <th>0</th>\n",
       "      <td>11703</td>\n",
       "      <td>GB</td>\n",
       "      <td>1996.0</td>\n",
       "      <td>Role-Playing</td>\n",
       "      <td>Nintendo</td>\n",
       "      <td>10.22</td>\n",
       "      <td>NaN</td>\n",
       "      <td>NaN</td>\n",
       "      <td>NaN</td>\n",
       "      <td>NaN</td>\n",
       "      <td>NaN</td>\n",
       "      <td>NaN</td>\n",
       "    </tr>\n",
       "    <tr>\n",
       "      <th>1</th>\n",
       "      <td>11704</td>\n",
       "      <td>Wii</td>\n",
       "      <td>2006.0</td>\n",
       "      <td>Misc</td>\n",
       "      <td>Nintendo</td>\n",
       "      <td>2.93</td>\n",
       "      <td>58.0</td>\n",
       "      <td>41.0</td>\n",
       "      <td>6.6</td>\n",
       "      <td>129.0</td>\n",
       "      <td>Nintendo</td>\n",
       "      <td>E</td>\n",
       "    </tr>\n",
       "  </tbody>\n",
       "</table>\n",
       "</div>"
      ],
      "text/plain": [
       "      Id Platform  Year_of_Release         Genre Publisher  JP_Sales  \\\n",
       "0  11703       GB           1996.0  Role-Playing  Nintendo     10.22   \n",
       "1  11704      Wii           2006.0          Misc  Nintendo      2.93   \n",
       "\n",
       "   Critic_Score  Critic_Count User_Score  User_Count Developer Rating  \n",
       "0           NaN           NaN        NaN         NaN       NaN    NaN  \n",
       "1          58.0          41.0        6.6       129.0  Nintendo      E  "
      ]
     },
     "execution_count": 95,
     "metadata": {},
     "output_type": "execute_result"
    }
   ],
   "source": [
    "df_test.head(2)"
   ]
  },
  {
   "cell_type": "code",
   "execution_count": 96,
   "metadata": {},
   "outputs": [
    {
     "data": {
      "text/plain": [
       "Id                 0.000000\n",
       "Platform           0.000000\n",
       "Year_of_Release    0.017145\n",
       "Genre              0.000000\n",
       "Publisher          0.002990\n",
       "JP_Sales           0.000000\n",
       "Critic_Score       0.513557\n",
       "Critic_Count       0.513557\n",
       "User_Score         0.401116\n",
       "User_Count         0.549841\n",
       "Developer          0.395933\n",
       "Rating             0.407496\n",
       "dtype: float64"
      ]
     },
     "execution_count": 96,
     "metadata": {},
     "output_type": "execute_result"
    }
   ],
   "source": [
    "df_test.isna().sum()/len(df_test)"
   ]
  },
  {
   "cell_type": "code",
   "execution_count": 97,
   "metadata": {},
   "outputs": [
    {
     "data": {
      "text/plain": [
       "array([nan, '6.6', '8.2', '7.9', '8.7', '3.4', '6.4', '7.5', '7.4', '7.6',\n",
       "       '8.3', 'tbd', '4.3', '9', '8.8', '7.1', '8.1', '5.7', '8.9', '6.1',\n",
       "       '7.2', '8', '5.4', '8.6', '9.2', '8.5', '9.1', '4.8', '4.5', '4.2',\n",
       "       '7.3', '8.4', '6', '6.3', '6.7', '3.7', '5.6', '5.5', '4.4', '4.6',\n",
       "       '7.7', '6.5', '7.8', '6.8', '7', '6.2', '6.9', '5', '4.1', '5.1',\n",
       "       '2.5', '3.1', '5.8', '2.2', '5.9', '9.3', '3.5', '9.4', '9.5',\n",
       "       '2.6', '3.3', '5.3', '2.8', '3.8', '4.9', '3.6', '3', '4', '4.7',\n",
       "       '5.2', '3.2', '2.7', '1.1', '1.7', '3.9', '2', '2.9', '1.5', '1.2',\n",
       "       '9.6', '1.8', '2.1', '2.4', '0.9', '1.3', '0.3', '0.2', '0.6',\n",
       "       '1.4'], dtype=object)"
      ]
     },
     "execution_count": 97,
     "metadata": {},
     "output_type": "execute_result"
    }
   ],
   "source": [
    "# why is user score stored as string?\n",
    "df_test.User_Score.unique()"
   ]
  },
  {
   "cell_type": "code",
   "execution_count": 98,
   "metadata": {},
   "outputs": [
    {
     "name": "stdout",
     "output_type": "stream",
     "text": [
      "<class 'pandas.core.frame.DataFrame'>\n",
      "RangeIndex: 5016 entries, 0 to 5015\n",
      "Data columns (total 12 columns):\n",
      "Id                 5016 non-null int64\n",
      "Platform           5016 non-null object\n",
      "Year_of_Release    4930 non-null float64\n",
      "Genre              5016 non-null object\n",
      "Publisher          5001 non-null object\n",
      "JP_Sales           5016 non-null float64\n",
      "Critic_Score       2440 non-null float64\n",
      "Critic_Count       2440 non-null float64\n",
      "User_Score         2258 non-null float64\n",
      "User_Count         2258 non-null float64\n",
      "Developer          3030 non-null object\n",
      "Rating             2972 non-null object\n",
      "dtypes: float64(6), int64(1), object(5)\n",
      "memory usage: 470.3+ KB\n"
     ]
    }
   ],
   "source": [
    "# replace 'tbd'\n",
    "df_test['User_Score'].replace(to_replace='tbd', value=np.nan, inplace=True)\n",
    "# convert string values into numeric values\n",
    "df_test['User_Score'] = pd.to_numeric(df_test['User_Score'])\n",
    "\n",
    "df_test.info()"
   ]
  },
  {
   "cell_type": "code",
   "execution_count": 99,
   "metadata": {},
   "outputs": [
    {
     "data": {
      "text/plain": [
       "0"
      ]
     },
     "execution_count": 99,
     "metadata": {},
     "output_type": "execute_result"
    }
   ],
   "source": [
    "df_test.duplicated().sum()"
   ]
  },
  {
   "cell_type": "markdown",
   "metadata": {},
   "source": [
    "**1.2. Train Data**\n",
    "<a id='1.2. Train Data'></a>"
   ]
  },
  {
   "cell_type": "code",
   "execution_count": 100,
   "metadata": {},
   "outputs": [
    {
     "name": "stdout",
     "output_type": "stream",
     "text": [
      "<class 'pandas.core.frame.DataFrame'>\n",
      "RangeIndex: 11703 entries, 0 to 11702\n",
      "Data columns (total 13 columns):\n",
      "Id                 11703 non-null int64\n",
      "NA_Sales           11703 non-null float64\n",
      "Platform           11703 non-null object\n",
      "Year_of_Release    11520 non-null float64\n",
      "Genre              11701 non-null object\n",
      "Publisher          11664 non-null object\n",
      "JP_Sales           11703 non-null float64\n",
      "Critic_Score       5697 non-null float64\n",
      "Critic_Count       5697 non-null float64\n",
      "User_Score         7011 non-null object\n",
      "User_Count         5332 non-null float64\n",
      "Developer          7066 non-null object\n",
      "Rating             6978 non-null object\n",
      "dtypes: float64(6), int64(1), object(6)\n",
      "memory usage: 1.2+ MB\n"
     ]
    }
   ],
   "source": [
    "df_train = pd.read_csv('train.csv')\n",
    "df_train.info()"
   ]
  },
  {
   "cell_type": "code",
   "execution_count": 101,
   "metadata": {},
   "outputs": [
    {
     "data": {
      "text/html": [
       "<div>\n",
       "<style scoped>\n",
       "    .dataframe tbody tr th:only-of-type {\n",
       "        vertical-align: middle;\n",
       "    }\n",
       "\n",
       "    .dataframe tbody tr th {\n",
       "        vertical-align: top;\n",
       "    }\n",
       "\n",
       "    .dataframe thead th {\n",
       "        text-align: right;\n",
       "    }\n",
       "</style>\n",
       "<table border=\"1\" class=\"dataframe\">\n",
       "  <thead>\n",
       "    <tr style=\"text-align: right;\">\n",
       "      <th></th>\n",
       "      <th>Id</th>\n",
       "      <th>NA_Sales</th>\n",
       "      <th>Platform</th>\n",
       "      <th>Year_of_Release</th>\n",
       "      <th>Genre</th>\n",
       "      <th>Publisher</th>\n",
       "      <th>JP_Sales</th>\n",
       "      <th>Critic_Score</th>\n",
       "      <th>Critic_Count</th>\n",
       "      <th>User_Score</th>\n",
       "      <th>User_Count</th>\n",
       "      <th>Developer</th>\n",
       "      <th>Rating</th>\n",
       "    </tr>\n",
       "  </thead>\n",
       "  <tbody>\n",
       "    <tr>\n",
       "      <th>0</th>\n",
       "      <td>0</td>\n",
       "      <td>0.00</td>\n",
       "      <td>PSP</td>\n",
       "      <td>2008.0</td>\n",
       "      <td>Misc</td>\n",
       "      <td>Sony Computer Entertainment</td>\n",
       "      <td>0.06</td>\n",
       "      <td>81.0</td>\n",
       "      <td>49.0</td>\n",
       "      <td>8.3</td>\n",
       "      <td>62.0</td>\n",
       "      <td>SCE Japan Studio</td>\n",
       "      <td>E</td>\n",
       "    </tr>\n",
       "    <tr>\n",
       "      <th>1</th>\n",
       "      <td>1</td>\n",
       "      <td>0.72</td>\n",
       "      <td>2600</td>\n",
       "      <td>1982.0</td>\n",
       "      <td>Shooter</td>\n",
       "      <td>Atari</td>\n",
       "      <td>0.00</td>\n",
       "      <td>NaN</td>\n",
       "      <td>NaN</td>\n",
       "      <td>NaN</td>\n",
       "      <td>NaN</td>\n",
       "      <td>NaN</td>\n",
       "      <td>NaN</td>\n",
       "    </tr>\n",
       "  </tbody>\n",
       "</table>\n",
       "</div>"
      ],
      "text/plain": [
       "   Id  NA_Sales Platform  Year_of_Release    Genre  \\\n",
       "0   0      0.00      PSP           2008.0     Misc   \n",
       "1   1      0.72     2600           1982.0  Shooter   \n",
       "\n",
       "                     Publisher  JP_Sales  Critic_Score  Critic_Count  \\\n",
       "0  Sony Computer Entertainment      0.06          81.0          49.0   \n",
       "1                        Atari      0.00           NaN           NaN   \n",
       "\n",
       "  User_Score  User_Count         Developer Rating  \n",
       "0        8.3        62.0  SCE Japan Studio      E  \n",
       "1        NaN         NaN               NaN    NaN  "
      ]
     },
     "execution_count": 101,
     "metadata": {},
     "output_type": "execute_result"
    }
   ],
   "source": [
    "df_train.head(2)"
   ]
  },
  {
   "cell_type": "code",
   "execution_count": 102,
   "metadata": {},
   "outputs": [
    {
     "data": {
      "text/plain": [
       "Id                 0.000000\n",
       "NA_Sales           0.000000\n",
       "Platform           0.000000\n",
       "Year_of_Release    0.015637\n",
       "Genre              0.000171\n",
       "Publisher          0.003332\n",
       "JP_Sales           0.000000\n",
       "Critic_Score       0.513202\n",
       "Critic_Count       0.513202\n",
       "User_Score         0.400923\n",
       "User_Count         0.544390\n",
       "Developer          0.396223\n",
       "Rating             0.403743\n",
       "dtype: float64"
      ]
     },
     "execution_count": 102,
     "metadata": {},
     "output_type": "execute_result"
    }
   ],
   "source": [
    "df_train.isna().sum()/len(df_train)"
   ]
  },
  {
   "cell_type": "code",
   "execution_count": 103,
   "metadata": {},
   "outputs": [
    {
     "name": "stdout",
     "output_type": "stream",
     "text": [
      "<class 'pandas.core.frame.DataFrame'>\n",
      "RangeIndex: 11703 entries, 0 to 11702\n",
      "Data columns (total 13 columns):\n",
      "Id                 11703 non-null int64\n",
      "NA_Sales           11703 non-null float64\n",
      "Platform           11703 non-null object\n",
      "Year_of_Release    11520 non-null float64\n",
      "Genre              11701 non-null object\n",
      "Publisher          11664 non-null object\n",
      "JP_Sales           11703 non-null float64\n",
      "Critic_Score       5697 non-null float64\n",
      "Critic_Count       5697 non-null float64\n",
      "User_Score         5332 non-null float64\n",
      "User_Count         5332 non-null float64\n",
      "Developer          7066 non-null object\n",
      "Rating             6978 non-null object\n",
      "dtypes: float64(7), int64(1), object(5)\n",
      "memory usage: 1.2+ MB\n"
     ]
    }
   ],
   "source": [
    "# replace 'tbd'\n",
    "df_train['User_Score'].replace(to_replace='tbd', value=np.nan, inplace=True)\n",
    "\n",
    "# convert string values into numeric values\n",
    "df_train['User_Score'] = pd.to_numeric(df_train['User_Score'])\n",
    "\n",
    "df_train.info()"
   ]
  },
  {
   "cell_type": "code",
   "execution_count": 104,
   "metadata": {},
   "outputs": [
    {
     "data": {
      "text/plain": [
       "0"
      ]
     },
     "execution_count": 104,
     "metadata": {},
     "output_type": "execute_result"
    }
   ],
   "source": [
    "df_train.duplicated().sum()"
   ]
  },
  {
   "cell_type": "code",
   "execution_count": 105,
   "metadata": {},
   "outputs": [
    {
     "data": {
      "image/png": "[encoded data removed]",
      "text/plain": [
       "<Figure size 576x432 with 2 Axes>"
      ]
     },
     "metadata": {},
     "output_type": "display_data"
    }
   ],
   "source": [
    "plt.subplots(figsize=(8, 6))\n",
    "sns.heatmap(df_train.corr(), cmap=\"Oranges\", linewidths=0.1);"
   ]
  },
  {
   "cell_type": "markdown",
   "metadata": {},
   "source": [
    "As the columns `Publisher` and `Developer` contain way too many values and also doesn't seem to add any reasonable value to our prediction, let's drop them."
   ]
  },
  {
   "cell_type": "code",
   "execution_count": 106,
   "metadata": {},
   "outputs": [],
   "source": [
    "df_train = df_train.drop(['Publisher', 'Developer'], axis=1)\n",
    "df_test  = df_test.drop(['Publisher', 'Developer'], axis=1)"
   ]
  },
  {
   "cell_type": "markdown",
   "metadata": {},
   "source": [
    "*Back to: <a href='#Table of contents'> Table of contents</a>*\n",
    "### 2. Preprocessing the Data \n",
    "<a id='2. Preprocessing the Data'></a>"
   ]
  },
  {
   "cell_type": "markdown",
   "metadata": {},
   "source": [
    "**2.1. Handling `Genre` column**\n",
    "<a id='2.1. Handling Genre column'></a>"
   ]
  },
  {
   "cell_type": "markdown",
   "metadata": {},
   "source": [
    "*Train Data*"
   ]
  },
  {
   "cell_type": "code",
   "execution_count": 107,
   "metadata": {},
   "outputs": [
    {
     "name": "stdout",
     "output_type": "stream",
     "text": [
      "Train Data:\n",
      "-----------\n",
      "<class 'pandas.core.frame.DataFrame'>\n",
      "RangeIndex: 11703 entries, 0 to 11702\n",
      "Data columns (total 11 columns):\n",
      "Id                 11703 non-null int64\n",
      "NA_Sales           11703 non-null float64\n",
      "Platform           11703 non-null object\n",
      "Year_of_Release    11520 non-null float64\n",
      "Genre              11701 non-null object\n",
      "JP_Sales           11703 non-null float64\n",
      "Critic_Score       5697 non-null float64\n",
      "Critic_Count       5697 non-null float64\n",
      "User_Score         5332 non-null float64\n",
      "User_Count         5332 non-null float64\n",
      "Rating             6978 non-null object\n",
      "dtypes: float64(7), int64(1), object(3)\n",
      "memory usage: 1005.8+ KB\n"
     ]
    }
   ],
   "source": [
    "print('Train Data:')\n",
    "print('-----------')\n",
    "df_train.info()"
   ]
  },
  {
   "cell_type": "markdown",
   "metadata": {},
   "source": [
    "We only face 2 records with a missing value in the `Genre` column - let's drop both:"
   ]
  },
  {
   "cell_type": "code",
   "execution_count": 108,
   "metadata": {},
   "outputs": [
    {
     "data": {
      "text/plain": [
       "Action          2354\n",
       "Sports          1633\n",
       "Misc            1233\n",
       "Role-Playing    1082\n",
       "Shooter          922\n",
       "Adventure        913\n",
       "Racing           891\n",
       "Simulation       627\n",
       "Platform         592\n",
       "Fighting         567\n",
       "Strategy         477\n",
       "Puzzle           410\n",
       "Name: Genre, dtype: int64"
      ]
     },
     "execution_count": 108,
     "metadata": {},
     "output_type": "execute_result"
    }
   ],
   "source": [
    "df_train = df_train.dropna(subset=['Genre'])\n",
    "df_train.Genre.value_counts()"
   ]
  },
  {
   "cell_type": "markdown",
   "metadata": {},
   "source": [
    "*Test Data*"
   ]
  },
  {
   "cell_type": "code",
   "execution_count": 109,
   "metadata": {},
   "outputs": [
    {
     "name": "stdout",
     "output_type": "stream",
     "text": [
      "Test Data:\n",
      "----------\n",
      "<class 'pandas.core.frame.DataFrame'>\n",
      "RangeIndex: 5016 entries, 0 to 5015\n",
      "Data columns (total 10 columns):\n",
      "Id                 5016 non-null int64\n",
      "Platform           5016 non-null object\n",
      "Year_of_Release    4930 non-null float64\n",
      "Genre              5016 non-null object\n",
      "JP_Sales           5016 non-null float64\n",
      "Critic_Score       2440 non-null float64\n",
      "Critic_Count       2440 non-null float64\n",
      "User_Score         2258 non-null float64\n",
      "User_Count         2258 non-null float64\n",
      "Rating             2972 non-null object\n",
      "dtypes: float64(6), int64(1), object(3)\n",
      "memory usage: 392.0+ KB\n"
     ]
    }
   ],
   "source": [
    "print('Test Data:')\n",
    "print('----------')\n",
    "df_test.info()"
   ]
  },
  {
   "cell_type": "markdown",
   "metadata": {},
   "source": [
    "No missing values in `Genre` at all, lucky we!"
   ]
  },
  {
   "cell_type": "code",
   "execution_count": 110,
   "metadata": {},
   "outputs": [
    {
     "data": {
      "text/plain": [
       "Action          1016\n",
       "Sports           715\n",
       "Misc             517\n",
       "Role-Playing     418\n",
       "Shooter          401\n",
       "Adventure        390\n",
       "Racing           358\n",
       "Platform         296\n",
       "Fighting         282\n",
       "Simulation       247\n",
       "Strategy         206\n",
       "Puzzle           170\n",
       "Name: Genre, dtype: int64"
      ]
     },
     "execution_count": 110,
     "metadata": {},
     "output_type": "execute_result"
    }
   ],
   "source": [
    "df_test.Genre.value_counts()"
   ]
  },
  {
   "cell_type": "markdown",
   "metadata": {},
   "source": [
    "*Back to: <a href='#Table of contents'> Table of contents</a>*\n",
    "\n",
    "**2.2. Handling `Rating` column**\n",
    "<a id='2.2. Handling Rating column'></a>"
   ]
  },
  {
   "cell_type": "markdown",
   "metadata": {},
   "source": [
    "*Train Data*"
   ]
  },
  {
   "cell_type": "code",
   "execution_count": 111,
   "metadata": {},
   "outputs": [
    {
     "data": {
      "text/plain": [
       "array(['E', nan, 'T', 'M', 'E10+', 'EC', 'RP', 'K-A'], dtype=object)"
      ]
     },
     "execution_count": 111,
     "metadata": {},
     "output_type": "execute_result"
    }
   ],
   "source": [
    "df_train.Rating.unique()"
   ]
  },
  {
   "cell_type": "code",
   "execution_count": 112,
   "metadata": {
    "scrolled": true
   },
   "outputs": [
    {
     "data": {
      "text/plain": [
       "E       2791\n",
       "T       2069\n",
       "M       1109\n",
       "E10+    1000\n",
       "EC         5\n",
       "K-A        2\n",
       "RP         2\n",
       "Name: Rating, dtype: int64"
      ]
     },
     "execution_count": 112,
     "metadata": {},
     "output_type": "execute_result"
    }
   ],
   "source": [
    "df_train.Rating.value_counts()"
   ]
  },
  {
   "cell_type": "markdown",
   "metadata": {},
   "source": [
    "According to [Wikipedia](https://en.wikipedia.org/wiki/Entertainment_Software_Rating_Board), we can deal with some of rather outdated ratings by replacing them with actual labels:"
   ]
  },
  {
   "cell_type": "code",
   "execution_count": 113,
   "metadata": {},
   "outputs": [],
   "source": [
    "def value_replacement(col, to_replace, new_value):\n",
    "    col.replace(to_replace, new_value, inplace=True)"
   ]
  },
  {
   "cell_type": "code",
   "execution_count": 114,
   "metadata": {},
   "outputs": [
    {
     "data": {
      "text/plain": [
       "None    4725\n",
       "E       2798\n",
       "T       2069\n",
       "M       1109\n",
       "E10+    1000\n",
       "Name: Rating, dtype: int64"
      ]
     },
     "execution_count": 114,
     "metadata": {},
     "output_type": "execute_result"
    }
   ],
   "source": [
    "value_replacement(df_train.Rating, to_replace='EC', new_value='E')\n",
    "value_replacement(df_train.Rating, to_replace='K-A', new_value='E')\n",
    "value_replacement(df_train.Rating, to_replace='RP', new_value='None')\n",
    "value_replacement(df_train.Rating, to_replace=np.nan, new_value='None')\n",
    "\n",
    "df_train.Rating.value_counts()"
   ]
  },
  {
   "cell_type": "markdown",
   "metadata": {},
   "source": [
    "*Test Data*"
   ]
  },
  {
   "cell_type": "code",
   "execution_count": 115,
   "metadata": {},
   "outputs": [
    {
     "data": {
      "text/plain": [
       "E       1200\n",
       "T        892\n",
       "M        454\n",
       "E10+     420\n",
       "EC         3\n",
       "AO         1\n",
       "RP         1\n",
       "K-A        1\n",
       "Name: Rating, dtype: int64"
      ]
     },
     "execution_count": 115,
     "metadata": {},
     "output_type": "execute_result"
    }
   ],
   "source": [
    "df_test.Rating.value_counts()"
   ]
  },
  {
   "cell_type": "code",
   "execution_count": 116,
   "metadata": {},
   "outputs": [
    {
     "data": {
      "text/plain": [
       "None    2045\n",
       "E       1204\n",
       "T        892\n",
       "M        455\n",
       "E10+     420\n",
       "Name: Rating, dtype: int64"
      ]
     },
     "execution_count": 116,
     "metadata": {},
     "output_type": "execute_result"
    }
   ],
   "source": [
    "value_replacement(df_test.Rating, to_replace='EC', new_value='E')\n",
    "value_replacement(df_test.Rating, to_replace='AO', new_value='M')\n",
    "value_replacement(df_test.Rating, to_replace='K-A', new_value='E')\n",
    "value_replacement(df_test.Rating, to_replace='RP', new_value='None')\n",
    "value_replacement(df_test.Rating, to_replace=np.nan, new_value='None')\n",
    "\n",
    "df_test.Rating.value_counts()"
   ]
  },
  {
   "cell_type": "markdown",
   "metadata": {},
   "source": [
    "*Back to: <a href='#Table of contents'> Table of contents</a>*\n",
    "\n",
    "**2.3. Handling `Year_of_Release` column**\n",
    "<a id='2.3. Handling Year_of_Release column'></a>"
   ]
  },
  {
   "cell_type": "markdown",
   "metadata": {},
   "source": [
    "*Train Data*"
   ]
  },
  {
   "cell_type": "code",
   "execution_count": 117,
   "metadata": {},
   "outputs": [
    {
     "data": {
      "text/html": [
       "<div>\n",
       "<style scoped>\n",
       "    .dataframe tbody tr th:only-of-type {\n",
       "        vertical-align: middle;\n",
       "    }\n",
       "\n",
       "    .dataframe tbody tr th {\n",
       "        vertical-align: top;\n",
       "    }\n",
       "\n",
       "    .dataframe thead th {\n",
       "        text-align: right;\n",
       "    }\n",
       "</style>\n",
       "<table border=\"1\" class=\"dataframe\">\n",
       "  <thead>\n",
       "    <tr style=\"text-align: right;\">\n",
       "      <th></th>\n",
       "      <th>Id</th>\n",
       "      <th>NA_Sales</th>\n",
       "      <th>Platform</th>\n",
       "      <th>Year_of_Release</th>\n",
       "      <th>Genre</th>\n",
       "      <th>JP_Sales</th>\n",
       "      <th>Critic_Score</th>\n",
       "      <th>Critic_Count</th>\n",
       "      <th>User_Score</th>\n",
       "      <th>User_Count</th>\n",
       "      <th>Rating</th>\n",
       "    </tr>\n",
       "  </thead>\n",
       "  <tbody>\n",
       "    <tr>\n",
       "      <th>11380</th>\n",
       "      <td>11380</td>\n",
       "      <td>0.00</td>\n",
       "      <td>PS3</td>\n",
       "      <td>NaN</td>\n",
       "      <td>Racing</td>\n",
       "      <td>0.01</td>\n",
       "      <td>68.0</td>\n",
       "      <td>24.0</td>\n",
       "      <td>4.5</td>\n",
       "      <td>4.0</td>\n",
       "      <td>None</td>\n",
       "    </tr>\n",
       "    <tr>\n",
       "      <th>11390</th>\n",
       "      <td>11390</td>\n",
       "      <td>0.26</td>\n",
       "      <td>GBA</td>\n",
       "      <td>NaN</td>\n",
       "      <td>Action</td>\n",
       "      <td>0.00</td>\n",
       "      <td>NaN</td>\n",
       "      <td>NaN</td>\n",
       "      <td>NaN</td>\n",
       "      <td>NaN</td>\n",
       "      <td>None</td>\n",
       "    </tr>\n",
       "    <tr>\n",
       "      <th>11421</th>\n",
       "      <td>11421</td>\n",
       "      <td>0.13</td>\n",
       "      <td>X360</td>\n",
       "      <td>NaN</td>\n",
       "      <td>Puzzle</td>\n",
       "      <td>0.00</td>\n",
       "      <td>78.0</td>\n",
       "      <td>13.0</td>\n",
       "      <td>8.4</td>\n",
       "      <td>11.0</td>\n",
       "      <td>E</td>\n",
       "    </tr>\n",
       "    <tr>\n",
       "      <th>11474</th>\n",
       "      <td>11474</td>\n",
       "      <td>0.22</td>\n",
       "      <td>XB</td>\n",
       "      <td>NaN</td>\n",
       "      <td>Shooter</td>\n",
       "      <td>0.00</td>\n",
       "      <td>85.0</td>\n",
       "      <td>54.0</td>\n",
       "      <td>8.2</td>\n",
       "      <td>21.0</td>\n",
       "      <td>M</td>\n",
       "    </tr>\n",
       "    <tr>\n",
       "      <th>11615</th>\n",
       "      <td>11615</td>\n",
       "      <td>0.00</td>\n",
       "      <td>Wii</td>\n",
       "      <td>NaN</td>\n",
       "      <td>Shooter</td>\n",
       "      <td>0.02</td>\n",
       "      <td>NaN</td>\n",
       "      <td>NaN</td>\n",
       "      <td>NaN</td>\n",
       "      <td>NaN</td>\n",
       "      <td>None</td>\n",
       "    </tr>\n",
       "  </tbody>\n",
       "</table>\n",
       "</div>"
      ],
      "text/plain": [
       "          Id  NA_Sales Platform  Year_of_Release    Genre  JP_Sales  \\\n",
       "11380  11380      0.00      PS3              NaN   Racing      0.01   \n",
       "11390  11390      0.26      GBA              NaN   Action      0.00   \n",
       "11421  11421      0.13     X360              NaN   Puzzle      0.00   \n",
       "11474  11474      0.22       XB              NaN  Shooter      0.00   \n",
       "11615  11615      0.00      Wii              NaN  Shooter      0.02   \n",
       "\n",
       "       Critic_Score  Critic_Count  User_Score  User_Count Rating  \n",
       "11380          68.0          24.0         4.5         4.0   None  \n",
       "11390           NaN           NaN         NaN         NaN   None  \n",
       "11421          78.0          13.0         8.4        11.0      E  \n",
       "11474          85.0          54.0         8.2        21.0      M  \n",
       "11615           NaN           NaN         NaN         NaN   None  "
      ]
     },
     "execution_count": 117,
     "metadata": {},
     "output_type": "execute_result"
    }
   ],
   "source": [
    "df1 = df_train[df_train['Year_of_Release'].isna()]\n",
    "df1.tail()"
   ]
  },
  {
   "cell_type": "code",
   "execution_count": 118,
   "metadata": {},
   "outputs": [
    {
     "data": {
      "text/plain": [
       "2017.0"
      ]
     },
     "execution_count": 118,
     "metadata": {},
     "output_type": "execute_result"
    }
   ],
   "source": [
    "df_train.Year_of_Release.max()"
   ]
  },
  {
   "cell_type": "code",
   "execution_count": 119,
   "metadata": {},
   "outputs": [
    {
     "data": {
      "text/plain": [
       "2020.0"
      ]
     },
     "execution_count": 119,
     "metadata": {},
     "output_type": "execute_result"
    }
   ],
   "source": [
    "df_test.Year_of_Release.max()"
   ]
  },
  {
   "cell_type": "code",
   "execution_count": 120,
   "metadata": {},
   "outputs": [
    {
     "data": {
      "image/png": "[encoded data removed]",
      "text/plain": [
       "<Figure size 432x288 with 1 Axes>"
      ]
     },
     "metadata": {},
     "output_type": "display_data"
    }
   ],
   "source": [
    "df_train.Year_of_Release.hist(bins=20);"
   ]
  },
  {
   "cell_type": "markdown",
   "metadata": {},
   "source": [
    "It might be reasonable to bin the years into periods of roughly 5 years and when doing this, also bin the NaN values into *unknown*."
   ]
  },
  {
   "cell_type": "code",
   "execution_count": 121,
   "metadata": {},
   "outputs": [],
   "source": [
    "# bin the year_of_release into periods_of_release\n",
    "bins = [1980, 1995, 2000, 2005, 2010, 2015, 2017]\n",
    "labels = ['Before 1995', '1995-2000', '2000-2005', '2005-2010', '2010-2015', '2015-2020']\n",
    "df_train['Periods_of_Release'] = pd.cut(df_train['Year_of_Release'], bins=bins, labels=labels)\n",
    "\n",
    "# create another category for the unknown release date\n",
    "df_train['Periods_of_Release'].replace(to_replace=np.nan, value='Unknown', inplace=True)"
   ]
  },
  {
   "cell_type": "code",
   "execution_count": 122,
   "metadata": {},
   "outputs": [
    {
     "data": {
      "text/plain": [
       "2005-2010      4471\n",
       "2000-2005      2627\n",
       "2010-2015      2463\n",
       "1995-2000      1121\n",
       "Before 1995     470\n",
       "2015-2020       360\n",
       "Unknown         189\n",
       "Name: Periods_of_Release, dtype: int64"
      ]
     },
     "execution_count": 122,
     "metadata": {},
     "output_type": "execute_result"
    }
   ],
   "source": [
    "df_train.Periods_of_Release.value_counts()"
   ]
  },
  {
   "cell_type": "code",
   "execution_count": 123,
   "metadata": {},
   "outputs": [],
   "source": [
    "# visualize the distribution of categories\n",
    "#order = ['Unknown', '2015-2020', '2010-2015', '2005-2010',  '2000-2005','1995-2000', 'Before 1995']\n",
    "#df.Periods_of_Release.value_counts().loc[order].plot(kind='barh');"
   ]
  },
  {
   "cell_type": "code",
   "execution_count": 124,
   "metadata": {},
   "outputs": [
    {
     "name": "stdout",
     "output_type": "stream",
     "text": [
      "<class 'pandas.core.frame.DataFrame'>\n",
      "Int64Index: 11701 entries, 0 to 11702\n",
      "Data columns (total 11 columns):\n",
      "Id                    11701 non-null int64\n",
      "NA_Sales              11701 non-null float64\n",
      "Platform              11701 non-null object\n",
      "Genre                 11701 non-null object\n",
      "JP_Sales              11701 non-null float64\n",
      "Critic_Score          5697 non-null float64\n",
      "Critic_Count          5697 non-null float64\n",
      "User_Score            5332 non-null float64\n",
      "User_Count            5332 non-null float64\n",
      "Rating                11701 non-null object\n",
      "Periods_of_Release    11701 non-null object\n",
      "dtypes: float64(6), int64(1), object(4)\n",
      "memory usage: 1.1+ MB\n"
     ]
    }
   ],
   "source": [
    "# drop the original year related column\n",
    "df_train = df_train.drop(['Year_of_Release'], axis=1)\n",
    "df_train.info()"
   ]
  },
  {
   "cell_type": "markdown",
   "metadata": {},
   "source": [
    "*Test Data*"
   ]
  },
  {
   "cell_type": "code",
   "execution_count": 125,
   "metadata": {},
   "outputs": [
    {
     "name": "stdout",
     "output_type": "stream",
     "text": [
      "<class 'pandas.core.frame.DataFrame'>\n",
      "RangeIndex: 5016 entries, 0 to 5015\n",
      "Data columns (total 10 columns):\n",
      "Id                    5016 non-null int64\n",
      "Platform              5016 non-null object\n",
      "Genre                 5016 non-null object\n",
      "JP_Sales              5016 non-null float64\n",
      "Critic_Score          2440 non-null float64\n",
      "Critic_Count          2440 non-null float64\n",
      "User_Score            2258 non-null float64\n",
      "User_Count            2258 non-null float64\n",
      "Rating                5016 non-null object\n",
      "Periods_of_Release    5016 non-null object\n",
      "dtypes: float64(5), int64(1), object(4)\n",
      "memory usage: 392.0+ KB\n"
     ]
    }
   ],
   "source": [
    "df_test['Periods_of_Release'] = pd.cut(df_test['Year_of_Release'], bins=bins, labels=labels)\n",
    "\n",
    "# create another category for the unknown release date\n",
    "df_test['Periods_of_Release'].replace(to_replace=np.nan, value='Unknown', inplace=True)\n",
    "\n",
    "df_test = df_test.drop(['Year_of_Release'], axis=1)\n",
    "df_test.info()"
   ]
  },
  {
   "cell_type": "markdown",
   "metadata": {},
   "source": [
    "*Back to: <a href='#Table of contents'> Table of contents</a>*\n",
    "\n",
    "**2.4. Handling User and Critic related columns**\n",
    "<a id='2.4. Handling User and Critic related columns'></a>"
   ]
  },
  {
   "cell_type": "markdown",
   "metadata": {},
   "source": [
    "*Train Data*"
   ]
  },
  {
   "cell_type": "code",
   "execution_count": 126,
   "metadata": {},
   "outputs": [
    {
     "name": "stdout",
     "output_type": "stream",
     "text": [
      "<class 'pandas.core.frame.DataFrame'>\n",
      "Int64Index: 11701 entries, 0 to 11702\n",
      "Data columns (total 11 columns):\n",
      "Id                    11701 non-null int64\n",
      "NA_Sales              11701 non-null float64\n",
      "Platform              11701 non-null object\n",
      "Genre                 11701 non-null object\n",
      "JP_Sales              11701 non-null float64\n",
      "Critic_Score          5697 non-null float64\n",
      "Critic_Count          5697 non-null float64\n",
      "User_Score            5332 non-null float64\n",
      "User_Count            5332 non-null float64\n",
      "Rating                11701 non-null object\n",
      "Periods_of_Release    11701 non-null object\n",
      "dtypes: float64(6), int64(1), object(4)\n",
      "memory usage: 1.1+ MB\n"
     ]
    }
   ],
   "source": [
    "df_train.info()"
   ]
  },
  {
   "cell_type": "code",
   "execution_count": 127,
   "metadata": {},
   "outputs": [],
   "source": [
    "df_train = df_train.drop(['Critic_Count', 'User_Score'], axis=1)"
   ]
  },
  {
   "cell_type": "code",
   "execution_count": 128,
   "metadata": {},
   "outputs": [
    {
     "name": "stdout",
     "output_type": "stream",
     "text": [
      "<class 'pandas.core.frame.DataFrame'>\n",
      "Int64Index: 11701 entries, 0 to 11702\n",
      "Data columns (total 5 columns):\n",
      "Id              11701 non-null int64\n",
      "NA_Sales        11701 non-null float64\n",
      "JP_Sales        11701 non-null float64\n",
      "Critic_Score    5697 non-null float64\n",
      "User_Count      5332 non-null float64\n",
      "dtypes: float64(4), int64(1)\n",
      "memory usage: 548.5 KB\n"
     ]
    }
   ],
   "source": [
    "# making a copy of the main train dataset\n",
    "knn_df_train = df_train[['Id', 'NA_Sales', 'JP_Sales', 'Critic_Score', 'User_Count']]\n",
    "knn_df_train.info()"
   ]
  },
  {
   "cell_type": "code",
   "execution_count": 129,
   "metadata": {},
   "outputs": [
    {
     "data": {
      "text/html": [
       "<div>\n",
       "<style scoped>\n",
       "    .dataframe tbody tr th:only-of-type {\n",
       "        vertical-align: middle;\n",
       "    }\n",
       "\n",
       "    .dataframe tbody tr th {\n",
       "        vertical-align: top;\n",
       "    }\n",
       "\n",
       "    .dataframe thead th {\n",
       "        text-align: right;\n",
       "    }\n",
       "</style>\n",
       "<table border=\"1\" class=\"dataframe\">\n",
       "  <thead>\n",
       "    <tr style=\"text-align: right;\">\n",
       "      <th></th>\n",
       "      <th>Id</th>\n",
       "      <th>NA_Sales</th>\n",
       "      <th>JP_Sales</th>\n",
       "      <th>Critic_Score</th>\n",
       "      <th>User_Count</th>\n",
       "    </tr>\n",
       "  </thead>\n",
       "  <tbody>\n",
       "    <tr>\n",
       "      <th>0</th>\n",
       "      <td>0</td>\n",
       "      <td>0.00</td>\n",
       "      <td>0.06</td>\n",
       "      <td>81.0</td>\n",
       "      <td>62.0</td>\n",
       "    </tr>\n",
       "    <tr>\n",
       "      <th>1</th>\n",
       "      <td>1</td>\n",
       "      <td>0.72</td>\n",
       "      <td>0.00</td>\n",
       "      <td>NaN</td>\n",
       "      <td>NaN</td>\n",
       "    </tr>\n",
       "    <tr>\n",
       "      <th>2</th>\n",
       "      <td>2</td>\n",
       "      <td>0.11</td>\n",
       "      <td>0.00</td>\n",
       "      <td>NaN</td>\n",
       "      <td>NaN</td>\n",
       "    </tr>\n",
       "  </tbody>\n",
       "</table>\n",
       "</div>"
      ],
      "text/plain": [
       "   Id  NA_Sales  JP_Sales  Critic_Score  User_Count\n",
       "0   0      0.00      0.06          81.0        62.0\n",
       "1   1      0.72      0.00           NaN         NaN\n",
       "2   2      0.11      0.00           NaN         NaN"
      ]
     },
     "execution_count": 129,
     "metadata": {},
     "output_type": "execute_result"
    }
   ],
   "source": [
    "knn_df_train.head(3)"
   ]
  },
  {
   "cell_type": "code",
   "execution_count": 130,
   "metadata": {
    "collapsed": true
   },
   "outputs": [
    {
     "name": "stdout",
     "output_type": "stream",
     "text": [
      "Imputing row 1/11701 with 0 missing, elapsed time: 27.932\n",
      "Imputing row 101/11701 with 2 missing, elapsed time: 27.972\n",
      "Imputing row 201/11701 with 2 missing, elapsed time: 28.003\n",
      "Imputing row 301/11701 with 2 missing, elapsed time: 28.025\n",
      "Imputing row 401/11701 with 2 missing, elapsed time: 28.048\n",
      "Imputing row 501/11701 with 2 missing, elapsed time: 28.104\n",
      "Imputing row 601/11701 with 0 missing, elapsed time: 28.134\n",
      "Imputing row 701/11701 with 2 missing, elapsed time: 28.159\n",
      "Imputing row 801/11701 with 1 missing, elapsed time: 28.214\n",
      "Imputing row 901/11701 with 2 missing, elapsed time: 28.241\n",
      "Imputing row 1001/11701 with 2 missing, elapsed time: 28.265\n",
      "Imputing row 1101/11701 with 0 missing, elapsed time: 28.287\n",
      "Imputing row 1201/11701 with 0 missing, elapsed time: 28.315\n",
      "Imputing row 1301/11701 with 2 missing, elapsed time: 28.333\n",
      "Imputing row 1401/11701 with 2 missing, elapsed time: 28.354\n",
      "Imputing row 1501/11701 with 2 missing, elapsed time: 28.391\n",
      "Imputing row 1601/11701 with 0 missing, elapsed time: 28.411\n",
      "Imputing row 1701/11701 with 2 missing, elapsed time: 28.434\n",
      "Imputing row 1801/11701 with 1 missing, elapsed time: 28.465\n",
      "Imputing row 1901/11701 with 2 missing, elapsed time: 28.504\n",
      "Imputing row 2001/11701 with 0 missing, elapsed time: 28.532\n",
      "Imputing row 2101/11701 with 0 missing, elapsed time: 28.564\n",
      "Imputing row 2201/11701 with 1 missing, elapsed time: 28.597\n",
      "Imputing row 2301/11701 with 0 missing, elapsed time: 28.628\n",
      "Imputing row 2401/11701 with 2 missing, elapsed time: 28.652\n",
      "Imputing row 2501/11701 with 2 missing, elapsed time: 28.677\n",
      "Imputing row 2601/11701 with 0 missing, elapsed time: 28.712\n",
      "Imputing row 2701/11701 with 2 missing, elapsed time: 28.743\n",
      "Imputing row 2801/11701 with 0 missing, elapsed time: 28.764\n",
      "Imputing row 2901/11701 with 0 missing, elapsed time: 28.783\n",
      "Imputing row 3001/11701 with 0 missing, elapsed time: 28.819\n",
      "Imputing row 3101/11701 with 0 missing, elapsed time: 28.842\n",
      "Imputing row 3201/11701 with 2 missing, elapsed time: 28.866\n",
      "Imputing row 3301/11701 with 0 missing, elapsed time: 28.891\n",
      "Imputing row 3401/11701 with 0 missing, elapsed time: 28.914\n",
      "Imputing row 3501/11701 with 2 missing, elapsed time: 28.940\n",
      "Imputing row 3601/11701 with 0 missing, elapsed time: 28.970\n",
      "Imputing row 3701/11701 with 0 missing, elapsed time: 28.988\n",
      "Imputing row 3801/11701 with 2 missing, elapsed time: 29.047\n",
      "Imputing row 3901/11701 with 0 missing, elapsed time: 29.080\n",
      "Imputing row 4001/11701 with 2 missing, elapsed time: 29.100\n",
      "Imputing row 4101/11701 with 2 missing, elapsed time: 29.128\n",
      "Imputing row 4201/11701 with 0 missing, elapsed time: 29.152\n",
      "Imputing row 4301/11701 with 0 missing, elapsed time: 29.261\n",
      "Imputing row 4401/11701 with 2 missing, elapsed time: 29.287\n",
      "Imputing row 4501/11701 with 1 missing, elapsed time: 29.321\n",
      "Imputing row 4601/11701 with 0 missing, elapsed time: 29.388\n",
      "Imputing row 4701/11701 with 2 missing, elapsed time: 29.501\n",
      "Imputing row 4801/11701 with 2 missing, elapsed time: 29.559\n",
      "Imputing row 4901/11701 with 2 missing, elapsed time: 29.614\n",
      "Imputing row 5001/11701 with 0 missing, elapsed time: 29.686\n",
      "Imputing row 5101/11701 with 2 missing, elapsed time: 29.739\n",
      "Imputing row 5201/11701 with 1 missing, elapsed time: 29.788\n",
      "Imputing row 5301/11701 with 0 missing, elapsed time: 29.848\n",
      "Imputing row 5401/11701 with 0 missing, elapsed time: 29.893\n",
      "Imputing row 5501/11701 with 0 missing, elapsed time: 29.954\n",
      "Imputing row 5601/11701 with 2 missing, elapsed time: 30.018\n",
      "Imputing row 5701/11701 with 0 missing, elapsed time: 30.111\n",
      "Imputing row 5801/11701 with 2 missing, elapsed time: 30.179\n",
      "Imputing row 5901/11701 with 0 missing, elapsed time: 30.264\n",
      "Imputing row 6001/11701 with 0 missing, elapsed time: 30.350\n",
      "Imputing row 6101/11701 with 0 missing, elapsed time: 30.439\n",
      "Imputing row 6201/11701 with 1 missing, elapsed time: 30.560\n",
      "Imputing row 6301/11701 with 0 missing, elapsed time: 30.668\n",
      "Imputing row 6401/11701 with 0 missing, elapsed time: 30.722\n",
      "Imputing row 6501/11701 with 1 missing, elapsed time: 30.797\n",
      "Imputing row 6601/11701 with 2 missing, elapsed time: 30.850\n",
      "Imputing row 6701/11701 with 0 missing, elapsed time: 30.918\n",
      "Imputing row 6801/11701 with 0 missing, elapsed time: 31.005\n",
      "Imputing row 6901/11701 with 0 missing, elapsed time: 31.075\n",
      "Imputing row 7001/11701 with 0 missing, elapsed time: 31.108\n",
      "Imputing row 7101/11701 with 2 missing, elapsed time: 31.170\n",
      "Imputing row 7201/11701 with 1 missing, elapsed time: 31.316\n",
      "Imputing row 7301/11701 with 0 missing, elapsed time: 31.358\n",
      "Imputing row 7401/11701 with 2 missing, elapsed time: 31.401\n",
      "Imputing row 7501/11701 with 0 missing, elapsed time: 31.454\n",
      "Imputing row 7601/11701 with 0 missing, elapsed time: 31.489\n",
      "Imputing row 7701/11701 with 0 missing, elapsed time: 31.523\n",
      "Imputing row 7801/11701 with 0 missing, elapsed time: 31.556\n",
      "Imputing row 7901/11701 with 2 missing, elapsed time: 31.588\n",
      "Imputing row 8001/11701 with 1 missing, elapsed time: 31.614\n",
      "Imputing row 8101/11701 with 0 missing, elapsed time: 31.642\n",
      "Imputing row 8201/11701 with 0 missing, elapsed time: 31.668\n",
      "Imputing row 8301/11701 with 2 missing, elapsed time: 31.689\n",
      "Imputing row 8401/11701 with 0 missing, elapsed time: 31.715\n",
      "Imputing row 8501/11701 with 2 missing, elapsed time: 31.739\n",
      "Imputing row 8601/11701 with 2 missing, elapsed time: 31.771\n",
      "Imputing row 8701/11701 with 2 missing, elapsed time: 31.802\n",
      "Imputing row 8801/11701 with 0 missing, elapsed time: 31.847\n",
      "Imputing row 8901/11701 with 0 missing, elapsed time: 31.890\n",
      "Imputing row 9001/11701 with 1 missing, elapsed time: 31.979\n",
      "Imputing row 9101/11701 with 2 missing, elapsed time: 32.039\n",
      "Imputing row 9201/11701 with 0 missing, elapsed time: 32.094\n",
      "Imputing row 9301/11701 with 0 missing, elapsed time: 32.134\n",
      "Imputing row 9401/11701 with 2 missing, elapsed time: 32.193\n",
      "Imputing row 9501/11701 with 2 missing, elapsed time: 32.242\n",
      "Imputing row 9601/11701 with 0 missing, elapsed time: 32.280\n",
      "Imputing row 9701/11701 with 2 missing, elapsed time: 32.326\n",
      "Imputing row 9801/11701 with 0 missing, elapsed time: 32.354\n",
      "Imputing row 9901/11701 with 2 missing, elapsed time: 32.384\n",
      "Imputing row 10001/11701 with 2 missing, elapsed time: 32.410\n",
      "Imputing row 10101/11701 with 2 missing, elapsed time: 32.437\n",
      "Imputing row 10201/11701 with 2 missing, elapsed time: 32.468\n",
      "Imputing row 10301/11701 with 2 missing, elapsed time: 32.500\n",
      "Imputing row 10401/11701 with 1 missing, elapsed time: 32.531\n",
      "Imputing row 10501/11701 with 2 missing, elapsed time: 32.559\n",
      "Imputing row 10601/11701 with 2 missing, elapsed time: 32.584\n",
      "Imputing row 10701/11701 with 1 missing, elapsed time: 32.613\n",
      "Imputing row 10801/11701 with 1 missing, elapsed time: 32.642\n",
      "Imputing row 10901/11701 with 1 missing, elapsed time: 32.697\n",
      "Imputing row 11001/11701 with 2 missing, elapsed time: 32.732\n",
      "Imputing row 11101/11701 with 2 missing, elapsed time: 32.760\n",
      "Imputing row 11201/11701 with 2 missing, elapsed time: 32.792\n",
      "Imputing row 11301/11701 with 1 missing, elapsed time: 32.823\n",
      "Imputing row 11401/11701 with 1 missing, elapsed time: 32.856\n",
      "Imputing row 11501/11701 with 2 missing, elapsed time: 32.889\n",
      "Imputing row 11601/11701 with 2 missing, elapsed time: 32.919\n",
      "Imputing row 11701/11701 with 0 missing, elapsed time: 32.954\n"
     ]
    }
   ],
   "source": [
    "from fancyimpute import KNN\n",
    "\n",
    "# as fancyimpute removes column names, let's work around\n",
    "knn_df_train_cols = list(knn_df_train)\n",
    "\n",
    "knn_df_train = pd.DataFrame(KNN(k=9).fit_transform(knn_df_train))\n",
    "\n",
    "knn_df_train.columns = knn_df_train_cols"
   ]
  },
  {
   "cell_type": "code",
   "execution_count": 131,
   "metadata": {},
   "outputs": [
    {
     "data": {
      "text/html": [
       "<div>\n",
       "<style scoped>\n",
       "    .dataframe tbody tr th:only-of-type {\n",
       "        vertical-align: middle;\n",
       "    }\n",
       "\n",
       "    .dataframe tbody tr th {\n",
       "        vertical-align: top;\n",
       "    }\n",
       "\n",
       "    .dataframe thead th {\n",
       "        text-align: right;\n",
       "    }\n",
       "</style>\n",
       "<table border=\"1\" class=\"dataframe\">\n",
       "  <thead>\n",
       "    <tr style=\"text-align: right;\">\n",
       "      <th></th>\n",
       "      <th>Id</th>\n",
       "      <th>NA_Sales</th>\n",
       "      <th>JP_Sales</th>\n",
       "      <th>Critic_Score</th>\n",
       "      <th>User_Count</th>\n",
       "    </tr>\n",
       "  </thead>\n",
       "  <tbody>\n",
       "    <tr>\n",
       "      <th>0</th>\n",
       "      <td>0</td>\n",
       "      <td>0.00</td>\n",
       "      <td>0.06</td>\n",
       "      <td>81.000000</td>\n",
       "      <td>62.000000</td>\n",
       "    </tr>\n",
       "    <tr>\n",
       "      <th>1</th>\n",
       "      <td>1</td>\n",
       "      <td>0.72</td>\n",
       "      <td>0.00</td>\n",
       "      <td>72.493228</td>\n",
       "      <td>47.979812</td>\n",
       "    </tr>\n",
       "    <tr>\n",
       "      <th>2</th>\n",
       "      <td>2</td>\n",
       "      <td>0.11</td>\n",
       "      <td>0.00</td>\n",
       "      <td>59.003325</td>\n",
       "      <td>26.409943</td>\n",
       "    </tr>\n",
       "  </tbody>\n",
       "</table>\n",
       "</div>"
      ],
      "text/plain": [
       "   Id  NA_Sales  JP_Sales  Critic_Score  User_Count\n",
       "0   0      0.00      0.06     81.000000   62.000000\n",
       "1   1      0.72      0.00     72.493228   47.979812\n",
       "2   2      0.11      0.00     59.003325   26.409943"
      ]
     },
     "execution_count": 131,
     "metadata": {},
     "output_type": "execute_result"
    }
   ],
   "source": [
    "knn_df_train.Id = knn_df_train.Id.astype('int64')\n",
    "knn_df_train.head(3)"
   ]
  },
  {
   "cell_type": "code",
   "execution_count": 132,
   "metadata": {},
   "outputs": [],
   "source": [
    "df_train_final = pd.merge(left=df_train[['Id', 'Platform', 'Genre', 'Rating', 'Periods_of_Release']], \n",
    "                          right=knn_df_train,\n",
    "                          left_on='Id', right_on='Id')"
   ]
  },
  {
   "cell_type": "code",
   "execution_count": 133,
   "metadata": {},
   "outputs": [
    {
     "data": {
      "text/html": [
       "<div>\n",
       "<style scoped>\n",
       "    .dataframe tbody tr th:only-of-type {\n",
       "        vertical-align: middle;\n",
       "    }\n",
       "\n",
       "    .dataframe tbody tr th {\n",
       "        vertical-align: top;\n",
       "    }\n",
       "\n",
       "    .dataframe thead th {\n",
       "        text-align: right;\n",
       "    }\n",
       "</style>\n",
       "<table border=\"1\" class=\"dataframe\">\n",
       "  <thead>\n",
       "    <tr style=\"text-align: right;\">\n",
       "      <th></th>\n",
       "      <th>Id</th>\n",
       "      <th>Platform</th>\n",
       "      <th>Genre</th>\n",
       "      <th>Rating</th>\n",
       "      <th>Periods_of_Release</th>\n",
       "      <th>NA_Sales</th>\n",
       "      <th>JP_Sales</th>\n",
       "      <th>Critic_Score</th>\n",
       "      <th>User_Count</th>\n",
       "    </tr>\n",
       "  </thead>\n",
       "  <tbody>\n",
       "    <tr>\n",
       "      <th>0</th>\n",
       "      <td>0</td>\n",
       "      <td>PSP</td>\n",
       "      <td>Misc</td>\n",
       "      <td>E</td>\n",
       "      <td>2005-2010</td>\n",
       "      <td>0.00</td>\n",
       "      <td>0.06</td>\n",
       "      <td>81.000000</td>\n",
       "      <td>62.000000</td>\n",
       "    </tr>\n",
       "    <tr>\n",
       "      <th>1</th>\n",
       "      <td>1</td>\n",
       "      <td>2600</td>\n",
       "      <td>Shooter</td>\n",
       "      <td>None</td>\n",
       "      <td>Before 1995</td>\n",
       "      <td>0.72</td>\n",
       "      <td>0.00</td>\n",
       "      <td>72.493228</td>\n",
       "      <td>47.979812</td>\n",
       "    </tr>\n",
       "    <tr>\n",
       "      <th>2</th>\n",
       "      <td>2</td>\n",
       "      <td>XB</td>\n",
       "      <td>Action</td>\n",
       "      <td>None</td>\n",
       "      <td>2000-2005</td>\n",
       "      <td>0.11</td>\n",
       "      <td>0.00</td>\n",
       "      <td>59.003325</td>\n",
       "      <td>26.409943</td>\n",
       "    </tr>\n",
       "    <tr>\n",
       "      <th>3</th>\n",
       "      <td>3</td>\n",
       "      <td>X360</td>\n",
       "      <td>Fighting</td>\n",
       "      <td>T</td>\n",
       "      <td>2005-2010</td>\n",
       "      <td>0.15</td>\n",
       "      <td>0.00</td>\n",
       "      <td>54.000000</td>\n",
       "      <td>19.000000</td>\n",
       "    </tr>\n",
       "    <tr>\n",
       "      <th>4</th>\n",
       "      <td>4</td>\n",
       "      <td>DS</td>\n",
       "      <td>Action</td>\n",
       "      <td>None</td>\n",
       "      <td>2005-2010</td>\n",
       "      <td>0.00</td>\n",
       "      <td>0.01</td>\n",
       "      <td>55.359803</td>\n",
       "      <td>19.715805</td>\n",
       "    </tr>\n",
       "  </tbody>\n",
       "</table>\n",
       "</div>"
      ],
      "text/plain": [
       "   Id Platform     Genre Rating Periods_of_Release  NA_Sales  JP_Sales  \\\n",
       "0   0      PSP      Misc      E          2005-2010      0.00      0.06   \n",
       "1   1     2600   Shooter   None        Before 1995      0.72      0.00   \n",
       "2   2       XB    Action   None          2000-2005      0.11      0.00   \n",
       "3   3     X360  Fighting      T          2005-2010      0.15      0.00   \n",
       "4   4       DS    Action   None          2005-2010      0.00      0.01   \n",
       "\n",
       "   Critic_Score  User_Count  \n",
       "0     81.000000   62.000000  \n",
       "1     72.493228   47.979812  \n",
       "2     59.003325   26.409943  \n",
       "3     54.000000   19.000000  \n",
       "4     55.359803   19.715805  "
      ]
     },
     "execution_count": 133,
     "metadata": {},
     "output_type": "execute_result"
    }
   ],
   "source": [
    "df_train_final.head()"
   ]
  },
  {
   "cell_type": "markdown",
   "metadata": {},
   "source": [
    "Let's now walk through all of the four columns we just imputed missing values for and check for extreme outliers:"
   ]
  },
  {
   "cell_type": "code",
   "execution_count": 134,
   "metadata": {},
   "outputs": [
    {
     "name": "stdout",
     "output_type": "stream",
     "text": [
      "count    11701.000000\n",
      "mean        68.535336\n",
      "std         11.525391\n",
      "min         13.000000\n",
      "25%         62.000000\n",
      "50%         69.375794\n",
      "75%         76.122578\n",
      "max         98.000000\n",
      "Name: Critic_Score, dtype: float64\n"
     ]
    },
    {
     "data": {
      "image/png": "[encoded data removed]",
      "text/plain": [
       "<Figure size 432x288 with 1 Axes>"
      ]
     },
     "metadata": {},
     "output_type": "display_data"
    }
   ],
   "source": [
    "print(df_train_final.Critic_Score.describe())\n",
    "df_train_final.Critic_Score.plot(kind='box', vert=False);"
   ]
  },
  {
   "cell_type": "code",
   "execution_count": 135,
   "metadata": {},
   "outputs": [],
   "source": [
    "# remove extreme outliers\n",
    "df_train_final = df_train_final.drop(df_train_final\n",
    "                                     [df_train_final.Critic_Score < 35].index, axis=0)"
   ]
  },
  {
   "cell_type": "code",
   "execution_count": 136,
   "metadata": {},
   "outputs": [
    {
     "name": "stdout",
     "output_type": "stream",
     "text": [
      "count    11595.000000\n",
      "mean       151.651626\n",
      "std        458.646403\n",
      "min          4.000000\n",
      "25%         19.000000\n",
      "50%         45.000000\n",
      "75%        112.980306\n",
      "max      10665.000000\n",
      "Name: User_Count, dtype: float64\n"
     ]
    },
    {
     "data": {
      "image/png": "[encoded data removed]",
      "text/plain": [
       "<Figure size 432x288 with 1 Axes>"
      ]
     },
     "metadata": {},
     "output_type": "display_data"
    }
   ],
   "source": [
    "print(df_train_final.User_Count.describe())\n",
    "df_train_final.User_Count.plot(kind='box', vert=False);"
   ]
  },
  {
   "cell_type": "code",
   "execution_count": 137,
   "metadata": {},
   "outputs": [],
   "source": [
    "# remove extreme outliers\n",
    "df_train_final = df_train_final.drop(df_train_final\n",
    "                                     [df_train_final.User_Count > 112].index, axis=0)"
   ]
  },
  {
   "cell_type": "code",
   "execution_count": 138,
   "metadata": {},
   "outputs": [
    {
     "data": {
      "image/png": "[encoded data removed]",
      "text/plain": [
       "<Figure size 432x288 with 1 Axes>"
      ]
     },
     "metadata": {},
     "output_type": "display_data"
    }
   ],
   "source": [
    "df_train_final.User_Count.hist();"
   ]
  },
  {
   "cell_type": "code",
   "execution_count": 139,
   "metadata": {},
   "outputs": [
    {
     "name": "stdout",
     "output_type": "stream",
     "text": [
      "<class 'pandas.core.frame.DataFrame'>\n",
      "Int64Index: 8683 entries, 0 to 11700\n",
      "Data columns (total 9 columns):\n",
      "Id                    8683 non-null int64\n",
      "Platform              8683 non-null object\n",
      "Genre                 8683 non-null object\n",
      "Rating                8683 non-null object\n",
      "Periods_of_Release    8683 non-null object\n",
      "NA_Sales              8683 non-null float64\n",
      "JP_Sales              8683 non-null float64\n",
      "Critic_Score          8683 non-null float64\n",
      "User_Count            8683 non-null float64\n",
      "dtypes: float64(4), int64(1), object(4)\n",
      "memory usage: 678.4+ KB\n"
     ]
    }
   ],
   "source": [
    "df_train_final.info()"
   ]
  },
  {
   "cell_type": "markdown",
   "metadata": {},
   "source": [
    "*Test Data*"
   ]
  },
  {
   "cell_type": "code",
   "execution_count": 140,
   "metadata": {},
   "outputs": [],
   "source": [
    "df_test = df_test.drop(['Critic_Count', 'User_Score'], axis=1)"
   ]
  },
  {
   "cell_type": "code",
   "execution_count": 141,
   "metadata": {},
   "outputs": [
    {
     "name": "stdout",
     "output_type": "stream",
     "text": [
      "<class 'pandas.core.frame.DataFrame'>\n",
      "RangeIndex: 5016 entries, 0 to 5015\n",
      "Data columns (total 4 columns):\n",
      "Id              5016 non-null int64\n",
      "JP_Sales        5016 non-null float64\n",
      "Critic_Score    2440 non-null float64\n",
      "User_Count      2258 non-null float64\n",
      "dtypes: float64(3), int64(1)\n",
      "memory usage: 156.8 KB\n"
     ]
    }
   ],
   "source": [
    "# making a copy of the main train dataset\n",
    "knn_df_test = df_test[['Id', 'JP_Sales', 'Critic_Score', 'User_Count']]\n",
    "knn_df_test.info()"
   ]
  },
  {
   "cell_type": "code",
   "execution_count": 142,
   "metadata": {},
   "outputs": [
    {
     "data": {
      "text/html": [
       "<div>\n",
       "<style scoped>\n",
       "    .dataframe tbody tr th:only-of-type {\n",
       "        vertical-align: middle;\n",
       "    }\n",
       "\n",
       "    .dataframe tbody tr th {\n",
       "        vertical-align: top;\n",
       "    }\n",
       "\n",
       "    .dataframe thead th {\n",
       "        text-align: right;\n",
       "    }\n",
       "</style>\n",
       "<table border=\"1\" class=\"dataframe\">\n",
       "  <thead>\n",
       "    <tr style=\"text-align: right;\">\n",
       "      <th></th>\n",
       "      <th>Id</th>\n",
       "      <th>JP_Sales</th>\n",
       "      <th>Critic_Score</th>\n",
       "      <th>User_Count</th>\n",
       "    </tr>\n",
       "  </thead>\n",
       "  <tbody>\n",
       "    <tr>\n",
       "      <th>0</th>\n",
       "      <td>11703</td>\n",
       "      <td>10.22</td>\n",
       "      <td>NaN</td>\n",
       "      <td>NaN</td>\n",
       "    </tr>\n",
       "    <tr>\n",
       "      <th>1</th>\n",
       "      <td>11704</td>\n",
       "      <td>2.93</td>\n",
       "      <td>58.0</td>\n",
       "      <td>129.0</td>\n",
       "    </tr>\n",
       "  </tbody>\n",
       "</table>\n",
       "</div>"
      ],
      "text/plain": [
       "      Id  JP_Sales  Critic_Score  User_Count\n",
       "0  11703     10.22           NaN         NaN\n",
       "1  11704      2.93          58.0       129.0"
      ]
     },
     "execution_count": 142,
     "metadata": {},
     "output_type": "execute_result"
    }
   ],
   "source": [
    "knn_df_test.head(2)"
   ]
  },
  {
   "cell_type": "code",
   "execution_count": 143,
   "metadata": {
    "collapsed": true
   },
   "outputs": [
    {
     "name": "stdout",
     "output_type": "stream",
     "text": [
      "Imputing row 1/5016 with 2 missing, elapsed time: 3.775\n",
      "Imputing row 101/5016 with 0 missing, elapsed time: 3.781\n",
      "Imputing row 201/5016 with 2 missing, elapsed time: 3.786\n",
      "Imputing row 301/5016 with 0 missing, elapsed time: 3.792\n",
      "Imputing row 401/5016 with 0 missing, elapsed time: 3.797\n",
      "Imputing row 501/5016 with 2 missing, elapsed time: 3.802\n",
      "Imputing row 601/5016 with 0 missing, elapsed time: 3.806\n",
      "Imputing row 701/5016 with 2 missing, elapsed time: 3.811\n",
      "Imputing row 801/5016 with 0 missing, elapsed time: 3.817\n",
      "Imputing row 901/5016 with 2 missing, elapsed time: 3.823\n",
      "Imputing row 1001/5016 with 0 missing, elapsed time: 3.829\n",
      "Imputing row 1101/5016 with 0 missing, elapsed time: 3.836\n",
      "Imputing row 1201/5016 with 1 missing, elapsed time: 3.840\n",
      "Imputing row 1301/5016 with 2 missing, elapsed time: 3.846\n",
      "Imputing row 1401/5016 with 0 missing, elapsed time: 3.853\n",
      "Imputing row 1501/5016 with 0 missing, elapsed time: 3.861\n",
      "Imputing row 1601/5016 with 1 missing, elapsed time: 3.867\n",
      "Imputing row 1701/5016 with 2 missing, elapsed time: 3.873\n",
      "Imputing row 1801/5016 with 0 missing, elapsed time: 3.880\n",
      "Imputing row 1901/5016 with 2 missing, elapsed time: 3.887\n",
      "Imputing row 2001/5016 with 1 missing, elapsed time: 3.894\n",
      "Imputing row 2101/5016 with 0 missing, elapsed time: 3.901\n",
      "Imputing row 2201/5016 with 2 missing, elapsed time: 3.908\n",
      "Imputing row 2301/5016 with 0 missing, elapsed time: 3.915\n",
      "Imputing row 2401/5016 with 0 missing, elapsed time: 3.923\n",
      "Imputing row 2501/5016 with 2 missing, elapsed time: 3.931\n",
      "Imputing row 2601/5016 with 2 missing, elapsed time: 3.943\n",
      "Imputing row 2701/5016 with 2 missing, elapsed time: 3.954\n",
      "Imputing row 2801/5016 with 2 missing, elapsed time: 3.962\n",
      "Imputing row 2901/5016 with 0 missing, elapsed time: 3.972\n",
      "Imputing row 3001/5016 with 1 missing, elapsed time: 3.984\n",
      "Imputing row 3101/5016 with 0 missing, elapsed time: 3.992\n",
      "Imputing row 3201/5016 with 0 missing, elapsed time: 4.000\n",
      "Imputing row 3301/5016 with 1 missing, elapsed time: 4.008\n",
      "Imputing row 3401/5016 with 2 missing, elapsed time: 4.017\n",
      "Imputing row 3501/5016 with 0 missing, elapsed time: 4.025\n",
      "Imputing row 3601/5016 with 2 missing, elapsed time: 4.033\n",
      "Imputing row 3701/5016 with 2 missing, elapsed time: 4.042\n",
      "Imputing row 3801/5016 with 2 missing, elapsed time: 4.052\n",
      "Imputing row 3901/5016 with 2 missing, elapsed time: 4.060\n",
      "Imputing row 4001/5016 with 2 missing, elapsed time: 4.069\n",
      "Imputing row 4101/5016 with 2 missing, elapsed time: 4.077\n",
      "Imputing row 4201/5016 with 0 missing, elapsed time: 4.086\n",
      "Imputing row 4301/5016 with 2 missing, elapsed time: 4.095\n",
      "Imputing row 4401/5016 with 2 missing, elapsed time: 4.105\n",
      "Imputing row 4501/5016 with 1 missing, elapsed time: 4.115\n",
      "Imputing row 4601/5016 with 2 missing, elapsed time: 4.124\n",
      "Imputing row 4701/5016 with 2 missing, elapsed time: 4.135\n",
      "Imputing row 4801/5016 with 2 missing, elapsed time: 4.144\n",
      "Imputing row 4901/5016 with 2 missing, elapsed time: 4.155\n",
      "Imputing row 5001/5016 with 2 missing, elapsed time: 4.167\n"
     ]
    }
   ],
   "source": [
    "from fancyimpute import KNN\n",
    "\n",
    "# as fancyimpute removes column names, let's work around\n",
    "knn_df_test_cols = list(knn_df_test)\n",
    "\n",
    "knn_df_test = pd.DataFrame(KNN(k=3).fit_transform(knn_df_test))\n",
    "\n",
    "knn_df_test.columns = knn_df_test_cols"
   ]
  },
  {
   "cell_type": "code",
   "execution_count": 144,
   "metadata": {},
   "outputs": [
    {
     "data": {
      "text/html": [
       "<div>\n",
       "<style scoped>\n",
       "    .dataframe tbody tr th:only-of-type {\n",
       "        vertical-align: middle;\n",
       "    }\n",
       "\n",
       "    .dataframe tbody tr th {\n",
       "        vertical-align: top;\n",
       "    }\n",
       "\n",
       "    .dataframe thead th {\n",
       "        text-align: right;\n",
       "    }\n",
       "</style>\n",
       "<table border=\"1\" class=\"dataframe\">\n",
       "  <thead>\n",
       "    <tr style=\"text-align: right;\">\n",
       "      <th></th>\n",
       "      <th>Id</th>\n",
       "      <th>JP_Sales</th>\n",
       "      <th>Critic_Score</th>\n",
       "      <th>User_Count</th>\n",
       "    </tr>\n",
       "  </thead>\n",
       "  <tbody>\n",
       "    <tr>\n",
       "      <th>0</th>\n",
       "      <td>11703</td>\n",
       "      <td>10.22</td>\n",
       "      <td>73.550250</td>\n",
       "      <td>956.331713</td>\n",
       "    </tr>\n",
       "    <tr>\n",
       "      <th>1</th>\n",
       "      <td>11704</td>\n",
       "      <td>2.93</td>\n",
       "      <td>58.000000</td>\n",
       "      <td>129.000000</td>\n",
       "    </tr>\n",
       "    <tr>\n",
       "      <th>2</th>\n",
       "      <td>11705</td>\n",
       "      <td>0.28</td>\n",
       "      <td>82.363325</td>\n",
       "      <td>2333.761267</td>\n",
       "    </tr>\n",
       "  </tbody>\n",
       "</table>\n",
       "</div>"
      ],
      "text/plain": [
       "      Id  JP_Sales  Critic_Score   User_Count\n",
       "0  11703     10.22     73.550250   956.331713\n",
       "1  11704      2.93     58.000000   129.000000\n",
       "2  11705      0.28     82.363325  2333.761267"
      ]
     },
     "execution_count": 144,
     "metadata": {},
     "output_type": "execute_result"
    }
   ],
   "source": [
    "knn_df_test.Id = knn_df_test.Id.astype('int64')\n",
    "knn_df_test.head(3)"
   ]
  },
  {
   "cell_type": "code",
   "execution_count": 145,
   "metadata": {},
   "outputs": [],
   "source": [
    "df_test_final = pd.merge(left=df_test[['Id', 'Platform', 'Genre', 'Rating', 'Periods_of_Release']], \n",
    "                         right=knn_df_test,\n",
    "                         left_on='Id', right_on='Id')"
   ]
  },
  {
   "cell_type": "code",
   "execution_count": 146,
   "metadata": {},
   "outputs": [
    {
     "data": {
      "text/html": [
       "<div>\n",
       "<style scoped>\n",
       "    .dataframe tbody tr th:only-of-type {\n",
       "        vertical-align: middle;\n",
       "    }\n",
       "\n",
       "    .dataframe tbody tr th {\n",
       "        vertical-align: top;\n",
       "    }\n",
       "\n",
       "    .dataframe thead th {\n",
       "        text-align: right;\n",
       "    }\n",
       "</style>\n",
       "<table border=\"1\" class=\"dataframe\">\n",
       "  <thead>\n",
       "    <tr style=\"text-align: right;\">\n",
       "      <th></th>\n",
       "      <th>Id</th>\n",
       "      <th>Platform</th>\n",
       "      <th>Genre</th>\n",
       "      <th>Rating</th>\n",
       "      <th>Periods_of_Release</th>\n",
       "      <th>JP_Sales</th>\n",
       "      <th>Critic_Score</th>\n",
       "      <th>User_Count</th>\n",
       "    </tr>\n",
       "  </thead>\n",
       "  <tbody>\n",
       "    <tr>\n",
       "      <th>0</th>\n",
       "      <td>11703</td>\n",
       "      <td>GB</td>\n",
       "      <td>Role-Playing</td>\n",
       "      <td>None</td>\n",
       "      <td>1995-2000</td>\n",
       "      <td>10.22</td>\n",
       "      <td>73.550250</td>\n",
       "      <td>956.331713</td>\n",
       "    </tr>\n",
       "    <tr>\n",
       "      <th>1</th>\n",
       "      <td>11704</td>\n",
       "      <td>Wii</td>\n",
       "      <td>Misc</td>\n",
       "      <td>E</td>\n",
       "      <td>2005-2010</td>\n",
       "      <td>2.93</td>\n",
       "      <td>58.000000</td>\n",
       "      <td>129.000000</td>\n",
       "    </tr>\n",
       "    <tr>\n",
       "      <th>2</th>\n",
       "      <td>11705</td>\n",
       "      <td>NES</td>\n",
       "      <td>Shooter</td>\n",
       "      <td>None</td>\n",
       "      <td>Before 1995</td>\n",
       "      <td>0.28</td>\n",
       "      <td>82.363325</td>\n",
       "      <td>2333.761267</td>\n",
       "    </tr>\n",
       "    <tr>\n",
       "      <th>3</th>\n",
       "      <td>11706</td>\n",
       "      <td>DS</td>\n",
       "      <td>Simulation</td>\n",
       "      <td>None</td>\n",
       "      <td>2000-2005</td>\n",
       "      <td>1.93</td>\n",
       "      <td>85.019017</td>\n",
       "      <td>2545.442085</td>\n",
       "    </tr>\n",
       "    <tr>\n",
       "      <th>4</th>\n",
       "      <td>11707</td>\n",
       "      <td>PS3</td>\n",
       "      <td>Action</td>\n",
       "      <td>M</td>\n",
       "      <td>2010-2015</td>\n",
       "      <td>0.98</td>\n",
       "      <td>97.000000</td>\n",
       "      <td>3994.000000</td>\n",
       "    </tr>\n",
       "  </tbody>\n",
       "</table>\n",
       "</div>"
      ],
      "text/plain": [
       "      Id Platform         Genre Rating Periods_of_Release  JP_Sales  \\\n",
       "0  11703       GB  Role-Playing   None          1995-2000     10.22   \n",
       "1  11704      Wii          Misc      E          2005-2010      2.93   \n",
       "2  11705      NES       Shooter   None        Before 1995      0.28   \n",
       "3  11706       DS    Simulation   None          2000-2005      1.93   \n",
       "4  11707      PS3        Action      M          2010-2015      0.98   \n",
       "\n",
       "   Critic_Score   User_Count  \n",
       "0     73.550250   956.331713  \n",
       "1     58.000000   129.000000  \n",
       "2     82.363325  2333.761267  \n",
       "3     85.019017  2545.442085  \n",
       "4     97.000000  3994.000000  "
      ]
     },
     "execution_count": 146,
     "metadata": {},
     "output_type": "execute_result"
    }
   ],
   "source": [
    "df_test_final.head()"
   ]
  },
  {
   "cell_type": "code",
   "execution_count": 147,
   "metadata": {},
   "outputs": [
    {
     "name": "stdout",
     "output_type": "stream",
     "text": [
      "<class 'pandas.core.frame.DataFrame'>\n",
      "Int64Index: 5016 entries, 0 to 5015\n",
      "Data columns (total 8 columns):\n",
      "Id                    5016 non-null int64\n",
      "Platform              5016 non-null object\n",
      "Genre                 5016 non-null object\n",
      "Rating                5016 non-null object\n",
      "Periods_of_Release    5016 non-null object\n",
      "JP_Sales              5016 non-null float64\n",
      "Critic_Score          5016 non-null float64\n",
      "User_Count            5016 non-null float64\n",
      "dtypes: float64(3), int64(1), object(4)\n",
      "memory usage: 352.7+ KB\n"
     ]
    }
   ],
   "source": [
    "df_test_final.info()"
   ]
  },
  {
   "cell_type": "markdown",
   "metadata": {},
   "source": [
    "*Back to: <a href='#Table of contents'> Table of contents</a>*\n",
    "\n",
    "**2.7. Handling `Platform` column**\n",
    "<a id='2.7. Handling Platform column'></a>"
   ]
  },
  {
   "cell_type": "code",
   "execution_count": 148,
   "metadata": {},
   "outputs": [],
   "source": [
    "#df_train_final.Platform.value_counts()"
   ]
  },
  {
   "cell_type": "code",
   "execution_count": 149,
   "metadata": {},
   "outputs": [],
   "source": [
    "#df_train_final = df_train_final.groupby('Platform').filter(lambda x: len(x) > 100)"
   ]
  },
  {
   "cell_type": "code",
   "execution_count": 150,
   "metadata": {},
   "outputs": [],
   "source": [
    "#df_train_final.info()"
   ]
  },
  {
   "cell_type": "markdown",
   "metadata": {},
   "source": [
    "*Back to: <a href='#Table of contents'> Table of contents</a>*\n",
    "\n",
    "### 3. Modeling the Train Data \n",
    "<a id='3. Modeling the Train Data'></a>"
   ]
  },
  {
   "cell_type": "markdown",
   "metadata": {},
   "source": [
    "*Preparing Target & Features*"
   ]
  },
  {
   "cell_type": "code",
   "execution_count": 151,
   "metadata": {},
   "outputs": [],
   "source": [
    "df_training = df_train_final.drop(['Id'], axis=1)"
   ]
  },
  {
   "cell_type": "code",
   "execution_count": 152,
   "metadata": {},
   "outputs": [
    {
     "name": "stdout",
     "output_type": "stream",
     "text": [
      "<class 'pandas.core.frame.DataFrame'>\n",
      "Int64Index: 8683 entries, 0 to 11700\n",
      "Data columns (total 8 columns):\n",
      "Platform              8683 non-null category\n",
      "Genre                 8683 non-null category\n",
      "Rating                8683 non-null category\n",
      "Periods_of_Release    8683 non-null category\n",
      "NA_Sales              8683 non-null float64\n",
      "JP_Sales              8683 non-null float64\n",
      "Critic_Score          8683 non-null float64\n",
      "User_Count            8683 non-null float64\n",
      "dtypes: category(4), float64(4)\n",
      "memory usage: 375.5 KB\n"
     ]
    }
   ],
   "source": [
    "# convert string values in object columns into categorical values\n",
    "df_training['Platform']           = df_training['Platform'].astype('category')\n",
    "df_training['Genre']              = df_training['Genre'].astype('category')\n",
    "df_training['Rating']             = df_training['Rating'].astype('category')\n",
    "df_training['Periods_of_Release'] = df_training['Periods_of_Release'].astype('category')\n",
    "\n",
    "df_training.info()"
   ]
  },
  {
   "cell_type": "code",
   "execution_count": 153,
   "metadata": {},
   "outputs": [],
   "source": [
    "# define our features \n",
    "train_features_1 = df_training.drop(['NA_Sales'], axis=1)\n",
    "\n",
    "# define our target\n",
    "target = df_training[['NA_Sales']]"
   ]
  },
  {
   "cell_type": "markdown",
   "metadata": {},
   "source": [
    "*Recoding Categorical Features*"
   ]
  },
  {
   "cell_type": "code",
   "execution_count": 154,
   "metadata": {},
   "outputs": [],
   "source": [
    "# create dummy variables of all categorical features\n",
    "train_features_1 = pd.get_dummies(train_features_1)"
   ]
  },
  {
   "cell_type": "markdown",
   "metadata": {},
   "source": [
    "*Train-Test-Split*"
   ]
  },
  {
   "cell_type": "code",
   "execution_count": 155,
   "metadata": {},
   "outputs": [],
   "source": [
    "# import train_test_split function\n",
    "from sklearn.model_selection import train_test_split\n",
    "\n",
    "# split our data\n",
    "X_train, X_test, y_train, y_test = train_test_split(train_features_1, target, test_size=0.25, random_state=40)"
   ]
  },
  {
   "cell_type": "markdown",
   "metadata": {},
   "source": [
    "*Scaling the Data*"
   ]
  },
  {
   "cell_type": "code",
   "execution_count": 156,
   "metadata": {},
   "outputs": [],
   "source": [
    "from sklearn.preprocessing import MinMaxScaler\n",
    "scaler = MinMaxScaler()\n",
    "scaler.fit(X_train)\n",
    "X_train = scaler.transform(X_train) \n",
    "X_test = scaler.transform(X_test)"
   ]
  },
  {
   "cell_type": "markdown",
   "metadata": {},
   "source": [
    "*Training XGBoost*"
   ]
  },
  {
   "cell_type": "code",
   "execution_count": 157,
   "metadata": {},
   "outputs": [],
   "source": [
    "# create a baseline\n",
    "booster = xgb.XGBRegressor()"
   ]
  },
  {
   "cell_type": "code",
   "execution_count": 68,
   "metadata": {},
   "outputs": [
    {
     "ename": "KeyboardInterrupt",
     "evalue": "",
     "output_type": "error",
     "traceback": [
      "\u001b[0;31m---------------------------------------------------------------------------\u001b[0m",
      "\u001b[0;31mKeyboardInterrupt\u001b[0m                         Traceback (most recent call last)",
      "\u001b[0;32m<ipython-input-68-7b444d922634>\u001b[0m in \u001b[0;36m<module>\u001b[0;34m\u001b[0m\n\u001b[1;32m     12\u001b[0m \u001b[0;34m\u001b[0m\u001b[0m\n\u001b[1;32m     13\u001b[0m \u001b[0;31m# train the tuned random forest\u001b[0m\u001b[0;34m\u001b[0m\u001b[0;34m\u001b[0m\u001b[0;34m\u001b[0m\u001b[0m\n\u001b[0;32m---> 14\u001b[0;31m \u001b[0mbooster_grid_search\u001b[0m\u001b[0;34m.\u001b[0m\u001b[0mfit\u001b[0m\u001b[0;34m(\u001b[0m\u001b[0mX_train\u001b[0m\u001b[0;34m,\u001b[0m \u001b[0my_train\u001b[0m\u001b[0;34m)\u001b[0m\u001b[0;34m\u001b[0m\u001b[0;34m\u001b[0m\u001b[0m\n\u001b[0m\u001b[1;32m     15\u001b[0m \u001b[0;34m\u001b[0m\u001b[0m\n\u001b[1;32m     16\u001b[0m \u001b[0;31m# print best estimator parameters found during the grid search\u001b[0m\u001b[0;34m\u001b[0m\u001b[0;34m\u001b[0m\u001b[0;34m\u001b[0m\u001b[0m\n",
      "\u001b[0;32m/anaconda3/lib/python3.6/site-packages/sklearn/model_selection/_search.py\u001b[0m in \u001b[0;36mfit\u001b[0;34m(self, X, y, groups, **fit_params)\u001b[0m\n\u001b[1;32m    720\u001b[0m                 \u001b[0;32mreturn\u001b[0m \u001b[0mresults_container\u001b[0m\u001b[0;34m[\u001b[0m\u001b[0;36m0\u001b[0m\u001b[0;34m]\u001b[0m\u001b[0;34m\u001b[0m\u001b[0;34m\u001b[0m\u001b[0m\n\u001b[1;32m    721\u001b[0m \u001b[0;34m\u001b[0m\u001b[0m\n\u001b[0;32m--> 722\u001b[0;31m             \u001b[0mself\u001b[0m\u001b[0;34m.\u001b[0m\u001b[0m_run_search\u001b[0m\u001b[0;34m(\u001b[0m\u001b[0mevaluate_candidates\u001b[0m\u001b[0;34m)\u001b[0m\u001b[0;34m\u001b[0m\u001b[0;34m\u001b[0m\u001b[0m\n\u001b[0m\u001b[1;32m    723\u001b[0m \u001b[0;34m\u001b[0m\u001b[0m\n\u001b[1;32m    724\u001b[0m         \u001b[0mresults\u001b[0m \u001b[0;34m=\u001b[0m \u001b[0mresults_container\u001b[0m\u001b[0;34m[\u001b[0m\u001b[0;36m0\u001b[0m\u001b[0;34m]\u001b[0m\u001b[0;34m\u001b[0m\u001b[0;34m\u001b[0m\u001b[0m\n",
      "\u001b[0;32m/anaconda3/lib/python3.6/site-packages/sklearn/model_selection/_search.py\u001b[0m in \u001b[0;36m_run_search\u001b[0;34m(self, evaluate_candidates)\u001b[0m\n\u001b[1;32m   1189\u001b[0m     \u001b[0;32mdef\u001b[0m \u001b[0m_run_search\u001b[0m\u001b[0;34m(\u001b[0m\u001b[0mself\u001b[0m\u001b[0;34m,\u001b[0m \u001b[0mevaluate_candidates\u001b[0m\u001b[0;34m)\u001b[0m\u001b[0;34m:\u001b[0m\u001b[0;34m\u001b[0m\u001b[0;34m\u001b[0m\u001b[0m\n\u001b[1;32m   1190\u001b[0m         \u001b[0;34m\"\"\"Search all candidates in param_grid\"\"\"\u001b[0m\u001b[0;34m\u001b[0m\u001b[0;34m\u001b[0m\u001b[0m\n\u001b[0;32m-> 1191\u001b[0;31m         \u001b[0mevaluate_candidates\u001b[0m\u001b[0;34m(\u001b[0m\u001b[0mParameterGrid\u001b[0m\u001b[0;34m(\u001b[0m\u001b[0mself\u001b[0m\u001b[0;34m.\u001b[0m\u001b[0mparam_grid\u001b[0m\u001b[0;34m)\u001b[0m\u001b[0;34m)\u001b[0m\u001b[0;34m\u001b[0m\u001b[0;34m\u001b[0m\u001b[0m\n\u001b[0m\u001b[1;32m   1192\u001b[0m \u001b[0;34m\u001b[0m\u001b[0m\n\u001b[1;32m   1193\u001b[0m \u001b[0;34m\u001b[0m\u001b[0m\n",
      "\u001b[0;32m/anaconda3/lib/python3.6/site-packages/sklearn/model_selection/_search.py\u001b[0m in \u001b[0;36mevaluate_candidates\u001b[0;34m(candidate_params)\u001b[0m\n\u001b[1;32m    709\u001b[0m                                \u001b[0;32mfor\u001b[0m \u001b[0mparameters\u001b[0m\u001b[0;34m,\u001b[0m \u001b[0;34m(\u001b[0m\u001b[0mtrain\u001b[0m\u001b[0;34m,\u001b[0m \u001b[0mtest\u001b[0m\u001b[0;34m)\u001b[0m\u001b[0;34m\u001b[0m\u001b[0;34m\u001b[0m\u001b[0m\n\u001b[1;32m    710\u001b[0m                                in product(candidate_params,\n\u001b[0;32m--> 711\u001b[0;31m                                           cv.split(X, y, groups)))\n\u001b[0m\u001b[1;32m    712\u001b[0m \u001b[0;34m\u001b[0m\u001b[0m\n\u001b[1;32m    713\u001b[0m                 \u001b[0mall_candidate_params\u001b[0m\u001b[0;34m.\u001b[0m\u001b[0mextend\u001b[0m\u001b[0;34m(\u001b[0m\u001b[0mcandidate_params\u001b[0m\u001b[0;34m)\u001b[0m\u001b[0;34m\u001b[0m\u001b[0;34m\u001b[0m\u001b[0m\n",
      "\u001b[0;32m/anaconda3/lib/python3.6/site-packages/sklearn/externals/joblib/parallel.py\u001b[0m in \u001b[0;36m__call__\u001b[0;34m(self, iterable)\u001b[0m\n\u001b[1;32m    928\u001b[0m \u001b[0;34m\u001b[0m\u001b[0m\n\u001b[1;32m    929\u001b[0m             \u001b[0;32mwith\u001b[0m \u001b[0mself\u001b[0m\u001b[0;34m.\u001b[0m\u001b[0m_backend\u001b[0m\u001b[0;34m.\u001b[0m\u001b[0mretrieval_context\u001b[0m\u001b[0;34m(\u001b[0m\u001b[0;34m)\u001b[0m\u001b[0;34m:\u001b[0m\u001b[0;34m\u001b[0m\u001b[0;34m\u001b[0m\u001b[0m\n\u001b[0;32m--> 930\u001b[0;31m                 \u001b[0mself\u001b[0m\u001b[0;34m.\u001b[0m\u001b[0mretrieve\u001b[0m\u001b[0;34m(\u001b[0m\u001b[0;34m)\u001b[0m\u001b[0;34m\u001b[0m\u001b[0;34m\u001b[0m\u001b[0m\n\u001b[0m\u001b[1;32m    931\u001b[0m             \u001b[0;31m# Make sure that we get a last message telling us we are done\u001b[0m\u001b[0;34m\u001b[0m\u001b[0;34m\u001b[0m\u001b[0;34m\u001b[0m\u001b[0m\n\u001b[1;32m    932\u001b[0m             \u001b[0melapsed_time\u001b[0m \u001b[0;34m=\u001b[0m \u001b[0mtime\u001b[0m\u001b[0;34m.\u001b[0m\u001b[0mtime\u001b[0m\u001b[0;34m(\u001b[0m\u001b[0;34m)\u001b[0m \u001b[0;34m-\u001b[0m \u001b[0mself\u001b[0m\u001b[0;34m.\u001b[0m\u001b[0m_start_time\u001b[0m\u001b[0;34m\u001b[0m\u001b[0;34m\u001b[0m\u001b[0m\n",
      "\u001b[0;32m/anaconda3/lib/python3.6/site-packages/sklearn/externals/joblib/parallel.py\u001b[0m in \u001b[0;36mretrieve\u001b[0;34m(self)\u001b[0m\n\u001b[1;32m    831\u001b[0m             \u001b[0;32mtry\u001b[0m\u001b[0;34m:\u001b[0m\u001b[0;34m\u001b[0m\u001b[0;34m\u001b[0m\u001b[0m\n\u001b[1;32m    832\u001b[0m                 \u001b[0;32mif\u001b[0m \u001b[0mgetattr\u001b[0m\u001b[0;34m(\u001b[0m\u001b[0mself\u001b[0m\u001b[0;34m.\u001b[0m\u001b[0m_backend\u001b[0m\u001b[0;34m,\u001b[0m \u001b[0;34m'supports_timeout'\u001b[0m\u001b[0;34m,\u001b[0m \u001b[0;32mFalse\u001b[0m\u001b[0;34m)\u001b[0m\u001b[0;34m:\u001b[0m\u001b[0;34m\u001b[0m\u001b[0;34m\u001b[0m\u001b[0m\n\u001b[0;32m--> 833\u001b[0;31m                     \u001b[0mself\u001b[0m\u001b[0;34m.\u001b[0m\u001b[0m_output\u001b[0m\u001b[0;34m.\u001b[0m\u001b[0mextend\u001b[0m\u001b[0;34m(\u001b[0m\u001b[0mjob\u001b[0m\u001b[0;34m.\u001b[0m\u001b[0mget\u001b[0m\u001b[0;34m(\u001b[0m\u001b[0mtimeout\u001b[0m\u001b[0;34m=\u001b[0m\u001b[0mself\u001b[0m\u001b[0;34m.\u001b[0m\u001b[0mtimeout\u001b[0m\u001b[0;34m)\u001b[0m\u001b[0;34m)\u001b[0m\u001b[0;34m\u001b[0m\u001b[0;34m\u001b[0m\u001b[0m\n\u001b[0m\u001b[1;32m    834\u001b[0m                 \u001b[0;32melse\u001b[0m\u001b[0;34m:\u001b[0m\u001b[0;34m\u001b[0m\u001b[0;34m\u001b[0m\u001b[0m\n\u001b[1;32m    835\u001b[0m                     \u001b[0mself\u001b[0m\u001b[0;34m.\u001b[0m\u001b[0m_output\u001b[0m\u001b[0;34m.\u001b[0m\u001b[0mextend\u001b[0m\u001b[0;34m(\u001b[0m\u001b[0mjob\u001b[0m\u001b[0;34m.\u001b[0m\u001b[0mget\u001b[0m\u001b[0;34m(\u001b[0m\u001b[0;34m)\u001b[0m\u001b[0;34m)\u001b[0m\u001b[0;34m\u001b[0m\u001b[0;34m\u001b[0m\u001b[0m\n",
      "\u001b[0;32m/anaconda3/lib/python3.6/site-packages/sklearn/externals/joblib/_parallel_backends.py\u001b[0m in \u001b[0;36mwrap_future_result\u001b[0;34m(future, timeout)\u001b[0m\n\u001b[1;32m    519\u001b[0m         AsyncResults.get from multiprocessing.\"\"\"\n\u001b[1;32m    520\u001b[0m         \u001b[0;32mtry\u001b[0m\u001b[0;34m:\u001b[0m\u001b[0;34m\u001b[0m\u001b[0;34m\u001b[0m\u001b[0m\n\u001b[0;32m--> 521\u001b[0;31m             \u001b[0;32mreturn\u001b[0m \u001b[0mfuture\u001b[0m\u001b[0;34m.\u001b[0m\u001b[0mresult\u001b[0m\u001b[0;34m(\u001b[0m\u001b[0mtimeout\u001b[0m\u001b[0;34m=\u001b[0m\u001b[0mtimeout\u001b[0m\u001b[0;34m)\u001b[0m\u001b[0;34m\u001b[0m\u001b[0;34m\u001b[0m\u001b[0m\n\u001b[0m\u001b[1;32m    522\u001b[0m         \u001b[0;32mexcept\u001b[0m \u001b[0mLokyTimeoutError\u001b[0m\u001b[0;34m:\u001b[0m\u001b[0;34m\u001b[0m\u001b[0;34m\u001b[0m\u001b[0m\n\u001b[1;32m    523\u001b[0m             \u001b[0;32mraise\u001b[0m \u001b[0mTimeoutError\u001b[0m\u001b[0;34m(\u001b[0m\u001b[0;34m)\u001b[0m\u001b[0;34m\u001b[0m\u001b[0;34m\u001b[0m\u001b[0m\n",
      "\u001b[0;32m/anaconda3/lib/python3.6/concurrent/futures/_base.py\u001b[0m in \u001b[0;36mresult\u001b[0;34m(self, timeout)\u001b[0m\n\u001b[1;32m    425\u001b[0m                 \u001b[0;32mreturn\u001b[0m \u001b[0mself\u001b[0m\u001b[0;34m.\u001b[0m\u001b[0m__get_result\u001b[0m\u001b[0;34m(\u001b[0m\u001b[0;34m)\u001b[0m\u001b[0;34m\u001b[0m\u001b[0;34m\u001b[0m\u001b[0m\n\u001b[1;32m    426\u001b[0m \u001b[0;34m\u001b[0m\u001b[0m\n\u001b[0;32m--> 427\u001b[0;31m             \u001b[0mself\u001b[0m\u001b[0;34m.\u001b[0m\u001b[0m_condition\u001b[0m\u001b[0;34m.\u001b[0m\u001b[0mwait\u001b[0m\u001b[0;34m(\u001b[0m\u001b[0mtimeout\u001b[0m\u001b[0;34m)\u001b[0m\u001b[0;34m\u001b[0m\u001b[0;34m\u001b[0m\u001b[0m\n\u001b[0m\u001b[1;32m    428\u001b[0m \u001b[0;34m\u001b[0m\u001b[0m\n\u001b[1;32m    429\u001b[0m             \u001b[0;32mif\u001b[0m \u001b[0mself\u001b[0m\u001b[0;34m.\u001b[0m\u001b[0m_state\u001b[0m \u001b[0;32min\u001b[0m \u001b[0;34m[\u001b[0m\u001b[0mCANCELLED\u001b[0m\u001b[0;34m,\u001b[0m \u001b[0mCANCELLED_AND_NOTIFIED\u001b[0m\u001b[0;34m]\u001b[0m\u001b[0;34m:\u001b[0m\u001b[0;34m\u001b[0m\u001b[0;34m\u001b[0m\u001b[0m\n",
      "\u001b[0;32m/anaconda3/lib/python3.6/threading.py\u001b[0m in \u001b[0;36mwait\u001b[0;34m(self, timeout)\u001b[0m\n\u001b[1;32m    293\u001b[0m         \u001b[0;32mtry\u001b[0m\u001b[0;34m:\u001b[0m    \u001b[0;31m# restore state no matter what (e.g., KeyboardInterrupt)\u001b[0m\u001b[0;34m\u001b[0m\u001b[0;34m\u001b[0m\u001b[0m\n\u001b[1;32m    294\u001b[0m             \u001b[0;32mif\u001b[0m \u001b[0mtimeout\u001b[0m \u001b[0;32mis\u001b[0m \u001b[0;32mNone\u001b[0m\u001b[0;34m:\u001b[0m\u001b[0;34m\u001b[0m\u001b[0;34m\u001b[0m\u001b[0m\n\u001b[0;32m--> 295\u001b[0;31m                 \u001b[0mwaiter\u001b[0m\u001b[0;34m.\u001b[0m\u001b[0macquire\u001b[0m\u001b[0;34m(\u001b[0m\u001b[0;34m)\u001b[0m\u001b[0;34m\u001b[0m\u001b[0;34m\u001b[0m\u001b[0m\n\u001b[0m\u001b[1;32m    296\u001b[0m                 \u001b[0mgotit\u001b[0m \u001b[0;34m=\u001b[0m \u001b[0;32mTrue\u001b[0m\u001b[0;34m\u001b[0m\u001b[0;34m\u001b[0m\u001b[0m\n\u001b[1;32m    297\u001b[0m             \u001b[0;32melse\u001b[0m\u001b[0;34m:\u001b[0m\u001b[0;34m\u001b[0m\u001b[0;34m\u001b[0m\u001b[0m\n",
      "\u001b[0;31mKeyboardInterrupt\u001b[0m: "
     ]
    }
   ],
   "source": [
    "from sklearn.model_selection import GridSearchCV\n",
    "\n",
    "# create Grid\n",
    "param_grid = {'n_estimators': [100, 150, 200],\n",
    "              'learning_rate': [0.01, 0.05, 0.1], \n",
    "              'max_depth': [3, 4, 5, 6, 7],\n",
    "              'colsample_bytree': [0.6, 0.7, 1],\n",
    "              'gamma': [0.0, 0.1, 0.2]}\n",
    "\n",
    "# instantiate the tuned random forest\n",
    "booster_grid_search = GridSearchCV(booster, param_grid, cv=3, n_jobs=-1)\n",
    "\n",
    "# train the tuned random forest\n",
    "booster_grid_search.fit(X_train, y_train)\n",
    "\n",
    "# print best estimator parameters found during the grid search\n",
    "print(booster_grid_search.best_params_)"
   ]
  },
  {
   "cell_type": "code",
   "execution_count": 158,
   "metadata": {},
   "outputs": [],
   "source": [
    "# instantiate xgboost with best parameters\n",
    "booster_1 = xgb.XGBRegressor(colsample_bytree=0.6, gamma=0.2, learning_rate=0.05, \n",
    "                             max_depth=5, n_estimators=200, random_state=4)\n",
    "\n",
    "# train\n",
    "booster_1.fit(X_train, y_train)\n",
    "\n",
    "# predict\n",
    "y_pred_train_1 = booster_1.predict(X_train)\n",
    "y_pred_test_1  = booster_1.predict(X_test)"
   ]
  },
  {
   "cell_type": "code",
   "execution_count": 159,
   "metadata": {},
   "outputs": [
    {
     "name": "stdout",
     "output_type": "stream",
     "text": [
      "RMSE: 0.471\n",
      "r2: 0.3056\n"
     ]
    }
   ],
   "source": [
    "# import metrics\n",
    "from sklearn.metrics import mean_squared_error, r2_score\n",
    "\n",
    "RMSE = np.sqrt(mean_squared_error(y_test, y_pred_test_1))\n",
    "print(f\"RMSE: {round(RMSE, 4)}\")\n",
    "\n",
    "r2 = r2_score(y_test, y_pred_test_1)\n",
    "print(f\"r2: {round(r2, 4)}\")"
   ]
  },
  {
   "cell_type": "code",
   "execution_count": 161,
   "metadata": {},
   "outputs": [
    {
     "data": {
      "image/png": "[encoded data removed]",
      "text/plain": [
       "<Figure size 720x360 with 1 Axes>"
      ]
     },
     "metadata": {},
     "output_type": "display_data"
    }
   ],
   "source": [
    "# plot the important features\n",
    "feat_importances = pd.Series(booster_1.feature_importances_, index=train_features_1.columns)\n",
    "feat_importances.nlargest(15).sort_values().plot(kind='barh', color='darkgrey', figsize=(10,5))\n",
    "plt.xlabel('Relative Feature Importance with XGBoost');"
   ]
  },
  {
   "cell_type": "markdown",
   "metadata": {},
   "source": [
    "*Second Try*"
   ]
  },
  {
   "cell_type": "code",
   "execution_count": 162,
   "metadata": {},
   "outputs": [],
   "source": [
    "# define our new features \n",
    "train_features_2 = df_training.drop(['NA_Sales', 'Platform', 'Genre', 'Rating', 'Periods_of_Release'], axis=1)"
   ]
  },
  {
   "cell_type": "code",
   "execution_count": 163,
   "metadata": {},
   "outputs": [],
   "source": [
    "# import train_test_split function\n",
    "from sklearn.model_selection import train_test_split\n",
    "\n",
    "# split our data\n",
    "X_train, X_test, y_train, y_test = train_test_split(train_features_2, target, test_size=0.25, random_state=40)"
   ]
  },
  {
   "cell_type": "code",
   "execution_count": 164,
   "metadata": {},
   "outputs": [],
   "source": [
    "# scaling the data\n",
    "from sklearn.preprocessing import MinMaxScaler\n",
    "scaler = MinMaxScaler()\n",
    "scaler.fit(X_train)\n",
    "X_train = scaler.transform(X_train) \n",
    "X_test = scaler.transform(X_test)"
   ]
  },
  {
   "cell_type": "code",
   "execution_count": 165,
   "metadata": {},
   "outputs": [],
   "source": [
    "# instantiate xgboost with best parameters\n",
    "booster_2 = xgb.XGBRegressor(colsample_bytree=0.6, gamma=0.2, learning_rate=0.05, \n",
    "                             max_depth=5, n_estimators=200, random_state=4)\n",
    "\n",
    "# train\n",
    "booster_2.fit(X_train, y_train)\n",
    "\n",
    "# predict\n",
    "y_pred_train_2 = booster_2.predict(X_train)\n",
    "y_pred_test_2  = booster_2.predict(X_test)"
   ]
  },
  {
   "cell_type": "code",
   "execution_count": 166,
   "metadata": {},
   "outputs": [
    {
     "name": "stdout",
     "output_type": "stream",
     "text": [
      "RMSE: 0.5362\n",
      "r2: 0.1001\n"
     ]
    }
   ],
   "source": [
    "# import metrics\n",
    "from sklearn.metrics import mean_squared_error, r2_score\n",
    "\n",
    "RMSE = np.sqrt(mean_squared_error(y_test, y_pred_test_2))\n",
    "print(f\"RMSE: {round(RMSE, 4)}\")\n",
    "\n",
    "r2 = r2_score(y_test, y_pred_test_2)\n",
    "print(f\"r2: {round(r2, 4)}\")"
   ]
  },
  {
   "cell_type": "code",
   "execution_count": 170,
   "metadata": {},
   "outputs": [
    {
     "data": {
      "image/png": "[encoded data removed]",
      "text/plain": [
       "<Figure size 720x360 with 1 Axes>"
      ]
     },
     "metadata": {},
     "output_type": "display_data"
    }
   ],
   "source": [
    "# plot the important features\n",
    "feat_importances = pd.Series(booster_2.feature_importances_, index=train_features_2.columns)\n",
    "feat_importances.sort_values().plot(kind='barh', color='darkgrey', figsize=(10,5))\n",
    "plt.xlabel('Relative Feature Importance with XGBoost');"
   ]
  },
  {
   "cell_type": "markdown",
   "metadata": {},
   "source": [
    "*Back to: <a href='#Table of contents'> Table of contents</a>*\n",
    "\n",
    "### 4. Predicting on Test Set\n",
    "<a id='4. Predicting on Test Set'></a>"
   ]
  },
  {
   "cell_type": "markdown",
   "metadata": {},
   "source": [
    "*Preparing Target & Features*"
   ]
  },
  {
   "cell_type": "code",
   "execution_count": 73,
   "metadata": {},
   "outputs": [],
   "source": [
    "df_test_final = df_test_final.drop(['Id'], axis=1)"
   ]
  },
  {
   "cell_type": "code",
   "execution_count": 74,
   "metadata": {},
   "outputs": [
    {
     "name": "stdout",
     "output_type": "stream",
     "text": [
      "<class 'pandas.core.frame.DataFrame'>\n",
      "Int64Index: 5016 entries, 0 to 5015\n",
      "Data columns (total 7 columns):\n",
      "Platform              5016 non-null category\n",
      "Genre                 5016 non-null category\n",
      "Rating                5016 non-null category\n",
      "Periods_of_Release    5016 non-null category\n",
      "JP_Sales              5016 non-null float64\n",
      "Critic_Score          5016 non-null float64\n",
      "User_Count            5016 non-null float64\n",
      "dtypes: category(4), float64(3)\n",
      "memory usage: 178.8 KB\n"
     ]
    }
   ],
   "source": [
    "# convert string values in object columns into categorical values\n",
    "df_test_final['Platform']           = df_test_final['Platform'].astype('category')\n",
    "df_test_final['Genre']              = df_test_final['Genre'].astype('category')\n",
    "df_test_final['Rating']             = df_test_final['Rating'].astype('category')\n",
    "df_test_final['Periods_of_Release'] = df_test_final['Periods_of_Release'].astype('category')\n",
    "\n",
    "df_test_final.info()"
   ]
  },
  {
   "cell_type": "code",
   "execution_count": 86,
   "metadata": {},
   "outputs": [],
   "source": [
    "# define our features \n",
    "features = df_test_final[['JP_Sales', 'Critic_Score', 'User_Count']]\n",
    "\n",
    "# define our target\n",
    "#target = df_train_final[[\"NA_Sales\"]]"
   ]
  },
  {
   "cell_type": "markdown",
   "metadata": {},
   "source": [
    "*Recoding Categorical Features*"
   ]
  },
  {
   "cell_type": "code",
   "execution_count": 76,
   "metadata": {},
   "outputs": [],
   "source": [
    "# create dummy variables of all categorical features\n",
    "#features = pd.get_dummies(features)"
   ]
  },
  {
   "cell_type": "markdown",
   "metadata": {},
   "source": [
    "*Scaling the Data*"
   ]
  },
  {
   "cell_type": "code",
   "execution_count": 87,
   "metadata": {},
   "outputs": [],
   "source": [
    "from sklearn.preprocessing import MinMaxScaler\n",
    "scaler = MinMaxScaler()\n",
    "scaler.fit(features)\n",
    "features = scaler.transform(features) \n",
    "#X_test = scaler.transform(X_test)"
   ]
  },
  {
   "cell_type": "code",
   "execution_count": null,
   "metadata": {},
   "outputs": [],
   "source": []
  },
  {
   "cell_type": "code",
   "execution_count": null,
   "metadata": {},
   "outputs": [],
   "source": []
  },
  {
   "cell_type": "markdown",
   "metadata": {},
   "source": [
    "*Predict*"
   ]
  },
  {
   "cell_type": "code",
   "execution_count": 88,
   "metadata": {},
   "outputs": [],
   "source": [
    "# predict\n",
    "na_sales_pred = booster.predict(features)"
   ]
  },
  {
   "cell_type": "code",
   "execution_count": 89,
   "metadata": {},
   "outputs": [
    {
     "data": {
      "text/plain": [
       "numpy.ndarray"
      ]
     },
     "execution_count": 89,
     "metadata": {},
     "output_type": "execute_result"
    }
   ],
   "source": [
    "type(na_sales_pred)"
   ]
  },
  {
   "cell_type": "code",
   "execution_count": 90,
   "metadata": {},
   "outputs": [
    {
     "data": {
      "text/plain": [
       "pandas.core.frame.DataFrame"
      ]
     },
     "execution_count": 90,
     "metadata": {},
     "output_type": "execute_result"
    }
   ],
   "source": [
    "na_sales_pred = pd.DataFrame()\n",
    "type(na_sales_pred)"
   ]
  },
  {
   "cell_type": "code",
   "execution_count": 91,
   "metadata": {},
   "outputs": [
    {
     "data": {
      "text/html": [
       "<div>\n",
       "<style scoped>\n",
       "    .dataframe tbody tr th:only-of-type {\n",
       "        vertical-align: middle;\n",
       "    }\n",
       "\n",
       "    .dataframe tbody tr th {\n",
       "        vertical-align: top;\n",
       "    }\n",
       "\n",
       "    .dataframe thead th {\n",
       "        text-align: right;\n",
       "    }\n",
       "</style>\n",
       "<table border=\"1\" class=\"dataframe\">\n",
       "  <thead>\n",
       "    <tr style=\"text-align: right;\">\n",
       "      <th></th>\n",
       "    </tr>\n",
       "  </thead>\n",
       "  <tbody>\n",
       "  </tbody>\n",
       "</table>\n",
       "</div>"
      ],
      "text/plain": [
       "Empty DataFrame\n",
       "Columns: []\n",
       "Index: []"
      ]
     },
     "execution_count": 91,
     "metadata": {},
     "output_type": "execute_result"
    }
   ],
   "source": [
    "na_sales_pred.head()"
   ]
  },
  {
   "cell_type": "code",
   "execution_count": null,
   "metadata": {},
   "outputs": [],
   "source": []
  }
 ],
 "metadata": {
  "kernelspec": {
   "display_name": "Python 3",
   "language": "python",
   "name": "python3"
  },
  "language_info": {
   "codemirror_mode": {
    "name": "ipython",
    "version": 3
   },
   "file_extension": ".py",
   "mimetype": "text/x-python",
   "name": "python",
   "nbconvert_exporter": "python",
   "pygments_lexer": "ipython3",
   "version": "3.6.8"
  }
 },
 "nbformat": 4,
 "nbformat_minor": 2
}
