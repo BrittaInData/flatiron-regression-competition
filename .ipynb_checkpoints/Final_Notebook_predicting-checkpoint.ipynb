{
 "cells": [
  {
   "cell_type": "markdown",
   "metadata": {},
   "source": [
    "# Flatiron School: Use your regression skills to save the Galaxy\n",
    "\n",
    "### InClass prediction Competition"
   ]
  },
  {
   "cell_type": "markdown",
   "metadata": {},
   "source": [
    "### Table of Contents\n",
    "<a id='Table of contents'></a>\n",
    "\n",
    "### <a href='#1. Obtaining and Viewing the Data'> 1. Obtaining and Viewing the Data </a>\n",
    "\n",
    "### <a href='#2. Preprocessing the Data'> 2. Preprocessing the Data </a>\n",
    "* <a href='#2.1. Handling Genre column'> 2.1. Handling Genre column </a>\n",
    "* <a href='#2.2. Handling Rating column'> 2.2. Handling Rating column</a>\n",
    "* <a href='#2.3. Handling Year_of_Release column'> 2.3. Handling Year_of_Release column </a>\n",
    "* <a href='#2.4. Handling Critic_Score and Critic_Count columns'> 2.4. Handling Critic_Score and Critic_Count columns </a>\n",
    "* <a href='#2.5. Handling User_Score column'> 2.5. Handling User_Score column </a>\n",
    "* <a href='#2.6. Handling User_Count column'> 2.6. Handling User_Count column </a>\n",
    "* <a href='#2.7. Handling Platform column'> 2.7. Handling Platform column </a>\n",
    "\n",
    "### <a href='#3. Modeling the Data'> 3. Modeling the Data </a>\n",
    "\n",
    "### <a href='#4. Predicting on Test Set'> 4. Predicting on Test Set </a>"
   ]
  },
  {
   "cell_type": "markdown",
   "metadata": {},
   "source": [
    "### 1. Obtaining and Viewing the Data \n",
    "<a id='1. Obtaining and Viewing the Data'></a>"
   ]
  },
  {
   "cell_type": "code",
   "execution_count": 1,
   "metadata": {},
   "outputs": [],
   "source": [
    "# import libraries \n",
    "import pandas as pd\n",
    "import numpy as np\n",
    "import xgboost as xgb\n",
    "\n",
    "import matplotlib.pyplot as plt\n",
    "import seaborn as sns\n",
    "sns.set(style=\"darkgrid\")\n",
    "\n",
    "import warnings\n",
    "warnings.filterwarnings(\"ignore\")"
   ]
  },
  {
   "cell_type": "code",
   "execution_count": 2,
   "metadata": {},
   "outputs": [
    {
     "data": {
      "text/plain": [
       "(5016, 12)"
      ]
     },
     "execution_count": 2,
     "metadata": {},
     "output_type": "execute_result"
    }
   ],
   "source": [
    "df_test = pd.read_csv('test.csv')\n",
    "df_test.shape"
   ]
  },
  {
   "cell_type": "code",
   "execution_count": 3,
   "metadata": {},
   "outputs": [
    {
     "data": {
      "text/html": [
       "<div>\n",
       "<style scoped>\n",
       "    .dataframe tbody tr th:only-of-type {\n",
       "        vertical-align: middle;\n",
       "    }\n",
       "\n",
       "    .dataframe tbody tr th {\n",
       "        vertical-align: top;\n",
       "    }\n",
       "\n",
       "    .dataframe thead th {\n",
       "        text-align: right;\n",
       "    }\n",
       "</style>\n",
       "<table border=\"1\" class=\"dataframe\">\n",
       "  <thead>\n",
       "    <tr style=\"text-align: right;\">\n",
       "      <th></th>\n",
       "      <th>Id</th>\n",
       "      <th>Platform</th>\n",
       "      <th>Year_of_Release</th>\n",
       "      <th>Genre</th>\n",
       "      <th>Publisher</th>\n",
       "      <th>JP_Sales</th>\n",
       "      <th>Critic_Score</th>\n",
       "      <th>Critic_Count</th>\n",
       "      <th>User_Score</th>\n",
       "      <th>User_Count</th>\n",
       "      <th>Developer</th>\n",
       "      <th>Rating</th>\n",
       "    </tr>\n",
       "  </thead>\n",
       "  <tbody>\n",
       "    <tr>\n",
       "      <th>0</th>\n",
       "      <td>11703</td>\n",
       "      <td>GB</td>\n",
       "      <td>1996.0</td>\n",
       "      <td>Role-Playing</td>\n",
       "      <td>Nintendo</td>\n",
       "      <td>10.22</td>\n",
       "      <td>NaN</td>\n",
       "      <td>NaN</td>\n",
       "      <td>NaN</td>\n",
       "      <td>NaN</td>\n",
       "      <td>NaN</td>\n",
       "      <td>NaN</td>\n",
       "    </tr>\n",
       "    <tr>\n",
       "      <th>1</th>\n",
       "      <td>11704</td>\n",
       "      <td>Wii</td>\n",
       "      <td>2006.0</td>\n",
       "      <td>Misc</td>\n",
       "      <td>Nintendo</td>\n",
       "      <td>2.93</td>\n",
       "      <td>58.0</td>\n",
       "      <td>41.0</td>\n",
       "      <td>6.6</td>\n",
       "      <td>129.0</td>\n",
       "      <td>Nintendo</td>\n",
       "      <td>E</td>\n",
       "    </tr>\n",
       "    <tr>\n",
       "      <th>2</th>\n",
       "      <td>11705</td>\n",
       "      <td>NES</td>\n",
       "      <td>1984.0</td>\n",
       "      <td>Shooter</td>\n",
       "      <td>Nintendo</td>\n",
       "      <td>0.28</td>\n",
       "      <td>NaN</td>\n",
       "      <td>NaN</td>\n",
       "      <td>NaN</td>\n",
       "      <td>NaN</td>\n",
       "      <td>NaN</td>\n",
       "      <td>NaN</td>\n",
       "    </tr>\n",
       "    <tr>\n",
       "      <th>3</th>\n",
       "      <td>11706</td>\n",
       "      <td>DS</td>\n",
       "      <td>2005.0</td>\n",
       "      <td>Simulation</td>\n",
       "      <td>Nintendo</td>\n",
       "      <td>1.93</td>\n",
       "      <td>NaN</td>\n",
       "      <td>NaN</td>\n",
       "      <td>NaN</td>\n",
       "      <td>NaN</td>\n",
       "      <td>NaN</td>\n",
       "      <td>NaN</td>\n",
       "    </tr>\n",
       "    <tr>\n",
       "      <th>4</th>\n",
       "      <td>11707</td>\n",
       "      <td>PS3</td>\n",
       "      <td>2013.0</td>\n",
       "      <td>Action</td>\n",
       "      <td>Take-Two Interactive</td>\n",
       "      <td>0.98</td>\n",
       "      <td>97.0</td>\n",
       "      <td>50.0</td>\n",
       "      <td>8.2</td>\n",
       "      <td>3994.0</td>\n",
       "      <td>Rockstar North</td>\n",
       "      <td>M</td>\n",
       "    </tr>\n",
       "  </tbody>\n",
       "</table>\n",
       "</div>"
      ],
      "text/plain": [
       "      Id Platform  Year_of_Release         Genre             Publisher  \\\n",
       "0  11703       GB           1996.0  Role-Playing              Nintendo   \n",
       "1  11704      Wii           2006.0          Misc              Nintendo   \n",
       "2  11705      NES           1984.0       Shooter              Nintendo   \n",
       "3  11706       DS           2005.0    Simulation              Nintendo   \n",
       "4  11707      PS3           2013.0        Action  Take-Two Interactive   \n",
       "\n",
       "   JP_Sales  Critic_Score  Critic_Count User_Score  User_Count  \\\n",
       "0     10.22           NaN           NaN        NaN         NaN   \n",
       "1      2.93          58.0          41.0        6.6       129.0   \n",
       "2      0.28           NaN           NaN        NaN         NaN   \n",
       "3      1.93           NaN           NaN        NaN         NaN   \n",
       "4      0.98          97.0          50.0        8.2      3994.0   \n",
       "\n",
       "        Developer Rating  \n",
       "0             NaN    NaN  \n",
       "1        Nintendo      E  \n",
       "2             NaN    NaN  \n",
       "3             NaN    NaN  \n",
       "4  Rockstar North      M  "
      ]
     },
     "execution_count": 3,
     "metadata": {},
     "output_type": "execute_result"
    }
   ],
   "source": [
    "df_test.head()"
   ]
  },
  {
   "cell_type": "code",
   "execution_count": 4,
   "metadata": {},
   "outputs": [
    {
     "name": "stdout",
     "output_type": "stream",
     "text": [
      "<class 'pandas.core.frame.DataFrame'>\n",
      "RangeIndex: 5016 entries, 0 to 5015\n",
      "Data columns (total 12 columns):\n",
      "Id                 5016 non-null int64\n",
      "Platform           5016 non-null object\n",
      "Year_of_Release    4930 non-null float64\n",
      "Genre              5016 non-null object\n",
      "Publisher          5001 non-null object\n",
      "JP_Sales           5016 non-null float64\n",
      "Critic_Score       2440 non-null float64\n",
      "Critic_Count       2440 non-null float64\n",
      "User_Score         3004 non-null object\n",
      "User_Count         2258 non-null float64\n",
      "Developer          3030 non-null object\n",
      "Rating             2972 non-null object\n",
      "dtypes: float64(5), int64(1), object(6)\n",
      "memory usage: 470.3+ KB\n"
     ]
    }
   ],
   "source": [
    "df_test.info()"
   ]
  },
  {
   "cell_type": "code",
   "execution_count": 5,
   "metadata": {},
   "outputs": [
    {
     "data": {
      "text/plain": [
       "array([nan, '6.6', '8.2', '7.9', '8.7', '3.4', '6.4', '7.5', '7.4', '7.6',\n",
       "       '8.3', 'tbd', '4.3', '9', '8.8', '7.1', '8.1', '5.7', '8.9', '6.1',\n",
       "       '7.2', '8', '5.4', '8.6', '9.2', '8.5', '9.1', '4.8', '4.5', '4.2',\n",
       "       '7.3', '8.4', '6', '6.3', '6.7', '3.7', '5.6', '5.5', '4.4', '4.6',\n",
       "       '7.7', '6.5', '7.8', '6.8', '7', '6.2', '6.9', '5', '4.1', '5.1',\n",
       "       '2.5', '3.1', '5.8', '2.2', '5.9', '9.3', '3.5', '9.4', '9.5',\n",
       "       '2.6', '3.3', '5.3', '2.8', '3.8', '4.9', '3.6', '3', '4', '4.7',\n",
       "       '5.2', '3.2', '2.7', '1.1', '1.7', '3.9', '2', '2.9', '1.5', '1.2',\n",
       "       '9.6', '1.8', '2.1', '2.4', '0.9', '1.3', '0.3', '0.2', '0.6',\n",
       "       '1.4'], dtype=object)"
      ]
     },
     "execution_count": 5,
     "metadata": {},
     "output_type": "execute_result"
    }
   ],
   "source": [
    "# why is user score stored as string?\n",
    "df.User_Score.unique()"
   ]
  },
  {
   "cell_type": "code",
   "execution_count": null,
   "metadata": {},
   "outputs": [],
   "source": []
  },
  {
   "cell_type": "code",
   "execution_count": 6,
   "metadata": {},
   "outputs": [
    {
     "name": "stdout",
     "output_type": "stream",
     "text": [
      "<class 'pandas.core.frame.DataFrame'>\n",
      "RangeIndex: 5016 entries, 0 to 5015\n",
      "Data columns (total 12 columns):\n",
      "Id                 5016 non-null int64\n",
      "Platform           5016 non-null object\n",
      "Year_of_Release    4930 non-null float64\n",
      "Genre              5016 non-null object\n",
      "Publisher          5001 non-null object\n",
      "JP_Sales           5016 non-null float64\n",
      "Critic_Score       2440 non-null float64\n",
      "Critic_Count       2440 non-null float64\n",
      "User_Score         2258 non-null float64\n",
      "User_Count         2258 non-null float64\n",
      "Developer          3030 non-null object\n",
      "Rating             2972 non-null object\n",
      "dtypes: float64(6), int64(1), object(5)\n",
      "memory usage: 470.3+ KB\n"
     ]
    }
   ],
   "source": [
    "# replace 'tbd'\n",
    "df['User_Score'].replace(to_replace='tbd', value=np.nan, inplace=True)\n",
    "\n",
    "# convert string values into numeric values\n",
    "df['User_Score'] = pd.to_numeric(df['User_Score'])\n",
    "\n",
    "df.info()"
   ]
  },
  {
   "cell_type": "code",
   "execution_count": 7,
   "metadata": {},
   "outputs": [
    {
     "data": {
      "text/plain": [
       "0"
      ]
     },
     "execution_count": 7,
     "metadata": {},
     "output_type": "execute_result"
    }
   ],
   "source": [
    "df.duplicated().sum()"
   ]
  },
  {
   "cell_type": "code",
   "execution_count": 8,
   "metadata": {},
   "outputs": [
    {
     "data": {
      "image/png": "[encoded data removed]",
      "text/plain": [
       "<Figure size 576x432 with 2 Axes>"
      ]
     },
     "metadata": {
      "needs_background": "light"
     },
     "output_type": "display_data"
    }
   ],
   "source": [
    "plt.subplots(figsize=(8, 6))\n",
    "sns.heatmap(df.corr(), cmap=\"Oranges\", linewidths=0.1);"
   ]
  },
  {
   "cell_type": "markdown",
   "metadata": {},
   "source": [
    "As the columns `Publisher` and `Developer` contain way too many values and also doesn't seem to add any reasonable value to our prediction, let's drop them."
   ]
  },
  {
   "cell_type": "code",
   "execution_count": 9,
   "metadata": {},
   "outputs": [],
   "source": [
    "df = df.drop(['Publisher', 'Developer'], axis=1)"
   ]
  },
  {
   "cell_type": "markdown",
   "metadata": {},
   "source": [
    "*Back to: <a href='#Table of contents'> Table of contents</a>*\n",
    "### 2. Preprocessing the Data \n",
    "<a id='2. Preprocessing the Data'></a>"
   ]
  },
  {
   "cell_type": "code",
   "execution_count": 10,
   "metadata": {},
   "outputs": [
    {
     "name": "stdout",
     "output_type": "stream",
     "text": [
      "<class 'pandas.core.frame.DataFrame'>\n",
      "RangeIndex: 5016 entries, 0 to 5015\n",
      "Data columns (total 10 columns):\n",
      "Id                 5016 non-null int64\n",
      "Platform           5016 non-null object\n",
      "Year_of_Release    4930 non-null float64\n",
      "Genre              5016 non-null object\n",
      "JP_Sales           5016 non-null float64\n",
      "Critic_Score       2440 non-null float64\n",
      "Critic_Count       2440 non-null float64\n",
      "User_Score         2258 non-null float64\n",
      "User_Count         2258 non-null float64\n",
      "Rating             2972 non-null object\n",
      "dtypes: float64(6), int64(1), object(3)\n",
      "memory usage: 392.0+ KB\n"
     ]
    }
   ],
   "source": [
    "df.info()"
   ]
  },
  {
   "cell_type": "markdown",
   "metadata": {},
   "source": [
    "The problem is we have tons of missing values! What to do? Let's walk through each of these features:"
   ]
  },
  {
   "cell_type": "markdown",
   "metadata": {},
   "source": [
    "**2.1. Handling `Genre` column**\n",
    "<a id='2.1. Handling Genre column'></a>"
   ]
  },
  {
   "cell_type": "code",
   "execution_count": 11,
   "metadata": {},
   "outputs": [],
   "source": [
    "#df = df.dropna(subset=['Genre'])\n",
    "#df.info()"
   ]
  },
  {
   "cell_type": "code",
   "execution_count": 12,
   "metadata": {},
   "outputs": [
    {
     "data": {
      "text/plain": [
       "Action          1016\n",
       "Sports           715\n",
       "Misc             517\n",
       "Role-Playing     418\n",
       "Shooter          401\n",
       "Adventure        390\n",
       "Racing           358\n",
       "Platform         296\n",
       "Fighting         282\n",
       "Simulation       247\n",
       "Strategy         206\n",
       "Puzzle           170\n",
       "Name: Genre, dtype: int64"
      ]
     },
     "execution_count": 12,
     "metadata": {},
     "output_type": "execute_result"
    }
   ],
   "source": [
    "df.Genre.value_counts()"
   ]
  },
  {
   "cell_type": "markdown",
   "metadata": {},
   "source": [
    "*Back to: <a href='#Table of contents'> Table of contents</a>*\n",
    "\n",
    "**2.2. Handling `Rating` column**\n",
    "<a id='2.2. Handling Rating column'></a>"
   ]
  },
  {
   "cell_type": "code",
   "execution_count": 13,
   "metadata": {},
   "outputs": [
    {
     "data": {
      "text/plain": [
       "array([nan, 'E', 'M', 'T', 'E10+', 'AO', 'EC', 'RP', 'K-A'], dtype=object)"
      ]
     },
     "execution_count": 13,
     "metadata": {},
     "output_type": "execute_result"
    }
   ],
   "source": [
    "df.Rating.unique()"
   ]
  },
  {
   "cell_type": "code",
   "execution_count": 14,
   "metadata": {
    "scrolled": true
   },
   "outputs": [
    {
     "data": {
      "text/plain": [
       "E       1200\n",
       "T        892\n",
       "M        454\n",
       "E10+     420\n",
       "EC         3\n",
       "AO         1\n",
       "RP         1\n",
       "K-A        1\n",
       "Name: Rating, dtype: int64"
      ]
     },
     "execution_count": 14,
     "metadata": {},
     "output_type": "execute_result"
    }
   ],
   "source": [
    "df.Rating.value_counts()"
   ]
  },
  {
   "cell_type": "markdown",
   "metadata": {},
   "source": [
    "According to [Wikipedia](https://en.wikipedia.org/wiki/Entertainment_Software_Rating_Board), we can deal with some of the ratings by replacing them with actual labels:"
   ]
  },
  {
   "cell_type": "code",
   "execution_count": 16,
   "metadata": {},
   "outputs": [],
   "source": [
    "def value_replacement(col, to_replace, new_value):\n",
    "    col.replace(to_replace, new_value, inplace=True)"
   ]
  },
  {
   "cell_type": "code",
   "execution_count": 17,
   "metadata": {},
   "outputs": [
    {
     "data": {
      "text/plain": [
       "None    2045\n",
       "E       1204\n",
       "T        892\n",
       "M        455\n",
       "E10+     420\n",
       "Name: Rating, dtype: int64"
      ]
     },
     "execution_count": 17,
     "metadata": {},
     "output_type": "execute_result"
    }
   ],
   "source": [
    "value_replacement(df.Rating, to_replace='EC', new_value='E')\n",
    "value_replacement(df.Rating, to_replace='AO', new_value='M')\n",
    "value_replacement(df.Rating, to_replace='RP', new_value='None')\n",
    "value_replacement(df.Rating, to_replace='K-A', new_value='E')\n",
    "value_replacement(df.Rating, to_replace=np.nan, new_value='None')\n",
    "\n",
    "df.Rating.value_counts()"
   ]
  },
  {
   "cell_type": "code",
   "execution_count": 18,
   "metadata": {},
   "outputs": [
    {
     "name": "stdout",
     "output_type": "stream",
     "text": [
      "<class 'pandas.core.frame.DataFrame'>\n",
      "RangeIndex: 5016 entries, 0 to 5015\n",
      "Data columns (total 10 columns):\n",
      "Id                 5016 non-null int64\n",
      "Platform           5016 non-null object\n",
      "Year_of_Release    4930 non-null float64\n",
      "Genre              5016 non-null object\n",
      "JP_Sales           5016 non-null float64\n",
      "Critic_Score       2440 non-null float64\n",
      "Critic_Count       2440 non-null float64\n",
      "User_Score         2258 non-null float64\n",
      "User_Count         2258 non-null float64\n",
      "Rating             5016 non-null object\n",
      "dtypes: float64(6), int64(1), object(3)\n",
      "memory usage: 392.0+ KB\n"
     ]
    }
   ],
   "source": [
    "df.info()"
   ]
  },
  {
   "cell_type": "markdown",
   "metadata": {},
   "source": [
    "*Back to: <a href='#Table of contents'> Table of contents</a>*\n",
    "\n",
    "**2.3. Handling `Year_of_Release` column**\n",
    "<a id='2.3. Handling Year_of_Release column'></a>"
   ]
  },
  {
   "cell_type": "code",
   "execution_count": 19,
   "metadata": {},
   "outputs": [
    {
     "data": {
      "text/html": [
       "<div>\n",
       "<style scoped>\n",
       "    .dataframe tbody tr th:only-of-type {\n",
       "        vertical-align: middle;\n",
       "    }\n",
       "\n",
       "    .dataframe tbody tr th {\n",
       "        vertical-align: top;\n",
       "    }\n",
       "\n",
       "    .dataframe thead th {\n",
       "        text-align: right;\n",
       "    }\n",
       "</style>\n",
       "<table border=\"1\" class=\"dataframe\">\n",
       "  <thead>\n",
       "    <tr style=\"text-align: right;\">\n",
       "      <th></th>\n",
       "      <th>Id</th>\n",
       "      <th>Platform</th>\n",
       "      <th>Year_of_Release</th>\n",
       "      <th>Genre</th>\n",
       "      <th>JP_Sales</th>\n",
       "      <th>Critic_Score</th>\n",
       "      <th>Critic_Count</th>\n",
       "      <th>User_Score</th>\n",
       "      <th>User_Count</th>\n",
       "      <th>Rating</th>\n",
       "    </tr>\n",
       "  </thead>\n",
       "  <tbody>\n",
       "    <tr>\n",
       "      <th>4611</th>\n",
       "      <td>16314</td>\n",
       "      <td>DS</td>\n",
       "      <td>NaN</td>\n",
       "      <td>Platform</td>\n",
       "      <td>0.0</td>\n",
       "      <td>60.0</td>\n",
       "      <td>14.0</td>\n",
       "      <td>NaN</td>\n",
       "      <td>NaN</td>\n",
       "      <td>E10+</td>\n",
       "    </tr>\n",
       "    <tr>\n",
       "      <th>4735</th>\n",
       "      <td>16438</td>\n",
       "      <td>PS2</td>\n",
       "      <td>NaN</td>\n",
       "      <td>Role-Playing</td>\n",
       "      <td>0.0</td>\n",
       "      <td>53.0</td>\n",
       "      <td>17.0</td>\n",
       "      <td>7.6</td>\n",
       "      <td>5.0</td>\n",
       "      <td>T</td>\n",
       "    </tr>\n",
       "    <tr>\n",
       "      <th>4833</th>\n",
       "      <td>16536</td>\n",
       "      <td>Wii</td>\n",
       "      <td>NaN</td>\n",
       "      <td>Racing</td>\n",
       "      <td>0.0</td>\n",
       "      <td>54.0</td>\n",
       "      <td>4.0</td>\n",
       "      <td>NaN</td>\n",
       "      <td>NaN</td>\n",
       "      <td>E</td>\n",
       "    </tr>\n",
       "    <tr>\n",
       "      <th>4859</th>\n",
       "      <td>16562</td>\n",
       "      <td>PC</td>\n",
       "      <td>NaN</td>\n",
       "      <td>Racing</td>\n",
       "      <td>0.0</td>\n",
       "      <td>65.0</td>\n",
       "      <td>7.0</td>\n",
       "      <td>NaN</td>\n",
       "      <td>NaN</td>\n",
       "      <td>None</td>\n",
       "    </tr>\n",
       "    <tr>\n",
       "      <th>4919</th>\n",
       "      <td>16622</td>\n",
       "      <td>PSP</td>\n",
       "      <td>NaN</td>\n",
       "      <td>Sports</td>\n",
       "      <td>0.0</td>\n",
       "      <td>43.0</td>\n",
       "      <td>7.0</td>\n",
       "      <td>NaN</td>\n",
       "      <td>NaN</td>\n",
       "      <td>E10+</td>\n",
       "    </tr>\n",
       "  </tbody>\n",
       "</table>\n",
       "</div>"
      ],
      "text/plain": [
       "         Id Platform  Year_of_Release         Genre  JP_Sales  Critic_Score  \\\n",
       "4611  16314       DS              NaN      Platform       0.0          60.0   \n",
       "4735  16438      PS2              NaN  Role-Playing       0.0          53.0   \n",
       "4833  16536      Wii              NaN        Racing       0.0          54.0   \n",
       "4859  16562       PC              NaN        Racing       0.0          65.0   \n",
       "4919  16622      PSP              NaN        Sports       0.0          43.0   \n",
       "\n",
       "      Critic_Count  User_Score  User_Count Rating  \n",
       "4611          14.0         NaN         NaN   E10+  \n",
       "4735          17.0         7.6         5.0      T  \n",
       "4833           4.0         NaN         NaN      E  \n",
       "4859           7.0         NaN         NaN   None  \n",
       "4919           7.0         NaN         NaN   E10+  "
      ]
     },
     "execution_count": 19,
     "metadata": {},
     "output_type": "execute_result"
    }
   ],
   "source": [
    "df1 = df[df['Year_of_Release'].isna()]\n",
    "df1.tail()"
   ]
  },
  {
   "cell_type": "code",
   "execution_count": 20,
   "metadata": {},
   "outputs": [
    {
     "data": {
      "text/plain": [
       "2020.0"
      ]
     },
     "execution_count": 20,
     "metadata": {},
     "output_type": "execute_result"
    }
   ],
   "source": [
    "df.Year_of_Release.max()"
   ]
  },
  {
   "cell_type": "code",
   "execution_count": 21,
   "metadata": {},
   "outputs": [
    {
     "data": {
      "text/plain": [
       "count    4930.000000\n",
       "mean     2006.335903\n",
       "std         5.930376\n",
       "min      1980.000000\n",
       "25%      2003.000000\n",
       "50%      2007.000000\n",
       "75%      2010.000000\n",
       "max      2020.000000\n",
       "Name: Year_of_Release, dtype: float64"
      ]
     },
     "execution_count": 21,
     "metadata": {},
     "output_type": "execute_result"
    }
   ],
   "source": [
    "df.Year_of_Release.describe()"
   ]
  },
  {
   "cell_type": "code",
   "execution_count": 22,
   "metadata": {},
   "outputs": [
    {
     "data": {
      "image/png": "[encoded data removed]",
      "text/plain": [
       "<Figure size 432x288 with 1 Axes>"
      ]
     },
     "metadata": {
      "needs_background": "light"
     },
     "output_type": "display_data"
    }
   ],
   "source": [
    "df.Year_of_Release.hist(bins=20);"
   ]
  },
  {
   "cell_type": "markdown",
   "metadata": {},
   "source": [
    "It might be reasonable to bin the years into periods of roughly 5 years and when doing this, also bin the NaN values into *unknown*."
   ]
  },
  {
   "cell_type": "code",
   "execution_count": 23,
   "metadata": {},
   "outputs": [],
   "source": [
    "# bin the year_of_release into periods_of_release\n",
    "bins = [1980, 1995, 2000, 2005, 2010, 2015, 2020]\n",
    "labels = ['Before 1995', '1995-2000', '2000-2005', '2005-2010', '2010-2015', '2015-2020']\n",
    "df['Periods_of_Release'] = pd.cut(df['Year_of_Release'], bins=bins, labels=labels)\n",
    "\n",
    "# create another category for the unknown release date\n",
    "df['Periods_of_Release'].replace(to_replace=np.nan, value='Unknown', inplace=True)"
   ]
  },
  {
   "cell_type": "code",
   "execution_count": 24,
   "metadata": {},
   "outputs": [
    {
     "data": {
      "text/plain": [
       "array(['1995-2000', '2005-2010', 'Before 1995', '2000-2005', '2010-2015',\n",
       "       'Unknown', '2015-2020'], dtype=object)"
      ]
     },
     "execution_count": 24,
     "metadata": {},
     "output_type": "execute_result"
    }
   ],
   "source": [
    "df.Periods_of_Release.unique()"
   ]
  },
  {
   "cell_type": "code",
   "execution_count": 25,
   "metadata": {},
   "outputs": [
    {
     "data": {
      "text/plain": [
       "2005-2010      1840\n",
       "2000-2005      1160\n",
       "2010-2015      1057\n",
       "1995-2000       498\n",
       "Before 1995     226\n",
       "2015-2020       146\n",
       "Unknown          89\n",
       "Name: Periods_of_Release, dtype: int64"
      ]
     },
     "execution_count": 25,
     "metadata": {},
     "output_type": "execute_result"
    }
   ],
   "source": [
    "df.Periods_of_Release.value_counts()"
   ]
  },
  {
   "cell_type": "code",
   "execution_count": 26,
   "metadata": {},
   "outputs": [
    {
     "data": {
      "image/png": "[encoded data removed]",
      "text/plain": [
       "<Figure size 432x288 with 1 Axes>"
      ]
     },
     "metadata": {
      "needs_background": "light"
     },
     "output_type": "display_data"
    }
   ],
   "source": [
    "# visualize the distribution of categories\n",
    "order = ['Unknown', '2015-2020', '2010-2015', '2005-2010',  '2000-2005','1995-2000', 'Before 1995']\n",
    "df.Periods_of_Release.value_counts().loc[order].plot(kind='barh');"
   ]
  },
  {
   "cell_type": "code",
   "execution_count": 27,
   "metadata": {},
   "outputs": [
    {
     "name": "stdout",
     "output_type": "stream",
     "text": [
      "<class 'pandas.core.frame.DataFrame'>\n",
      "RangeIndex: 5016 entries, 0 to 5015\n",
      "Data columns (total 10 columns):\n",
      "Id                    5016 non-null int64\n",
      "Platform              5016 non-null object\n",
      "Genre                 5016 non-null object\n",
      "JP_Sales              5016 non-null float64\n",
      "Critic_Score          2440 non-null float64\n",
      "Critic_Count          2440 non-null float64\n",
      "User_Score            2258 non-null float64\n",
      "User_Count            2258 non-null float64\n",
      "Rating                5016 non-null object\n",
      "Periods_of_Release    5016 non-null object\n",
      "dtypes: float64(5), int64(1), object(4)\n",
      "memory usage: 392.0+ KB\n"
     ]
    }
   ],
   "source": [
    "# drop the original year related column\n",
    "df = df.drop(['Year_of_Release'], axis=1)\n",
    "df.info()"
   ]
  },
  {
   "cell_type": "markdown",
   "metadata": {},
   "source": [
    "*Back to: <a href='#Table of contents'> Table of contents</a>*\n",
    "\n",
    "**2.4. Handling `Critic_Score` and `Critic_Count` columns**\n",
    "<a id='2.4. Handling Critic_Score and Critic_Count columns'></a>"
   ]
  },
  {
   "cell_type": "code",
   "execution_count": 28,
   "metadata": {},
   "outputs": [],
   "source": [
    "df = df.dropna(subset=['Critic_Score', 'Critic_Count'])\n",
    "#df.info()"
   ]
  },
  {
   "cell_type": "markdown",
   "metadata": {},
   "source": [
    "*Back to: <a href='#Table of contents'> Table of contents</a>*\n",
    "\n",
    "**2.5. Handling `User_Score` column**\n",
    "<a id='2.5. Handling User_Score column'></a>"
   ]
  },
  {
   "cell_type": "markdown",
   "metadata": {},
   "source": [
    "*Distribution of User_Score*"
   ]
  },
  {
   "cell_type": "code",
   "execution_count": 29,
   "metadata": {},
   "outputs": [
    {
     "name": "stdout",
     "output_type": "stream",
     "text": [
      "Percentage of missing values in User_Score column:\n",
      "0.55 %\n"
     ]
    }
   ],
   "source": [
    "print('Percentage of missing values in User_Score column:')\n",
    "print(round(df.User_Score.isna().sum()/len(df), 3), '%')"
   ]
  },
  {
   "cell_type": "code",
   "execution_count": 30,
   "metadata": {},
   "outputs": [
    {
     "data": {
      "text/plain": [
       "count    2258.000000\n",
       "mean        7.124978\n",
       "std         1.521317\n",
       "min         0.200000\n",
       "25%         6.300000\n",
       "50%         7.500000\n",
       "75%         8.200000\n",
       "max         9.600000\n",
       "Name: User_Score, dtype: float64"
      ]
     },
     "execution_count": 30,
     "metadata": {},
     "output_type": "execute_result"
    }
   ],
   "source": [
    "df.User_Score.describe()"
   ]
  },
  {
   "cell_type": "markdown",
   "metadata": {},
   "source": [
    "Let's remember that the original distribution has its maximum at 9.6 and the 75th percentile at 8.2!"
   ]
  },
  {
   "cell_type": "markdown",
   "metadata": {},
   "source": [
    "*Creating Sub-Datasets*"
   ]
  },
  {
   "cell_type": "code",
   "execution_count": 32,
   "metadata": {},
   "outputs": [],
   "source": [
    "# filter out sub_df to work with\n",
    "sub_df = df[['JP_Sales', 'Critic_Score', 'Critic_Count', 'User_Score']]\n",
    "\n",
    "# split datasets\n",
    "train_data = sub_df[sub_df['User_Score'].notnull()]\n",
    "test_data  = sub_df[sub_df['User_Score'].isnull()]\n",
    "\n",
    "# define X\n",
    "X_train = train_data.drop('User_Score', axis=1)\n",
    "X_test  = test_data.drop('User_Score', axis=1)\n",
    "\n",
    "# define y\n",
    "y_train = train_data['User_Score']"
   ]
  },
  {
   "cell_type": "markdown",
   "metadata": {},
   "source": [
    "*Scaling the Features*"
   ]
  },
  {
   "cell_type": "code",
   "execution_count": 33,
   "metadata": {},
   "outputs": [],
   "source": [
    "from sklearn.preprocessing import MinMaxScaler\n",
    "scaler = MinMaxScaler()\n",
    "\n",
    "X_train_scaled = scaler.fit_transform(X_train)\n",
    "X_train_scaled = pd.DataFrame(X_train_scaled)\n",
    "\n",
    "X_test_scaled = scaler.fit_transform(X_test)\n",
    "X_test_scaled = pd.DataFrame(X_test_scaled)"
   ]
  },
  {
   "cell_type": "markdown",
   "metadata": {},
   "source": [
    "*Implementing Linear Regression*"
   ]
  },
  {
   "cell_type": "code",
   "execution_count": 34,
   "metadata": {},
   "outputs": [
    {
     "ename": "ValueError",
     "evalue": "Input contains NaN, infinity or a value too large for dtype('float64').",
     "output_type": "error",
     "traceback": [
      "\u001b[0;31m---------------------------------------------------------------------------\u001b[0m",
      "\u001b[0;31mValueError\u001b[0m                                Traceback (most recent call last)",
      "\u001b[0;32m<ipython-input-34-2ccd323b9263>\u001b[0m in \u001b[0;36m<module>\u001b[0;34m\u001b[0m\n\u001b[1;32m      6\u001b[0m \u001b[0;34m\u001b[0m\u001b[0m\n\u001b[1;32m      7\u001b[0m \u001b[0;31m# fit model to training data\u001b[0m\u001b[0;34m\u001b[0m\u001b[0;34m\u001b[0m\u001b[0;34m\u001b[0m\u001b[0m\n\u001b[0;32m----> 8\u001b[0;31m \u001b[0mlinreg_user_score\u001b[0m\u001b[0;34m.\u001b[0m\u001b[0mfit\u001b[0m\u001b[0;34m(\u001b[0m\u001b[0mX_train_scaled\u001b[0m\u001b[0;34m,\u001b[0m \u001b[0my_train\u001b[0m\u001b[0;34m)\u001b[0m\u001b[0;34m\u001b[0m\u001b[0;34m\u001b[0m\u001b[0m\n\u001b[0m\u001b[1;32m      9\u001b[0m \u001b[0;34m\u001b[0m\u001b[0m\n\u001b[1;32m     10\u001b[0m \u001b[0;31m# making predictions\u001b[0m\u001b[0;34m\u001b[0m\u001b[0;34m\u001b[0m\u001b[0;34m\u001b[0m\u001b[0m\n",
      "\u001b[0;32m/anaconda3/lib/python3.6/site-packages/sklearn/linear_model/base.py\u001b[0m in \u001b[0;36mfit\u001b[0;34m(self, X, y, sample_weight)\u001b[0m\n\u001b[1;32m    456\u001b[0m         \u001b[0mn_jobs_\u001b[0m \u001b[0;34m=\u001b[0m \u001b[0mself\u001b[0m\u001b[0;34m.\u001b[0m\u001b[0mn_jobs\u001b[0m\u001b[0;34m\u001b[0m\u001b[0;34m\u001b[0m\u001b[0m\n\u001b[1;32m    457\u001b[0m         X, y = check_X_y(X, y, accept_sparse=['csr', 'csc', 'coo'],\n\u001b[0;32m--> 458\u001b[0;31m                          y_numeric=True, multi_output=True)\n\u001b[0m\u001b[1;32m    459\u001b[0m \u001b[0;34m\u001b[0m\u001b[0m\n\u001b[1;32m    460\u001b[0m         \u001b[0;32mif\u001b[0m \u001b[0msample_weight\u001b[0m \u001b[0;32mis\u001b[0m \u001b[0;32mnot\u001b[0m \u001b[0;32mNone\u001b[0m \u001b[0;32mand\u001b[0m \u001b[0mnp\u001b[0m\u001b[0;34m.\u001b[0m\u001b[0matleast_1d\u001b[0m\u001b[0;34m(\u001b[0m\u001b[0msample_weight\u001b[0m\u001b[0;34m)\u001b[0m\u001b[0;34m.\u001b[0m\u001b[0mndim\u001b[0m \u001b[0;34m>\u001b[0m \u001b[0;36m1\u001b[0m\u001b[0;34m:\u001b[0m\u001b[0;34m\u001b[0m\u001b[0;34m\u001b[0m\u001b[0m\n",
      "\u001b[0;32m/anaconda3/lib/python3.6/site-packages/sklearn/utils/validation.py\u001b[0m in \u001b[0;36mcheck_X_y\u001b[0;34m(X, y, accept_sparse, accept_large_sparse, dtype, order, copy, force_all_finite, ensure_2d, allow_nd, multi_output, ensure_min_samples, ensure_min_features, y_numeric, warn_on_dtype, estimator)\u001b[0m\n\u001b[1;32m    754\u001b[0m                     \u001b[0mensure_min_features\u001b[0m\u001b[0;34m=\u001b[0m\u001b[0mensure_min_features\u001b[0m\u001b[0;34m,\u001b[0m\u001b[0;34m\u001b[0m\u001b[0;34m\u001b[0m\u001b[0m\n\u001b[1;32m    755\u001b[0m                     \u001b[0mwarn_on_dtype\u001b[0m\u001b[0;34m=\u001b[0m\u001b[0mwarn_on_dtype\u001b[0m\u001b[0;34m,\u001b[0m\u001b[0;34m\u001b[0m\u001b[0;34m\u001b[0m\u001b[0m\n\u001b[0;32m--> 756\u001b[0;31m                     estimator=estimator)\n\u001b[0m\u001b[1;32m    757\u001b[0m     \u001b[0;32mif\u001b[0m \u001b[0mmulti_output\u001b[0m\u001b[0;34m:\u001b[0m\u001b[0;34m\u001b[0m\u001b[0;34m\u001b[0m\u001b[0m\n\u001b[1;32m    758\u001b[0m         y = check_array(y, 'csr', force_all_finite=True, ensure_2d=False,\n",
      "\u001b[0;32m/anaconda3/lib/python3.6/site-packages/sklearn/utils/validation.py\u001b[0m in \u001b[0;36mcheck_array\u001b[0;34m(array, accept_sparse, accept_large_sparse, dtype, order, copy, force_all_finite, ensure_2d, allow_nd, ensure_min_samples, ensure_min_features, warn_on_dtype, estimator)\u001b[0m\n\u001b[1;32m    571\u001b[0m         \u001b[0;32mif\u001b[0m \u001b[0mforce_all_finite\u001b[0m\u001b[0;34m:\u001b[0m\u001b[0;34m\u001b[0m\u001b[0;34m\u001b[0m\u001b[0m\n\u001b[1;32m    572\u001b[0m             _assert_all_finite(array,\n\u001b[0;32m--> 573\u001b[0;31m                                allow_nan=force_all_finite == 'allow-nan')\n\u001b[0m\u001b[1;32m    574\u001b[0m \u001b[0;34m\u001b[0m\u001b[0m\n\u001b[1;32m    575\u001b[0m     \u001b[0mshape_repr\u001b[0m \u001b[0;34m=\u001b[0m \u001b[0m_shape_repr\u001b[0m\u001b[0;34m(\u001b[0m\u001b[0marray\u001b[0m\u001b[0;34m.\u001b[0m\u001b[0mshape\u001b[0m\u001b[0;34m)\u001b[0m\u001b[0;34m\u001b[0m\u001b[0;34m\u001b[0m\u001b[0m\n",
      "\u001b[0;32m/anaconda3/lib/python3.6/site-packages/sklearn/utils/validation.py\u001b[0m in \u001b[0;36m_assert_all_finite\u001b[0;34m(X, allow_nan)\u001b[0m\n\u001b[1;32m     54\u001b[0m                 not allow_nan and not np.isfinite(X).all()):\n\u001b[1;32m     55\u001b[0m             \u001b[0mtype_err\u001b[0m \u001b[0;34m=\u001b[0m \u001b[0;34m'infinity'\u001b[0m \u001b[0;32mif\u001b[0m \u001b[0mallow_nan\u001b[0m \u001b[0;32melse\u001b[0m \u001b[0;34m'NaN, infinity'\u001b[0m\u001b[0;34m\u001b[0m\u001b[0;34m\u001b[0m\u001b[0m\n\u001b[0;32m---> 56\u001b[0;31m             \u001b[0;32mraise\u001b[0m \u001b[0mValueError\u001b[0m\u001b[0;34m(\u001b[0m\u001b[0mmsg_err\u001b[0m\u001b[0;34m.\u001b[0m\u001b[0mformat\u001b[0m\u001b[0;34m(\u001b[0m\u001b[0mtype_err\u001b[0m\u001b[0;34m,\u001b[0m \u001b[0mX\u001b[0m\u001b[0;34m.\u001b[0m\u001b[0mdtype\u001b[0m\u001b[0;34m)\u001b[0m\u001b[0;34m)\u001b[0m\u001b[0;34m\u001b[0m\u001b[0;34m\u001b[0m\u001b[0m\n\u001b[0m\u001b[1;32m     57\u001b[0m \u001b[0;34m\u001b[0m\u001b[0m\n\u001b[1;32m     58\u001b[0m \u001b[0;34m\u001b[0m\u001b[0m\n",
      "\u001b[0;31mValueError\u001b[0m: Input contains NaN, infinity or a value too large for dtype('float64')."
     ]
    }
   ],
   "source": [
    "# import Linear Regression\n",
    "from sklearn.linear_model import LinearRegression\n",
    "\n",
    "# instantiate\n",
    "linreg_user_score = LinearRegression()\n",
    "\n",
    "# fit model to training data\n",
    "linreg_user_score.fit(X_train_scaled, y_train)\n",
    "\n",
    "# making predictions\n",
    "y_test = linreg_user_score.predict(X_test_scaled)"
   ]
  },
  {
   "cell_type": "code",
   "execution_count": 40,
   "metadata": {},
   "outputs": [
    {
     "name": "stdout",
     "output_type": "stream",
     "text": [
      "(759, 1)\n"
     ]
    },
    {
     "data": {
      "text/html": [
       "<div>\n",
       "<style scoped>\n",
       "    .dataframe tbody tr th:only-of-type {\n",
       "        vertical-align: middle;\n",
       "    }\n",
       "\n",
       "    .dataframe tbody tr th {\n",
       "        vertical-align: top;\n",
       "    }\n",
       "\n",
       "    .dataframe thead th {\n",
       "        text-align: right;\n",
       "    }\n",
       "</style>\n",
       "<table border=\"1\" class=\"dataframe\">\n",
       "  <thead>\n",
       "    <tr style=\"text-align: right;\">\n",
       "      <th></th>\n",
       "      <th>User_Score</th>\n",
       "    </tr>\n",
       "  </thead>\n",
       "  <tbody>\n",
       "    <tr>\n",
       "      <th>0</th>\n",
       "      <td>5.193932</td>\n",
       "    </tr>\n",
       "    <tr>\n",
       "      <th>1</th>\n",
       "      <td>6.444427</td>\n",
       "    </tr>\n",
       "  </tbody>\n",
       "</table>\n",
       "</div>"
      ],
      "text/plain": [
       "   User_Score\n",
       "0    5.193932\n",
       "1    6.444427"
      ]
     },
     "execution_count": 40,
     "metadata": {},
     "output_type": "execute_result"
    }
   ],
   "source": [
    "# preparing y_test\n",
    "y_test = pd.DataFrame(y_test)\n",
    "y_test.columns = ['User_Score']\n",
    "print(y_test.shape)\n",
    "y_test.head(2)"
   ]
  },
  {
   "cell_type": "code",
   "execution_count": 41,
   "metadata": {},
   "outputs": [
    {
     "name": "stdout",
     "output_type": "stream",
     "text": [
      "(759, 4)\n"
     ]
    },
    {
     "data": {
      "text/html": [
       "<div>\n",
       "<style scoped>\n",
       "    .dataframe tbody tr th:only-of-type {\n",
       "        vertical-align: middle;\n",
       "    }\n",
       "\n",
       "    .dataframe tbody tr th {\n",
       "        vertical-align: top;\n",
       "    }\n",
       "\n",
       "    .dataframe thead th {\n",
       "        text-align: right;\n",
       "    }\n",
       "</style>\n",
       "<table border=\"1\" class=\"dataframe\">\n",
       "  <thead>\n",
       "    <tr style=\"text-align: right;\">\n",
       "      <th></th>\n",
       "      <th>NA_Sales</th>\n",
       "      <th>JP_Sales</th>\n",
       "      <th>Critic_Score</th>\n",
       "      <th>Critic_Count</th>\n",
       "    </tr>\n",
       "  </thead>\n",
       "  <tbody>\n",
       "    <tr>\n",
       "      <th>9</th>\n",
       "      <td>0.1</td>\n",
       "      <td>0.0</td>\n",
       "      <td>45.0</td>\n",
       "      <td>24.0</td>\n",
       "    </tr>\n",
       "    <tr>\n",
       "      <th>63</th>\n",
       "      <td>0.1</td>\n",
       "      <td>0.0</td>\n",
       "      <td>60.0</td>\n",
       "      <td>8.0</td>\n",
       "    </tr>\n",
       "  </tbody>\n",
       "</table>\n",
       "</div>"
      ],
      "text/plain": [
       "    NA_Sales  JP_Sales  Critic_Score  Critic_Count\n",
       "9        0.1       0.0          45.0          24.0\n",
       "63       0.1       0.0          60.0           8.0"
      ]
     },
     "execution_count": 41,
     "metadata": {},
     "output_type": "execute_result"
    }
   ],
   "source": [
    "# preparing X_test\n",
    "print(X_test.shape)\n",
    "X_test.head(2)"
   ]
  },
  {
   "cell_type": "markdown",
   "metadata": {},
   "source": [
    "*Concatenating Dataset*"
   ]
  },
  {
   "cell_type": "code",
   "execution_count": 42,
   "metadata": {},
   "outputs": [
    {
     "name": "stdout",
     "output_type": "stream",
     "text": [
      "(5697, 5)\n"
     ]
    },
    {
     "data": {
      "text/html": [
       "<div>\n",
       "<style scoped>\n",
       "    .dataframe tbody tr th:only-of-type {\n",
       "        vertical-align: middle;\n",
       "    }\n",
       "\n",
       "    .dataframe tbody tr th {\n",
       "        vertical-align: top;\n",
       "    }\n",
       "\n",
       "    .dataframe thead th {\n",
       "        text-align: right;\n",
       "    }\n",
       "</style>\n",
       "<table border=\"1\" class=\"dataframe\">\n",
       "  <thead>\n",
       "    <tr style=\"text-align: right;\">\n",
       "      <th></th>\n",
       "      <th>Critic_Count</th>\n",
       "      <th>Critic_Score</th>\n",
       "      <th>JP_Sales</th>\n",
       "      <th>NA_Sales</th>\n",
       "      <th>User_Score</th>\n",
       "    </tr>\n",
       "  </thead>\n",
       "  <tbody>\n",
       "    <tr>\n",
       "      <th>9</th>\n",
       "      <td>24.0</td>\n",
       "      <td>45.0</td>\n",
       "      <td>0.0</td>\n",
       "      <td>0.1</td>\n",
       "      <td>5.193932</td>\n",
       "    </tr>\n",
       "    <tr>\n",
       "      <th>63</th>\n",
       "      <td>8.0</td>\n",
       "      <td>60.0</td>\n",
       "      <td>0.0</td>\n",
       "      <td>0.1</td>\n",
       "      <td>6.444427</td>\n",
       "    </tr>\n",
       "  </tbody>\n",
       "</table>\n",
       "</div>"
      ],
      "text/plain": [
       "    Critic_Count  Critic_Score  JP_Sales  NA_Sales  User_Score\n",
       "9           24.0          45.0       0.0       0.1    5.193932\n",
       "63           8.0          60.0       0.0       0.1    6.444427"
      ]
     },
     "execution_count": 42,
     "metadata": {},
     "output_type": "execute_result"
    }
   ],
   "source": [
    "# make the index of X_test to an own dataframe\n",
    "prelim_index = pd.DataFrame(X_test.index)\n",
    "prelim_index.columns = ['prelim']\n",
    "\n",
    "# ... and concat this dataframe with y_test\n",
    "y_test = pd.concat([y_test, prelim_index], axis=1)\n",
    "y_test.set_index(['prelim'], inplace=True)\n",
    "\n",
    "# finally combine the new test data\n",
    "test_data = pd.concat([X_test, y_test], axis=1)\n",
    "\n",
    "# combine train and test data back to a new sub df\n",
    "sub_df_new = pd.concat([test_data, train_data], axis=0, sort=True)\n",
    "\n",
    "print(sub_df_new.shape)\n",
    "sub_df_new.head(2)"
   ]
  },
  {
   "cell_type": "code",
   "execution_count": 43,
   "metadata": {},
   "outputs": [
    {
     "data": {
      "text/plain": [
       "Critic_Count    0\n",
       "Critic_Score    0\n",
       "JP_Sales        0\n",
       "NA_Sales        0\n",
       "User_Score      0\n",
       "dtype: int64"
      ]
     },
     "execution_count": 43,
     "metadata": {},
     "output_type": "execute_result"
    }
   ],
   "source": [
    "sub_df_new.isna().sum()"
   ]
  },
  {
   "cell_type": "code",
   "execution_count": 44,
   "metadata": {},
   "outputs": [
    {
     "name": "stdout",
     "output_type": "stream",
     "text": [
      "(5697, 11)\n"
     ]
    },
    {
     "data": {
      "text/html": [
       "<div>\n",
       "<style scoped>\n",
       "    .dataframe tbody tr th:only-of-type {\n",
       "        vertical-align: middle;\n",
       "    }\n",
       "\n",
       "    .dataframe tbody tr th {\n",
       "        vertical-align: top;\n",
       "    }\n",
       "\n",
       "    .dataframe thead th {\n",
       "        text-align: right;\n",
       "    }\n",
       "</style>\n",
       "<table border=\"1\" class=\"dataframe\">\n",
       "  <thead>\n",
       "    <tr style=\"text-align: right;\">\n",
       "      <th></th>\n",
       "      <th>Critic_Count</th>\n",
       "      <th>Critic_Score</th>\n",
       "      <th>JP_Sales</th>\n",
       "      <th>NA_Sales</th>\n",
       "      <th>User_Score</th>\n",
       "      <th>Id</th>\n",
       "      <th>Platform</th>\n",
       "      <th>Genre</th>\n",
       "      <th>User_Count</th>\n",
       "      <th>Rating</th>\n",
       "      <th>Periods_of_Release</th>\n",
       "    </tr>\n",
       "  </thead>\n",
       "  <tbody>\n",
       "    <tr>\n",
       "      <th>0</th>\n",
       "      <td>49.0</td>\n",
       "      <td>81.0</td>\n",
       "      <td>0.06</td>\n",
       "      <td>0.00</td>\n",
       "      <td>8.3</td>\n",
       "      <td>0</td>\n",
       "      <td>PSP</td>\n",
       "      <td>Misc</td>\n",
       "      <td>62.0</td>\n",
       "      <td>E</td>\n",
       "      <td>2005-2010</td>\n",
       "    </tr>\n",
       "    <tr>\n",
       "      <th>3</th>\n",
       "      <td>57.0</td>\n",
       "      <td>54.0</td>\n",
       "      <td>0.00</td>\n",
       "      <td>0.15</td>\n",
       "      <td>6.3</td>\n",
       "      <td>3</td>\n",
       "      <td>X360</td>\n",
       "      <td>Fighting</td>\n",
       "      <td>19.0</td>\n",
       "      <td>T</td>\n",
       "      <td>2005-2010</td>\n",
       "    </tr>\n",
       "  </tbody>\n",
       "</table>\n",
       "</div>"
      ],
      "text/plain": [
       "   Critic_Count  Critic_Score  JP_Sales  NA_Sales  User_Score  Id Platform  \\\n",
       "0          49.0          81.0      0.06      0.00         8.3   0      PSP   \n",
       "3          57.0          54.0      0.00      0.15         6.3   3     X360   \n",
       "\n",
       "      Genre  User_Count Rating Periods_of_Release  \n",
       "0      Misc        62.0      E          2005-2010  \n",
       "3  Fighting        19.0      T          2005-2010  "
      ]
     },
     "execution_count": 44,
     "metadata": {},
     "output_type": "execute_result"
    }
   ],
   "source": [
    "# drop duplicate columns in dataframe before concatening \n",
    "df.drop(['Critic_Count', 'Critic_Score', 'JP_Sales', 'NA_Sales', 'User_Score'], axis=1, inplace=True)\n",
    "\n",
    "# concatenate back to complete dataframe\n",
    "df = pd.concat([sub_df_new, df], axis=1)\n",
    "\n",
    "print(df.shape)\n",
    "df.head(2)"
   ]
  },
  {
   "cell_type": "code",
   "execution_count": 45,
   "metadata": {},
   "outputs": [
    {
     "data": {
      "text/plain": [
       "0"
      ]
     },
     "execution_count": 45,
     "metadata": {},
     "output_type": "execute_result"
    }
   ],
   "source": [
    "df.User_Score.isna().sum()"
   ]
  },
  {
   "cell_type": "code",
   "execution_count": 46,
   "metadata": {},
   "outputs": [
    {
     "data": {
      "text/plain": [
       "count    5697.000000\n",
       "mean        7.083235\n",
       "std         1.398511\n",
       "min         0.500000\n",
       "25%         6.300000\n",
       "50%         7.300000\n",
       "75%         8.100000\n",
       "max        10.534765\n",
       "Name: User_Score, dtype: float64"
      ]
     },
     "execution_count": 46,
     "metadata": {},
     "output_type": "execute_result"
    }
   ],
   "source": [
    "df.User_Score.describe()"
   ]
  },
  {
   "cell_type": "markdown",
   "metadata": {},
   "source": [
    "*Removing Outliers*"
   ]
  },
  {
   "cell_type": "markdown",
   "metadata": {},
   "source": [
    "To not change the original distribution, let's remove any values(s) bigger than the recent maximum of 9.6:"
   ]
  },
  {
   "cell_type": "code",
   "execution_count": 47,
   "metadata": {},
   "outputs": [
    {
     "data": {
      "text/plain": [
       "count    5696.000000\n",
       "mean        7.082629\n",
       "std         1.397886\n",
       "min         0.500000\n",
       "25%         6.300000\n",
       "50%         7.300000\n",
       "75%         8.100000\n",
       "max         9.600000\n",
       "Name: User_Score, dtype: float64"
      ]
     },
     "execution_count": 47,
     "metadata": {},
     "output_type": "execute_result"
    }
   ],
   "source": [
    "df = df.drop(df[df.User_Score > 9.6].index, axis=0)\n",
    "df.User_Score.describe()"
   ]
  },
  {
   "cell_type": "code",
   "execution_count": 48,
   "metadata": {},
   "outputs": [
    {
     "data": {
      "image/png": "[encoded data removed]",
      "text/plain": [
       "<Figure size 432x288 with 1 Axes>"
      ]
     },
     "metadata": {
      "needs_background": "light"
     },
     "output_type": "display_data"
    }
   ],
   "source": [
    "df.User_Score.hist();"
   ]
  },
  {
   "cell_type": "markdown",
   "metadata": {},
   "source": [
    "*Back to: <a href='#Table of contents'> Table of contents</a>*\n",
    "\n",
    "**2.6. Handling `User_Count` column**\n",
    "<a id='2.6. Handling User_Count column'></a>"
   ]
  },
  {
   "cell_type": "markdown",
   "metadata": {},
   "source": [
    "*Distribution of User_Count*"
   ]
  },
  {
   "cell_type": "code",
   "execution_count": 113,
   "metadata": {},
   "outputs": [
    {
     "name": "stdout",
     "output_type": "stream",
     "text": [
      "Percentage of missing values in User_Count column:\n",
      "0.133 %\n"
     ]
    }
   ],
   "source": [
    "print('Percentage of missing values in User_Count column:')\n",
    "print(round(df.User_Count.isna().sum()/len(df), 3), '%')"
   ]
  },
  {
   "cell_type": "code",
   "execution_count": 114,
   "metadata": {},
   "outputs": [
    {
     "data": {
      "text/plain": [
       "count     4938.000000\n",
       "mean       178.105711\n",
       "std        602.157830\n",
       "min          4.000000\n",
       "25%         11.000000\n",
       "50%         27.000000\n",
       "75%         93.000000\n",
       "max      10665.000000\n",
       "Name: User_Count, dtype: float64"
      ]
     },
     "execution_count": 114,
     "metadata": {},
     "output_type": "execute_result"
    }
   ],
   "source": [
    "df.User_Count.describe()"
   ]
  },
  {
   "cell_type": "code",
   "execution_count": 115,
   "metadata": {},
   "outputs": [
    {
     "data": {
      "image/png": "[encoded data removed]",
      "text/plain": [
       "<Figure size 432x288 with 1 Axes>"
      ]
     },
     "metadata": {},
     "output_type": "display_data"
    }
   ],
   "source": [
    "df.User_Count.plot(kind='box', vert=False);"
   ]
  },
  {
   "cell_type": "code",
   "execution_count": 116,
   "metadata": {},
   "outputs": [
    {
     "data": {
      "text/plain": [
       "count    4917.000000\n",
       "mean      149.069758\n",
       "std       385.828663\n",
       "min         4.000000\n",
       "25%        11.000000\n",
       "50%        27.000000\n",
       "75%        90.000000\n",
       "max      3943.000000\n",
       "Name: User_Count, dtype: float64"
      ]
     },
     "execution_count": 116,
     "metadata": {},
     "output_type": "execute_result"
    }
   ],
   "source": [
    "# remove extreme outliers\n",
    "df = df.drop(df[df.User_Count > 4000].index, axis=0)\n",
    "df.User_Count.describe()"
   ]
  },
  {
   "cell_type": "markdown",
   "metadata": {},
   "source": [
    "Now we still face outliers, but only up to a maximum of 3,943!"
   ]
  },
  {
   "cell_type": "markdown",
   "metadata": {},
   "source": [
    "*Creating Sub-Datasets*"
   ]
  },
  {
   "cell_type": "code",
   "execution_count": 117,
   "metadata": {},
   "outputs": [],
   "source": [
    "# filter out sub_df to work with\n",
    "sub_df = df[['NA_Sales', 'JP_Sales', 'Critic_Score', 'Critic_Count', 'User_Count']]\n",
    "\n",
    "# split datasets\n",
    "train_data = sub_df[sub_df['User_Count'].notnull()]\n",
    "test_data  = sub_df[sub_df['User_Count'].isnull()]\n",
    "\n",
    "# define X\n",
    "X_train = train_data.drop('User_Count', axis=1)\n",
    "X_test  = test_data.drop('User_Count', axis=1)\n",
    "\n",
    "# define y\n",
    "y_train = train_data['User_Count']"
   ]
  },
  {
   "cell_type": "markdown",
   "metadata": {},
   "source": [
    "*Scaling the Features*"
   ]
  },
  {
   "cell_type": "code",
   "execution_count": 118,
   "metadata": {},
   "outputs": [],
   "source": [
    "from sklearn.preprocessing import MinMaxScaler\n",
    "scaler = MinMaxScaler()\n",
    "\n",
    "X_train_scaled = scaler.fit_transform(X_train)\n",
    "X_train_scaled = pd.DataFrame(X_train_scaled)\n",
    "\n",
    "X_test_scaled = scaler.fit_transform(X_test)\n",
    "X_test_scaled = pd.DataFrame(X_test_scaled)"
   ]
  },
  {
   "cell_type": "markdown",
   "metadata": {},
   "source": [
    "*Implementing Linear Regression*"
   ]
  },
  {
   "cell_type": "code",
   "execution_count": 119,
   "metadata": {},
   "outputs": [],
   "source": [
    "# import Linear Regression\n",
    "from sklearn.linear_model import LinearRegression\n",
    "\n",
    "# instantiate\n",
    "linreg = LinearRegression()\n",
    "\n",
    "# fit model to training data\n",
    "linreg.fit(X_train_scaled, y_train)\n",
    "\n",
    "# making predictions\n",
    "y_test = linreg.predict(X_test_scaled)"
   ]
  },
  {
   "cell_type": "code",
   "execution_count": 120,
   "metadata": {},
   "outputs": [
    {
     "name": "stdout",
     "output_type": "stream",
     "text": [
      "(758, 1)\n"
     ]
    },
    {
     "data": {
      "text/html": [
       "<div>\n",
       "<style scoped>\n",
       "    .dataframe tbody tr th:only-of-type {\n",
       "        vertical-align: middle;\n",
       "    }\n",
       "\n",
       "    .dataframe tbody tr th {\n",
       "        vertical-align: top;\n",
       "    }\n",
       "\n",
       "    .dataframe thead th {\n",
       "        text-align: right;\n",
       "    }\n",
       "</style>\n",
       "<table border=\"1\" class=\"dataframe\">\n",
       "  <thead>\n",
       "    <tr style=\"text-align: right;\">\n",
       "      <th></th>\n",
       "      <th>User_Count</th>\n",
       "    </tr>\n",
       "  </thead>\n",
       "  <tbody>\n",
       "    <tr>\n",
       "      <th>0</th>\n",
       "      <td>302.152160</td>\n",
       "    </tr>\n",
       "    <tr>\n",
       "      <th>1</th>\n",
       "      <td>103.404797</td>\n",
       "    </tr>\n",
       "  </tbody>\n",
       "</table>\n",
       "</div>"
      ],
      "text/plain": [
       "   User_Count\n",
       "0  302.152160\n",
       "1  103.404797"
      ]
     },
     "execution_count": 120,
     "metadata": {},
     "output_type": "execute_result"
    }
   ],
   "source": [
    "# preparing y_test\n",
    "y_test = pd.DataFrame(y_test)\n",
    "y_test.columns = ['User_Count']\n",
    "print(y_test.shape)\n",
    "y_test.head(2)"
   ]
  },
  {
   "cell_type": "code",
   "execution_count": 121,
   "metadata": {},
   "outputs": [
    {
     "name": "stdout",
     "output_type": "stream",
     "text": [
      "(758, 4)\n"
     ]
    },
    {
     "data": {
      "text/html": [
       "<div>\n",
       "<style scoped>\n",
       "    .dataframe tbody tr th:only-of-type {\n",
       "        vertical-align: middle;\n",
       "    }\n",
       "\n",
       "    .dataframe tbody tr th {\n",
       "        vertical-align: top;\n",
       "    }\n",
       "\n",
       "    .dataframe thead th {\n",
       "        text-align: right;\n",
       "    }\n",
       "</style>\n",
       "<table border=\"1\" class=\"dataframe\">\n",
       "  <thead>\n",
       "    <tr style=\"text-align: right;\">\n",
       "      <th></th>\n",
       "      <th>NA_Sales</th>\n",
       "      <th>JP_Sales</th>\n",
       "      <th>Critic_Score</th>\n",
       "      <th>Critic_Count</th>\n",
       "    </tr>\n",
       "  </thead>\n",
       "  <tbody>\n",
       "    <tr>\n",
       "      <th>9</th>\n",
       "      <td>0.1</td>\n",
       "      <td>0.0</td>\n",
       "      <td>45.0</td>\n",
       "      <td>24.0</td>\n",
       "    </tr>\n",
       "    <tr>\n",
       "      <th>63</th>\n",
       "      <td>0.1</td>\n",
       "      <td>0.0</td>\n",
       "      <td>60.0</td>\n",
       "      <td>8.0</td>\n",
       "    </tr>\n",
       "  </tbody>\n",
       "</table>\n",
       "</div>"
      ],
      "text/plain": [
       "    NA_Sales  JP_Sales  Critic_Score  Critic_Count\n",
       "9        0.1       0.0          45.0          24.0\n",
       "63       0.1       0.0          60.0           8.0"
      ]
     },
     "execution_count": 121,
     "metadata": {},
     "output_type": "execute_result"
    }
   ],
   "source": [
    "# preparing X_test\n",
    "print(X_test.shape)\n",
    "X_test.head(2)"
   ]
  },
  {
   "cell_type": "markdown",
   "metadata": {},
   "source": [
    "*Concatenating Dataset*"
   ]
  },
  {
   "cell_type": "code",
   "execution_count": 122,
   "metadata": {},
   "outputs": [
    {
     "name": "stdout",
     "output_type": "stream",
     "text": [
      "(5675, 5)\n"
     ]
    },
    {
     "data": {
      "text/html": [
       "<div>\n",
       "<style scoped>\n",
       "    .dataframe tbody tr th:only-of-type {\n",
       "        vertical-align: middle;\n",
       "    }\n",
       "\n",
       "    .dataframe tbody tr th {\n",
       "        vertical-align: top;\n",
       "    }\n",
       "\n",
       "    .dataframe thead th {\n",
       "        text-align: right;\n",
       "    }\n",
       "</style>\n",
       "<table border=\"1\" class=\"dataframe\">\n",
       "  <thead>\n",
       "    <tr style=\"text-align: right;\">\n",
       "      <th></th>\n",
       "      <th>Critic_Count</th>\n",
       "      <th>Critic_Score</th>\n",
       "      <th>JP_Sales</th>\n",
       "      <th>NA_Sales</th>\n",
       "      <th>User_Count</th>\n",
       "    </tr>\n",
       "  </thead>\n",
       "  <tbody>\n",
       "    <tr>\n",
       "      <th>9</th>\n",
       "      <td>24.0</td>\n",
       "      <td>45.0</td>\n",
       "      <td>0.0</td>\n",
       "      <td>0.1</td>\n",
       "      <td>302.152160</td>\n",
       "    </tr>\n",
       "    <tr>\n",
       "      <th>63</th>\n",
       "      <td>8.0</td>\n",
       "      <td>60.0</td>\n",
       "      <td>0.0</td>\n",
       "      <td>0.1</td>\n",
       "      <td>103.404797</td>\n",
       "    </tr>\n",
       "  </tbody>\n",
       "</table>\n",
       "</div>"
      ],
      "text/plain": [
       "    Critic_Count  Critic_Score  JP_Sales  NA_Sales  User_Count\n",
       "9           24.0          45.0       0.0       0.1  302.152160\n",
       "63           8.0          60.0       0.0       0.1  103.404797"
      ]
     },
     "execution_count": 122,
     "metadata": {},
     "output_type": "execute_result"
    }
   ],
   "source": [
    "# make the index of X_test to an own dataframe\n",
    "prelim_index = pd.DataFrame(X_test.index)\n",
    "prelim_index.columns = ['prelim']\n",
    "\n",
    "# ... and concat this dataframe with y_test\n",
    "y_test = pd.concat([y_test, prelim_index], axis=1)\n",
    "y_test.set_index(['prelim'], inplace=True)\n",
    "\n",
    "# finally combine the new test data\n",
    "test_data = pd.concat([X_test, y_test], axis=1)\n",
    "\n",
    "# combine train and test data back to a new sub df\n",
    "sub_df_new = pd.concat([test_data, train_data], axis=0, sort=True)\n",
    "\n",
    "print(sub_df_new.shape)\n",
    "sub_df_new.head(2)"
   ]
  },
  {
   "cell_type": "code",
   "execution_count": 123,
   "metadata": {},
   "outputs": [
    {
     "data": {
      "text/plain": [
       "Critic_Count    0\n",
       "Critic_Score    0\n",
       "JP_Sales        0\n",
       "NA_Sales        0\n",
       "User_Count      0\n",
       "dtype: int64"
      ]
     },
     "execution_count": 123,
     "metadata": {},
     "output_type": "execute_result"
    }
   ],
   "source": [
    "sub_df_new.isna().sum()"
   ]
  },
  {
   "cell_type": "code",
   "execution_count": 124,
   "metadata": {},
   "outputs": [
    {
     "name": "stdout",
     "output_type": "stream",
     "text": [
      "(5675, 11)\n"
     ]
    },
    {
     "data": {
      "text/html": [
       "<div>\n",
       "<style scoped>\n",
       "    .dataframe tbody tr th:only-of-type {\n",
       "        vertical-align: middle;\n",
       "    }\n",
       "\n",
       "    .dataframe tbody tr th {\n",
       "        vertical-align: top;\n",
       "    }\n",
       "\n",
       "    .dataframe thead th {\n",
       "        text-align: right;\n",
       "    }\n",
       "</style>\n",
       "<table border=\"1\" class=\"dataframe\">\n",
       "  <thead>\n",
       "    <tr style=\"text-align: right;\">\n",
       "      <th></th>\n",
       "      <th>Critic_Count</th>\n",
       "      <th>Critic_Score</th>\n",
       "      <th>JP_Sales</th>\n",
       "      <th>NA_Sales</th>\n",
       "      <th>User_Count</th>\n",
       "      <th>User_Score</th>\n",
       "      <th>Id</th>\n",
       "      <th>Platform</th>\n",
       "      <th>Genre</th>\n",
       "      <th>Rating</th>\n",
       "      <th>Periods_of_Release</th>\n",
       "    </tr>\n",
       "  </thead>\n",
       "  <tbody>\n",
       "    <tr>\n",
       "      <th>0</th>\n",
       "      <td>49.0</td>\n",
       "      <td>81.0</td>\n",
       "      <td>0.06</td>\n",
       "      <td>0.00</td>\n",
       "      <td>62.0</td>\n",
       "      <td>8.3</td>\n",
       "      <td>0</td>\n",
       "      <td>PSP</td>\n",
       "      <td>Misc</td>\n",
       "      <td>E</td>\n",
       "      <td>2005-2010</td>\n",
       "    </tr>\n",
       "    <tr>\n",
       "      <th>3</th>\n",
       "      <td>57.0</td>\n",
       "      <td>54.0</td>\n",
       "      <td>0.00</td>\n",
       "      <td>0.15</td>\n",
       "      <td>19.0</td>\n",
       "      <td>6.3</td>\n",
       "      <td>3</td>\n",
       "      <td>X360</td>\n",
       "      <td>Fighting</td>\n",
       "      <td>T</td>\n",
       "      <td>2005-2010</td>\n",
       "    </tr>\n",
       "  </tbody>\n",
       "</table>\n",
       "</div>"
      ],
      "text/plain": [
       "   Critic_Count  Critic_Score  JP_Sales  NA_Sales  User_Count  User_Score  Id  \\\n",
       "0          49.0          81.0      0.06      0.00        62.0         8.3   0   \n",
       "3          57.0          54.0      0.00      0.15        19.0         6.3   3   \n",
       "\n",
       "  Platform     Genre Rating Periods_of_Release  \n",
       "0      PSP      Misc      E          2005-2010  \n",
       "3     X360  Fighting      T          2005-2010  "
      ]
     },
     "execution_count": 124,
     "metadata": {},
     "output_type": "execute_result"
    }
   ],
   "source": [
    "# drop duplicate columns in dataframe before concatening \n",
    "df.drop(['Critic_Count', 'Critic_Score', 'JP_Sales', 'NA_Sales', 'User_Count'], axis=1, inplace=True)\n",
    "\n",
    "# concatenate back to complete dataframe\n",
    "df = pd.concat([sub_df_new, df], axis=1)\n",
    "\n",
    "print(df.shape)\n",
    "df.head(2)"
   ]
  },
  {
   "cell_type": "code",
   "execution_count": 125,
   "metadata": {},
   "outputs": [
    {
     "data": {
      "text/plain": [
       "0"
      ]
     },
     "execution_count": 125,
     "metadata": {},
     "output_type": "execute_result"
    }
   ],
   "source": [
    "df.User_Count.isna().sum()"
   ]
  },
  {
   "cell_type": "code",
   "execution_count": 126,
   "metadata": {},
   "outputs": [
    {
     "data": {
      "text/plain": [
       "count    5675.000000\n",
       "mean      154.160284\n",
       "std       375.272503\n",
       "min      -652.398078\n",
       "25%        11.000000\n",
       "50%        31.000000\n",
       "75%       120.000000\n",
       "max      3943.000000\n",
       "Name: User_Count, dtype: float64"
      ]
     },
     "execution_count": 126,
     "metadata": {},
     "output_type": "execute_result"
    }
   ],
   "source": [
    "df.User_Count.describe()"
   ]
  },
  {
   "cell_type": "markdown",
   "metadata": {},
   "source": [
    "Removing outliers is not necessary as we have the same distribution as we had before imputing."
   ]
  },
  {
   "cell_type": "code",
   "execution_count": 127,
   "metadata": {},
   "outputs": [
    {
     "data": {
      "image/png": "[encoded data removed]",
      "text/plain": [
       "<Figure size 432x288 with 1 Axes>"
      ]
     },
     "metadata": {},
     "output_type": "display_data"
    }
   ],
   "source": [
    "df.User_Count.hist();"
   ]
  },
  {
   "cell_type": "markdown",
   "metadata": {},
   "source": [
    "*Back to: <a href='#Table of contents'> Table of contents</a>*\n",
    "\n",
    "**2.7. Handling `Platform` column**\n",
    "<a id='2.7. Handling Platform column'></a>"
   ]
  },
  {
   "cell_type": "code",
   "execution_count": 128,
   "metadata": {},
   "outputs": [
    {
     "name": "stdout",
     "output_type": "stream",
     "text": [
      "<class 'pandas.core.frame.DataFrame'>\n",
      "Int64Index: 5675 entries, 0 to 11702\n",
      "Data columns (total 11 columns):\n",
      "Critic_Count          5675 non-null float64\n",
      "Critic_Score          5675 non-null float64\n",
      "JP_Sales              5675 non-null float64\n",
      "NA_Sales              5675 non-null float64\n",
      "User_Count            5675 non-null float64\n",
      "User_Score            5675 non-null float64\n",
      "Id                    5675 non-null int64\n",
      "Platform              5675 non-null object\n",
      "Genre                 5675 non-null object\n",
      "Rating                5675 non-null object\n",
      "Periods_of_Release    5675 non-null object\n",
      "dtypes: float64(6), int64(1), object(4)\n",
      "memory usage: 532.0+ KB\n"
     ]
    }
   ],
   "source": [
    "df.info()"
   ]
  },
  {
   "cell_type": "code",
   "execution_count": 129,
   "metadata": {},
   "outputs": [
    {
     "data": {
      "text/plain": [
       "PS2     906\n",
       "X360    647\n",
       "PS3     601\n",
       "DS      492\n",
       "PC      491\n",
       "XB      490\n",
       "Wii     388\n",
       "PSP     333\n",
       "GC      317\n",
       "GBA     292\n",
       "PS4     179\n",
       "PS      137\n",
       "3DS     121\n",
       "XOne    121\n",
       "PSV      87\n",
       "WiiU     62\n",
       "DC       11\n",
       "Name: Platform, dtype: int64"
      ]
     },
     "execution_count": 129,
     "metadata": {},
     "output_type": "execute_result"
    }
   ],
   "source": [
    "df.Platform.value_counts()"
   ]
  },
  {
   "cell_type": "code",
   "execution_count": 130,
   "metadata": {},
   "outputs": [
    {
     "data": {
      "text/plain": [
       "PS2     906\n",
       "X360    647\n",
       "PS3     601\n",
       "DS      492\n",
       "PC      491\n",
       "XB      490\n",
       "Wii     388\n",
       "PSP     333\n",
       "GC      317\n",
       "GBA     292\n",
       "PS4     179\n",
       "PS      137\n",
       "XOne    121\n",
       "3DS     121\n",
       "Name: Platform, dtype: int64"
      ]
     },
     "execution_count": 130,
     "metadata": {},
     "output_type": "execute_result"
    }
   ],
   "source": [
    "df = df.groupby('Platform').filter(lambda x: len(x) > 100)\n",
    "df.Platform.value_counts()"
   ]
  },
  {
   "cell_type": "code",
   "execution_count": 131,
   "metadata": {},
   "outputs": [
    {
     "name": "stdout",
     "output_type": "stream",
     "text": [
      "<class 'pandas.core.frame.DataFrame'>\n",
      "Int64Index: 5515 entries, 0 to 11702\n",
      "Data columns (total 11 columns):\n",
      "Critic_Count          5515 non-null float64\n",
      "Critic_Score          5515 non-null float64\n",
      "JP_Sales              5515 non-null float64\n",
      "NA_Sales              5515 non-null float64\n",
      "User_Count            5515 non-null float64\n",
      "User_Score            5515 non-null float64\n",
      "Id                    5515 non-null int64\n",
      "Platform              5515 non-null object\n",
      "Genre                 5515 non-null object\n",
      "Rating                5515 non-null object\n",
      "Periods_of_Release    5515 non-null object\n",
      "dtypes: float64(6), int64(1), object(4)\n",
      "memory usage: 517.0+ KB\n"
     ]
    }
   ],
   "source": [
    "df.info()"
   ]
  },
  {
   "cell_type": "markdown",
   "metadata": {},
   "source": [
    "*Back to: <a href='#Table of contents'> Table of contents</a>*\n",
    "\n",
    "### 3. Modeling the Data \n",
    "<a id='3. Modeling the Data'></a>"
   ]
  },
  {
   "cell_type": "markdown",
   "metadata": {},
   "source": [
    "*Preparing Target & Features*"
   ]
  },
  {
   "cell_type": "code",
   "execution_count": 132,
   "metadata": {},
   "outputs": [],
   "source": [
    "df = df.drop(['Id'], axis=1)"
   ]
  },
  {
   "cell_type": "code",
   "execution_count": 133,
   "metadata": {},
   "outputs": [],
   "source": [
    "# define our features \n",
    "features = df.drop([\"NA_Sales\"], axis=1)\n",
    "\n",
    "# define our target\n",
    "target = df[[\"NA_Sales\"]]"
   ]
  },
  {
   "cell_type": "markdown",
   "metadata": {},
   "source": [
    "*Recoding Categorical Features*"
   ]
  },
  {
   "cell_type": "code",
   "execution_count": 134,
   "metadata": {},
   "outputs": [
    {
     "name": "stdout",
     "output_type": "stream",
     "text": [
      "<class 'pandas.core.frame.DataFrame'>\n",
      "Int64Index: 5515 entries, 0 to 11702\n",
      "Data columns (total 10 columns):\n",
      "Critic_Count          5515 non-null float64\n",
      "Critic_Score          5515 non-null float64\n",
      "JP_Sales              5515 non-null float64\n",
      "NA_Sales              5515 non-null float64\n",
      "User_Count            5515 non-null float64\n",
      "User_Score            5515 non-null float64\n",
      "Platform              5515 non-null category\n",
      "Genre                 5515 non-null category\n",
      "Rating                5515 non-null category\n",
      "Periods_of_Release    5515 non-null category\n",
      "dtypes: category(4), float64(6)\n",
      "memory usage: 324.8 KB\n"
     ]
    }
   ],
   "source": [
    "# convert string values in object columns into categorical values\n",
    "df['Platform'] = df['Platform'].astype('category')\n",
    "df['Genre'] = df['Genre'].astype('category')\n",
    "df['Rating'] = df['Rating'].astype('category')\n",
    "df['Periods_of_Release'] = df['Periods_of_Release'].astype('category')\n",
    "df.info()"
   ]
  },
  {
   "cell_type": "code",
   "execution_count": 135,
   "metadata": {},
   "outputs": [],
   "source": [
    "# create dummy variables of all categorical features\n",
    "features = pd.get_dummies(features)"
   ]
  },
  {
   "cell_type": "markdown",
   "metadata": {},
   "source": [
    "*Train-Test-Split*"
   ]
  },
  {
   "cell_type": "code",
   "execution_count": 146,
   "metadata": {},
   "outputs": [],
   "source": [
    "# import train_test_split function\n",
    "from sklearn.model_selection import train_test_split\n",
    "\n",
    "# split our data\n",
    "X_train, X_test, y_train, y_test = train_test_split(features, target, test_size=0.25, random_state=40)"
   ]
  },
  {
   "cell_type": "markdown",
   "metadata": {},
   "source": [
    "*Scaling the Data*"
   ]
  },
  {
   "cell_type": "code",
   "execution_count": 147,
   "metadata": {},
   "outputs": [],
   "source": [
    "from sklearn.preprocessing import MinMaxScaler\n",
    "scaler = MinMaxScaler()\n",
    "scaler.fit(X_train)\n",
    "X_train = scaler.transform(X_train) \n",
    "X_test = scaler.transform(X_test)"
   ]
  },
  {
   "cell_type": "markdown",
   "metadata": {},
   "source": [
    "*Training XGBoost*"
   ]
  },
  {
   "cell_type": "code",
   "execution_count": 148,
   "metadata": {},
   "outputs": [],
   "source": [
    "# create a baseline\n",
    "booster = xgb.XGBRegressor()"
   ]
  },
  {
   "cell_type": "code",
   "execution_count": 69,
   "metadata": {},
   "outputs": [
    {
     "name": "stdout",
     "output_type": "stream",
     "text": [
      "{'colsample_bytree': 0.7, 'gamma': 0.0, 'learning_rate': 0.1, 'max_depth': 6, 'n_estimators': 200}\n"
     ]
    }
   ],
   "source": [
    "from sklearn.model_selection import GridSearchCV\n",
    "\n",
    "# create Grid\n",
    "param_grid = {'n_estimators': [100, 150, 200],\n",
    "              'learning_rate': [0.01, 0.05, 0.1], \n",
    "              'max_depth': [3, 4, 5, 6, 7],\n",
    "              'colsample_bytree': [0.6, 0.7, 1],\n",
    "              'gamma': [0.0, 0.1, 0.2]}\n",
    "\n",
    "# instantiate the tuned random forest\n",
    "booster_grid_search = GridSearchCV(booster, param_grid, cv=3, n_jobs=-1)\n",
    "\n",
    "# train the tuned random forest\n",
    "booster_grid_search.fit(X_train, y_train)\n",
    "\n",
    "# print best estimator parameters found during the grid search\n",
    "print(booster_grid_search.best_params_)"
   ]
  },
  {
   "cell_type": "code",
   "execution_count": 149,
   "metadata": {},
   "outputs": [],
   "source": [
    "# instantiate xgboost with best parameters\n",
    "booster = xgb.XGBRegressor(colsample_bytree=0.7, gamma=0.0, learning_rate=0.1, \n",
    "                           max_depth=6, n_estimators=200, random_state=4)\n",
    "\n",
    "# train\n",
    "booster.fit(X_train, y_train)\n",
    "\n",
    "# predict\n",
    "y_pred_train = booster.predict(X_train)\n",
    "y_pred_test  = booster.predict(X_test)"
   ]
  },
  {
   "cell_type": "code",
   "execution_count": 150,
   "metadata": {},
   "outputs": [
    {
     "name": "stdout",
     "output_type": "stream",
     "text": [
      "RMSE: 0.5177\n",
      "r2: 0.6729\n"
     ]
    }
   ],
   "source": [
    "# import metrics\n",
    "from sklearn.metrics import mean_squared_error, r2_score\n",
    "\n",
    "RMSE = np.sqrt(mean_squared_error(y_test, y_pred_test))\n",
    "print(f\"RMSE: {round(RMSE, 4)}\")\n",
    "\n",
    "r2 = r2_score(y_test, y_pred_test)\n",
    "print(f\"r2: {round(r2, 4)}\")"
   ]
  },
  {
   "cell_type": "code",
   "execution_count": 151,
   "metadata": {},
   "outputs": [
    {
     "data": {
      "image/png": "[encoded data removed]",
      "text/plain": [
       "<Figure size 720x360 with 1 Axes>"
      ]
     },
     "metadata": {},
     "output_type": "display_data"
    }
   ],
   "source": [
    "# plot the important features\n",
    "feat_importances = pd.Series(booster.feature_importances_, index=features.columns)\n",
    "feat_importances.nlargest(15).sort_values().plot(kind='barh', color='darkgrey', figsize=(10,5))\n",
    "plt.xlabel('Relative Feature Importance with XGBoost');"
   ]
  },
  {
   "cell_type": "markdown",
   "metadata": {},
   "source": [
    "*Back to: <a href='#Table of contents'> Table of contents</a>*\n",
    "\n",
    "### 4. Predicting on Test Set\n",
    "<a id='4. Predicting on Test Set'></a>"
   ]
  },
  {
   "cell_type": "code",
   "execution_count": 13,
   "metadata": {},
   "outputs": [
    {
     "data": {
      "text/html": [
       "<div>\n",
       "<style scoped>\n",
       "    .dataframe tbody tr th:only-of-type {\n",
       "        vertical-align: middle;\n",
       "    }\n",
       "\n",
       "    .dataframe tbody tr th {\n",
       "        vertical-align: top;\n",
       "    }\n",
       "\n",
       "    .dataframe thead th {\n",
       "        text-align: right;\n",
       "    }\n",
       "</style>\n",
       "<table border=\"1\" class=\"dataframe\">\n",
       "  <thead>\n",
       "    <tr style=\"text-align: right;\">\n",
       "      <th></th>\n",
       "      <th>Id</th>\n",
       "      <th>Platform</th>\n",
       "      <th>Year_of_Release</th>\n",
       "      <th>Genre</th>\n",
       "      <th>Publisher</th>\n",
       "      <th>JP_Sales</th>\n",
       "      <th>Critic_Score</th>\n",
       "      <th>Critic_Count</th>\n",
       "      <th>User_Score</th>\n",
       "      <th>User_Count</th>\n",
       "      <th>Developer</th>\n",
       "      <th>Rating</th>\n",
       "    </tr>\n",
       "  </thead>\n",
       "  <tbody>\n",
       "    <tr>\n",
       "      <th>0</th>\n",
       "      <td>11703</td>\n",
       "      <td>GB</td>\n",
       "      <td>1996.0</td>\n",
       "      <td>Role-Playing</td>\n",
       "      <td>Nintendo</td>\n",
       "      <td>10.22</td>\n",
       "      <td>NaN</td>\n",
       "      <td>NaN</td>\n",
       "      <td>NaN</td>\n",
       "      <td>NaN</td>\n",
       "      <td>NaN</td>\n",
       "      <td>NaN</td>\n",
       "    </tr>\n",
       "    <tr>\n",
       "      <th>1</th>\n",
       "      <td>11704</td>\n",
       "      <td>Wii</td>\n",
       "      <td>2006.0</td>\n",
       "      <td>Misc</td>\n",
       "      <td>Nintendo</td>\n",
       "      <td>2.93</td>\n",
       "      <td>58.0</td>\n",
       "      <td>41.0</td>\n",
       "      <td>6.6</td>\n",
       "      <td>129.0</td>\n",
       "      <td>Nintendo</td>\n",
       "      <td>E</td>\n",
       "    </tr>\n",
       "  </tbody>\n",
       "</table>\n",
       "</div>"
      ],
      "text/plain": [
       "      Id Platform  Year_of_Release         Genre Publisher  JP_Sales  \\\n",
       "0  11703       GB           1996.0  Role-Playing  Nintendo     10.22   \n",
       "1  11704      Wii           2006.0          Misc  Nintendo      2.93   \n",
       "\n",
       "   Critic_Score  Critic_Count User_Score  User_Count Developer Rating  \n",
       "0           NaN           NaN        NaN         NaN       NaN    NaN  \n",
       "1          58.0          41.0        6.6       129.0  Nintendo      E  "
      ]
     },
     "execution_count": 13,
     "metadata": {},
     "output_type": "execute_result"
    }
   ],
   "source": [
    "df_test = pd.read_csv('test.csv')\n",
    "df_test.head(2)"
   ]
  },
  {
   "cell_type": "code",
   "execution_count": 14,
   "metadata": {},
   "outputs": [
    {
     "data": {
      "text/plain": [
       "(5016, 12)"
      ]
     },
     "execution_count": 14,
     "metadata": {},
     "output_type": "execute_result"
    }
   ],
   "source": [
    "df_test.shape"
   ]
  },
  {
   "cell_type": "code",
   "execution_count": 15,
   "metadata": {},
   "outputs": [
    {
     "name": "stdout",
     "output_type": "stream",
     "text": [
      "<class 'pandas.core.frame.DataFrame'>\n",
      "RangeIndex: 5016 entries, 0 to 5015\n",
      "Data columns (total 12 columns):\n",
      "Id                 5016 non-null int64\n",
      "Platform           5016 non-null object\n",
      "Year_of_Release    4930 non-null float64\n",
      "Genre              5016 non-null object\n",
      "Publisher          5001 non-null object\n",
      "JP_Sales           5016 non-null float64\n",
      "Critic_Score       2440 non-null float64\n",
      "Critic_Count       2440 non-null float64\n",
      "User_Score         3004 non-null object\n",
      "User_Count         2258 non-null float64\n",
      "Developer          3030 non-null object\n",
      "Rating             2972 non-null object\n",
      "dtypes: float64(5), int64(1), object(6)\n",
      "memory usage: 470.3+ KB\n"
     ]
    }
   ],
   "source": [
    "df_test.info()"
   ]
  },
  {
   "cell_type": "code",
   "execution_count": 16,
   "metadata": {},
   "outputs": [],
   "source": [
    "df_test = df_test.drop(['Publisher', 'Developer'], axis=1)"
   ]
  },
  {
   "cell_type": "markdown",
   "metadata": {},
   "source": [
    "*Preparing Rating Column*"
   ]
  },
  {
   "cell_type": "code",
   "execution_count": 31,
   "metadata": {},
   "outputs": [
    {
     "data": {
      "text/plain": [
       "E       1200\n",
       "T        892\n",
       "M        454\n",
       "E10+     420\n",
       "EC         3\n",
       "AO         1\n",
       "K-A        1\n",
       "RP         1\n",
       "Name: Rating, dtype: int64"
      ]
     },
     "execution_count": 31,
     "metadata": {},
     "output_type": "execute_result"
    }
   ],
   "source": [
    "df_test.Rating.value_counts()"
   ]
  },
  {
   "cell_type": "code",
   "execution_count": 32,
   "metadata": {},
   "outputs": [
    {
     "data": {
      "text/plain": [
       "None    2046\n",
       "E       1204\n",
       "T        892\n",
       "M        454\n",
       "E10+     420\n",
       "Name: Rating, dtype: int64"
      ]
     },
     "execution_count": 32,
     "metadata": {},
     "output_type": "execute_result"
    }
   ],
   "source": [
    "value_replacement(df_test.Rating, to_replace='EC', new_value='E')\n",
    "value_replacement(df_test.Rating, to_replace='K-A', new_value='E')\n",
    "value_replacement(df_test.Rating, to_replace='RP', new_value='None')\n",
    "value_replacement(df_test.Rating, to_replace='AO', new_value='None')\n",
    "value_replacement(df_test.Rating, to_replace=np.nan, new_value='None')\n",
    "\n",
    "df_test.Rating.value_counts()"
   ]
  },
  {
   "cell_type": "markdown",
   "metadata": {},
   "source": [
    "*Preparing Year_of_Release column*"
   ]
  },
  {
   "cell_type": "code",
   "execution_count": 33,
   "metadata": {},
   "outputs": [
    {
     "name": "stdout",
     "output_type": "stream",
     "text": [
      "<class 'pandas.core.frame.DataFrame'>\n",
      "RangeIndex: 5016 entries, 0 to 5015\n",
      "Data columns (total 10 columns):\n",
      "Id                    5016 non-null int64\n",
      "Platform              5016 non-null object\n",
      "Genre                 5016 non-null object\n",
      "JP_Sales              5016 non-null float64\n",
      "Critic_Score          2440 non-null float64\n",
      "Critic_Count          2440 non-null float64\n",
      "User_Score            3004 non-null object\n",
      "User_Count            2258 non-null float64\n",
      "Rating                5016 non-null object\n",
      "Periods_of_Release    5016 non-null object\n",
      "dtypes: float64(4), int64(1), object(5)\n",
      "memory usage: 392.0+ KB\n"
     ]
    }
   ],
   "source": [
    "# bin the year_of_release into periods_of_release\n",
    "bins = [1980, 1995, 2000, 2005, 2010, 2015, 2017]\n",
    "labels = ['Before 1995', '1995-2000', '2000-2005', '2005-2010', '2010-2015', '2015-2017']\n",
    "df_test['Periods_of_Release'] = pd.cut(df_test['Year_of_Release'], bins=bins, labels=labels)\n",
    "\n",
    "# create another category for the unknown release date\n",
    "df_test['Periods_of_Release'].replace(to_replace=np.nan, value='Unknown', inplace=True)\n",
    "\n",
    "df_test = df_test.drop(['Year_of_Release'], axis=1)\n",
    "df_test.info()"
   ]
  },
  {
   "cell_type": "markdown",
   "metadata": {},
   "source": [
    "*Preparing Critic_Score*"
   ]
  },
  {
   "cell_type": "code",
   "execution_count": null,
   "metadata": {},
   "outputs": [],
   "source": [
    "linreg_user_score\n",
    "# making predictions\n",
    "y_test = linreg_user_score.predict(X_test_scaled)"
   ]
  },
  {
   "cell_type": "code",
   "execution_count": null,
   "metadata": {},
   "outputs": [],
   "source": []
  },
  {
   "cell_type": "code",
   "execution_count": null,
   "metadata": {},
   "outputs": [],
   "source": []
  },
  {
   "cell_type": "code",
   "execution_count": null,
   "metadata": {},
   "outputs": [],
   "source": []
  },
  {
   "cell_type": "code",
   "execution_count": null,
   "metadata": {},
   "outputs": [],
   "source": []
  },
  {
   "cell_type": "code",
   "execution_count": 164,
   "metadata": {},
   "outputs": [
    {
     "ename": "ValueError",
     "evalue": "DataFrame.dtypes for data must be int, float or bool.\n                Did not expect the data types in fields Platform, Genre, User_Score, Rating",
     "output_type": "error",
     "traceback": [
      "\u001b[0;31m---------------------------------------------------------------------------\u001b[0m",
      "\u001b[0;31mValueError\u001b[0m                                Traceback (most recent call last)",
      "\u001b[0;32m<ipython-input-164-c07d91f714c9>\u001b[0m in \u001b[0;36m<module>\u001b[0;34m\u001b[0m\n\u001b[1;32m      1\u001b[0m \u001b[0;31m# predict\u001b[0m\u001b[0;34m\u001b[0m\u001b[0;34m\u001b[0m\u001b[0;34m\u001b[0m\u001b[0m\n\u001b[0;32m----> 2\u001b[0;31m \u001b[0mpredictions\u001b[0m \u001b[0;34m=\u001b[0m \u001b[0mbooster\u001b[0m\u001b[0;34m.\u001b[0m\u001b[0mpredict\u001b[0m\u001b[0;34m(\u001b[0m\u001b[0mdf_test\u001b[0m\u001b[0;34m)\u001b[0m\u001b[0;34m\u001b[0m\u001b[0;34m\u001b[0m\u001b[0m\n\u001b[0m\u001b[1;32m      3\u001b[0m \u001b[0;34m\u001b[0m\u001b[0m\n\u001b[1;32m      4\u001b[0m \u001b[0;31m# Kaggle needs the submission to have a certain format\u001b[0m\u001b[0;34m\u001b[0m\u001b[0;34m\u001b[0m\u001b[0;34m\u001b[0m\u001b[0m\n\u001b[1;32m      5\u001b[0m submission = pd.DataFrame({'Id': df_test['Id'], \n",
      "\u001b[0;32m/anaconda3/lib/python3.6/site-packages/xgboost/sklearn.py\u001b[0m in \u001b[0;36mpredict\u001b[0;34m(self, data, output_margin, ntree_limit)\u001b[0m\n\u001b[1;32m    375\u001b[0m         \"\"\"\n\u001b[1;32m    376\u001b[0m         \u001b[0;31m# pylint: disable=missing-docstring,invalid-name\u001b[0m\u001b[0;34m\u001b[0m\u001b[0;34m\u001b[0m\u001b[0;34m\u001b[0m\u001b[0m\n\u001b[0;32m--> 377\u001b[0;31m         \u001b[0mtest_dmatrix\u001b[0m \u001b[0;34m=\u001b[0m \u001b[0mDMatrix\u001b[0m\u001b[0;34m(\u001b[0m\u001b[0mdata\u001b[0m\u001b[0;34m,\u001b[0m \u001b[0mmissing\u001b[0m\u001b[0;34m=\u001b[0m\u001b[0mself\u001b[0m\u001b[0;34m.\u001b[0m\u001b[0mmissing\u001b[0m\u001b[0;34m,\u001b[0m \u001b[0mnthread\u001b[0m\u001b[0;34m=\u001b[0m\u001b[0mself\u001b[0m\u001b[0;34m.\u001b[0m\u001b[0mn_jobs\u001b[0m\u001b[0;34m)\u001b[0m\u001b[0;34m\u001b[0m\u001b[0;34m\u001b[0m\u001b[0m\n\u001b[0m\u001b[1;32m    378\u001b[0m         \u001b[0;31m# get ntree_limit to use - if none specified, default to\u001b[0m\u001b[0;34m\u001b[0m\u001b[0;34m\u001b[0m\u001b[0;34m\u001b[0m\u001b[0m\n\u001b[1;32m    379\u001b[0m         \u001b[0;31m# best_ntree_limit if defined, otherwise 0.\u001b[0m\u001b[0;34m\u001b[0m\u001b[0;34m\u001b[0m\u001b[0;34m\u001b[0m\u001b[0m\n",
      "\u001b[0;32m/anaconda3/lib/python3.6/site-packages/xgboost/core.py\u001b[0m in \u001b[0;36m__init__\u001b[0;34m(self, data, label, missing, weight, silent, feature_names, feature_types, nthread)\u001b[0m\n\u001b[1;32m    342\u001b[0m         data, feature_names, feature_types = _maybe_pandas_data(data,\n\u001b[1;32m    343\u001b[0m                                                                 \u001b[0mfeature_names\u001b[0m\u001b[0;34m,\u001b[0m\u001b[0;34m\u001b[0m\u001b[0;34m\u001b[0m\u001b[0m\n\u001b[0;32m--> 344\u001b[0;31m                                                                 feature_types)\n\u001b[0m\u001b[1;32m    345\u001b[0m \u001b[0;34m\u001b[0m\u001b[0m\n\u001b[1;32m    346\u001b[0m         data, feature_names, feature_types = _maybe_dt_data(data,\n",
      "\u001b[0;32m/anaconda3/lib/python3.6/site-packages/xgboost/core.py\u001b[0m in \u001b[0;36m_maybe_pandas_data\u001b[0;34m(data, feature_names, feature_types)\u001b[0m\n\u001b[1;32m    212\u001b[0m         msg = \"\"\"DataFrame.dtypes for data must be int, float or bool.\n\u001b[1;32m    213\u001b[0m                 Did not expect the data types in fields \"\"\"\n\u001b[0;32m--> 214\u001b[0;31m         \u001b[0;32mraise\u001b[0m \u001b[0mValueError\u001b[0m\u001b[0;34m(\u001b[0m\u001b[0mmsg\u001b[0m \u001b[0;34m+\u001b[0m \u001b[0;34m', '\u001b[0m\u001b[0;34m.\u001b[0m\u001b[0mjoin\u001b[0m\u001b[0;34m(\u001b[0m\u001b[0mbad_fields\u001b[0m\u001b[0;34m)\u001b[0m\u001b[0;34m)\u001b[0m\u001b[0;34m\u001b[0m\u001b[0;34m\u001b[0m\u001b[0m\n\u001b[0m\u001b[1;32m    215\u001b[0m \u001b[0;34m\u001b[0m\u001b[0m\n\u001b[1;32m    216\u001b[0m     \u001b[0;32mif\u001b[0m \u001b[0mfeature_names\u001b[0m \u001b[0;32mis\u001b[0m \u001b[0;32mNone\u001b[0m\u001b[0;34m:\u001b[0m\u001b[0;34m\u001b[0m\u001b[0;34m\u001b[0m\u001b[0m\n",
      "\u001b[0;31mValueError\u001b[0m: DataFrame.dtypes for data must be int, float or bool.\n                Did not expect the data types in fields Platform, Genre, User_Score, Rating"
     ]
    }
   ],
   "source": [
    "# predict\n",
    "predictions = booster.predict(df_test)\n",
    "\n",
    "# Kaggle needs the submission to have a certain format\n",
    "submission = pd.DataFrame({'Id': df_test['Id'], \n",
    "                           'Prediction': predictions})\n",
    "\n",
    "submission.to_csv(\"submission.csv\", index=False)"
   ]
  },
  {
   "cell_type": "code",
   "execution_count": null,
   "metadata": {},
   "outputs": [],
   "source": []
  }
 ],
 "metadata": {
  "kernelspec": {
   "display_name": "Python 3",
   "language": "python",
   "name": "python3"
  },
  "language_info": {
   "codemirror_mode": {
    "name": "ipython",
    "version": 3
   },
   "file_extension": ".py",
   "mimetype": "text/x-python",
   "name": "python",
   "nbconvert_exporter": "python",
   "pygments_lexer": "ipython3",
   "version": "3.6.8"
  }
 },
 "nbformat": 4,
 "nbformat_minor": 2
}
