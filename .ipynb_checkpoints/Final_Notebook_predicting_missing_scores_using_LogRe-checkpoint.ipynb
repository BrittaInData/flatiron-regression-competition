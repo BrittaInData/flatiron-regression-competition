{
 "cells": [
  {
   "cell_type": "markdown",
   "metadata": {},
   "source": [
    "# Flatiron School: Use your regression skills to save the Galaxy\n",
    "\n",
    "### InClass prediction Competition"
   ]
  },
  {
   "cell_type": "markdown",
   "metadata": {},
   "source": [
    "### Table of Contents\n",
    "<a id='Table of contents'></a>\n",
    "\n",
    "### <a href='#1. Obtaining and Viewing the Data'> 1. Obtaining and Viewing the Data </a>\n",
    "* <a href='#1.1. Test Data'> 1.1. Test Data </a>\n",
    "* <a href='#1.2. Train Data'> 1.2. Train Data </a>\n",
    "\n",
    "### <a href='#2. Preprocessing the Data'> 2. Preprocessing the Data </a>\n",
    "* <a href='#2.1. Handling Genre column'> 2.1. Handling Genre column </a>\n",
    "* <a href='#2.2. Handling Rating column'> 2.2. Handling Rating column</a>\n",
    "* <a href='#2.3. Handling Year_of_Release column'> 2.3. Handling Year_of_Release column </a>\n",
    "* <a href='#2.4. Handling User Count column'> 2.4. Handling User Count column </a>\n",
    "* <a href='#2.5. Handling Critic Score column'> 2.5. Handling Critic Score column </a>\n",
    "* <a href='#2.6. Handling Platform column'> 2.6. Handling Platform column </a>\n",
    "\n",
    "### <a href='#3. Modeling the Train Data'> 3. Modeling the Train Data </a>\n",
    "\n",
    "### <a href='#4. Predicting on Test Data'> 4. Predicting on Test Data </a>"
   ]
  },
  {
   "cell_type": "markdown",
   "metadata": {},
   "source": [
    "### 1. Obtaining and Viewing the Data \n",
    "<a id='1. Obtaining and Viewing the Data'></a>"
   ]
  },
  {
   "cell_type": "code",
   "execution_count": 1,
   "metadata": {},
   "outputs": [],
   "source": [
    "# import libraries \n",
    "import pandas as pd\n",
    "import numpy as np\n",
    "import xgboost as xgb\n",
    "\n",
    "import matplotlib.pyplot as plt\n",
    "import seaborn as sns\n",
    "sns.set(style=\"darkgrid\")\n",
    "\n",
    "import warnings\n",
    "warnings.filterwarnings(\"ignore\")"
   ]
  },
  {
   "cell_type": "markdown",
   "metadata": {},
   "source": [
    "**1.1. Test Data**\n",
    "<a id='1.1. Test Data'></a>"
   ]
  },
  {
   "cell_type": "code",
   "execution_count": 2,
   "metadata": {},
   "outputs": [
    {
     "name": "stdout",
     "output_type": "stream",
     "text": [
      "<class 'pandas.core.frame.DataFrame'>\n",
      "RangeIndex: 5016 entries, 0 to 5015\n",
      "Data columns (total 12 columns):\n",
      "Id                 5016 non-null int64\n",
      "Platform           5016 non-null object\n",
      "Year_of_Release    4930 non-null float64\n",
      "Genre              5016 non-null object\n",
      "Publisher          5001 non-null object\n",
      "JP_Sales           5016 non-null float64\n",
      "Critic_Score       2440 non-null float64\n",
      "Critic_Count       2440 non-null float64\n",
      "User_Score         3004 non-null object\n",
      "User_Count         2258 non-null float64\n",
      "Developer          3030 non-null object\n",
      "Rating             2972 non-null object\n",
      "dtypes: float64(5), int64(1), object(6)\n",
      "memory usage: 470.3+ KB\n"
     ]
    }
   ],
   "source": [
    "df_test = pd.read_csv('test.csv')\n",
    "df_test.info()"
   ]
  },
  {
   "cell_type": "code",
   "execution_count": 3,
   "metadata": {},
   "outputs": [
    {
     "data": {
      "text/html": [
       "<div>\n",
       "<style scoped>\n",
       "    .dataframe tbody tr th:only-of-type {\n",
       "        vertical-align: middle;\n",
       "    }\n",
       "\n",
       "    .dataframe tbody tr th {\n",
       "        vertical-align: top;\n",
       "    }\n",
       "\n",
       "    .dataframe thead th {\n",
       "        text-align: right;\n",
       "    }\n",
       "</style>\n",
       "<table border=\"1\" class=\"dataframe\">\n",
       "  <thead>\n",
       "    <tr style=\"text-align: right;\">\n",
       "      <th></th>\n",
       "      <th>Id</th>\n",
       "      <th>Platform</th>\n",
       "      <th>Year_of_Release</th>\n",
       "      <th>Genre</th>\n",
       "      <th>Publisher</th>\n",
       "      <th>JP_Sales</th>\n",
       "      <th>Critic_Score</th>\n",
       "      <th>Critic_Count</th>\n",
       "      <th>User_Score</th>\n",
       "      <th>User_Count</th>\n",
       "      <th>Developer</th>\n",
       "      <th>Rating</th>\n",
       "    </tr>\n",
       "  </thead>\n",
       "  <tbody>\n",
       "    <tr>\n",
       "      <th>0</th>\n",
       "      <td>11703</td>\n",
       "      <td>GB</td>\n",
       "      <td>1996.0</td>\n",
       "      <td>Role-Playing</td>\n",
       "      <td>Nintendo</td>\n",
       "      <td>10.22</td>\n",
       "      <td>NaN</td>\n",
       "      <td>NaN</td>\n",
       "      <td>NaN</td>\n",
       "      <td>NaN</td>\n",
       "      <td>NaN</td>\n",
       "      <td>NaN</td>\n",
       "    </tr>\n",
       "    <tr>\n",
       "      <th>1</th>\n",
       "      <td>11704</td>\n",
       "      <td>Wii</td>\n",
       "      <td>2006.0</td>\n",
       "      <td>Misc</td>\n",
       "      <td>Nintendo</td>\n",
       "      <td>2.93</td>\n",
       "      <td>58.0</td>\n",
       "      <td>41.0</td>\n",
       "      <td>6.6</td>\n",
       "      <td>129.0</td>\n",
       "      <td>Nintendo</td>\n",
       "      <td>E</td>\n",
       "    </tr>\n",
       "  </tbody>\n",
       "</table>\n",
       "</div>"
      ],
      "text/plain": [
       "      Id Platform  Year_of_Release         Genre Publisher  JP_Sales  \\\n",
       "0  11703       GB           1996.0  Role-Playing  Nintendo     10.22   \n",
       "1  11704      Wii           2006.0          Misc  Nintendo      2.93   \n",
       "\n",
       "   Critic_Score  Critic_Count User_Score  User_Count Developer Rating  \n",
       "0           NaN           NaN        NaN         NaN       NaN    NaN  \n",
       "1          58.0          41.0        6.6       129.0  Nintendo      E  "
      ]
     },
     "execution_count": 3,
     "metadata": {},
     "output_type": "execute_result"
    }
   ],
   "source": [
    "df_test.head(2)"
   ]
  },
  {
   "cell_type": "code",
   "execution_count": 4,
   "metadata": {},
   "outputs": [
    {
     "data": {
      "text/plain": [
       "Id                 0.000000\n",
       "Platform           0.000000\n",
       "Year_of_Release    0.017145\n",
       "Genre              0.000000\n",
       "Publisher          0.002990\n",
       "JP_Sales           0.000000\n",
       "Critic_Score       0.513557\n",
       "Critic_Count       0.513557\n",
       "User_Score         0.401116\n",
       "User_Count         0.549841\n",
       "Developer          0.395933\n",
       "Rating             0.407496\n",
       "dtype: float64"
      ]
     },
     "execution_count": 4,
     "metadata": {},
     "output_type": "execute_result"
    }
   ],
   "source": [
    "df_test.isna().sum()/len(df_test)"
   ]
  },
  {
   "cell_type": "code",
   "execution_count": 5,
   "metadata": {},
   "outputs": [
    {
     "data": {
      "text/plain": [
       "array([nan, '6.6', '8.2', '7.9', '8.7', '3.4', '6.4', '7.5', '7.4', '7.6',\n",
       "       '8.3', 'tbd', '4.3', '9', '8.8', '7.1', '8.1', '5.7', '8.9', '6.1',\n",
       "       '7.2', '8', '5.4', '8.6', '9.2', '8.5', '9.1', '4.8', '4.5', '4.2',\n",
       "       '7.3', '8.4', '6', '6.3', '6.7', '3.7', '5.6', '5.5', '4.4', '4.6',\n",
       "       '7.7', '6.5', '7.8', '6.8', '7', '6.2', '6.9', '5', '4.1', '5.1',\n",
       "       '2.5', '3.1', '5.8', '2.2', '5.9', '9.3', '3.5', '9.4', '9.5',\n",
       "       '2.6', '3.3', '5.3', '2.8', '3.8', '4.9', '3.6', '3', '4', '4.7',\n",
       "       '5.2', '3.2', '2.7', '1.1', '1.7', '3.9', '2', '2.9', '1.5', '1.2',\n",
       "       '9.6', '1.8', '2.1', '2.4', '0.9', '1.3', '0.3', '0.2', '0.6',\n",
       "       '1.4'], dtype=object)"
      ]
     },
     "execution_count": 5,
     "metadata": {},
     "output_type": "execute_result"
    }
   ],
   "source": [
    "# why is user score stored as string?\n",
    "df_test.User_Score.unique()"
   ]
  },
  {
   "cell_type": "code",
   "execution_count": 6,
   "metadata": {},
   "outputs": [
    {
     "name": "stdout",
     "output_type": "stream",
     "text": [
      "<class 'pandas.core.frame.DataFrame'>\n",
      "RangeIndex: 5016 entries, 0 to 5015\n",
      "Data columns (total 12 columns):\n",
      "Id                 5016 non-null int64\n",
      "Platform           5016 non-null object\n",
      "Year_of_Release    4930 non-null float64\n",
      "Genre              5016 non-null object\n",
      "Publisher          5001 non-null object\n",
      "JP_Sales           5016 non-null float64\n",
      "Critic_Score       2440 non-null float64\n",
      "Critic_Count       2440 non-null float64\n",
      "User_Score         2258 non-null float64\n",
      "User_Count         2258 non-null float64\n",
      "Developer          3030 non-null object\n",
      "Rating             2972 non-null object\n",
      "dtypes: float64(6), int64(1), object(5)\n",
      "memory usage: 470.3+ KB\n"
     ]
    }
   ],
   "source": [
    "# replace 'tbd'\n",
    "df_test['User_Score'].replace(to_replace='tbd', value=np.nan, inplace=True)\n",
    "# convert string values into numeric values\n",
    "df_test['User_Score'] = pd.to_numeric(df_test['User_Score'])\n",
    "\n",
    "df_test.info()"
   ]
  },
  {
   "cell_type": "code",
   "execution_count": 7,
   "metadata": {},
   "outputs": [
    {
     "data": {
      "text/plain": [
       "0"
      ]
     },
     "execution_count": 7,
     "metadata": {},
     "output_type": "execute_result"
    }
   ],
   "source": [
    "df_test.duplicated().sum()"
   ]
  },
  {
   "cell_type": "markdown",
   "metadata": {},
   "source": [
    "**1.2. Train Data**\n",
    "<a id='1.2. Train Data'></a>"
   ]
  },
  {
   "cell_type": "code",
   "execution_count": 8,
   "metadata": {},
   "outputs": [
    {
     "name": "stdout",
     "output_type": "stream",
     "text": [
      "<class 'pandas.core.frame.DataFrame'>\n",
      "RangeIndex: 11703 entries, 0 to 11702\n",
      "Data columns (total 13 columns):\n",
      "Id                 11703 non-null int64\n",
      "NA_Sales           11703 non-null float64\n",
      "Platform           11703 non-null object\n",
      "Year_of_Release    11520 non-null float64\n",
      "Genre              11701 non-null object\n",
      "Publisher          11664 non-null object\n",
      "JP_Sales           11703 non-null float64\n",
      "Critic_Score       5697 non-null float64\n",
      "Critic_Count       5697 non-null float64\n",
      "User_Score         7011 non-null object\n",
      "User_Count         5332 non-null float64\n",
      "Developer          7066 non-null object\n",
      "Rating             6978 non-null object\n",
      "dtypes: float64(6), int64(1), object(6)\n",
      "memory usage: 1.2+ MB\n"
     ]
    }
   ],
   "source": [
    "df_train = pd.read_csv('train.csv')\n",
    "df_train.info()"
   ]
  },
  {
   "cell_type": "code",
   "execution_count": 9,
   "metadata": {},
   "outputs": [
    {
     "data": {
      "text/html": [
       "<div>\n",
       "<style scoped>\n",
       "    .dataframe tbody tr th:only-of-type {\n",
       "        vertical-align: middle;\n",
       "    }\n",
       "\n",
       "    .dataframe tbody tr th {\n",
       "        vertical-align: top;\n",
       "    }\n",
       "\n",
       "    .dataframe thead th {\n",
       "        text-align: right;\n",
       "    }\n",
       "</style>\n",
       "<table border=\"1\" class=\"dataframe\">\n",
       "  <thead>\n",
       "    <tr style=\"text-align: right;\">\n",
       "      <th></th>\n",
       "      <th>Id</th>\n",
       "      <th>NA_Sales</th>\n",
       "      <th>Platform</th>\n",
       "      <th>Year_of_Release</th>\n",
       "      <th>Genre</th>\n",
       "      <th>Publisher</th>\n",
       "      <th>JP_Sales</th>\n",
       "      <th>Critic_Score</th>\n",
       "      <th>Critic_Count</th>\n",
       "      <th>User_Score</th>\n",
       "      <th>User_Count</th>\n",
       "      <th>Developer</th>\n",
       "      <th>Rating</th>\n",
       "    </tr>\n",
       "  </thead>\n",
       "  <tbody>\n",
       "    <tr>\n",
       "      <th>0</th>\n",
       "      <td>0</td>\n",
       "      <td>0.00</td>\n",
       "      <td>PSP</td>\n",
       "      <td>2008.0</td>\n",
       "      <td>Misc</td>\n",
       "      <td>Sony Computer Entertainment</td>\n",
       "      <td>0.06</td>\n",
       "      <td>81.0</td>\n",
       "      <td>49.0</td>\n",
       "      <td>8.3</td>\n",
       "      <td>62.0</td>\n",
       "      <td>SCE Japan Studio</td>\n",
       "      <td>E</td>\n",
       "    </tr>\n",
       "    <tr>\n",
       "      <th>1</th>\n",
       "      <td>1</td>\n",
       "      <td>0.72</td>\n",
       "      <td>2600</td>\n",
       "      <td>1982.0</td>\n",
       "      <td>Shooter</td>\n",
       "      <td>Atari</td>\n",
       "      <td>0.00</td>\n",
       "      <td>NaN</td>\n",
       "      <td>NaN</td>\n",
       "      <td>NaN</td>\n",
       "      <td>NaN</td>\n",
       "      <td>NaN</td>\n",
       "      <td>NaN</td>\n",
       "    </tr>\n",
       "  </tbody>\n",
       "</table>\n",
       "</div>"
      ],
      "text/plain": [
       "   Id  NA_Sales Platform  Year_of_Release    Genre  \\\n",
       "0   0      0.00      PSP           2008.0     Misc   \n",
       "1   1      0.72     2600           1982.0  Shooter   \n",
       "\n",
       "                     Publisher  JP_Sales  Critic_Score  Critic_Count  \\\n",
       "0  Sony Computer Entertainment      0.06          81.0          49.0   \n",
       "1                        Atari      0.00           NaN           NaN   \n",
       "\n",
       "  User_Score  User_Count         Developer Rating  \n",
       "0        8.3        62.0  SCE Japan Studio      E  \n",
       "1        NaN         NaN               NaN    NaN  "
      ]
     },
     "execution_count": 9,
     "metadata": {},
     "output_type": "execute_result"
    }
   ],
   "source": [
    "df_train.head(2)"
   ]
  },
  {
   "cell_type": "code",
   "execution_count": 10,
   "metadata": {},
   "outputs": [
    {
     "data": {
      "text/plain": [
       "Id                 0.000000\n",
       "NA_Sales           0.000000\n",
       "Platform           0.000000\n",
       "Year_of_Release    0.015637\n",
       "Genre              0.000171\n",
       "Publisher          0.003332\n",
       "JP_Sales           0.000000\n",
       "Critic_Score       0.513202\n",
       "Critic_Count       0.513202\n",
       "User_Score         0.400923\n",
       "User_Count         0.544390\n",
       "Developer          0.396223\n",
       "Rating             0.403743\n",
       "dtype: float64"
      ]
     },
     "execution_count": 10,
     "metadata": {},
     "output_type": "execute_result"
    }
   ],
   "source": [
    "df_train.isna().sum()/len(df_train)"
   ]
  },
  {
   "cell_type": "code",
   "execution_count": 11,
   "metadata": {},
   "outputs": [
    {
     "name": "stdout",
     "output_type": "stream",
     "text": [
      "<class 'pandas.core.frame.DataFrame'>\n",
      "RangeIndex: 11703 entries, 0 to 11702\n",
      "Data columns (total 13 columns):\n",
      "Id                 11703 non-null int64\n",
      "NA_Sales           11703 non-null float64\n",
      "Platform           11703 non-null object\n",
      "Year_of_Release    11520 non-null float64\n",
      "Genre              11701 non-null object\n",
      "Publisher          11664 non-null object\n",
      "JP_Sales           11703 non-null float64\n",
      "Critic_Score       5697 non-null float64\n",
      "Critic_Count       5697 non-null float64\n",
      "User_Score         5332 non-null float64\n",
      "User_Count         5332 non-null float64\n",
      "Developer          7066 non-null object\n",
      "Rating             6978 non-null object\n",
      "dtypes: float64(7), int64(1), object(5)\n",
      "memory usage: 1.2+ MB\n"
     ]
    }
   ],
   "source": [
    "# replace 'tbd'\n",
    "df_train['User_Score'].replace(to_replace='tbd', value=np.nan, inplace=True)\n",
    "\n",
    "# convert string values into numeric values\n",
    "df_train['User_Score'] = pd.to_numeric(df_train['User_Score'])\n",
    "\n",
    "df_train.info()"
   ]
  },
  {
   "cell_type": "code",
   "execution_count": 12,
   "metadata": {},
   "outputs": [
    {
     "data": {
      "text/plain": [
       "0"
      ]
     },
     "execution_count": 12,
     "metadata": {},
     "output_type": "execute_result"
    }
   ],
   "source": [
    "df_train.duplicated().sum()"
   ]
  },
  {
   "cell_type": "code",
   "execution_count": 13,
   "metadata": {},
   "outputs": [
    {
     "data": {
      "image/png": "[encoded data removed]",
      "text/plain": [
       "<Figure size 576x432 with 2 Axes>"
      ]
     },
     "metadata": {
      "needs_background": "light"
     },
     "output_type": "display_data"
    }
   ],
   "source": [
    "plt.subplots(figsize=(8, 6))\n",
    "sns.heatmap(df_train.corr(), cmap=\"Oranges\", linewidths=0.1);"
   ]
  },
  {
   "cell_type": "markdown",
   "metadata": {},
   "source": [
    "As the columns `Publisher` and `Developer` contain way too many values and also doesn't seem to add any reasonable value to our prediction, let's drop them."
   ]
  },
  {
   "cell_type": "code",
   "execution_count": 14,
   "metadata": {},
   "outputs": [],
   "source": [
    "df_train = df_train.drop(['Publisher', 'Developer'], axis=1)\n",
    "df_test  = df_test.drop(['Publisher', 'Developer'], axis=1)"
   ]
  },
  {
   "cell_type": "markdown",
   "metadata": {},
   "source": [
    "*Back to: <a href='#Table of contents'> Table of contents</a>*\n",
    "### 2. Preprocessing the Data \n",
    "<a id='2. Preprocessing the Data'></a>"
   ]
  },
  {
   "cell_type": "markdown",
   "metadata": {},
   "source": [
    "**2.1. Handling `Genre` column**\n",
    "<a id='2.1. Handling Genre column'></a>"
   ]
  },
  {
   "cell_type": "markdown",
   "metadata": {},
   "source": [
    "***Train Data***"
   ]
  },
  {
   "cell_type": "code",
   "execution_count": 15,
   "metadata": {},
   "outputs": [
    {
     "name": "stdout",
     "output_type": "stream",
     "text": [
      "Train Data:\n",
      "------------------------------------------\n",
      "<class 'pandas.core.frame.DataFrame'>\n",
      "RangeIndex: 11703 entries, 0 to 11702\n",
      "Data columns (total 11 columns):\n",
      "Id                 11703 non-null int64\n",
      "NA_Sales           11703 non-null float64\n",
      "Platform           11703 non-null object\n",
      "Year_of_Release    11520 non-null float64\n",
      "Genre              11701 non-null object\n",
      "JP_Sales           11703 non-null float64\n",
      "Critic_Score       5697 non-null float64\n",
      "Critic_Count       5697 non-null float64\n",
      "User_Score         5332 non-null float64\n",
      "User_Count         5332 non-null float64\n",
      "Rating             6978 non-null object\n",
      "dtypes: float64(7), int64(1), object(3)\n",
      "memory usage: 1005.8+ KB\n"
     ]
    }
   ],
   "source": [
    "print('Train Data:')\n",
    "print('------------------------------------------')\n",
    "df_train.info()"
   ]
  },
  {
   "cell_type": "markdown",
   "metadata": {},
   "source": [
    "We only face 2 records with a missing value in the `Genre` column - let's drop both:"
   ]
  },
  {
   "cell_type": "code",
   "execution_count": 16,
   "metadata": {},
   "outputs": [
    {
     "data": {
      "text/plain": [
       "Action          2354\n",
       "Sports          1633\n",
       "Misc            1233\n",
       "Role-Playing    1082\n",
       "Shooter          922\n",
       "Adventure        913\n",
       "Racing           891\n",
       "Simulation       627\n",
       "Platform         592\n",
       "Fighting         567\n",
       "Strategy         477\n",
       "Puzzle           410\n",
       "Name: Genre, dtype: int64"
      ]
     },
     "execution_count": 16,
     "metadata": {},
     "output_type": "execute_result"
    }
   ],
   "source": [
    "df_train = df_train.dropna(subset=['Genre'])\n",
    "\n",
    "df_train.Genre = df_train.Genre.astype('category')\n",
    "\n",
    "df_train.Genre.value_counts()"
   ]
  },
  {
   "cell_type": "markdown",
   "metadata": {},
   "source": [
    "***Test Data***"
   ]
  },
  {
   "cell_type": "code",
   "execution_count": 17,
   "metadata": {},
   "outputs": [
    {
     "name": "stdout",
     "output_type": "stream",
     "text": [
      "Test Data:\n",
      "------------------------------------------\n",
      "<class 'pandas.core.frame.DataFrame'>\n",
      "RangeIndex: 5016 entries, 0 to 5015\n",
      "Data columns (total 10 columns):\n",
      "Id                 5016 non-null int64\n",
      "Platform           5016 non-null object\n",
      "Year_of_Release    4930 non-null float64\n",
      "Genre              5016 non-null object\n",
      "JP_Sales           5016 non-null float64\n",
      "Critic_Score       2440 non-null float64\n",
      "Critic_Count       2440 non-null float64\n",
      "User_Score         2258 non-null float64\n",
      "User_Count         2258 non-null float64\n",
      "Rating             2972 non-null object\n",
      "dtypes: float64(6), int64(1), object(3)\n",
      "memory usage: 392.0+ KB\n"
     ]
    }
   ],
   "source": [
    "print('Test Data:')\n",
    "print('------------------------------------------')\n",
    "df_test.info()"
   ]
  },
  {
   "cell_type": "markdown",
   "metadata": {},
   "source": [
    "No missing values in `Genre` at all, lucky we!"
   ]
  },
  {
   "cell_type": "code",
   "execution_count": 18,
   "metadata": {},
   "outputs": [
    {
     "data": {
      "text/plain": [
       "Action          1016\n",
       "Sports           715\n",
       "Misc             517\n",
       "Role-Playing     418\n",
       "Shooter          401\n",
       "Adventure        390\n",
       "Racing           358\n",
       "Platform         296\n",
       "Fighting         282\n",
       "Simulation       247\n",
       "Strategy         206\n",
       "Puzzle           170\n",
       "Name: Genre, dtype: int64"
      ]
     },
     "execution_count": 18,
     "metadata": {},
     "output_type": "execute_result"
    }
   ],
   "source": [
    "df_test.Genre = df_test.Genre.astype('category')\n",
    "df_test.Genre.value_counts()"
   ]
  },
  {
   "cell_type": "markdown",
   "metadata": {},
   "source": [
    "*Back to: <a href='#Table of contents'> Table of contents</a>*\n",
    "\n",
    "**2.2. Handling `Rating` column**\n",
    "<a id='2.2. Handling Rating column'></a>"
   ]
  },
  {
   "cell_type": "markdown",
   "metadata": {},
   "source": [
    "***Train Data***"
   ]
  },
  {
   "cell_type": "code",
   "execution_count": 19,
   "metadata": {},
   "outputs": [
    {
     "data": {
      "text/plain": [
       "array(['E', nan, 'T', 'M', 'E10+', 'EC', 'RP', 'K-A'], dtype=object)"
      ]
     },
     "execution_count": 19,
     "metadata": {},
     "output_type": "execute_result"
    }
   ],
   "source": [
    "df_train.Rating.unique()"
   ]
  },
  {
   "cell_type": "code",
   "execution_count": 20,
   "metadata": {
    "scrolled": true
   },
   "outputs": [
    {
     "data": {
      "text/plain": [
       "E       2791\n",
       "T       2069\n",
       "M       1109\n",
       "E10+    1000\n",
       "EC         5\n",
       "K-A        2\n",
       "RP         2\n",
       "Name: Rating, dtype: int64"
      ]
     },
     "execution_count": 20,
     "metadata": {},
     "output_type": "execute_result"
    }
   ],
   "source": [
    "df_train.Rating.value_counts()"
   ]
  },
  {
   "cell_type": "markdown",
   "metadata": {},
   "source": [
    "According to [Wikipedia](https://en.wikipedia.org/wiki/Entertainment_Software_Rating_Board), we can deal with some of rather outdated ratings by replacing them with actual labels:"
   ]
  },
  {
   "cell_type": "code",
   "execution_count": 21,
   "metadata": {},
   "outputs": [],
   "source": [
    "def value_replacement(col, to_replace, new_value):\n",
    "    col.replace(to_replace, new_value, inplace=True)"
   ]
  },
  {
   "cell_type": "code",
   "execution_count": 22,
   "metadata": {},
   "outputs": [
    {
     "data": {
      "text/plain": [
       "None    4725\n",
       "E       2798\n",
       "T       2069\n",
       "M       1109\n",
       "E10+    1000\n",
       "Name: Rating, dtype: int64"
      ]
     },
     "execution_count": 22,
     "metadata": {},
     "output_type": "execute_result"
    }
   ],
   "source": [
    "value_replacement(df_train.Rating, to_replace='EC', new_value='E')\n",
    "value_replacement(df_train.Rating, to_replace='K-A', new_value='E')\n",
    "value_replacement(df_train.Rating, to_replace='RP', new_value='None')\n",
    "value_replacement(df_train.Rating, to_replace=np.nan, new_value='None')\n",
    "\n",
    "df_train.Rating.value_counts()"
   ]
  },
  {
   "cell_type": "code",
   "execution_count": 23,
   "metadata": {},
   "outputs": [],
   "source": [
    "df_train.Rating = df_train.Rating.astype('category')"
   ]
  },
  {
   "cell_type": "markdown",
   "metadata": {},
   "source": [
    "***Test Data***"
   ]
  },
  {
   "cell_type": "code",
   "execution_count": 24,
   "metadata": {},
   "outputs": [
    {
     "data": {
      "text/plain": [
       "E       1200\n",
       "T        892\n",
       "M        454\n",
       "E10+     420\n",
       "EC         3\n",
       "K-A        1\n",
       "RP         1\n",
       "AO         1\n",
       "Name: Rating, dtype: int64"
      ]
     },
     "execution_count": 24,
     "metadata": {},
     "output_type": "execute_result"
    }
   ],
   "source": [
    "df_test.Rating.value_counts()"
   ]
  },
  {
   "cell_type": "code",
   "execution_count": 25,
   "metadata": {},
   "outputs": [
    {
     "data": {
      "text/plain": [
       "None    2045\n",
       "E       1204\n",
       "T        892\n",
       "M        455\n",
       "E10+     420\n",
       "Name: Rating, dtype: int64"
      ]
     },
     "execution_count": 25,
     "metadata": {},
     "output_type": "execute_result"
    }
   ],
   "source": [
    "value_replacement(df_test.Rating, to_replace='EC', new_value='E')\n",
    "value_replacement(df_test.Rating, to_replace='AO', new_value='M')\n",
    "value_replacement(df_test.Rating, to_replace='K-A', new_value='E')\n",
    "value_replacement(df_test.Rating, to_replace='RP', new_value='None')\n",
    "value_replacement(df_test.Rating, to_replace=np.nan, new_value='None')\n",
    "\n",
    "df_test.Rating.value_counts()"
   ]
  },
  {
   "cell_type": "code",
   "execution_count": 26,
   "metadata": {},
   "outputs": [],
   "source": [
    "df_test.Rating = df_test.Rating.astype('category')"
   ]
  },
  {
   "cell_type": "markdown",
   "metadata": {},
   "source": [
    "*Back to: <a href='#Table of contents'> Table of contents</a>*\n",
    "\n",
    "**2.3. Handling `Year_of_Release` column**\n",
    "<a id='2.3. Handling Year_of_Release column'></a>"
   ]
  },
  {
   "cell_type": "markdown",
   "metadata": {},
   "source": [
    "***Train Data***"
   ]
  },
  {
   "cell_type": "code",
   "execution_count": 27,
   "metadata": {},
   "outputs": [
    {
     "data": {
      "text/html": [
       "<div>\n",
       "<style scoped>\n",
       "    .dataframe tbody tr th:only-of-type {\n",
       "        vertical-align: middle;\n",
       "    }\n",
       "\n",
       "    .dataframe tbody tr th {\n",
       "        vertical-align: top;\n",
       "    }\n",
       "\n",
       "    .dataframe thead th {\n",
       "        text-align: right;\n",
       "    }\n",
       "</style>\n",
       "<table border=\"1\" class=\"dataframe\">\n",
       "  <thead>\n",
       "    <tr style=\"text-align: right;\">\n",
       "      <th></th>\n",
       "      <th>Id</th>\n",
       "      <th>NA_Sales</th>\n",
       "      <th>Platform</th>\n",
       "      <th>Year_of_Release</th>\n",
       "      <th>Genre</th>\n",
       "      <th>JP_Sales</th>\n",
       "      <th>Critic_Score</th>\n",
       "      <th>Critic_Count</th>\n",
       "      <th>User_Score</th>\n",
       "      <th>User_Count</th>\n",
       "      <th>Rating</th>\n",
       "    </tr>\n",
       "  </thead>\n",
       "  <tbody>\n",
       "    <tr>\n",
       "      <th>11380</th>\n",
       "      <td>11380</td>\n",
       "      <td>0.00</td>\n",
       "      <td>PS3</td>\n",
       "      <td>NaN</td>\n",
       "      <td>Racing</td>\n",
       "      <td>0.01</td>\n",
       "      <td>68.0</td>\n",
       "      <td>24.0</td>\n",
       "      <td>4.5</td>\n",
       "      <td>4.0</td>\n",
       "      <td>None</td>\n",
       "    </tr>\n",
       "    <tr>\n",
       "      <th>11390</th>\n",
       "      <td>11390</td>\n",
       "      <td>0.26</td>\n",
       "      <td>GBA</td>\n",
       "      <td>NaN</td>\n",
       "      <td>Action</td>\n",
       "      <td>0.00</td>\n",
       "      <td>NaN</td>\n",
       "      <td>NaN</td>\n",
       "      <td>NaN</td>\n",
       "      <td>NaN</td>\n",
       "      <td>None</td>\n",
       "    </tr>\n",
       "    <tr>\n",
       "      <th>11421</th>\n",
       "      <td>11421</td>\n",
       "      <td>0.13</td>\n",
       "      <td>X360</td>\n",
       "      <td>NaN</td>\n",
       "      <td>Puzzle</td>\n",
       "      <td>0.00</td>\n",
       "      <td>78.0</td>\n",
       "      <td>13.0</td>\n",
       "      <td>8.4</td>\n",
       "      <td>11.0</td>\n",
       "      <td>E</td>\n",
       "    </tr>\n",
       "    <tr>\n",
       "      <th>11474</th>\n",
       "      <td>11474</td>\n",
       "      <td>0.22</td>\n",
       "      <td>XB</td>\n",
       "      <td>NaN</td>\n",
       "      <td>Shooter</td>\n",
       "      <td>0.00</td>\n",
       "      <td>85.0</td>\n",
       "      <td>54.0</td>\n",
       "      <td>8.2</td>\n",
       "      <td>21.0</td>\n",
       "      <td>M</td>\n",
       "    </tr>\n",
       "    <tr>\n",
       "      <th>11615</th>\n",
       "      <td>11615</td>\n",
       "      <td>0.00</td>\n",
       "      <td>Wii</td>\n",
       "      <td>NaN</td>\n",
       "      <td>Shooter</td>\n",
       "      <td>0.02</td>\n",
       "      <td>NaN</td>\n",
       "      <td>NaN</td>\n",
       "      <td>NaN</td>\n",
       "      <td>NaN</td>\n",
       "      <td>None</td>\n",
       "    </tr>\n",
       "  </tbody>\n",
       "</table>\n",
       "</div>"
      ],
      "text/plain": [
       "          Id  NA_Sales Platform  Year_of_Release    Genre  JP_Sales  \\\n",
       "11380  11380      0.00      PS3              NaN   Racing      0.01   \n",
       "11390  11390      0.26      GBA              NaN   Action      0.00   \n",
       "11421  11421      0.13     X360              NaN   Puzzle      0.00   \n",
       "11474  11474      0.22       XB              NaN  Shooter      0.00   \n",
       "11615  11615      0.00      Wii              NaN  Shooter      0.02   \n",
       "\n",
       "       Critic_Score  Critic_Count  User_Score  User_Count Rating  \n",
       "11380          68.0          24.0         4.5         4.0   None  \n",
       "11390           NaN           NaN         NaN         NaN   None  \n",
       "11421          78.0          13.0         8.4        11.0      E  \n",
       "11474          85.0          54.0         8.2        21.0      M  \n",
       "11615           NaN           NaN         NaN         NaN   None  "
      ]
     },
     "execution_count": 27,
     "metadata": {},
     "output_type": "execute_result"
    }
   ],
   "source": [
    "df1 = df_train[df_train['Year_of_Release'].isna()]\n",
    "df1.tail()"
   ]
  },
  {
   "cell_type": "code",
   "execution_count": 28,
   "metadata": {},
   "outputs": [
    {
     "data": {
      "text/plain": [
       "2017.0"
      ]
     },
     "execution_count": 28,
     "metadata": {},
     "output_type": "execute_result"
    }
   ],
   "source": [
    "df_train.Year_of_Release.max()"
   ]
  },
  {
   "cell_type": "code",
   "execution_count": 29,
   "metadata": {},
   "outputs": [
    {
     "data": {
      "text/plain": [
       "2020.0"
      ]
     },
     "execution_count": 29,
     "metadata": {},
     "output_type": "execute_result"
    }
   ],
   "source": [
    "df_test.Year_of_Release.max()"
   ]
  },
  {
   "cell_type": "code",
   "execution_count": 30,
   "metadata": {},
   "outputs": [
    {
     "data": {
      "image/png": "[encoded data removed]",
      "text/plain": [
       "<Figure size 432x288 with 1 Axes>"
      ]
     },
     "metadata": {
      "needs_background": "light"
     },
     "output_type": "display_data"
    }
   ],
   "source": [
    "df_train.Year_of_Release.hist(bins=20);"
   ]
  },
  {
   "cell_type": "markdown",
   "metadata": {},
   "source": [
    "It might be reasonable to bin the years into periods of roughly 5 years and when doing this, also bin the NaN values into *unknown*."
   ]
  },
  {
   "cell_type": "code",
   "execution_count": 31,
   "metadata": {},
   "outputs": [],
   "source": [
    "# bin the year_of_release into periods_of_release\n",
    "bins = [1980, 1995, 2000, 2005, 2010, 2015, 2017]\n",
    "labels = ['Before 1995', '1995-2000', '2000-2005', '2005-2010', '2010-2015', '2015-2020']\n",
    "df_train['Periods_of_Release'] = pd.cut(df_train['Year_of_Release'], bins=bins, labels=labels)\n",
    "\n",
    "# create another category for the unknown release date\n",
    "df_train['Periods_of_Release'].replace(to_replace=np.nan, value='Unknown', inplace=True)"
   ]
  },
  {
   "cell_type": "code",
   "execution_count": 32,
   "metadata": {},
   "outputs": [
    {
     "data": {
      "text/plain": [
       "2005-2010      4471\n",
       "2000-2005      2627\n",
       "2010-2015      2463\n",
       "1995-2000      1121\n",
       "Before 1995     470\n",
       "2015-2020       360\n",
       "Unknown         189\n",
       "Name: Periods_of_Release, dtype: int64"
      ]
     },
     "execution_count": 32,
     "metadata": {},
     "output_type": "execute_result"
    }
   ],
   "source": [
    "df_train.Periods_of_Release.value_counts()"
   ]
  },
  {
   "cell_type": "code",
   "execution_count": 33,
   "metadata": {},
   "outputs": [
    {
     "data": {
      "image/png": "[encoded data removed]",
      "text/plain": [
       "<Figure size 432x288 with 1 Axes>"
      ]
     },
     "metadata": {
      "needs_background": "light"
     },
     "output_type": "display_data"
    }
   ],
   "source": [
    "# visualize the distribution of categories\n",
    "order = ['Unknown', '2015-2020', '2010-2015', '2005-2010',  '2000-2005','1995-2000', 'Before 1995']\n",
    "df_train.Periods_of_Release.value_counts().loc[order].plot(kind='barh');"
   ]
  },
  {
   "cell_type": "code",
   "execution_count": 34,
   "metadata": {},
   "outputs": [
    {
     "name": "stdout",
     "output_type": "stream",
     "text": [
      "<class 'pandas.core.frame.DataFrame'>\n",
      "Int64Index: 11701 entries, 0 to 11702\n",
      "Data columns (total 11 columns):\n",
      "Id                    11701 non-null int64\n",
      "NA_Sales              11701 non-null float64\n",
      "Platform              11701 non-null object\n",
      "Genre                 11701 non-null category\n",
      "JP_Sales              11701 non-null float64\n",
      "Critic_Score          5697 non-null float64\n",
      "Critic_Count          5697 non-null float64\n",
      "User_Score            5332 non-null float64\n",
      "User_Count            5332 non-null float64\n",
      "Rating                11701 non-null category\n",
      "Periods_of_Release    11701 non-null category\n",
      "dtypes: category(3), float64(6), int64(1), object(1)\n",
      "memory usage: 858.0+ KB\n"
     ]
    }
   ],
   "source": [
    "# drop the original year related column\n",
    "df_train = df_train.drop(['Year_of_Release'], axis=1)\n",
    "\n",
    "df_train.Periods_of_Release = df_train.Periods_of_Release.astype('category')\n",
    "\n",
    "df_train.info()"
   ]
  },
  {
   "cell_type": "markdown",
   "metadata": {},
   "source": [
    "***Test Data***"
   ]
  },
  {
   "cell_type": "code",
   "execution_count": 35,
   "metadata": {},
   "outputs": [
    {
     "name": "stdout",
     "output_type": "stream",
     "text": [
      "<class 'pandas.core.frame.DataFrame'>\n",
      "RangeIndex: 5016 entries, 0 to 5015\n",
      "Data columns (total 10 columns):\n",
      "Id                    5016 non-null int64\n",
      "Platform              5016 non-null object\n",
      "Genre                 5016 non-null category\n",
      "JP_Sales              5016 non-null float64\n",
      "Critic_Score          2440 non-null float64\n",
      "Critic_Count          2440 non-null float64\n",
      "User_Score            2258 non-null float64\n",
      "User_Count            2258 non-null float64\n",
      "Rating                5016 non-null category\n",
      "Periods_of_Release    5016 non-null category\n",
      "dtypes: category(3), float64(5), int64(1), object(1)\n",
      "memory usage: 290.1+ KB\n"
     ]
    }
   ],
   "source": [
    "df_test['Periods_of_Release'] = pd.cut(df_test['Year_of_Release'], bins=bins, labels=labels)\n",
    "\n",
    "# create another category for the unknown release date\n",
    "df_test['Periods_of_Release'].replace(to_replace=np.nan, value='Unknown', inplace=True)\n",
    "\n",
    "df_test = df_test.drop(['Year_of_Release'], axis=1)\n",
    "\n",
    "df_test.Periods_of_Release = df_test.Periods_of_Release.astype('category')\n",
    "\n",
    "df_test.info()"
   ]
  },
  {
   "cell_type": "markdown",
   "metadata": {},
   "source": [
    "*Back to: <a href='#Table of contents'> Table of contents</a>*\n",
    "\n",
    "**2.4. Handling `User Count` column**\n",
    "<a id='2.4. Handling User Count column'></a>"
   ]
  },
  {
   "cell_type": "markdown",
   "metadata": {},
   "source": [
    "***Train Data***"
   ]
  },
  {
   "cell_type": "code",
   "execution_count": 36,
   "metadata": {
    "scrolled": true
   },
   "outputs": [
    {
     "name": "stdout",
     "output_type": "stream",
     "text": [
      "<class 'pandas.core.frame.DataFrame'>\n",
      "Int64Index: 11701 entries, 0 to 11702\n",
      "Data columns (total 11 columns):\n",
      "Id                    11701 non-null int64\n",
      "NA_Sales              11701 non-null float64\n",
      "Platform              11701 non-null object\n",
      "Genre                 11701 non-null category\n",
      "JP_Sales              11701 non-null float64\n",
      "Critic_Score          5697 non-null float64\n",
      "Critic_Count          5697 non-null float64\n",
      "User_Score            5332 non-null float64\n",
      "User_Count            5332 non-null float64\n",
      "Rating                11701 non-null category\n",
      "Periods_of_Release    11701 non-null category\n",
      "dtypes: category(3), float64(6), int64(1), object(1)\n",
      "memory usage: 858.0+ KB\n"
     ]
    }
   ],
   "source": [
    "df_train.info()"
   ]
  },
  {
   "cell_type": "code",
   "execution_count": 37,
   "metadata": {},
   "outputs": [],
   "source": [
    "df_train = df_train.drop(['Critic_Count', 'User_Score'], axis=1)"
   ]
  },
  {
   "cell_type": "code",
   "execution_count": 38,
   "metadata": {},
   "outputs": [
    {
     "data": {
      "text/plain": [
       "count     5332.000000\n",
       "mean       166.707802\n",
       "std        581.024155\n",
       "min          4.000000\n",
       "25%         10.000000\n",
       "50%         25.000000\n",
       "75%         84.000000\n",
       "max      10665.000000\n",
       "Name: User_Count, dtype: float64"
      ]
     },
     "execution_count": 38,
     "metadata": {},
     "output_type": "execute_result"
    }
   ],
   "source": [
    "df_train.User_Count.describe()"
   ]
  },
  {
   "cell_type": "code",
   "execution_count": 39,
   "metadata": {},
   "outputs": [
    {
     "data": {
      "image/png": "[encoded data removed]",
      "text/plain": [
       "<Figure size 432x288 with 1 Axes>"
      ]
     },
     "metadata": {
      "needs_background": "light"
     },
     "output_type": "display_data"
    }
   ],
   "source": [
    "df_train.User_Count.plot(kind='box', vert=False, xlim=(4,500));"
   ]
  },
  {
   "cell_type": "code",
   "execution_count": 40,
   "metadata": {},
   "outputs": [
    {
     "data": {
      "text/plain": [
       "count    4581.000000\n",
       "mean       36.364331\n",
       "std        41.441470\n",
       "min         4.000000\n",
       "25%         9.000000\n",
       "50%        19.000000\n",
       "75%        46.000000\n",
       "max       200.000000\n",
       "Name: User_Count, dtype: float64"
      ]
     },
     "execution_count": 40,
     "metadata": {},
     "output_type": "execute_result"
    }
   ],
   "source": [
    "# removing outliers\n",
    "df_train = df_train.drop(df_train[df_train.User_Count > 200].index, axis=0)\n",
    "df_train.User_Count.describe()"
   ]
  },
  {
   "cell_type": "code",
   "execution_count": 41,
   "metadata": {},
   "outputs": [
    {
     "name": "stdout",
     "output_type": "stream",
     "text": [
      "<class 'pandas.core.frame.DataFrame'>\n",
      "Int64Index: 10950 entries, 0 to 11702\n",
      "Data columns (total 9 columns):\n",
      "Id                    10950 non-null int64\n",
      "NA_Sales              10950 non-null float64\n",
      "Platform              10950 non-null object\n",
      "Genre                 10950 non-null category\n",
      "JP_Sales              10950 non-null float64\n",
      "Critic_Score          4952 non-null float64\n",
      "User_Count            4581 non-null float64\n",
      "Rating                10950 non-null category\n",
      "Periods_of_Release    10950 non-null category\n",
      "dtypes: category(3), float64(4), int64(1), object(1)\n",
      "memory usage: 631.9+ KB\n"
     ]
    }
   ],
   "source": [
    "df_train.info()"
   ]
  },
  {
   "cell_type": "markdown",
   "metadata": {},
   "source": [
    "*a) Creating Sub-Datasets*"
   ]
  },
  {
   "cell_type": "code",
   "execution_count": 42,
   "metadata": {},
   "outputs": [],
   "source": [
    "# filter out sub_df to work with\n",
    "#sub_df = df[['NA_Sales', 'JP_Sales', 'Critic_Score', 'User_Score']]\n",
    "sub_df = df_train[['JP_Sales', 'Genre', 'Rating', 'User_Count']]\n",
    "\n",
    "# split datasets\n",
    "train_data = sub_df[sub_df['User_Count'].notnull()]\n",
    "test_data  = sub_df[sub_df['User_Count'].isnull()]\n",
    "\n",
    "# define X\n",
    "X_train = train_data.drop('User_Count', axis=1)\n",
    "X_train = pd.get_dummies(X_train)\n",
    "\n",
    "X_test  = test_data.drop('User_Count', axis=1)\n",
    "X_test  = pd.get_dummies(X_test)\n",
    "\n",
    "# define y\n",
    "y_train = train_data['User_Count']"
   ]
  },
  {
   "cell_type": "markdown",
   "metadata": {},
   "source": [
    "*b) Scaling the Features*"
   ]
  },
  {
   "cell_type": "code",
   "execution_count": 43,
   "metadata": {},
   "outputs": [],
   "source": [
    "from sklearn.preprocessing import MinMaxScaler\n",
    "scaler = MinMaxScaler()\n",
    "\n",
    "X_train_scaled = scaler.fit_transform(X_train)\n",
    "X_train_scaled = pd.DataFrame(X_train_scaled)\n",
    "\n",
    "X_test_scaled = scaler.fit_transform(X_test)\n",
    "X_test_scaled = pd.DataFrame(X_test_scaled)"
   ]
  },
  {
   "cell_type": "markdown",
   "metadata": {},
   "source": [
    "*c) Implementing Linear Regression*"
   ]
  },
  {
   "cell_type": "code",
   "execution_count": 44,
   "metadata": {},
   "outputs": [],
   "source": [
    "# import Linear Regression\n",
    "from sklearn.linear_model import LinearRegression\n",
    "\n",
    "# instantiate\n",
    "linreg_user_score = LinearRegression()\n",
    "\n",
    "# fit model to training data\n",
    "linreg_user_score.fit(X_train_scaled, y_train)\n",
    "\n",
    "# making predictions\n",
    "y_test = linreg_user_score.predict(X_test_scaled)"
   ]
  },
  {
   "cell_type": "code",
   "execution_count": 45,
   "metadata": {},
   "outputs": [
    {
     "name": "stdout",
     "output_type": "stream",
     "text": [
      "(6369, 1)\n"
     ]
    },
    {
     "data": {
      "text/html": [
       "<div>\n",
       "<style scoped>\n",
       "    .dataframe tbody tr th:only-of-type {\n",
       "        vertical-align: middle;\n",
       "    }\n",
       "\n",
       "    .dataframe tbody tr th {\n",
       "        vertical-align: top;\n",
       "    }\n",
       "\n",
       "    .dataframe thead th {\n",
       "        text-align: right;\n",
       "    }\n",
       "</style>\n",
       "<table border=\"1\" class=\"dataframe\">\n",
       "  <thead>\n",
       "    <tr style=\"text-align: right;\">\n",
       "      <th></th>\n",
       "      <th>User_Count</th>\n",
       "    </tr>\n",
       "  </thead>\n",
       "  <tbody>\n",
       "    <tr>\n",
       "      <th>0</th>\n",
       "      <td>44.375</td>\n",
       "    </tr>\n",
       "    <tr>\n",
       "      <th>1</th>\n",
       "      <td>43.250</td>\n",
       "    </tr>\n",
       "  </tbody>\n",
       "</table>\n",
       "</div>"
      ],
      "text/plain": [
       "   User_Count\n",
       "0      44.375\n",
       "1      43.250"
      ]
     },
     "execution_count": 45,
     "metadata": {},
     "output_type": "execute_result"
    }
   ],
   "source": [
    "# preparing y_test\n",
    "y_test = pd.DataFrame(y_test)\n",
    "y_test.columns = ['User_Count']\n",
    "print(y_test.shape)\n",
    "y_test.head(2)"
   ]
  },
  {
   "cell_type": "code",
   "execution_count": 46,
   "metadata": {},
   "outputs": [
    {
     "name": "stdout",
     "output_type": "stream",
     "text": [
      "(6369, 18)\n"
     ]
    },
    {
     "data": {
      "text/html": [
       "<div>\n",
       "<style scoped>\n",
       "    .dataframe tbody tr th:only-of-type {\n",
       "        vertical-align: middle;\n",
       "    }\n",
       "\n",
       "    .dataframe tbody tr th {\n",
       "        vertical-align: top;\n",
       "    }\n",
       "\n",
       "    .dataframe thead th {\n",
       "        text-align: right;\n",
       "    }\n",
       "</style>\n",
       "<table border=\"1\" class=\"dataframe\">\n",
       "  <thead>\n",
       "    <tr style=\"text-align: right;\">\n",
       "      <th></th>\n",
       "      <th>JP_Sales</th>\n",
       "      <th>Genre_Action</th>\n",
       "      <th>Genre_Adventure</th>\n",
       "      <th>Genre_Fighting</th>\n",
       "      <th>Genre_Misc</th>\n",
       "      <th>Genre_Platform</th>\n",
       "      <th>Genre_Puzzle</th>\n",
       "      <th>Genre_Racing</th>\n",
       "      <th>Genre_Role-Playing</th>\n",
       "      <th>Genre_Shooter</th>\n",
       "      <th>Genre_Simulation</th>\n",
       "      <th>Genre_Sports</th>\n",
       "      <th>Genre_Strategy</th>\n",
       "      <th>Rating_E</th>\n",
       "      <th>Rating_E10+</th>\n",
       "      <th>Rating_M</th>\n",
       "      <th>Rating_None</th>\n",
       "      <th>Rating_T</th>\n",
       "    </tr>\n",
       "  </thead>\n",
       "  <tbody>\n",
       "    <tr>\n",
       "      <th>1</th>\n",
       "      <td>0.0</td>\n",
       "      <td>0</td>\n",
       "      <td>0</td>\n",
       "      <td>0</td>\n",
       "      <td>0</td>\n",
       "      <td>0</td>\n",
       "      <td>0</td>\n",
       "      <td>0</td>\n",
       "      <td>0</td>\n",
       "      <td>1</td>\n",
       "      <td>0</td>\n",
       "      <td>0</td>\n",
       "      <td>0</td>\n",
       "      <td>0</td>\n",
       "      <td>0</td>\n",
       "      <td>0</td>\n",
       "      <td>1</td>\n",
       "      <td>0</td>\n",
       "    </tr>\n",
       "    <tr>\n",
       "      <th>2</th>\n",
       "      <td>0.0</td>\n",
       "      <td>1</td>\n",
       "      <td>0</td>\n",
       "      <td>0</td>\n",
       "      <td>0</td>\n",
       "      <td>0</td>\n",
       "      <td>0</td>\n",
       "      <td>0</td>\n",
       "      <td>0</td>\n",
       "      <td>0</td>\n",
       "      <td>0</td>\n",
       "      <td>0</td>\n",
       "      <td>0</td>\n",
       "      <td>0</td>\n",
       "      <td>0</td>\n",
       "      <td>0</td>\n",
       "      <td>1</td>\n",
       "      <td>0</td>\n",
       "    </tr>\n",
       "  </tbody>\n",
       "</table>\n",
       "</div>"
      ],
      "text/plain": [
       "   JP_Sales  Genre_Action  Genre_Adventure  Genre_Fighting  Genre_Misc  \\\n",
       "1       0.0             0                0               0           0   \n",
       "2       0.0             1                0               0           0   \n",
       "\n",
       "   Genre_Platform  Genre_Puzzle  Genre_Racing  Genre_Role-Playing  \\\n",
       "1               0             0             0                   0   \n",
       "2               0             0             0                   0   \n",
       "\n",
       "   Genre_Shooter  Genre_Simulation  Genre_Sports  Genre_Strategy  Rating_E  \\\n",
       "1              1                 0             0               0         0   \n",
       "2              0                 0             0               0         0   \n",
       "\n",
       "   Rating_E10+  Rating_M  Rating_None  Rating_T  \n",
       "1            0         0            1         0  \n",
       "2            0         0            1         0  "
      ]
     },
     "execution_count": 46,
     "metadata": {},
     "output_type": "execute_result"
    }
   ],
   "source": [
    "# preparing X_test\n",
    "print(X_test.shape)\n",
    "X_test.head(2)"
   ]
  },
  {
   "cell_type": "markdown",
   "metadata": {},
   "source": [
    "*d) Concatenating Dataset*"
   ]
  },
  {
   "cell_type": "code",
   "execution_count": 47,
   "metadata": {},
   "outputs": [
    {
     "name": "stdout",
     "output_type": "stream",
     "text": [
      "(10950, 21)\n"
     ]
    },
    {
     "data": {
      "text/html": [
       "<div>\n",
       "<style scoped>\n",
       "    .dataframe tbody tr th:only-of-type {\n",
       "        vertical-align: middle;\n",
       "    }\n",
       "\n",
       "    .dataframe tbody tr th {\n",
       "        vertical-align: top;\n",
       "    }\n",
       "\n",
       "    .dataframe thead th {\n",
       "        text-align: right;\n",
       "    }\n",
       "</style>\n",
       "<table border=\"1\" class=\"dataframe\">\n",
       "  <thead>\n",
       "    <tr style=\"text-align: right;\">\n",
       "      <th></th>\n",
       "      <th>Genre</th>\n",
       "      <th>Genre_Action</th>\n",
       "      <th>Genre_Adventure</th>\n",
       "      <th>Genre_Fighting</th>\n",
       "      <th>Genre_Misc</th>\n",
       "      <th>Genre_Platform</th>\n",
       "      <th>Genre_Puzzle</th>\n",
       "      <th>Genre_Racing</th>\n",
       "      <th>Genre_Role-Playing</th>\n",
       "      <th>Genre_Shooter</th>\n",
       "      <th>...</th>\n",
       "      <th>Genre_Sports</th>\n",
       "      <th>Genre_Strategy</th>\n",
       "      <th>JP_Sales</th>\n",
       "      <th>Rating</th>\n",
       "      <th>Rating_E</th>\n",
       "      <th>Rating_E10+</th>\n",
       "      <th>Rating_M</th>\n",
       "      <th>Rating_None</th>\n",
       "      <th>Rating_T</th>\n",
       "      <th>User_Count</th>\n",
       "    </tr>\n",
       "  </thead>\n",
       "  <tbody>\n",
       "    <tr>\n",
       "      <th>1</th>\n",
       "      <td>NaN</td>\n",
       "      <td>0.0</td>\n",
       "      <td>0.0</td>\n",
       "      <td>0.0</td>\n",
       "      <td>0.0</td>\n",
       "      <td>0.0</td>\n",
       "      <td>0.0</td>\n",
       "      <td>0.0</td>\n",
       "      <td>0.0</td>\n",
       "      <td>1.0</td>\n",
       "      <td>...</td>\n",
       "      <td>0.0</td>\n",
       "      <td>0.0</td>\n",
       "      <td>0.0</td>\n",
       "      <td>NaN</td>\n",
       "      <td>0.0</td>\n",
       "      <td>0.0</td>\n",
       "      <td>0.0</td>\n",
       "      <td>1.0</td>\n",
       "      <td>0.0</td>\n",
       "      <td>44.375</td>\n",
       "    </tr>\n",
       "    <tr>\n",
       "      <th>2</th>\n",
       "      <td>NaN</td>\n",
       "      <td>1.0</td>\n",
       "      <td>0.0</td>\n",
       "      <td>0.0</td>\n",
       "      <td>0.0</td>\n",
       "      <td>0.0</td>\n",
       "      <td>0.0</td>\n",
       "      <td>0.0</td>\n",
       "      <td>0.0</td>\n",
       "      <td>0.0</td>\n",
       "      <td>...</td>\n",
       "      <td>0.0</td>\n",
       "      <td>0.0</td>\n",
       "      <td>0.0</td>\n",
       "      <td>NaN</td>\n",
       "      <td>0.0</td>\n",
       "      <td>0.0</td>\n",
       "      <td>0.0</td>\n",
       "      <td>1.0</td>\n",
       "      <td>0.0</td>\n",
       "      <td>43.250</td>\n",
       "    </tr>\n",
       "  </tbody>\n",
       "</table>\n",
       "<p>2 rows × 21 columns</p>\n",
       "</div>"
      ],
      "text/plain": [
       "  Genre  Genre_Action  Genre_Adventure  Genre_Fighting  Genre_Misc  \\\n",
       "1   NaN           0.0              0.0             0.0         0.0   \n",
       "2   NaN           1.0              0.0             0.0         0.0   \n",
       "\n",
       "   Genre_Platform  Genre_Puzzle  Genre_Racing  Genre_Role-Playing  \\\n",
       "1             0.0           0.0           0.0                 0.0   \n",
       "2             0.0           0.0           0.0                 0.0   \n",
       "\n",
       "   Genre_Shooter  ...  Genre_Sports  Genre_Strategy  JP_Sales  Rating  \\\n",
       "1            1.0  ...           0.0             0.0       0.0     NaN   \n",
       "2            0.0  ...           0.0             0.0       0.0     NaN   \n",
       "\n",
       "  Rating_E  Rating_E10+  Rating_M  Rating_None  Rating_T  User_Count  \n",
       "1      0.0          0.0       0.0          1.0       0.0      44.375  \n",
       "2      0.0          0.0       0.0          1.0       0.0      43.250  \n",
       "\n",
       "[2 rows x 21 columns]"
      ]
     },
     "execution_count": 47,
     "metadata": {},
     "output_type": "execute_result"
    }
   ],
   "source": [
    "# make the index of X_test to an own dataframe\n",
    "prelim_index = pd.DataFrame(X_test.index)\n",
    "prelim_index.columns = ['prelim']\n",
    "\n",
    "# ... and concat this dataframe with y_test\n",
    "y_test = pd.concat([y_test, prelim_index], axis=1)\n",
    "y_test.set_index(['prelim'], inplace=True)\n",
    "\n",
    "# finally combine the new test data\n",
    "test_data = pd.concat([X_test, y_test], axis=1)\n",
    "\n",
    "# combine train and test data back to a new sub df\n",
    "sub_df_new = pd.concat([test_data, train_data], axis=0, sort=True)\n",
    "\n",
    "print(sub_df_new.shape)\n",
    "sub_df_new.head(2)"
   ]
  },
  {
   "cell_type": "code",
   "execution_count": 48,
   "metadata": {},
   "outputs": [
    {
     "data": {
      "text/html": [
       "<div>\n",
       "<style scoped>\n",
       "    .dataframe tbody tr th:only-of-type {\n",
       "        vertical-align: middle;\n",
       "    }\n",
       "\n",
       "    .dataframe tbody tr th {\n",
       "        vertical-align: top;\n",
       "    }\n",
       "\n",
       "    .dataframe thead th {\n",
       "        text-align: right;\n",
       "    }\n",
       "</style>\n",
       "<table border=\"1\" class=\"dataframe\">\n",
       "  <thead>\n",
       "    <tr style=\"text-align: right;\">\n",
       "      <th></th>\n",
       "      <th>User_Count</th>\n",
       "      <th>Id</th>\n",
       "      <th>NA_Sales</th>\n",
       "      <th>Platform</th>\n",
       "      <th>Genre</th>\n",
       "      <th>JP_Sales</th>\n",
       "      <th>Critic_Score</th>\n",
       "      <th>Rating</th>\n",
       "      <th>Periods_of_Release</th>\n",
       "    </tr>\n",
       "  </thead>\n",
       "  <tbody>\n",
       "    <tr>\n",
       "      <th>0</th>\n",
       "      <td>62.000</td>\n",
       "      <td>0</td>\n",
       "      <td>0.00</td>\n",
       "      <td>PSP</td>\n",
       "      <td>Misc</td>\n",
       "      <td>0.06</td>\n",
       "      <td>81.0</td>\n",
       "      <td>E</td>\n",
       "      <td>2005-2010</td>\n",
       "    </tr>\n",
       "    <tr>\n",
       "      <th>1</th>\n",
       "      <td>44.375</td>\n",
       "      <td>1</td>\n",
       "      <td>0.72</td>\n",
       "      <td>2600</td>\n",
       "      <td>Shooter</td>\n",
       "      <td>0.00</td>\n",
       "      <td>NaN</td>\n",
       "      <td>None</td>\n",
       "      <td>Before 1995</td>\n",
       "    </tr>\n",
       "  </tbody>\n",
       "</table>\n",
       "</div>"
      ],
      "text/plain": [
       "   User_Count  Id  NA_Sales Platform    Genre  JP_Sales  Critic_Score Rating  \\\n",
       "0      62.000   0      0.00      PSP     Misc      0.06          81.0      E   \n",
       "1      44.375   1      0.72     2600  Shooter      0.00           NaN   None   \n",
       "\n",
       "  Periods_of_Release  \n",
       "0          2005-2010  \n",
       "1        Before 1995  "
      ]
     },
     "execution_count": 48,
     "metadata": {},
     "output_type": "execute_result"
    }
   ],
   "source": [
    "# drop duplicate columns in dataframe before concatening \n",
    "df_train.drop(['User_Count'], axis=1, inplace=True)\n",
    "sub_df_new = sub_df_new[['User_Count']]\n",
    "\n",
    "# concatenate back to complete dataframe\n",
    "df_train_1 = pd.concat([sub_df_new, df_train], axis=1)\n",
    "\n",
    "#print(df_train.shape)\n",
    "df_train_1.head(2)"
   ]
  },
  {
   "cell_type": "code",
   "execution_count": 49,
   "metadata": {},
   "outputs": [
    {
     "data": {
      "text/plain": [
       "0"
      ]
     },
     "execution_count": 49,
     "metadata": {},
     "output_type": "execute_result"
    }
   ],
   "source": [
    "df_train_1.User_Count.isna().sum()"
   ]
  },
  {
   "cell_type": "code",
   "execution_count": 50,
   "metadata": {},
   "outputs": [
    {
     "data": {
      "text/plain": [
       "count    10950.000000\n",
       "mean        39.505559\n",
       "std         29.226327\n",
       "min          4.000000\n",
       "25%         21.375000\n",
       "50%         38.500000\n",
       "75%         47.000000\n",
       "max        262.875000\n",
       "Name: User_Count, dtype: float64"
      ]
     },
     "execution_count": 50,
     "metadata": {},
     "output_type": "execute_result"
    }
   ],
   "source": [
    "df_train_1.User_Count.describe()"
   ]
  },
  {
   "cell_type": "markdown",
   "metadata": {},
   "source": [
    "***Test Data***"
   ]
  },
  {
   "cell_type": "code",
   "execution_count": 51,
   "metadata": {
    "scrolled": true
   },
   "outputs": [
    {
     "name": "stdout",
     "output_type": "stream",
     "text": [
      "<class 'pandas.core.frame.DataFrame'>\n",
      "RangeIndex: 5016 entries, 0 to 5015\n",
      "Data columns (total 10 columns):\n",
      "Id                    5016 non-null int64\n",
      "Platform              5016 non-null object\n",
      "Genre                 5016 non-null category\n",
      "JP_Sales              5016 non-null float64\n",
      "Critic_Score          2440 non-null float64\n",
      "Critic_Count          2440 non-null float64\n",
      "User_Score            2258 non-null float64\n",
      "User_Count            2258 non-null float64\n",
      "Rating                5016 non-null category\n",
      "Periods_of_Release    5016 non-null category\n",
      "dtypes: category(3), float64(5), int64(1), object(1)\n",
      "memory usage: 290.1+ KB\n"
     ]
    }
   ],
   "source": [
    "df_test.info()"
   ]
  },
  {
   "cell_type": "code",
   "execution_count": 52,
   "metadata": {},
   "outputs": [],
   "source": [
    "df_test = df_test.drop(['Critic_Count', 'User_Score'], axis=1)"
   ]
  },
  {
   "cell_type": "code",
   "execution_count": 53,
   "metadata": {},
   "outputs": [
    {
     "data": {
      "text/plain": [
       "count    2258.000000\n",
       "mean      151.655890\n",
       "std       511.617596\n",
       "min         4.000000\n",
       "25%        10.000000\n",
       "50%        24.000000\n",
       "75%        76.000000\n",
       "max      8713.000000\n",
       "Name: User_Count, dtype: float64"
      ]
     },
     "execution_count": 53,
     "metadata": {},
     "output_type": "execute_result"
    }
   ],
   "source": [
    "df_test.User_Count.describe()"
   ]
  },
  {
   "cell_type": "markdown",
   "metadata": {},
   "source": [
    "*a) Creating Sub-Datasets*"
   ]
  },
  {
   "cell_type": "code",
   "execution_count": 54,
   "metadata": {},
   "outputs": [],
   "source": [
    "# filter out sub_df to work with\n",
    "sub_df = df_test[['JP_Sales', 'Genre', 'Rating', 'User_Count']]\n",
    "\n",
    "# split datasets\n",
    "train_data = sub_df[sub_df['User_Count'].notnull()]\n",
    "test_data  = sub_df[sub_df['User_Count'].isnull()]\n",
    "\n",
    "# define X\n",
    "X_train = train_data.drop('User_Count', axis=1)\n",
    "X_train = pd.get_dummies(X_train)\n",
    "\n",
    "X_test  = test_data.drop('User_Count', axis=1)\n",
    "X_test  = pd.get_dummies(X_test)\n",
    "\n",
    "# define y\n",
    "y_train = train_data['User_Count']"
   ]
  },
  {
   "cell_type": "markdown",
   "metadata": {},
   "source": [
    "*b) Scaling the Features*"
   ]
  },
  {
   "cell_type": "code",
   "execution_count": 55,
   "metadata": {},
   "outputs": [],
   "source": [
    "from sklearn.preprocessing import MinMaxScaler\n",
    "scaler = MinMaxScaler()\n",
    "\n",
    "X_train_scaled = scaler.fit_transform(X_train)\n",
    "X_train_scaled = pd.DataFrame(X_train_scaled)\n",
    "\n",
    "X_test_scaled = scaler.fit_transform(X_test)\n",
    "X_test_scaled = pd.DataFrame(X_test_scaled)"
   ]
  },
  {
   "cell_type": "markdown",
   "metadata": {},
   "source": [
    "*c) Implementing Linear Regression*"
   ]
  },
  {
   "cell_type": "code",
   "execution_count": 56,
   "metadata": {},
   "outputs": [],
   "source": [
    "# import Linear Regression\n",
    "from sklearn.linear_model import LinearRegression\n",
    "\n",
    "# instantiate\n",
    "linreg_user_score = LinearRegression()\n",
    "\n",
    "# fit model to training data\n",
    "linreg_user_score.fit(X_train_scaled, y_train)\n",
    "\n",
    "# making predictions\n",
    "y_test = linreg_user_score.predict(X_test_scaled)"
   ]
  },
  {
   "cell_type": "code",
   "execution_count": 57,
   "metadata": {},
   "outputs": [
    {
     "name": "stdout",
     "output_type": "stream",
     "text": [
      "(2758, 1)\n"
     ]
    },
    {
     "data": {
      "text/html": [
       "<div>\n",
       "<style scoped>\n",
       "    .dataframe tbody tr th:only-of-type {\n",
       "        vertical-align: middle;\n",
       "    }\n",
       "\n",
       "    .dataframe tbody tr th {\n",
       "        vertical-align: top;\n",
       "    }\n",
       "\n",
       "    .dataframe thead th {\n",
       "        text-align: right;\n",
       "    }\n",
       "</style>\n",
       "<table border=\"1\" class=\"dataframe\">\n",
       "  <thead>\n",
       "    <tr style=\"text-align: right;\">\n",
       "      <th></th>\n",
       "      <th>User_Count</th>\n",
       "    </tr>\n",
       "  </thead>\n",
       "  <tbody>\n",
       "    <tr>\n",
       "      <th>0</th>\n",
       "      <td>1088.0</td>\n",
       "    </tr>\n",
       "    <tr>\n",
       "      <th>1</th>\n",
       "      <td>352.0</td>\n",
       "    </tr>\n",
       "  </tbody>\n",
       "</table>\n",
       "</div>"
      ],
      "text/plain": [
       "   User_Count\n",
       "0      1088.0\n",
       "1       352.0"
      ]
     },
     "execution_count": 57,
     "metadata": {},
     "output_type": "execute_result"
    }
   ],
   "source": [
    "# preparing y_test\n",
    "y_test = pd.DataFrame(y_test)\n",
    "y_test.columns = ['User_Count']\n",
    "print(y_test.shape)\n",
    "y_test.head(2)"
   ]
  },
  {
   "cell_type": "code",
   "execution_count": 58,
   "metadata": {},
   "outputs": [
    {
     "name": "stdout",
     "output_type": "stream",
     "text": [
      "(2758, 18)\n"
     ]
    },
    {
     "data": {
      "text/html": [
       "<div>\n",
       "<style scoped>\n",
       "    .dataframe tbody tr th:only-of-type {\n",
       "        vertical-align: middle;\n",
       "    }\n",
       "\n",
       "    .dataframe tbody tr th {\n",
       "        vertical-align: top;\n",
       "    }\n",
       "\n",
       "    .dataframe thead th {\n",
       "        text-align: right;\n",
       "    }\n",
       "</style>\n",
       "<table border=\"1\" class=\"dataframe\">\n",
       "  <thead>\n",
       "    <tr style=\"text-align: right;\">\n",
       "      <th></th>\n",
       "      <th>JP_Sales</th>\n",
       "      <th>Genre_Action</th>\n",
       "      <th>Genre_Adventure</th>\n",
       "      <th>Genre_Fighting</th>\n",
       "      <th>Genre_Misc</th>\n",
       "      <th>Genre_Platform</th>\n",
       "      <th>Genre_Puzzle</th>\n",
       "      <th>Genre_Racing</th>\n",
       "      <th>Genre_Role-Playing</th>\n",
       "      <th>Genre_Shooter</th>\n",
       "      <th>Genre_Simulation</th>\n",
       "      <th>Genre_Sports</th>\n",
       "      <th>Genre_Strategy</th>\n",
       "      <th>Rating_E</th>\n",
       "      <th>Rating_E10+</th>\n",
       "      <th>Rating_M</th>\n",
       "      <th>Rating_None</th>\n",
       "      <th>Rating_T</th>\n",
       "    </tr>\n",
       "  </thead>\n",
       "  <tbody>\n",
       "    <tr>\n",
       "      <th>0</th>\n",
       "      <td>10.22</td>\n",
       "      <td>0</td>\n",
       "      <td>0</td>\n",
       "      <td>0</td>\n",
       "      <td>0</td>\n",
       "      <td>0</td>\n",
       "      <td>0</td>\n",
       "      <td>0</td>\n",
       "      <td>1</td>\n",
       "      <td>0</td>\n",
       "      <td>0</td>\n",
       "      <td>0</td>\n",
       "      <td>0</td>\n",
       "      <td>0</td>\n",
       "      <td>0</td>\n",
       "      <td>0</td>\n",
       "      <td>1</td>\n",
       "      <td>0</td>\n",
       "    </tr>\n",
       "    <tr>\n",
       "      <th>2</th>\n",
       "      <td>0.28</td>\n",
       "      <td>0</td>\n",
       "      <td>0</td>\n",
       "      <td>0</td>\n",
       "      <td>0</td>\n",
       "      <td>0</td>\n",
       "      <td>0</td>\n",
       "      <td>0</td>\n",
       "      <td>0</td>\n",
       "      <td>1</td>\n",
       "      <td>0</td>\n",
       "      <td>0</td>\n",
       "      <td>0</td>\n",
       "      <td>0</td>\n",
       "      <td>0</td>\n",
       "      <td>0</td>\n",
       "      <td>1</td>\n",
       "      <td>0</td>\n",
       "    </tr>\n",
       "  </tbody>\n",
       "</table>\n",
       "</div>"
      ],
      "text/plain": [
       "   JP_Sales  Genre_Action  Genre_Adventure  Genre_Fighting  Genre_Misc  \\\n",
       "0     10.22             0                0               0           0   \n",
       "2      0.28             0                0               0           0   \n",
       "\n",
       "   Genre_Platform  Genre_Puzzle  Genre_Racing  Genre_Role-Playing  \\\n",
       "0               0             0             0                   1   \n",
       "2               0             0             0                   0   \n",
       "\n",
       "   Genre_Shooter  Genre_Simulation  Genre_Sports  Genre_Strategy  Rating_E  \\\n",
       "0              0                 0             0               0         0   \n",
       "2              1                 0             0               0         0   \n",
       "\n",
       "   Rating_E10+  Rating_M  Rating_None  Rating_T  \n",
       "0            0         0            1         0  \n",
       "2            0         0            1         0  "
      ]
     },
     "execution_count": 58,
     "metadata": {},
     "output_type": "execute_result"
    }
   ],
   "source": [
    "# preparing X_test\n",
    "print(X_test.shape)\n",
    "X_test.head(2)"
   ]
  },
  {
   "cell_type": "markdown",
   "metadata": {},
   "source": [
    "*d) Concatenating Dataset*"
   ]
  },
  {
   "cell_type": "code",
   "execution_count": 59,
   "metadata": {},
   "outputs": [
    {
     "name": "stdout",
     "output_type": "stream",
     "text": [
      "(5016, 21)\n"
     ]
    },
    {
     "data": {
      "text/html": [
       "<div>\n",
       "<style scoped>\n",
       "    .dataframe tbody tr th:only-of-type {\n",
       "        vertical-align: middle;\n",
       "    }\n",
       "\n",
       "    .dataframe tbody tr th {\n",
       "        vertical-align: top;\n",
       "    }\n",
       "\n",
       "    .dataframe thead th {\n",
       "        text-align: right;\n",
       "    }\n",
       "</style>\n",
       "<table border=\"1\" class=\"dataframe\">\n",
       "  <thead>\n",
       "    <tr style=\"text-align: right;\">\n",
       "      <th></th>\n",
       "      <th>Genre</th>\n",
       "      <th>Genre_Action</th>\n",
       "      <th>Genre_Adventure</th>\n",
       "      <th>Genre_Fighting</th>\n",
       "      <th>Genre_Misc</th>\n",
       "      <th>Genre_Platform</th>\n",
       "      <th>Genre_Puzzle</th>\n",
       "      <th>Genre_Racing</th>\n",
       "      <th>Genre_Role-Playing</th>\n",
       "      <th>Genre_Shooter</th>\n",
       "      <th>...</th>\n",
       "      <th>Genre_Sports</th>\n",
       "      <th>Genre_Strategy</th>\n",
       "      <th>JP_Sales</th>\n",
       "      <th>Rating</th>\n",
       "      <th>Rating_E</th>\n",
       "      <th>Rating_E10+</th>\n",
       "      <th>Rating_M</th>\n",
       "      <th>Rating_None</th>\n",
       "      <th>Rating_T</th>\n",
       "      <th>User_Count</th>\n",
       "    </tr>\n",
       "  </thead>\n",
       "  <tbody>\n",
       "    <tr>\n",
       "      <th>0</th>\n",
       "      <td>NaN</td>\n",
       "      <td>0.0</td>\n",
       "      <td>0.0</td>\n",
       "      <td>0.0</td>\n",
       "      <td>0.0</td>\n",
       "      <td>0.0</td>\n",
       "      <td>0.0</td>\n",
       "      <td>0.0</td>\n",
       "      <td>1.0</td>\n",
       "      <td>0.0</td>\n",
       "      <td>...</td>\n",
       "      <td>0.0</td>\n",
       "      <td>0.0</td>\n",
       "      <td>10.22</td>\n",
       "      <td>NaN</td>\n",
       "      <td>0.0</td>\n",
       "      <td>0.0</td>\n",
       "      <td>0.0</td>\n",
       "      <td>1.0</td>\n",
       "      <td>0.0</td>\n",
       "      <td>1088.0</td>\n",
       "    </tr>\n",
       "    <tr>\n",
       "      <th>2</th>\n",
       "      <td>NaN</td>\n",
       "      <td>0.0</td>\n",
       "      <td>0.0</td>\n",
       "      <td>0.0</td>\n",
       "      <td>0.0</td>\n",
       "      <td>0.0</td>\n",
       "      <td>0.0</td>\n",
       "      <td>0.0</td>\n",
       "      <td>0.0</td>\n",
       "      <td>1.0</td>\n",
       "      <td>...</td>\n",
       "      <td>0.0</td>\n",
       "      <td>0.0</td>\n",
       "      <td>0.28</td>\n",
       "      <td>NaN</td>\n",
       "      <td>0.0</td>\n",
       "      <td>0.0</td>\n",
       "      <td>0.0</td>\n",
       "      <td>1.0</td>\n",
       "      <td>0.0</td>\n",
       "      <td>352.0</td>\n",
       "    </tr>\n",
       "  </tbody>\n",
       "</table>\n",
       "<p>2 rows × 21 columns</p>\n",
       "</div>"
      ],
      "text/plain": [
       "  Genre  Genre_Action  Genre_Adventure  Genre_Fighting  Genre_Misc  \\\n",
       "0   NaN           0.0              0.0             0.0         0.0   \n",
       "2   NaN           0.0              0.0             0.0         0.0   \n",
       "\n",
       "   Genre_Platform  Genre_Puzzle  Genre_Racing  Genre_Role-Playing  \\\n",
       "0             0.0           0.0           0.0                 1.0   \n",
       "2             0.0           0.0           0.0                 0.0   \n",
       "\n",
       "   Genre_Shooter  ...  Genre_Sports  Genre_Strategy  JP_Sales  Rating  \\\n",
       "0            0.0  ...           0.0             0.0     10.22     NaN   \n",
       "2            1.0  ...           0.0             0.0      0.28     NaN   \n",
       "\n",
       "  Rating_E  Rating_E10+  Rating_M  Rating_None  Rating_T  User_Count  \n",
       "0      0.0          0.0       0.0          1.0       0.0      1088.0  \n",
       "2      0.0          0.0       0.0          1.0       0.0       352.0  \n",
       "\n",
       "[2 rows x 21 columns]"
      ]
     },
     "execution_count": 59,
     "metadata": {},
     "output_type": "execute_result"
    }
   ],
   "source": [
    "# make the index of X_test to an own dataframe\n",
    "prelim_index = pd.DataFrame(X_test.index)\n",
    "prelim_index.columns = ['prelim']\n",
    "\n",
    "# ... and concat this dataframe with y_test\n",
    "y_test = pd.concat([y_test, prelim_index], axis=1)\n",
    "y_test.set_index(['prelim'], inplace=True)\n",
    "\n",
    "# finally combine the new test data\n",
    "test_data = pd.concat([X_test, y_test], axis=1)\n",
    "\n",
    "# combine train and test data back to a new sub df\n",
    "sub_df_new = pd.concat([test_data, train_data], axis=0, sort=True)\n",
    "\n",
    "print(sub_df_new.shape)\n",
    "sub_df_new.head(2)"
   ]
  },
  {
   "cell_type": "code",
   "execution_count": 60,
   "metadata": {},
   "outputs": [
    {
     "data": {
      "text/html": [
       "<div>\n",
       "<style scoped>\n",
       "    .dataframe tbody tr th:only-of-type {\n",
       "        vertical-align: middle;\n",
       "    }\n",
       "\n",
       "    .dataframe tbody tr th {\n",
       "        vertical-align: top;\n",
       "    }\n",
       "\n",
       "    .dataframe thead th {\n",
       "        text-align: right;\n",
       "    }\n",
       "</style>\n",
       "<table border=\"1\" class=\"dataframe\">\n",
       "  <thead>\n",
       "    <tr style=\"text-align: right;\">\n",
       "      <th></th>\n",
       "      <th>User_Count</th>\n",
       "      <th>Id</th>\n",
       "      <th>Platform</th>\n",
       "      <th>Genre</th>\n",
       "      <th>JP_Sales</th>\n",
       "      <th>Critic_Score</th>\n",
       "      <th>Rating</th>\n",
       "      <th>Periods_of_Release</th>\n",
       "    </tr>\n",
       "  </thead>\n",
       "  <tbody>\n",
       "    <tr>\n",
       "      <th>0</th>\n",
       "      <td>1088.0</td>\n",
       "      <td>11703</td>\n",
       "      <td>GB</td>\n",
       "      <td>Role-Playing</td>\n",
       "      <td>10.22</td>\n",
       "      <td>NaN</td>\n",
       "      <td>None</td>\n",
       "      <td>1995-2000</td>\n",
       "    </tr>\n",
       "    <tr>\n",
       "      <th>1</th>\n",
       "      <td>129.0</td>\n",
       "      <td>11704</td>\n",
       "      <td>Wii</td>\n",
       "      <td>Misc</td>\n",
       "      <td>2.93</td>\n",
       "      <td>58.0</td>\n",
       "      <td>E</td>\n",
       "      <td>2005-2010</td>\n",
       "    </tr>\n",
       "  </tbody>\n",
       "</table>\n",
       "</div>"
      ],
      "text/plain": [
       "   User_Count     Id Platform         Genre  JP_Sales  Critic_Score Rating  \\\n",
       "0      1088.0  11703       GB  Role-Playing     10.22           NaN   None   \n",
       "1       129.0  11704      Wii          Misc      2.93          58.0      E   \n",
       "\n",
       "  Periods_of_Release  \n",
       "0          1995-2000  \n",
       "1          2005-2010  "
      ]
     },
     "execution_count": 60,
     "metadata": {},
     "output_type": "execute_result"
    }
   ],
   "source": [
    "# drop duplicate columns in dataframe before concatening \n",
    "df_test.drop(['User_Count'], axis=1, inplace=True)\n",
    "sub_df_new = sub_df_new[['User_Count']]\n",
    "\n",
    "# concatenate back to complete dataframe\n",
    "df_test_1 = pd.concat([sub_df_new, df_test], axis=1)\n",
    "\n",
    "#print(df_train.shape)\n",
    "df_test_1.head(2)"
   ]
  },
  {
   "cell_type": "code",
   "execution_count": 61,
   "metadata": {},
   "outputs": [
    {
     "data": {
      "text/plain": [
       "0"
      ]
     },
     "execution_count": 61,
     "metadata": {},
     "output_type": "execute_result"
    }
   ],
   "source": [
    "df_test_1.User_Count.isna().sum()"
   ]
  },
  {
   "cell_type": "code",
   "execution_count": 62,
   "metadata": {},
   "outputs": [
    {
     "data": {
      "text/plain": [
       "count    5016.000000\n",
       "mean      147.991826\n",
       "std       352.105537\n",
       "min       -56.000000\n",
       "25%        20.000000\n",
       "50%        72.500000\n",
       "75%       168.000000\n",
       "max      8713.000000\n",
       "Name: User_Count, dtype: float64"
      ]
     },
     "execution_count": 62,
     "metadata": {},
     "output_type": "execute_result"
    }
   ],
   "source": [
    "df_test_1.User_Count.describe()"
   ]
  },
  {
   "cell_type": "code",
   "execution_count": 63,
   "metadata": {},
   "outputs": [
    {
     "name": "stdout",
     "output_type": "stream",
     "text": [
      "<class 'pandas.core.frame.DataFrame'>\n",
      "Int64Index: 5016 entries, 0 to 5015\n",
      "Data columns (total 8 columns):\n",
      "User_Count            5016 non-null float64\n",
      "Id                    5016 non-null int64\n",
      "Platform              5016 non-null object\n",
      "Genre                 5016 non-null category\n",
      "JP_Sales              5016 non-null float64\n",
      "Critic_Score          2440 non-null float64\n",
      "Rating                5016 non-null category\n",
      "Periods_of_Release    5016 non-null category\n",
      "dtypes: category(3), float64(3), int64(1), object(1)\n",
      "memory usage: 250.8+ KB\n"
     ]
    }
   ],
   "source": [
    "df_test_1.info()"
   ]
  },
  {
   "cell_type": "markdown",
   "metadata": {},
   "source": [
    "*Back to: <a href='#Table of contents'> Table of contents</a>*\n",
    "\n",
    "**2.5. Handling `Critic Score` column**\n",
    "<a id='2.5. Handling Critic Score column'></a>"
   ]
  },
  {
   "cell_type": "markdown",
   "metadata": {},
   "source": [
    "***Train Data***"
   ]
  },
  {
   "cell_type": "code",
   "execution_count": 64,
   "metadata": {
    "scrolled": true
   },
   "outputs": [
    {
     "name": "stdout",
     "output_type": "stream",
     "text": [
      "<class 'pandas.core.frame.DataFrame'>\n",
      "Int64Index: 10950 entries, 0 to 11702\n",
      "Data columns (total 9 columns):\n",
      "User_Count            10950 non-null float64\n",
      "Id                    10950 non-null int64\n",
      "NA_Sales              10950 non-null float64\n",
      "Platform              10950 non-null object\n",
      "Genre                 10950 non-null category\n",
      "JP_Sales              10950 non-null float64\n",
      "Critic_Score          4952 non-null float64\n",
      "Rating                10950 non-null category\n",
      "Periods_of_Release    10950 non-null category\n",
      "dtypes: category(3), float64(4), int64(1), object(1)\n",
      "memory usage: 631.9+ KB\n"
     ]
    }
   ],
   "source": [
    "df_train_1.info()"
   ]
  },
  {
   "cell_type": "code",
   "execution_count": 65,
   "metadata": {},
   "outputs": [
    {
     "data": {
      "text/plain": [
       "count    4952.000000\n",
       "mean       67.009491\n",
       "std        13.510056\n",
       "min        19.000000\n",
       "25%        59.000000\n",
       "50%        69.000000\n",
       "75%        77.000000\n",
       "max        98.000000\n",
       "Name: Critic_Score, dtype: float64"
      ]
     },
     "execution_count": 65,
     "metadata": {},
     "output_type": "execute_result"
    }
   ],
   "source": [
    "df_train_1.Critic_Score.describe()"
   ]
  },
  {
   "cell_type": "code",
   "execution_count": 66,
   "metadata": {},
   "outputs": [
    {
     "data": {
      "image/png": "[encoded data removed]",
      "text/plain": [
       "<Figure size 432x288 with 1 Axes>"
      ]
     },
     "metadata": {
      "needs_background": "light"
     },
     "output_type": "display_data"
    }
   ],
   "source": [
    "df_train_1.Critic_Score.plot(kind='box', vert=False, xlim=(0,100));"
   ]
  },
  {
   "cell_type": "code",
   "execution_count": 67,
   "metadata": {},
   "outputs": [
    {
     "data": {
      "text/plain": [
       "count    4906.000000\n",
       "mean       67.399918\n",
       "std        12.951327\n",
       "min        30.000000\n",
       "25%        59.000000\n",
       "50%        69.000000\n",
       "75%        77.000000\n",
       "max        98.000000\n",
       "Name: Critic_Score, dtype: float64"
      ]
     },
     "execution_count": 67,
     "metadata": {},
     "output_type": "execute_result"
    }
   ],
   "source": [
    "# removing outliers\n",
    "df_train_1 = df_train_1.drop(df_train_1[df_train_1.Critic_Score < 30].index, axis=0)\n",
    "df_train_1.Critic_Score.describe()"
   ]
  },
  {
   "cell_type": "code",
   "execution_count": 68,
   "metadata": {},
   "outputs": [
    {
     "name": "stdout",
     "output_type": "stream",
     "text": [
      "<class 'pandas.core.frame.DataFrame'>\n",
      "Int64Index: 10904 entries, 0 to 11702\n",
      "Data columns (total 9 columns):\n",
      "User_Count            10904 non-null float64\n",
      "Id                    10904 non-null int64\n",
      "NA_Sales              10904 non-null float64\n",
      "Platform              10904 non-null object\n",
      "Genre                 10904 non-null category\n",
      "JP_Sales              10904 non-null float64\n",
      "Critic_Score          4906 non-null float64\n",
      "Rating                10904 non-null category\n",
      "Periods_of_Release    10904 non-null category\n",
      "dtypes: category(3), float64(4), int64(1), object(1)\n",
      "memory usage: 629.2+ KB\n"
     ]
    }
   ],
   "source": [
    "df_train_1.info()"
   ]
  },
  {
   "cell_type": "markdown",
   "metadata": {},
   "source": [
    "*a) Creating Sub-Datasets*"
   ]
  },
  {
   "cell_type": "code",
   "execution_count": 69,
   "metadata": {},
   "outputs": [],
   "source": [
    "# filter out sub_df to work with\n",
    "#sub_df = df[['NA_Sales', 'JP_Sales', 'Critic_Score', 'User_Score']]\n",
    "sub_df = df_train_1[['JP_Sales', 'Genre', 'Rating', 'Critic_Score']]\n",
    "\n",
    "# split datasets\n",
    "train_data = sub_df[sub_df['Critic_Score'].notnull()]\n",
    "test_data  = sub_df[sub_df['Critic_Score'].isnull()]\n",
    "\n",
    "# define X\n",
    "X_train = train_data.drop('Critic_Score', axis=1)\n",
    "X_train = pd.get_dummies(X_train)\n",
    "\n",
    "X_test  = test_data.drop('Critic_Score', axis=1)\n",
    "X_test  = pd.get_dummies(X_test)\n",
    "\n",
    "# define y\n",
    "y_train = train_data['Critic_Score']"
   ]
  },
  {
   "cell_type": "markdown",
   "metadata": {},
   "source": [
    "*b) Scaling the Features*"
   ]
  },
  {
   "cell_type": "code",
   "execution_count": 70,
   "metadata": {},
   "outputs": [],
   "source": [
    "from sklearn.preprocessing import MinMaxScaler\n",
    "scaler = MinMaxScaler()\n",
    "\n",
    "X_train_scaled = scaler.fit_transform(X_train)\n",
    "X_train_scaled = pd.DataFrame(X_train_scaled)\n",
    "\n",
    "X_test_scaled = scaler.fit_transform(X_test)\n",
    "X_test_scaled = pd.DataFrame(X_test_scaled)"
   ]
  },
  {
   "cell_type": "markdown",
   "metadata": {},
   "source": [
    "*c) Implementing Linear Regression*"
   ]
  },
  {
   "cell_type": "code",
   "execution_count": 71,
   "metadata": {},
   "outputs": [],
   "source": [
    "# import Linear Regression\n",
    "from sklearn.linear_model import LinearRegression\n",
    "\n",
    "# instantiate\n",
    "linreg_user_score = LinearRegression()\n",
    "\n",
    "# fit model to training data\n",
    "linreg_user_score.fit(X_train_scaled, y_train)\n",
    "\n",
    "# making predictions\n",
    "y_test = linreg_user_score.predict(X_test_scaled)"
   ]
  },
  {
   "cell_type": "code",
   "execution_count": 72,
   "metadata": {},
   "outputs": [
    {
     "name": "stdout",
     "output_type": "stream",
     "text": [
      "(5998, 1)\n"
     ]
    },
    {
     "data": {
      "text/html": [
       "<div>\n",
       "<style scoped>\n",
       "    .dataframe tbody tr th:only-of-type {\n",
       "        vertical-align: middle;\n",
       "    }\n",
       "\n",
       "    .dataframe tbody tr th {\n",
       "        vertical-align: top;\n",
       "    }\n",
       "\n",
       "    .dataframe thead th {\n",
       "        text-align: right;\n",
       "    }\n",
       "</style>\n",
       "<table border=\"1\" class=\"dataframe\">\n",
       "  <thead>\n",
       "    <tr style=\"text-align: right;\">\n",
       "      <th></th>\n",
       "      <th>Critic_Score</th>\n",
       "    </tr>\n",
       "  </thead>\n",
       "  <tbody>\n",
       "    <tr>\n",
       "      <th>0</th>\n",
       "      <td>67.2500</td>\n",
       "    </tr>\n",
       "    <tr>\n",
       "      <th>1</th>\n",
       "      <td>64.8125</td>\n",
       "    </tr>\n",
       "  </tbody>\n",
       "</table>\n",
       "</div>"
      ],
      "text/plain": [
       "   Critic_Score\n",
       "0       67.2500\n",
       "1       64.8125"
      ]
     },
     "execution_count": 72,
     "metadata": {},
     "output_type": "execute_result"
    }
   ],
   "source": [
    "# preparing y_test\n",
    "y_test = pd.DataFrame(y_test)\n",
    "y_test.columns = ['Critic_Score']\n",
    "print(y_test.shape)\n",
    "y_test.head(2)"
   ]
  },
  {
   "cell_type": "code",
   "execution_count": 73,
   "metadata": {},
   "outputs": [
    {
     "name": "stdout",
     "output_type": "stream",
     "text": [
      "(5998, 18)\n"
     ]
    },
    {
     "data": {
      "text/html": [
       "<div>\n",
       "<style scoped>\n",
       "    .dataframe tbody tr th:only-of-type {\n",
       "        vertical-align: middle;\n",
       "    }\n",
       "\n",
       "    .dataframe tbody tr th {\n",
       "        vertical-align: top;\n",
       "    }\n",
       "\n",
       "    .dataframe thead th {\n",
       "        text-align: right;\n",
       "    }\n",
       "</style>\n",
       "<table border=\"1\" class=\"dataframe\">\n",
       "  <thead>\n",
       "    <tr style=\"text-align: right;\">\n",
       "      <th></th>\n",
       "      <th>JP_Sales</th>\n",
       "      <th>Genre_Action</th>\n",
       "      <th>Genre_Adventure</th>\n",
       "      <th>Genre_Fighting</th>\n",
       "      <th>Genre_Misc</th>\n",
       "      <th>Genre_Platform</th>\n",
       "      <th>Genre_Puzzle</th>\n",
       "      <th>Genre_Racing</th>\n",
       "      <th>Genre_Role-Playing</th>\n",
       "      <th>Genre_Shooter</th>\n",
       "      <th>Genre_Simulation</th>\n",
       "      <th>Genre_Sports</th>\n",
       "      <th>Genre_Strategy</th>\n",
       "      <th>Rating_E</th>\n",
       "      <th>Rating_E10+</th>\n",
       "      <th>Rating_M</th>\n",
       "      <th>Rating_None</th>\n",
       "      <th>Rating_T</th>\n",
       "    </tr>\n",
       "  </thead>\n",
       "  <tbody>\n",
       "    <tr>\n",
       "      <th>1</th>\n",
       "      <td>0.0</td>\n",
       "      <td>0</td>\n",
       "      <td>0</td>\n",
       "      <td>0</td>\n",
       "      <td>0</td>\n",
       "      <td>0</td>\n",
       "      <td>0</td>\n",
       "      <td>0</td>\n",
       "      <td>0</td>\n",
       "      <td>1</td>\n",
       "      <td>0</td>\n",
       "      <td>0</td>\n",
       "      <td>0</td>\n",
       "      <td>0</td>\n",
       "      <td>0</td>\n",
       "      <td>0</td>\n",
       "      <td>1</td>\n",
       "      <td>0</td>\n",
       "    </tr>\n",
       "    <tr>\n",
       "      <th>2</th>\n",
       "      <td>0.0</td>\n",
       "      <td>1</td>\n",
       "      <td>0</td>\n",
       "      <td>0</td>\n",
       "      <td>0</td>\n",
       "      <td>0</td>\n",
       "      <td>0</td>\n",
       "      <td>0</td>\n",
       "      <td>0</td>\n",
       "      <td>0</td>\n",
       "      <td>0</td>\n",
       "      <td>0</td>\n",
       "      <td>0</td>\n",
       "      <td>0</td>\n",
       "      <td>0</td>\n",
       "      <td>0</td>\n",
       "      <td>1</td>\n",
       "      <td>0</td>\n",
       "    </tr>\n",
       "  </tbody>\n",
       "</table>\n",
       "</div>"
      ],
      "text/plain": [
       "   JP_Sales  Genre_Action  Genre_Adventure  Genre_Fighting  Genre_Misc  \\\n",
       "1       0.0             0                0               0           0   \n",
       "2       0.0             1                0               0           0   \n",
       "\n",
       "   Genre_Platform  Genre_Puzzle  Genre_Racing  Genre_Role-Playing  \\\n",
       "1               0             0             0                   0   \n",
       "2               0             0             0                   0   \n",
       "\n",
       "   Genre_Shooter  Genre_Simulation  Genre_Sports  Genre_Strategy  Rating_E  \\\n",
       "1              1                 0             0               0         0   \n",
       "2              0                 0             0               0         0   \n",
       "\n",
       "   Rating_E10+  Rating_M  Rating_None  Rating_T  \n",
       "1            0         0            1         0  \n",
       "2            0         0            1         0  "
      ]
     },
     "execution_count": 73,
     "metadata": {},
     "output_type": "execute_result"
    }
   ],
   "source": [
    "# preparing X_test\n",
    "print(X_test.shape)\n",
    "X_test.head(2)"
   ]
  },
  {
   "cell_type": "markdown",
   "metadata": {},
   "source": [
    "*d) Concatenating Dataset*"
   ]
  },
  {
   "cell_type": "code",
   "execution_count": 74,
   "metadata": {},
   "outputs": [
    {
     "name": "stdout",
     "output_type": "stream",
     "text": [
      "(10904, 21)\n"
     ]
    },
    {
     "data": {
      "text/html": [
       "<div>\n",
       "<style scoped>\n",
       "    .dataframe tbody tr th:only-of-type {\n",
       "        vertical-align: middle;\n",
       "    }\n",
       "\n",
       "    .dataframe tbody tr th {\n",
       "        vertical-align: top;\n",
       "    }\n",
       "\n",
       "    .dataframe thead th {\n",
       "        text-align: right;\n",
       "    }\n",
       "</style>\n",
       "<table border=\"1\" class=\"dataframe\">\n",
       "  <thead>\n",
       "    <tr style=\"text-align: right;\">\n",
       "      <th></th>\n",
       "      <th>Critic_Score</th>\n",
       "      <th>Genre</th>\n",
       "      <th>Genre_Action</th>\n",
       "      <th>Genre_Adventure</th>\n",
       "      <th>Genre_Fighting</th>\n",
       "      <th>Genre_Misc</th>\n",
       "      <th>Genre_Platform</th>\n",
       "      <th>Genre_Puzzle</th>\n",
       "      <th>Genre_Racing</th>\n",
       "      <th>Genre_Role-Playing</th>\n",
       "      <th>...</th>\n",
       "      <th>Genre_Simulation</th>\n",
       "      <th>Genre_Sports</th>\n",
       "      <th>Genre_Strategy</th>\n",
       "      <th>JP_Sales</th>\n",
       "      <th>Rating</th>\n",
       "      <th>Rating_E</th>\n",
       "      <th>Rating_E10+</th>\n",
       "      <th>Rating_M</th>\n",
       "      <th>Rating_None</th>\n",
       "      <th>Rating_T</th>\n",
       "    </tr>\n",
       "  </thead>\n",
       "  <tbody>\n",
       "    <tr>\n",
       "      <th>1</th>\n",
       "      <td>67.2500</td>\n",
       "      <td>NaN</td>\n",
       "      <td>0.0</td>\n",
       "      <td>0.0</td>\n",
       "      <td>0.0</td>\n",
       "      <td>0.0</td>\n",
       "      <td>0.0</td>\n",
       "      <td>0.0</td>\n",
       "      <td>0.0</td>\n",
       "      <td>0.0</td>\n",
       "      <td>...</td>\n",
       "      <td>0.0</td>\n",
       "      <td>0.0</td>\n",
       "      <td>0.0</td>\n",
       "      <td>0.0</td>\n",
       "      <td>NaN</td>\n",
       "      <td>0.0</td>\n",
       "      <td>0.0</td>\n",
       "      <td>0.0</td>\n",
       "      <td>1.0</td>\n",
       "      <td>0.0</td>\n",
       "    </tr>\n",
       "    <tr>\n",
       "      <th>2</th>\n",
       "      <td>64.8125</td>\n",
       "      <td>NaN</td>\n",
       "      <td>1.0</td>\n",
       "      <td>0.0</td>\n",
       "      <td>0.0</td>\n",
       "      <td>0.0</td>\n",
       "      <td>0.0</td>\n",
       "      <td>0.0</td>\n",
       "      <td>0.0</td>\n",
       "      <td>0.0</td>\n",
       "      <td>...</td>\n",
       "      <td>0.0</td>\n",
       "      <td>0.0</td>\n",
       "      <td>0.0</td>\n",
       "      <td>0.0</td>\n",
       "      <td>NaN</td>\n",
       "      <td>0.0</td>\n",
       "      <td>0.0</td>\n",
       "      <td>0.0</td>\n",
       "      <td>1.0</td>\n",
       "      <td>0.0</td>\n",
       "    </tr>\n",
       "  </tbody>\n",
       "</table>\n",
       "<p>2 rows × 21 columns</p>\n",
       "</div>"
      ],
      "text/plain": [
       "   Critic_Score Genre  Genre_Action  Genre_Adventure  Genre_Fighting  \\\n",
       "1       67.2500   NaN           0.0              0.0             0.0   \n",
       "2       64.8125   NaN           1.0              0.0             0.0   \n",
       "\n",
       "   Genre_Misc  Genre_Platform  Genre_Puzzle  Genre_Racing  Genre_Role-Playing  \\\n",
       "1         0.0             0.0           0.0           0.0                 0.0   \n",
       "2         0.0             0.0           0.0           0.0                 0.0   \n",
       "\n",
       "   ...  Genre_Simulation  Genre_Sports  Genre_Strategy  JP_Sales  Rating  \\\n",
       "1  ...               0.0           0.0             0.0       0.0     NaN   \n",
       "2  ...               0.0           0.0             0.0       0.0     NaN   \n",
       "\n",
       "  Rating_E  Rating_E10+  Rating_M  Rating_None  Rating_T  \n",
       "1      0.0          0.0       0.0          1.0       0.0  \n",
       "2      0.0          0.0       0.0          1.0       0.0  \n",
       "\n",
       "[2 rows x 21 columns]"
      ]
     },
     "execution_count": 74,
     "metadata": {},
     "output_type": "execute_result"
    }
   ],
   "source": [
    "# make the index of X_test to an own dataframe\n",
    "prelim_index = pd.DataFrame(X_test.index)\n",
    "prelim_index.columns = ['prelim']\n",
    "\n",
    "# ... and concat this dataframe with y_test\n",
    "y_test = pd.concat([y_test, prelim_index], axis=1)\n",
    "y_test.set_index(['prelim'], inplace=True)\n",
    "\n",
    "# finally combine the new test data\n",
    "test_data = pd.concat([X_test, y_test], axis=1)\n",
    "\n",
    "# combine train and test data back to a new sub df\n",
    "sub_df_new = pd.concat([test_data, train_data], axis=0, sort=True)\n",
    "\n",
    "print(sub_df_new.shape)\n",
    "sub_df_new.head(2)"
   ]
  },
  {
   "cell_type": "code",
   "execution_count": 75,
   "metadata": {},
   "outputs": [
    {
     "data": {
      "text/html": [
       "<div>\n",
       "<style scoped>\n",
       "    .dataframe tbody tr th:only-of-type {\n",
       "        vertical-align: middle;\n",
       "    }\n",
       "\n",
       "    .dataframe tbody tr th {\n",
       "        vertical-align: top;\n",
       "    }\n",
       "\n",
       "    .dataframe thead th {\n",
       "        text-align: right;\n",
       "    }\n",
       "</style>\n",
       "<table border=\"1\" class=\"dataframe\">\n",
       "  <thead>\n",
       "    <tr style=\"text-align: right;\">\n",
       "      <th></th>\n",
       "      <th>Critic_Score</th>\n",
       "      <th>User_Count</th>\n",
       "      <th>Id</th>\n",
       "      <th>NA_Sales</th>\n",
       "      <th>Platform</th>\n",
       "      <th>Genre</th>\n",
       "      <th>JP_Sales</th>\n",
       "      <th>Rating</th>\n",
       "      <th>Periods_of_Release</th>\n",
       "    </tr>\n",
       "  </thead>\n",
       "  <tbody>\n",
       "    <tr>\n",
       "      <th>0</th>\n",
       "      <td>81.00</td>\n",
       "      <td>62.000</td>\n",
       "      <td>0</td>\n",
       "      <td>0.00</td>\n",
       "      <td>PSP</td>\n",
       "      <td>Misc</td>\n",
       "      <td>0.06</td>\n",
       "      <td>E</td>\n",
       "      <td>2005-2010</td>\n",
       "    </tr>\n",
       "    <tr>\n",
       "      <th>1</th>\n",
       "      <td>67.25</td>\n",
       "      <td>44.375</td>\n",
       "      <td>1</td>\n",
       "      <td>0.72</td>\n",
       "      <td>2600</td>\n",
       "      <td>Shooter</td>\n",
       "      <td>0.00</td>\n",
       "      <td>None</td>\n",
       "      <td>Before 1995</td>\n",
       "    </tr>\n",
       "  </tbody>\n",
       "</table>\n",
       "</div>"
      ],
      "text/plain": [
       "   Critic_Score  User_Count  Id  NA_Sales Platform    Genre  JP_Sales Rating  \\\n",
       "0         81.00      62.000   0      0.00      PSP     Misc      0.06      E   \n",
       "1         67.25      44.375   1      0.72     2600  Shooter      0.00   None   \n",
       "\n",
       "  Periods_of_Release  \n",
       "0          2005-2010  \n",
       "1        Before 1995  "
      ]
     },
     "execution_count": 75,
     "metadata": {},
     "output_type": "execute_result"
    }
   ],
   "source": [
    "# drop duplicate columns in dataframe before concatening \n",
    "df_train_1.drop(['Critic_Score'], axis=1, inplace=True)\n",
    "sub_df_new = sub_df_new[['Critic_Score']]\n",
    "\n",
    "# concatenate back to complete dataframe\n",
    "df_train_2 = pd.concat([sub_df_new, df_train_1], axis=1)\n",
    "\n",
    "#print(df_train.shape)\n",
    "df_train_2.head(2)"
   ]
  },
  {
   "cell_type": "code",
   "execution_count": 76,
   "metadata": {},
   "outputs": [
    {
     "data": {
      "text/plain": [
       "0"
      ]
     },
     "execution_count": 76,
     "metadata": {},
     "output_type": "execute_result"
    }
   ],
   "source": [
    "df_train_2.Critic_Score.isna().sum()"
   ]
  },
  {
   "cell_type": "code",
   "execution_count": 77,
   "metadata": {},
   "outputs": [
    {
     "data": {
      "text/plain": [
       "count    10904.000000\n",
       "mean        68.104010\n",
       "std          9.131954\n",
       "min         30.000000\n",
       "25%         65.000000\n",
       "50%         68.812500\n",
       "75%         72.437500\n",
       "max        110.312500\n",
       "Name: Critic_Score, dtype: float64"
      ]
     },
     "execution_count": 77,
     "metadata": {},
     "output_type": "execute_result"
    }
   ],
   "source": [
    "df_train_2.Critic_Score.describe()"
   ]
  },
  {
   "cell_type": "code",
   "execution_count": 78,
   "metadata": {},
   "outputs": [
    {
     "name": "stdout",
     "output_type": "stream",
     "text": [
      "<class 'pandas.core.frame.DataFrame'>\n",
      "Int64Index: 10904 entries, 0 to 11702\n",
      "Data columns (total 9 columns):\n",
      "Critic_Score          10904 non-null float64\n",
      "User_Count            10904 non-null float64\n",
      "Id                    10904 non-null int64\n",
      "NA_Sales              10904 non-null float64\n",
      "Platform              10904 non-null object\n",
      "Genre                 10904 non-null category\n",
      "JP_Sales              10904 non-null float64\n",
      "Rating                10904 non-null category\n",
      "Periods_of_Release    10904 non-null category\n",
      "dtypes: category(3), float64(4), int64(1), object(1)\n",
      "memory usage: 629.2+ KB\n"
     ]
    }
   ],
   "source": [
    "df_train_2.info()"
   ]
  },
  {
   "cell_type": "markdown",
   "metadata": {},
   "source": [
    "***Test Data***"
   ]
  },
  {
   "cell_type": "code",
   "execution_count": 79,
   "metadata": {
    "scrolled": true
   },
   "outputs": [
    {
     "name": "stdout",
     "output_type": "stream",
     "text": [
      "<class 'pandas.core.frame.DataFrame'>\n",
      "Int64Index: 5016 entries, 0 to 5015\n",
      "Data columns (total 8 columns):\n",
      "User_Count            5016 non-null float64\n",
      "Id                    5016 non-null int64\n",
      "Platform              5016 non-null object\n",
      "Genre                 5016 non-null category\n",
      "JP_Sales              5016 non-null float64\n",
      "Critic_Score          2440 non-null float64\n",
      "Rating                5016 non-null category\n",
      "Periods_of_Release    5016 non-null category\n",
      "dtypes: category(3), float64(3), int64(1), object(1)\n",
      "memory usage: 250.8+ KB\n"
     ]
    }
   ],
   "source": [
    "df_test_1.info()"
   ]
  },
  {
   "cell_type": "code",
   "execution_count": 80,
   "metadata": {},
   "outputs": [
    {
     "data": {
      "text/plain": [
       "count    2440.000000\n",
       "mean       69.103279\n",
       "std        13.669801\n",
       "min        17.000000\n",
       "25%        60.000000\n",
       "50%        71.000000\n",
       "75%        79.000000\n",
       "max        98.000000\n",
       "Name: Critic_Score, dtype: float64"
      ]
     },
     "execution_count": 80,
     "metadata": {},
     "output_type": "execute_result"
    }
   ],
   "source": [
    "df_test_1.Critic_Score.describe()"
   ]
  },
  {
   "cell_type": "markdown",
   "metadata": {},
   "source": [
    "*a) Creating Sub-Datasets*"
   ]
  },
  {
   "cell_type": "code",
   "execution_count": 81,
   "metadata": {},
   "outputs": [],
   "source": [
    "# filter out sub_df to work with\n",
    "#sub_df = df[['NA_Sales', 'JP_Sales', 'Critic_Score', 'User_Score']]\n",
    "sub_df = df_test_1[['JP_Sales', 'Genre', 'Rating', 'Critic_Score']]\n",
    "\n",
    "# split datasets\n",
    "train_data = sub_df[sub_df['Critic_Score'].notnull()]\n",
    "test_data  = sub_df[sub_df['Critic_Score'].isnull()]\n",
    "\n",
    "# define X\n",
    "X_train = train_data.drop('Critic_Score', axis=1)\n",
    "X_train = pd.get_dummies(X_train)\n",
    "\n",
    "X_test  = test_data.drop('Critic_Score', axis=1)\n",
    "X_test  = pd.get_dummies(X_test)\n",
    "\n",
    "# define y\n",
    "y_train = train_data['Critic_Score']"
   ]
  },
  {
   "cell_type": "markdown",
   "metadata": {},
   "source": [
    "*b) Scaling the Features*"
   ]
  },
  {
   "cell_type": "code",
   "execution_count": 82,
   "metadata": {},
   "outputs": [],
   "source": [
    "from sklearn.preprocessing import MinMaxScaler\n",
    "scaler = MinMaxScaler()\n",
    "\n",
    "X_train_scaled = scaler.fit_transform(X_train)\n",
    "X_train_scaled = pd.DataFrame(X_train_scaled)\n",
    "\n",
    "X_test_scaled = scaler.fit_transform(X_test)\n",
    "X_test_scaled = pd.DataFrame(X_test_scaled)"
   ]
  },
  {
   "cell_type": "markdown",
   "metadata": {},
   "source": [
    "*c) Implementing Linear Regression*"
   ]
  },
  {
   "cell_type": "code",
   "execution_count": 83,
   "metadata": {},
   "outputs": [],
   "source": [
    "# import Linear Regression\n",
    "from sklearn.linear_model import LinearRegression\n",
    "\n",
    "# instantiate\n",
    "linreg_user_score = LinearRegression()\n",
    "\n",
    "# fit model to training data\n",
    "linreg_user_score.fit(X_train_scaled, y_train)\n",
    "\n",
    "# making predictions\n",
    "y_test = linreg_user_score.predict(X_test_scaled)"
   ]
  },
  {
   "cell_type": "code",
   "execution_count": 84,
   "metadata": {},
   "outputs": [
    {
     "name": "stdout",
     "output_type": "stream",
     "text": [
      "(2576, 1)\n"
     ]
    },
    {
     "data": {
      "text/html": [
       "<div>\n",
       "<style scoped>\n",
       "    .dataframe tbody tr th:only-of-type {\n",
       "        vertical-align: middle;\n",
       "    }\n",
       "\n",
       "    .dataframe tbody tr th {\n",
       "        vertical-align: top;\n",
       "    }\n",
       "\n",
       "    .dataframe thead th {\n",
       "        text-align: right;\n",
       "    }\n",
       "</style>\n",
       "<table border=\"1\" class=\"dataframe\">\n",
       "  <thead>\n",
       "    <tr style=\"text-align: right;\">\n",
       "      <th></th>\n",
       "      <th>Critic_Score</th>\n",
       "    </tr>\n",
       "  </thead>\n",
       "  <tbody>\n",
       "    <tr>\n",
       "      <th>0</th>\n",
       "      <td>107.00</td>\n",
       "    </tr>\n",
       "    <tr>\n",
       "      <th>1</th>\n",
       "      <td>65.75</td>\n",
       "    </tr>\n",
       "  </tbody>\n",
       "</table>\n",
       "</div>"
      ],
      "text/plain": [
       "   Critic_Score\n",
       "0        107.00\n",
       "1         65.75"
      ]
     },
     "execution_count": 84,
     "metadata": {},
     "output_type": "execute_result"
    }
   ],
   "source": [
    "# preparing y_test\n",
    "y_test = pd.DataFrame(y_test)\n",
    "y_test.columns = ['Critic_Score']\n",
    "print(y_test.shape)\n",
    "y_test.head(2)"
   ]
  },
  {
   "cell_type": "code",
   "execution_count": 85,
   "metadata": {},
   "outputs": [
    {
     "name": "stdout",
     "output_type": "stream",
     "text": [
      "(2576, 18)\n"
     ]
    },
    {
     "data": {
      "text/html": [
       "<div>\n",
       "<style scoped>\n",
       "    .dataframe tbody tr th:only-of-type {\n",
       "        vertical-align: middle;\n",
       "    }\n",
       "\n",
       "    .dataframe tbody tr th {\n",
       "        vertical-align: top;\n",
       "    }\n",
       "\n",
       "    .dataframe thead th {\n",
       "        text-align: right;\n",
       "    }\n",
       "</style>\n",
       "<table border=\"1\" class=\"dataframe\">\n",
       "  <thead>\n",
       "    <tr style=\"text-align: right;\">\n",
       "      <th></th>\n",
       "      <th>JP_Sales</th>\n",
       "      <th>Genre_Action</th>\n",
       "      <th>Genre_Adventure</th>\n",
       "      <th>Genre_Fighting</th>\n",
       "      <th>Genre_Misc</th>\n",
       "      <th>Genre_Platform</th>\n",
       "      <th>Genre_Puzzle</th>\n",
       "      <th>Genre_Racing</th>\n",
       "      <th>Genre_Role-Playing</th>\n",
       "      <th>Genre_Shooter</th>\n",
       "      <th>Genre_Simulation</th>\n",
       "      <th>Genre_Sports</th>\n",
       "      <th>Genre_Strategy</th>\n",
       "      <th>Rating_E</th>\n",
       "      <th>Rating_E10+</th>\n",
       "      <th>Rating_M</th>\n",
       "      <th>Rating_None</th>\n",
       "      <th>Rating_T</th>\n",
       "    </tr>\n",
       "  </thead>\n",
       "  <tbody>\n",
       "    <tr>\n",
       "      <th>0</th>\n",
       "      <td>10.22</td>\n",
       "      <td>0</td>\n",
       "      <td>0</td>\n",
       "      <td>0</td>\n",
       "      <td>0</td>\n",
       "      <td>0</td>\n",
       "      <td>0</td>\n",
       "      <td>0</td>\n",
       "      <td>1</td>\n",
       "      <td>0</td>\n",
       "      <td>0</td>\n",
       "      <td>0</td>\n",
       "      <td>0</td>\n",
       "      <td>0</td>\n",
       "      <td>0</td>\n",
       "      <td>0</td>\n",
       "      <td>1</td>\n",
       "      <td>0</td>\n",
       "    </tr>\n",
       "    <tr>\n",
       "      <th>2</th>\n",
       "      <td>0.28</td>\n",
       "      <td>0</td>\n",
       "      <td>0</td>\n",
       "      <td>0</td>\n",
       "      <td>0</td>\n",
       "      <td>0</td>\n",
       "      <td>0</td>\n",
       "      <td>0</td>\n",
       "      <td>0</td>\n",
       "      <td>1</td>\n",
       "      <td>0</td>\n",
       "      <td>0</td>\n",
       "      <td>0</td>\n",
       "      <td>0</td>\n",
       "      <td>0</td>\n",
       "      <td>0</td>\n",
       "      <td>1</td>\n",
       "      <td>0</td>\n",
       "    </tr>\n",
       "  </tbody>\n",
       "</table>\n",
       "</div>"
      ],
      "text/plain": [
       "   JP_Sales  Genre_Action  Genre_Adventure  Genre_Fighting  Genre_Misc  \\\n",
       "0     10.22             0                0               0           0   \n",
       "2      0.28             0                0               0           0   \n",
       "\n",
       "   Genre_Platform  Genre_Puzzle  Genre_Racing  Genre_Role-Playing  \\\n",
       "0               0             0             0                   1   \n",
       "2               0             0             0                   0   \n",
       "\n",
       "   Genre_Shooter  Genre_Simulation  Genre_Sports  Genre_Strategy  Rating_E  \\\n",
       "0              0                 0             0               0         0   \n",
       "2              1                 0             0               0         0   \n",
       "\n",
       "   Rating_E10+  Rating_M  Rating_None  Rating_T  \n",
       "0            0         0            1         0  \n",
       "2            0         0            1         0  "
      ]
     },
     "execution_count": 85,
     "metadata": {},
     "output_type": "execute_result"
    }
   ],
   "source": [
    "# preparing X_test\n",
    "print(X_test.shape)\n",
    "X_test.head(2)"
   ]
  },
  {
   "cell_type": "markdown",
   "metadata": {},
   "source": [
    "*d) Concatenating Dataset*"
   ]
  },
  {
   "cell_type": "code",
   "execution_count": 86,
   "metadata": {},
   "outputs": [
    {
     "name": "stdout",
     "output_type": "stream",
     "text": [
      "(5016, 21)\n"
     ]
    },
    {
     "data": {
      "text/html": [
       "<div>\n",
       "<style scoped>\n",
       "    .dataframe tbody tr th:only-of-type {\n",
       "        vertical-align: middle;\n",
       "    }\n",
       "\n",
       "    .dataframe tbody tr th {\n",
       "        vertical-align: top;\n",
       "    }\n",
       "\n",
       "    .dataframe thead th {\n",
       "        text-align: right;\n",
       "    }\n",
       "</style>\n",
       "<table border=\"1\" class=\"dataframe\">\n",
       "  <thead>\n",
       "    <tr style=\"text-align: right;\">\n",
       "      <th></th>\n",
       "      <th>Critic_Score</th>\n",
       "      <th>Genre</th>\n",
       "      <th>Genre_Action</th>\n",
       "      <th>Genre_Adventure</th>\n",
       "      <th>Genre_Fighting</th>\n",
       "      <th>Genre_Misc</th>\n",
       "      <th>Genre_Platform</th>\n",
       "      <th>Genre_Puzzle</th>\n",
       "      <th>Genre_Racing</th>\n",
       "      <th>Genre_Role-Playing</th>\n",
       "      <th>...</th>\n",
       "      <th>Genre_Simulation</th>\n",
       "      <th>Genre_Sports</th>\n",
       "      <th>Genre_Strategy</th>\n",
       "      <th>JP_Sales</th>\n",
       "      <th>Rating</th>\n",
       "      <th>Rating_E</th>\n",
       "      <th>Rating_E10+</th>\n",
       "      <th>Rating_M</th>\n",
       "      <th>Rating_None</th>\n",
       "      <th>Rating_T</th>\n",
       "    </tr>\n",
       "  </thead>\n",
       "  <tbody>\n",
       "    <tr>\n",
       "      <th>0</th>\n",
       "      <td>107.00</td>\n",
       "      <td>NaN</td>\n",
       "      <td>0.0</td>\n",
       "      <td>0.0</td>\n",
       "      <td>0.0</td>\n",
       "      <td>0.0</td>\n",
       "      <td>0.0</td>\n",
       "      <td>0.0</td>\n",
       "      <td>0.0</td>\n",
       "      <td>1.0</td>\n",
       "      <td>...</td>\n",
       "      <td>0.0</td>\n",
       "      <td>0.0</td>\n",
       "      <td>0.0</td>\n",
       "      <td>10.22</td>\n",
       "      <td>NaN</td>\n",
       "      <td>0.0</td>\n",
       "      <td>0.0</td>\n",
       "      <td>0.0</td>\n",
       "      <td>1.0</td>\n",
       "      <td>0.0</td>\n",
       "    </tr>\n",
       "    <tr>\n",
       "      <th>2</th>\n",
       "      <td>65.75</td>\n",
       "      <td>NaN</td>\n",
       "      <td>0.0</td>\n",
       "      <td>0.0</td>\n",
       "      <td>0.0</td>\n",
       "      <td>0.0</td>\n",
       "      <td>0.0</td>\n",
       "      <td>0.0</td>\n",
       "      <td>0.0</td>\n",
       "      <td>0.0</td>\n",
       "      <td>...</td>\n",
       "      <td>0.0</td>\n",
       "      <td>0.0</td>\n",
       "      <td>0.0</td>\n",
       "      <td>0.28</td>\n",
       "      <td>NaN</td>\n",
       "      <td>0.0</td>\n",
       "      <td>0.0</td>\n",
       "      <td>0.0</td>\n",
       "      <td>1.0</td>\n",
       "      <td>0.0</td>\n",
       "    </tr>\n",
       "  </tbody>\n",
       "</table>\n",
       "<p>2 rows × 21 columns</p>\n",
       "</div>"
      ],
      "text/plain": [
       "   Critic_Score Genre  Genre_Action  Genre_Adventure  Genre_Fighting  \\\n",
       "0        107.00   NaN           0.0              0.0             0.0   \n",
       "2         65.75   NaN           0.0              0.0             0.0   \n",
       "\n",
       "   Genre_Misc  Genre_Platform  Genre_Puzzle  Genre_Racing  Genre_Role-Playing  \\\n",
       "0         0.0             0.0           0.0           0.0                 1.0   \n",
       "2         0.0             0.0           0.0           0.0                 0.0   \n",
       "\n",
       "   ...  Genre_Simulation  Genre_Sports  Genre_Strategy  JP_Sales  Rating  \\\n",
       "0  ...               0.0           0.0             0.0     10.22     NaN   \n",
       "2  ...               0.0           0.0             0.0      0.28     NaN   \n",
       "\n",
       "  Rating_E  Rating_E10+  Rating_M  Rating_None  Rating_T  \n",
       "0      0.0          0.0       0.0          1.0       0.0  \n",
       "2      0.0          0.0       0.0          1.0       0.0  \n",
       "\n",
       "[2 rows x 21 columns]"
      ]
     },
     "execution_count": 86,
     "metadata": {},
     "output_type": "execute_result"
    }
   ],
   "source": [
    "# make the index of X_test to an own dataframe\n",
    "prelim_index = pd.DataFrame(X_test.index)\n",
    "prelim_index.columns = ['prelim']\n",
    "\n",
    "# ... and concat this dataframe with y_test\n",
    "y_test = pd.concat([y_test, prelim_index], axis=1)\n",
    "y_test.set_index(['prelim'], inplace=True)\n",
    "\n",
    "# finally combine the new test data\n",
    "test_data = pd.concat([X_test, y_test], axis=1)\n",
    "\n",
    "# combine train and test data back to a new sub df\n",
    "sub_df_new = pd.concat([test_data, train_data], axis=0, sort=True)\n",
    "\n",
    "print(sub_df_new.shape)\n",
    "sub_df_new.head(2)"
   ]
  },
  {
   "cell_type": "code",
   "execution_count": 87,
   "metadata": {},
   "outputs": [
    {
     "data": {
      "text/html": [
       "<div>\n",
       "<style scoped>\n",
       "    .dataframe tbody tr th:only-of-type {\n",
       "        vertical-align: middle;\n",
       "    }\n",
       "\n",
       "    .dataframe tbody tr th {\n",
       "        vertical-align: top;\n",
       "    }\n",
       "\n",
       "    .dataframe thead th {\n",
       "        text-align: right;\n",
       "    }\n",
       "</style>\n",
       "<table border=\"1\" class=\"dataframe\">\n",
       "  <thead>\n",
       "    <tr style=\"text-align: right;\">\n",
       "      <th></th>\n",
       "      <th>Critic_Score</th>\n",
       "      <th>User_Count</th>\n",
       "      <th>Id</th>\n",
       "      <th>Platform</th>\n",
       "      <th>Genre</th>\n",
       "      <th>JP_Sales</th>\n",
       "      <th>Rating</th>\n",
       "      <th>Periods_of_Release</th>\n",
       "    </tr>\n",
       "  </thead>\n",
       "  <tbody>\n",
       "    <tr>\n",
       "      <th>0</th>\n",
       "      <td>107.0</td>\n",
       "      <td>1088.0</td>\n",
       "      <td>11703</td>\n",
       "      <td>GB</td>\n",
       "      <td>Role-Playing</td>\n",
       "      <td>10.22</td>\n",
       "      <td>None</td>\n",
       "      <td>1995-2000</td>\n",
       "    </tr>\n",
       "    <tr>\n",
       "      <th>1</th>\n",
       "      <td>58.0</td>\n",
       "      <td>129.0</td>\n",
       "      <td>11704</td>\n",
       "      <td>Wii</td>\n",
       "      <td>Misc</td>\n",
       "      <td>2.93</td>\n",
       "      <td>E</td>\n",
       "      <td>2005-2010</td>\n",
       "    </tr>\n",
       "  </tbody>\n",
       "</table>\n",
       "</div>"
      ],
      "text/plain": [
       "   Critic_Score  User_Count     Id Platform         Genre  JP_Sales Rating  \\\n",
       "0         107.0      1088.0  11703       GB  Role-Playing     10.22   None   \n",
       "1          58.0       129.0  11704      Wii          Misc      2.93      E   \n",
       "\n",
       "  Periods_of_Release  \n",
       "0          1995-2000  \n",
       "1          2005-2010  "
      ]
     },
     "execution_count": 87,
     "metadata": {},
     "output_type": "execute_result"
    }
   ],
   "source": [
    "# drop duplicate columns in dataframe before concatening \n",
    "df_test_1.drop(['Critic_Score'], axis=1, inplace=True)\n",
    "sub_df_new = sub_df_new[['Critic_Score']]\n",
    "\n",
    "# concatenate back to complete dataframe\n",
    "df_test_2 = pd.concat([sub_df_new, df_test_1], axis=1)\n",
    "\n",
    "#print(df_train.shape)\n",
    "df_test_2.head(2)"
   ]
  },
  {
   "cell_type": "code",
   "execution_count": 88,
   "metadata": {},
   "outputs": [
    {
     "data": {
      "text/plain": [
       "0"
      ]
     },
     "execution_count": 88,
     "metadata": {},
     "output_type": "execute_result"
    }
   ],
   "source": [
    "df_test_2.Critic_Score.isna().sum()"
   ]
  },
  {
   "cell_type": "code",
   "execution_count": 89,
   "metadata": {},
   "outputs": [
    {
     "data": {
      "text/plain": [
       "count    5016.000000\n",
       "mean       67.427183\n",
       "std        10.023217\n",
       "min        17.000000\n",
       "25%        62.000000\n",
       "50%        67.000000\n",
       "75%        72.000000\n",
       "max       107.000000\n",
       "Name: Critic_Score, dtype: float64"
      ]
     },
     "execution_count": 89,
     "metadata": {},
     "output_type": "execute_result"
    }
   ],
   "source": [
    "df_test_2.Critic_Score.describe()"
   ]
  },
  {
   "cell_type": "code",
   "execution_count": 90,
   "metadata": {},
   "outputs": [
    {
     "name": "stdout",
     "output_type": "stream",
     "text": [
      "<class 'pandas.core.frame.DataFrame'>\n",
      "Int64Index: 5016 entries, 0 to 5015\n",
      "Data columns (total 8 columns):\n",
      "Critic_Score          5016 non-null float64\n",
      "User_Count            5016 non-null float64\n",
      "Id                    5016 non-null int64\n",
      "Platform              5016 non-null object\n",
      "Genre                 5016 non-null category\n",
      "JP_Sales              5016 non-null float64\n",
      "Rating                5016 non-null category\n",
      "Periods_of_Release    5016 non-null category\n",
      "dtypes: category(3), float64(3), int64(1), object(1)\n",
      "memory usage: 250.8+ KB\n"
     ]
    }
   ],
   "source": [
    "df_test_2.info()"
   ]
  },
  {
   "cell_type": "markdown",
   "metadata": {},
   "source": [
    "*Back to: <a href='#Table of contents'> Table of contents</a>*\n",
    "\n",
    "**2.6. Handling `Platform` column**\n",
    "<a id='2.6. Handling Platform column'></a>"
   ]
  },
  {
   "cell_type": "code",
   "execution_count": 91,
   "metadata": {},
   "outputs": [],
   "source": [
    "#df_train_2.Platform.value_counts()"
   ]
  },
  {
   "cell_type": "code",
   "execution_count": 92,
   "metadata": {},
   "outputs": [],
   "source": [
    "#df_test_2.Platform.value_counts()"
   ]
  },
  {
   "cell_type": "code",
   "execution_count": 93,
   "metadata": {},
   "outputs": [],
   "source": [
    "#df_train_final = df_train_final.groupby('Platform').filter(lambda x: len(x) > 100)"
   ]
  },
  {
   "cell_type": "code",
   "execution_count": 94,
   "metadata": {},
   "outputs": [],
   "source": [
    "df_train_2 = df_train_2.drop(['Platform'], axis=1)"
   ]
  },
  {
   "cell_type": "code",
   "execution_count": 95,
   "metadata": {},
   "outputs": [],
   "source": [
    "df_test_2 = df_test_2.drop(['Platform'], axis=1)"
   ]
  },
  {
   "cell_type": "markdown",
   "metadata": {},
   "source": [
    "*Back to: <a href='#Table of contents'> Table of contents</a>*\n",
    "\n",
    "### 3. Modeling the Train Data \n",
    "<a id='3. Modeling the Train Data'></a>"
   ]
  },
  {
   "cell_type": "markdown",
   "metadata": {},
   "source": [
    "*Preparing Target & Features*"
   ]
  },
  {
   "cell_type": "code",
   "execution_count": 96,
   "metadata": {},
   "outputs": [
    {
     "name": "stdout",
     "output_type": "stream",
     "text": [
      "<class 'pandas.core.frame.DataFrame'>\n",
      "Int64Index: 10904 entries, 0 to 11702\n",
      "Data columns (total 7 columns):\n",
      "Critic_Score          10904 non-null float64\n",
      "User_Count            10904 non-null float64\n",
      "NA_Sales              10904 non-null float64\n",
      "Genre                 10904 non-null category\n",
      "JP_Sales              10904 non-null float64\n",
      "Rating                10904 non-null category\n",
      "Periods_of_Release    10904 non-null category\n",
      "dtypes: category(3), float64(4)\n",
      "memory usage: 458.9 KB\n"
     ]
    }
   ],
   "source": [
    "df_training = df_train_2.drop(['Id'], axis=1)\n",
    "df_training.info()"
   ]
  },
  {
   "cell_type": "code",
   "execution_count": 97,
   "metadata": {},
   "outputs": [],
   "source": [
    "# define our features \n",
    "features = df_training.drop(['NA_Sales'], axis=1)\n",
    "\n",
    "# define our target\n",
    "target = df_training[['NA_Sales']]"
   ]
  },
  {
   "cell_type": "markdown",
   "metadata": {},
   "source": [
    "*Recoding Categorical Features*"
   ]
  },
  {
   "cell_type": "code",
   "execution_count": 98,
   "metadata": {},
   "outputs": [],
   "source": [
    "# create dummy variables of all categorical features\n",
    "features = pd.get_dummies(features)"
   ]
  },
  {
   "cell_type": "markdown",
   "metadata": {},
   "source": [
    "*Train-Test-Split*"
   ]
  },
  {
   "cell_type": "code",
   "execution_count": 99,
   "metadata": {},
   "outputs": [],
   "source": [
    "# import train_test_split function\n",
    "from sklearn.model_selection import train_test_split\n",
    "\n",
    "# split our data\n",
    "X_train, X_test, y_train, y_test = train_test_split(features, target, test_size=0.25, random_state=40)"
   ]
  },
  {
   "cell_type": "markdown",
   "metadata": {},
   "source": [
    "*Scaling the Data*"
   ]
  },
  {
   "cell_type": "code",
   "execution_count": 100,
   "metadata": {},
   "outputs": [],
   "source": [
    "from sklearn.preprocessing import MinMaxScaler\n",
    "scaler = MinMaxScaler()\n",
    "scaler.fit(X_train)\n",
    "X_train = scaler.transform(X_train) \n",
    "X_test = scaler.transform(X_test)"
   ]
  },
  {
   "cell_type": "markdown",
   "metadata": {},
   "source": [
    "*Training XGBoost*"
   ]
  },
  {
   "cell_type": "code",
   "execution_count": 101,
   "metadata": {},
   "outputs": [],
   "source": [
    "# create a baseline\n",
    "booster = xgb.XGBRegressor()"
   ]
  },
  {
   "cell_type": "code",
   "execution_count": 105,
   "metadata": {},
   "outputs": [
    {
     "name": "stdout",
     "output_type": "stream",
     "text": [
      "{'colsample_bytree': 0.6, 'gamma': 0.2, 'learning_rate': 0.05, 'max_depth': 6, 'n_estimators': 100}\n"
     ]
    }
   ],
   "source": [
    "from sklearn.model_selection import GridSearchCV\n",
    "\n",
    "# create Grid\n",
    "param_grid = {'n_estimators': [100, 150, 200],\n",
    "              'learning_rate': [0.01, 0.05, 0.1], \n",
    "              'max_depth': [3, 4, 5, 6, 7],\n",
    "              'colsample_bytree': [0.6, 0.7, 1],\n",
    "              'gamma': [0.0, 0.1, 0.2]}\n",
    "\n",
    "# instantiate the tuned random forest\n",
    "booster_grid_search = GridSearchCV(booster, param_grid, cv=3, n_jobs=-1)\n",
    "\n",
    "# train the tuned random forest\n",
    "booster_grid_search.fit(X_train, y_train)\n",
    "\n",
    "# print best estimator parameters found during the grid search\n",
    "print(booster_grid_search.best_params_)"
   ]
  },
  {
   "cell_type": "code",
   "execution_count": 102,
   "metadata": {},
   "outputs": [],
   "source": [
    "# instantiate xgboost with best parameters\n",
    "booster = xgb.XGBRegressor(colsample_bytree=0.6, gamma=0.2, learning_rate=0.05, \n",
    "                             max_depth=6, n_estimators=100, random_state=4)\n",
    "\n",
    "# train\n",
    "booster.fit(X_train, y_train)\n",
    "\n",
    "# predict\n",
    "y_pred_train = booster.predict(X_train)\n",
    "y_pred_test  = booster.predict(X_test)"
   ]
  },
  {
   "cell_type": "code",
   "execution_count": 103,
   "metadata": {},
   "outputs": [
    {
     "name": "stdout",
     "output_type": "stream",
     "text": [
      "RMSE: 0.3538\n",
      "r2: 0.0548\n"
     ]
    }
   ],
   "source": [
    "# import metrics\n",
    "from sklearn.metrics import mean_squared_error, r2_score\n",
    "\n",
    "RMSE = np.sqrt(mean_squared_error(y_test, y_pred_test))\n",
    "print(f\"RMSE: {round(RMSE, 4)}\")\n",
    "\n",
    "r2 = r2_score(y_test, y_pred_test)\n",
    "print(f\"r2: {round(r2, 4)}\")"
   ]
  },
  {
   "cell_type": "code",
   "execution_count": 104,
   "metadata": {},
   "outputs": [
    {
     "data": {
      "text/plain": [
       "0.054820069736149724"
      ]
     },
     "execution_count": 104,
     "metadata": {},
     "output_type": "execute_result"
    }
   ],
   "source": [
    "booster.score(X_test, y_test)"
   ]
  },
  {
   "cell_type": "code",
   "execution_count": 105,
   "metadata": {},
   "outputs": [
    {
     "data": {
      "image/png": "[encoded data removed]",
      "text/plain": [
       "<Figure size 720x360 with 1 Axes>"
      ]
     },
     "metadata": {
      "needs_background": "light"
     },
     "output_type": "display_data"
    }
   ],
   "source": [
    "# plot the important features\n",
    "feat_importances = pd.Series(booster.feature_importances_, index=features.columns)\n",
    "feat_importances.nlargest(15).sort_values().plot(kind='barh', color='darkgrey', figsize=(10,5))\n",
    "plt.xlabel('Relative Feature Importance with XGBoost');"
   ]
  },
  {
   "cell_type": "markdown",
   "metadata": {},
   "source": [
    "*Back to: <a href='#Table of contents'> Table of contents</a>*\n",
    "\n",
    "### 4. Predicting on Test Data\n",
    "<a id='4. Predicting on Test Data'></a>"
   ]
  },
  {
   "cell_type": "markdown",
   "metadata": {},
   "source": [
    "*Preparing Target & Features*"
   ]
  },
  {
   "cell_type": "code",
   "execution_count": 106,
   "metadata": {},
   "outputs": [
    {
     "name": "stdout",
     "output_type": "stream",
     "text": [
      "<class 'pandas.core.frame.DataFrame'>\n",
      "Int64Index: 5016 entries, 0 to 5015\n",
      "Data columns (total 6 columns):\n",
      "Critic_Score          5016 non-null float64\n",
      "User_Count            5016 non-null float64\n",
      "Genre                 5016 non-null category\n",
      "JP_Sales              5016 non-null float64\n",
      "Rating                5016 non-null category\n",
      "Periods_of_Release    5016 non-null category\n",
      "dtypes: category(3), float64(3)\n",
      "memory usage: 172.4 KB\n"
     ]
    }
   ],
   "source": [
    "df_testing = df_test_2.drop(['Id'], axis=1)\n",
    "#df_testing = df_test_2\n",
    "df_testing.info()"
   ]
  },
  {
   "cell_type": "code",
   "execution_count": 107,
   "metadata": {},
   "outputs": [
    {
     "data": {
      "text/html": [
       "<div>\n",
       "<style scoped>\n",
       "    .dataframe tbody tr th:only-of-type {\n",
       "        vertical-align: middle;\n",
       "    }\n",
       "\n",
       "    .dataframe tbody tr th {\n",
       "        vertical-align: top;\n",
       "    }\n",
       "\n",
       "    .dataframe thead th {\n",
       "        text-align: right;\n",
       "    }\n",
       "</style>\n",
       "<table border=\"1\" class=\"dataframe\">\n",
       "  <thead>\n",
       "    <tr style=\"text-align: right;\">\n",
       "      <th></th>\n",
       "      <th>Critic_Score</th>\n",
       "      <th>User_Count</th>\n",
       "      <th>Genre</th>\n",
       "      <th>JP_Sales</th>\n",
       "      <th>Rating</th>\n",
       "      <th>Periods_of_Release</th>\n",
       "    </tr>\n",
       "  </thead>\n",
       "  <tbody>\n",
       "    <tr>\n",
       "      <th>0</th>\n",
       "      <td>107.00</td>\n",
       "      <td>1088.0</td>\n",
       "      <td>Role-Playing</td>\n",
       "      <td>10.22</td>\n",
       "      <td>None</td>\n",
       "      <td>1995-2000</td>\n",
       "    </tr>\n",
       "    <tr>\n",
       "      <th>1</th>\n",
       "      <td>58.00</td>\n",
       "      <td>129.0</td>\n",
       "      <td>Misc</td>\n",
       "      <td>2.93</td>\n",
       "      <td>E</td>\n",
       "      <td>2005-2010</td>\n",
       "    </tr>\n",
       "    <tr>\n",
       "      <th>2</th>\n",
       "      <td>65.75</td>\n",
       "      <td>352.0</td>\n",
       "      <td>Shooter</td>\n",
       "      <td>0.28</td>\n",
       "      <td>None</td>\n",
       "      <td>Before 1995</td>\n",
       "    </tr>\n",
       "    <tr>\n",
       "      <th>3</th>\n",
       "      <td>72.50</td>\n",
       "      <td>368.0</td>\n",
       "      <td>Simulation</td>\n",
       "      <td>1.93</td>\n",
       "      <td>None</td>\n",
       "      <td>2000-2005</td>\n",
       "    </tr>\n",
       "    <tr>\n",
       "      <th>4</th>\n",
       "      <td>97.00</td>\n",
       "      <td>3994.0</td>\n",
       "      <td>Action</td>\n",
       "      <td>0.98</td>\n",
       "      <td>M</td>\n",
       "      <td>2010-2015</td>\n",
       "    </tr>\n",
       "  </tbody>\n",
       "</table>\n",
       "</div>"
      ],
      "text/plain": [
       "   Critic_Score  User_Count         Genre  JP_Sales Rating Periods_of_Release\n",
       "0        107.00      1088.0  Role-Playing     10.22   None          1995-2000\n",
       "1         58.00       129.0          Misc      2.93      E          2005-2010\n",
       "2         65.75       352.0       Shooter      0.28   None        Before 1995\n",
       "3         72.50       368.0    Simulation      1.93   None          2000-2005\n",
       "4         97.00      3994.0        Action      0.98      M          2010-2015"
      ]
     },
     "execution_count": 107,
     "metadata": {},
     "output_type": "execute_result"
    }
   ],
   "source": [
    "df_testing.head()"
   ]
  },
  {
   "cell_type": "markdown",
   "metadata": {},
   "source": [
    "*Recoding Categorical Features*"
   ]
  },
  {
   "cell_type": "code",
   "execution_count": 108,
   "metadata": {},
   "outputs": [
    {
     "data": {
      "text/plain": [
       "(5016, 27)"
      ]
     },
     "execution_count": 108,
     "metadata": {},
     "output_type": "execute_result"
    }
   ],
   "source": [
    "# create dummy variables of all categorical features\n",
    "test_features = pd.get_dummies(df_testing)\n",
    "test_features.shape"
   ]
  },
  {
   "cell_type": "markdown",
   "metadata": {},
   "source": [
    "*Scaling the Data*"
   ]
  },
  {
   "cell_type": "code",
   "execution_count": 109,
   "metadata": {},
   "outputs": [],
   "source": [
    "from sklearn.preprocessing import MinMaxScaler\n",
    "scaler = MinMaxScaler()\n",
    "scaler.fit(test_features)\n",
    "test_features_scaled = scaler.transform(test_features) "
   ]
  },
  {
   "cell_type": "markdown",
   "metadata": {},
   "source": [
    "*Predicting with trained XGBoost*"
   ]
  },
  {
   "cell_type": "code",
   "execution_count": 110,
   "metadata": {},
   "outputs": [
    {
     "data": {
      "text/html": [
       "<div>\n",
       "<style scoped>\n",
       "    .dataframe tbody tr th:only-of-type {\n",
       "        vertical-align: middle;\n",
       "    }\n",
       "\n",
       "    .dataframe tbody tr th {\n",
       "        vertical-align: top;\n",
       "    }\n",
       "\n",
       "    .dataframe thead th {\n",
       "        text-align: right;\n",
       "    }\n",
       "</style>\n",
       "<table border=\"1\" class=\"dataframe\">\n",
       "  <thead>\n",
       "    <tr style=\"text-align: right;\">\n",
       "      <th></th>\n",
       "      <th>Prediction</th>\n",
       "    </tr>\n",
       "  </thead>\n",
       "  <tbody>\n",
       "    <tr>\n",
       "      <th>0</th>\n",
       "      <td>7.015202</td>\n",
       "    </tr>\n",
       "    <tr>\n",
       "      <th>1</th>\n",
       "      <td>2.069300</td>\n",
       "    </tr>\n",
       "    <tr>\n",
       "      <th>2</th>\n",
       "      <td>0.186983</td>\n",
       "    </tr>\n",
       "    <tr>\n",
       "      <th>3</th>\n",
       "      <td>0.401274</td>\n",
       "    </tr>\n",
       "    <tr>\n",
       "      <th>4</th>\n",
       "      <td>0.875785</td>\n",
       "    </tr>\n",
       "  </tbody>\n",
       "</table>\n",
       "</div>"
      ],
      "text/plain": [
       "   Prediction\n",
       "0    7.015202\n",
       "1    2.069300\n",
       "2    0.186983\n",
       "3    0.401274\n",
       "4    0.875785"
      ]
     },
     "execution_count": 110,
     "metadata": {},
     "output_type": "execute_result"
    }
   ],
   "source": [
    "#booster.fit(test_features_scaled)\n",
    "predictions = booster.predict(test_features_scaled)\n",
    "predictions = pd.DataFrame(predictions)\n",
    "\n",
    "predictions.columns = ['Prediction']\n",
    "predictions.head()"
   ]
  },
  {
   "cell_type": "code",
   "execution_count": 111,
   "metadata": {},
   "outputs": [
    {
     "data": {
      "text/html": [
       "<div>\n",
       "<style scoped>\n",
       "    .dataframe tbody tr th:only-of-type {\n",
       "        vertical-align: middle;\n",
       "    }\n",
       "\n",
       "    .dataframe tbody tr th {\n",
       "        vertical-align: top;\n",
       "    }\n",
       "\n",
       "    .dataframe thead th {\n",
       "        text-align: right;\n",
       "    }\n",
       "</style>\n",
       "<table border=\"1\" class=\"dataframe\">\n",
       "  <thead>\n",
       "    <tr style=\"text-align: right;\">\n",
       "      <th></th>\n",
       "      <th>Id</th>\n",
       "      <th>Prediction</th>\n",
       "    </tr>\n",
       "  </thead>\n",
       "  <tbody>\n",
       "    <tr>\n",
       "      <th>0</th>\n",
       "      <td>11703</td>\n",
       "      <td>7.015202</td>\n",
       "    </tr>\n",
       "    <tr>\n",
       "      <th>1</th>\n",
       "      <td>11704</td>\n",
       "      <td>2.069300</td>\n",
       "    </tr>\n",
       "    <tr>\n",
       "      <th>2</th>\n",
       "      <td>11705</td>\n",
       "      <td>0.186983</td>\n",
       "    </tr>\n",
       "    <tr>\n",
       "      <th>3</th>\n",
       "      <td>11706</td>\n",
       "      <td>0.401274</td>\n",
       "    </tr>\n",
       "    <tr>\n",
       "      <th>4</th>\n",
       "      <td>11707</td>\n",
       "      <td>0.875785</td>\n",
       "    </tr>\n",
       "  </tbody>\n",
       "</table>\n",
       "</div>"
      ],
      "text/plain": [
       "      Id  Prediction\n",
       "0  11703    7.015202\n",
       "1  11704    2.069300\n",
       "2  11705    0.186983\n",
       "3  11706    0.401274\n",
       "4  11707    0.875785"
      ]
     },
     "execution_count": 111,
     "metadata": {},
     "output_type": "execute_result"
    }
   ],
   "source": [
    "df_submission = pd.merge(df_test_2, predictions, left_index=True, right_index=True)\n",
    "df_submission = df_submission[['Id', 'Prediction']]\n",
    "df_submission.head()"
   ]
  },
  {
   "cell_type": "code",
   "execution_count": 112,
   "metadata": {},
   "outputs": [],
   "source": [
    "df_submission.to_csv('df_submission.csv', index=False)"
   ]
  },
  {
   "cell_type": "code",
   "execution_count": null,
   "metadata": {},
   "outputs": [],
   "source": []
  }
 ],
 "metadata": {
  "kernelspec": {
   "display_name": "Python 3",
   "language": "python",
   "name": "python3"
  },
  "language_info": {
   "codemirror_mode": {
    "name": "ipython",
    "version": 3
   },
   "file_extension": ".py",
   "mimetype": "text/x-python",
   "name": "python",
   "nbconvert_exporter": "python",
   "pygments_lexer": "ipython3",
   "version": "3.6.8"
  }
 },
 "nbformat": 4,
 "nbformat_minor": 2
}
